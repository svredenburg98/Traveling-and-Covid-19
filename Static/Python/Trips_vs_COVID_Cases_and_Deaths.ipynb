{
 "cells": [
  {
   "cell_type": "code",
   "execution_count": 1,
   "metadata": {},
   "outputs": [],
   "source": [
    "import os\n",
    "import csv\n",
    "import json\n",
    "import datetime\n",
    "import requests\n",
    "import geopandas\n",
    "import numpy as np\n",
    "import pandas as pd\n",
    "from bs4 import BeautifulSoup\n",
    "import matplotlib.pyplot as plt"
   ]
  },
  {
   "cell_type": "code",
   "execution_count": null,
   "metadata": {},
   "outputs": [],
   "source": [
    "# File Name for the Final COVID DataFrame\n",
    "# dtfrm_file_nm = \"ASN_Table.csv\""
   ]
  },
  {
   "cell_type": "code",
   "execution_count": null,
   "metadata": {},
   "outputs": [],
   "source": [
    "# File Path for Exporting the Final Dataframe, Which Includes bts.gov, New York Times COVID, and County Polygons. \n",
    "trp_covid_geo_poly_file_pth = os.path.join(\"Resources\", \"Test_Data\", \"trp_covid_geo_poly_df_TEST_DATA.json\")"
   ]
  },
  {
   "cell_type": "markdown",
   "metadata": {},
   "source": [
    "# ========================================"
   ]
  },
  {
   "cell_type": "markdown",
   "metadata": {},
   "source": [
    "# Importing Data"
   ]
  },
  {
   "cell_type": "markdown",
   "metadata": {},
   "source": [
    "# ========================================"
   ]
  },
  {
   "cell_type": "code",
   "execution_count": 34,
   "metadata": {},
   "outputs": [],
   "source": [
    "# New Column Names\n",
    "new_date_clmn_nm = \"date\"\n",
    "new_st_clmn_nm = \"state\"\n",
    "new_st_pstl_code_clmn_nm = \"state_postal_code\"\n",
    "new_cnty_clmn_nm = \"county_name\"\n",
    "new_cnty_cnty_clmn_nm = \"county_name_county\"\n",
    "new_cnty_fips_clmn_nm = \"county_fips\"\n",
    "new_pop_at_hm_clmn_nm = \"pop_at_home\"\n",
    "new_pop_not_at_hm_clmn_nm = \"pop_not_at_home\"\n",
    "new_nmbr_trps_clmn_nm = \"trips\"\n",
    "new_cases_clmn_nm = \"covid_cases\"\n",
    "new_dths_clmn_nm = \"covid_deaths\""
   ]
  },
  {
   "cell_type": "markdown",
   "metadata": {},
   "source": [
    "# ---------------------------------------------------------------------"
   ]
  },
  {
   "cell_type": "markdown",
   "metadata": {},
   "source": [
    "## Import bts.gov Trip Data"
   ]
  },
  {
   "cell_type": "markdown",
   "metadata": {},
   "source": [
    "# ---------------------------------------------------------------------"
   ]
  },
  {
   "cell_type": "code",
   "execution_count": 3,
   "metadata": {},
   "outputs": [],
   "source": [
    "bts_gov_trps_csv_new_hdr_nm = [new_date_clmn_nm, new_st_pstl_code_clmn_nm, new_cnty_clmn_nm, new_pop_at_hm_clmn_nm, new_pop_not_at_hm_clmn_nm, new_nmbr_trps_clmn_nm]"
   ]
  },
  {
   "cell_type": "code",
   "execution_count": null,
   "metadata": {},
   "outputs": [],
   "source": [
    "# File Path for Importing the bts.gov Trips Data .csv File\n",
    "bts_gov_trps_file_pth = os.path.join(\"Resources\", \"bts.gov\", \"Trips_by_Distance.csv\")\n",
    "\n",
    "# Convert the CSV to a Dataframe\n",
    "bts_gov_trps_csv_header = pd.read_csv(bts_gov_trps_file_pth, names= [\"DateTest\", \"State Postal Code\", \"County Name\", \"Population Staying at Home\", \"Population Not Staying at Home\", \"Number of Trips\"])"
   ]
  },
  {
   "cell_type": "code",
   "execution_count": null,
   "metadata": {},
   "outputs": [],
   "source": [
    "bts_gov_trps_csv_header.head()"
   ]
  },
  {
   "cell_type": "code",
   "execution_count": 6,
   "metadata": {},
   "outputs": [],
   "source": [
    "# File Path for Importing the bts.gov Trips Data .csv File\n",
    "bts_gov_trps_file_pth = os.path.join(\"Resources\", \"bts.gov\", \"Trips_by_Distance.csv\")\n",
    "\n",
    "# Convert the CSV to a Dataframe\n",
    "bts_gov_trps_df = pd.read_csv(bts_gov_trps_file_pth, usecols= [\"Date\", \"State FIPS\", \"State Postal Code\", \"County FIPS\", \"County Name\", \"Population Staying at Home\", \"Population Not Staying at Home\", \"Number of Trips\"])"
   ]
  },
  {
   "cell_type": "code",
   "execution_count": 7,
   "metadata": {
    "scrolled": true
   },
   "outputs": [
    {
     "data": {
      "text/html": [
       "<div>\n",
       "<style scoped>\n",
       "    .dataframe tbody tr th:only-of-type {\n",
       "        vertical-align: middle;\n",
       "    }\n",
       "\n",
       "    .dataframe tbody tr th {\n",
       "        vertical-align: top;\n",
       "    }\n",
       "\n",
       "    .dataframe thead th {\n",
       "        text-align: right;\n",
       "    }\n",
       "</style>\n",
       "<table border=\"1\" class=\"dataframe\">\n",
       "  <thead>\n",
       "    <tr style=\"text-align: right;\">\n",
       "      <th></th>\n",
       "      <th>Date</th>\n",
       "      <th>State FIPS</th>\n",
       "      <th>State Postal Code</th>\n",
       "      <th>County FIPS</th>\n",
       "      <th>County Name</th>\n",
       "      <th>Population Staying at Home</th>\n",
       "      <th>Population Not Staying at Home</th>\n",
       "      <th>Number of Trips</th>\n",
       "    </tr>\n",
       "  </thead>\n",
       "  <tbody>\n",
       "    <tr>\n",
       "      <th>0</th>\n",
       "      <td>2019/01/01</td>\n",
       "      <td>29.0</td>\n",
       "      <td>MO</td>\n",
       "      <td>29171.0</td>\n",
       "      <td>Putnam County</td>\n",
       "      <td>1,155</td>\n",
       "      <td>3,587</td>\n",
       "      <td>12,429</td>\n",
       "    </tr>\n",
       "    <tr>\n",
       "      <th>1</th>\n",
       "      <td>2019/01/01</td>\n",
       "      <td>2.0</td>\n",
       "      <td>AK</td>\n",
       "      <td>2164.0</td>\n",
       "      <td>Lake and Peninsula Borough</td>\n",
       "      <td>NaN</td>\n",
       "      <td>NaN</td>\n",
       "      <td>NaN</td>\n",
       "    </tr>\n",
       "    <tr>\n",
       "      <th>2</th>\n",
       "      <td>2019/01/01</td>\n",
       "      <td>1.0</td>\n",
       "      <td>AL</td>\n",
       "      <td>1001.0</td>\n",
       "      <td>Autauga County</td>\n",
       "      <td>9,624</td>\n",
       "      <td>45,807</td>\n",
       "      <td>132,004</td>\n",
       "    </tr>\n",
       "    <tr>\n",
       "      <th>3</th>\n",
       "      <td>2019/01/01</td>\n",
       "      <td>1.0</td>\n",
       "      <td>AL</td>\n",
       "      <td>1003.0</td>\n",
       "      <td>Baldwin County</td>\n",
       "      <td>44,415</td>\n",
       "      <td>172,941</td>\n",
       "      <td>534,520</td>\n",
       "    </tr>\n",
       "    <tr>\n",
       "      <th>4</th>\n",
       "      <td>2019/01/01</td>\n",
       "      <td>1.0</td>\n",
       "      <td>AL</td>\n",
       "      <td>1005.0</td>\n",
       "      <td>Barbour County</td>\n",
       "      <td>4,782</td>\n",
       "      <td>20,023</td>\n",
       "      <td>67,658</td>\n",
       "    </tr>\n",
       "  </tbody>\n",
       "</table>\n",
       "</div>"
      ],
      "text/plain": [
       "         Date  State FIPS State Postal Code  County FIPS  \\\n",
       "0  2019/01/01        29.0                MO      29171.0   \n",
       "1  2019/01/01         2.0                AK       2164.0   \n",
       "2  2019/01/01         1.0                AL       1001.0   \n",
       "3  2019/01/01         1.0                AL       1003.0   \n",
       "4  2019/01/01         1.0                AL       1005.0   \n",
       "\n",
       "                  County Name Population Staying at Home  \\\n",
       "0               Putnam County                      1,155   \n",
       "1  Lake and Peninsula Borough                        NaN   \n",
       "2              Autauga County                      9,624   \n",
       "3              Baldwin County                     44,415   \n",
       "4              Barbour County                      4,782   \n",
       "\n",
       "  Population Not Staying at Home Number of Trips  \n",
       "0                          3,587          12,429  \n",
       "1                            NaN             NaN  \n",
       "2                         45,807         132,004  \n",
       "3                        172,941         534,520  \n",
       "4                         20,023          67,658  "
      ]
     },
     "execution_count": 7,
     "metadata": {},
     "output_type": "execute_result"
    }
   ],
   "source": [
    "bts_gov_trps_df.head()"
   ]
  },
  {
   "cell_type": "code",
   "execution_count": null,
   "metadata": {},
   "outputs": [],
   "source": [
    "print(bts_gov_trps_df.count())"
   ]
  },
  {
   "cell_type": "code",
   "execution_count": null,
   "metadata": {},
   "outputs": [],
   "source": [
    "bts_gov_trps_df.dtypes"
   ]
  },
  {
   "cell_type": "code",
   "execution_count": null,
   "metadata": {},
   "outputs": [],
   "source": [
    "bts_gov_trps_df.keys()"
   ]
  },
  {
   "cell_type": "code",
   "execution_count": 15,
   "metadata": {},
   "outputs": [
    {
     "data": {
      "text/plain": [
       "Index(['date', 'State FIPS', 'state_postal_code', 'county_fips', 'county',\n",
       "       'pop_at_home', 'pop_not_at_home', 'trips'],\n",
       "      dtype='object')"
      ]
     },
     "execution_count": 15,
     "metadata": {},
     "output_type": "execute_result"
    }
   ],
   "source": [
    "# Change the Column Names\n",
    "bts_gov_trps_df_test = bts_gov_trps_df.rename(columns = {\"Date\": new_date_clmn_nm, \"State Postal Code\": new_st_pstl_code_clmn_nm, \"County FIPS\": new_cnty_fips_clmn_nm, \"County Name\": new_cnty_clmn_nm, \"Population Staying at Home\": new_pop_at_hm_clmn_nm, \"Population Not Staying at Home\": new_pop_not_at_hm_clmn_nm,\"Number of Trips\": new_nmbr_trps_clmn_nm})\n",
    "bts_gov_trps_df_test.keys()"
   ]
  },
  {
   "cell_type": "markdown",
   "metadata": {},
   "source": [
    "# ---------------------------------------------------------------------"
   ]
  },
  {
   "cell_type": "markdown",
   "metadata": {},
   "source": [
    "## Import New York Times COVID-19 Data"
   ]
  },
  {
   "cell_type": "markdown",
   "metadata": {},
   "source": [
    "# ---------------------------------------------------------------------"
   ]
  },
  {
   "cell_type": "code",
   "execution_count": 8,
   "metadata": {},
   "outputs": [],
   "source": [
    "# File Path for Importing the New York Times COVID-19 Data .csv File\n",
    "nytimes_covid_19_file_pth = os.path.join(\"Resources\", \"github.com_nytimes_covid_19_data\", \"us-counties20200121_to_20201130.csv\")\n",
    "\n",
    "# Convert the CSV to a Dataframe\n",
    "nytimes_covid_19_df = pd.read_csv(nytimes_covid_19_file_pth)"
   ]
  },
  {
   "cell_type": "code",
   "execution_count": null,
   "metadata": {},
   "outputs": [],
   "source": [
    "nytimes_covid_19_df"
   ]
  },
  {
   "cell_type": "code",
   "execution_count": 10,
   "metadata": {
    "scrolled": true
   },
   "outputs": [
    {
     "data": {
      "text/html": [
       "<div>\n",
       "<style scoped>\n",
       "    .dataframe tbody tr th:only-of-type {\n",
       "        vertical-align: middle;\n",
       "    }\n",
       "\n",
       "    .dataframe tbody tr th {\n",
       "        vertical-align: top;\n",
       "    }\n",
       "\n",
       "    .dataframe thead th {\n",
       "        text-align: right;\n",
       "    }\n",
       "</style>\n",
       "<table border=\"1\" class=\"dataframe\">\n",
       "  <thead>\n",
       "    <tr style=\"text-align: right;\">\n",
       "      <th></th>\n",
       "      <th>date</th>\n",
       "      <th>county</th>\n",
       "      <th>state</th>\n",
       "      <th>fips</th>\n",
       "      <th>cases</th>\n",
       "      <th>deaths</th>\n",
       "    </tr>\n",
       "  </thead>\n",
       "  <tbody>\n",
       "    <tr>\n",
       "      <th>0</th>\n",
       "      <td>2020-01-21</td>\n",
       "      <td>Snohomish</td>\n",
       "      <td>Washington</td>\n",
       "      <td>53061.0</td>\n",
       "      <td>1</td>\n",
       "      <td>0.0</td>\n",
       "    </tr>\n",
       "    <tr>\n",
       "      <th>1</th>\n",
       "      <td>2020-01-22</td>\n",
       "      <td>Snohomish</td>\n",
       "      <td>Washington</td>\n",
       "      <td>53061.0</td>\n",
       "      <td>1</td>\n",
       "      <td>0.0</td>\n",
       "    </tr>\n",
       "    <tr>\n",
       "      <th>2</th>\n",
       "      <td>2020-01-23</td>\n",
       "      <td>Snohomish</td>\n",
       "      <td>Washington</td>\n",
       "      <td>53061.0</td>\n",
       "      <td>1</td>\n",
       "      <td>0.0</td>\n",
       "    </tr>\n",
       "    <tr>\n",
       "      <th>3</th>\n",
       "      <td>2020-01-24</td>\n",
       "      <td>Cook</td>\n",
       "      <td>Illinois</td>\n",
       "      <td>17031.0</td>\n",
       "      <td>1</td>\n",
       "      <td>0.0</td>\n",
       "    </tr>\n",
       "    <tr>\n",
       "      <th>4</th>\n",
       "      <td>2020-01-24</td>\n",
       "      <td>Snohomish</td>\n",
       "      <td>Washington</td>\n",
       "      <td>53061.0</td>\n",
       "      <td>1</td>\n",
       "      <td>0.0</td>\n",
       "    </tr>\n",
       "  </tbody>\n",
       "</table>\n",
       "</div>"
      ],
      "text/plain": [
       "         date     county       state     fips  cases  deaths\n",
       "0  2020-01-21  Snohomish  Washington  53061.0      1     0.0\n",
       "1  2020-01-22  Snohomish  Washington  53061.0      1     0.0\n",
       "2  2020-01-23  Snohomish  Washington  53061.0      1     0.0\n",
       "3  2020-01-24       Cook    Illinois  17031.0      1     0.0\n",
       "4  2020-01-24  Snohomish  Washington  53061.0      1     0.0"
      ]
     },
     "execution_count": 10,
     "metadata": {},
     "output_type": "execute_result"
    }
   ],
   "source": [
    "nytimes_covid_19_df.head()"
   ]
  },
  {
   "cell_type": "code",
   "execution_count": null,
   "metadata": {
    "scrolled": false
   },
   "outputs": [],
   "source": [
    "nytimes_covid_19_df.keys()"
   ]
  },
  {
   "cell_type": "code",
   "execution_count": 16,
   "metadata": {
    "scrolled": true
   },
   "outputs": [
    {
     "data": {
      "text/plain": [
       "Index(['date', 'county', 'state', 'county_fips', 'covid_cases',\n",
       "       'covid_deaths'],\n",
       "      dtype='object')"
      ]
     },
     "execution_count": 16,
     "metadata": {},
     "output_type": "execute_result"
    }
   ],
   "source": [
    "# Change the Column Names\n",
    "nytimes_covid_19_df_test = nytimes_covid_19_df.rename(columns = {\"date\": new_date_clmn_nm, \"state\": new_st_clmn_nm, \"fips\": new_cnty_fips_clmn_nm, \"county\": new_cnty_clmn_nm, \"cases\": new_cases_clmn_nm, \"deaths\": new_dths_clmn_nm})\n",
    "nytimes_covid_19_df_test.keys()\n",
    "# nytimes_covid_19_df_test = nytimes_covid_19_df_test[[\"date_covid\", \"state_covid\", \"cases_covid\",\"deaths_covid\"]]"
   ]
  },
  {
   "cell_type": "markdown",
   "metadata": {},
   "source": [
    "# ---------------------------------------------------------------------"
   ]
  },
  {
   "cell_type": "markdown",
   "metadata": {},
   "source": [
    "# ******NOT WORKING******"
   ]
  },
  {
   "cell_type": "markdown",
   "metadata": {},
   "source": [
    "# ---------------------------------------------------------------------"
   ]
  },
  {
   "cell_type": "code",
   "execution_count": null,
   "metadata": {},
   "outputs": [],
   "source": [
    "# How to save only selected columns of a DataFrame to HDF5\n",
    "# https://stackoverflow.com/questions/27878780/pandas-how-to-save-only-selected-columns-of-a-dataframe-to-hdf5\n",
    "cols_to_keep = [['date', 'state', 'cases', 'deaths']]\n",
    "nytimes_covid_19_df.loc[:, cols_to_keep].to_hdf(...)"
   ]
  },
  {
   "cell_type": "code",
   "execution_count": null,
   "metadata": {},
   "outputs": [],
   "source": [
    "nytimes_covid_19_df = nytimes_covid_19_df[['date', 'state', 'cases', 'deaths']]\n",
    "# nytimes_covid_19_df = nytimes_covid_19_df[\"date\", \"state\", \"cases\", \"deaths\"]\n",
    "nytimes_covid_19_df"
   ]
  },
  {
   "cell_type": "markdown",
   "metadata": {},
   "source": [
    "# ---------------------------------------------------------------------"
   ]
  },
  {
   "cell_type": "code",
   "execution_count": null,
   "metadata": {},
   "outputs": [],
   "source": [
    "# Shape of the New York Times COVID-19 Dataframe\n",
    "# len(nytimes_covid_19_df)\n",
    "nytimes_covid_19_df.shape"
   ]
  },
  {
   "cell_type": "code",
   "execution_count": null,
   "metadata": {},
   "outputs": [],
   "source": [
    "# Number of Rows that do Contain Null Values\n",
    "print(nytimes_covid_19_df.count())"
   ]
  },
  {
   "cell_type": "code",
   "execution_count": null,
   "metadata": {
    "scrolled": true
   },
   "outputs": [],
   "source": [
    "# Data Types in the New York Dataframe\n",
    "nytimes_covid_19_df.dtypes"
   ]
  },
  {
   "cell_type": "markdown",
   "metadata": {},
   "source": [
    "# ---------------------------------------------------------------------"
   ]
  },
  {
   "cell_type": "markdown",
   "metadata": {},
   "source": [
    "# Import US State Name and Postal Code Data\n",
    "# From the U.S. Bureau of Labor Statistics (bls.gov)"
   ]
  },
  {
   "cell_type": "markdown",
   "metadata": {},
   "source": [
    "# ---------------------------------------------------------------------"
   ]
  },
  {
   "cell_type": "code",
   "execution_count": null,
   "metadata": {},
   "outputs": [],
   "source": [
    "bls_gov_st_st_code_df = pd.read_html(\"https://www.infoplease.com/us/postal-information/state-abbreviations-and-state-postal-codes\")\n",
    "len(bls_gov_st_st_code_df)"
   ]
  },
  {
   "cell_type": "code",
   "execution_count": null,
   "metadata": {
    "scrolled": false
   },
   "outputs": [],
   "source": [
    "bls_gov_st_st_code_df = bls_gov_st_st_code_df[0]\n",
    "bls_gov_st_st_code_df"
   ]
  },
  {
   "cell_type": "markdown",
   "metadata": {},
   "source": [
    "# ---------------------------------------------------------------------"
   ]
  },
  {
   "cell_type": "markdown",
   "metadata": {},
   "source": [
    "# Import County Polygons .json File"
   ]
  },
  {
   "cell_type": "markdown",
   "metadata": {},
   "source": [
    "# ---------------------------------------------------------------------"
   ]
  },
  {
   "cell_type": "code",
   "execution_count": null,
   "metadata": {
    "scrolled": true
   },
   "outputs": [],
   "source": [
    "# # File Path for Importing the County Geometry Polygons.json File\n",
    "# cnty_geo_file_pth = os.path.join(\"Resources\", \"County_Geometry\", \"county_geometry.json\")\n",
    "\n",
    "# # File Path for Importing the Example Househole Income Geometry Polygons.json File\n",
    "# household_income_geo_file_pth = os.path.join(\"Resources\", \"County_Geometry\", \"Median_Household_Income_2016.geojson\")\n",
    "\n",
    "# File Path for Import the Example Househole Income Geometry Polygons.json File\n",
    "us_cnty_bndrs_file_pth = os.path.join(\"Resources\", \"County_Geometry\", \"us-county-boundaries.geojson\")\n",
    "\n",
    "# Convert the CSV to a Dataframe\n",
    "us_cnty_bndrs_df = geopandas.read_file(us_cnty_bndrs_file_pth, usecols= [\"stusab\", \"namelsad\", \"state_name\", \"geometry\"])\n",
    "us_cnty_bndrs_df.head()"
   ]
  },
  {
   "cell_type": "code",
   "execution_count": null,
   "metadata": {},
   "outputs": [],
   "source": [
    "us_cnty_bndrs_df.keys()"
   ]
  },
  {
   "cell_type": "code",
   "execution_count": null,
   "metadata": {
    "scrolled": true
   },
   "outputs": [],
   "source": [
    "# Change the Column Names\n",
    "us_cnty_bndrs_df_test = us_cnty_bndrs_df.rename(columns = {\"stusab\": new_st_pstl_code_clmn_nm, \"namelsad\": new_cnty_clmn_nm,\"state_name\": new_st_clmn_nm})\n",
    "us_cnty_bndrs_df_test.keys()\n",
    "# nytimes_covid_19_df_test = nytimes_covid_19_df_test[[\"date_covid\", \"state_covid\", \"cases_covid\",\"deaths_covid\"]]"
   ]
  },
  {
   "cell_type": "code",
   "execution_count": null,
   "metadata": {},
   "outputs": [],
   "source": [
    "us_cnty_bndrs_df_test = us_cnty_bndrs_df_test[[new_st_clmn_nm, new_st_pstl_code_clmn_nm, new_cnty_clmn_nm, \"geometry\"]]\n",
    "us_cnty_bndrs_df_test.head()"
   ]
  },
  {
   "cell_type": "code",
   "execution_count": null,
   "metadata": {},
   "outputs": [],
   "source": [
    "household_income_covid_19_df[\"Cnty_Name\"].value_counts()"
   ]
  },
  {
   "cell_type": "code",
   "execution_count": null,
   "metadata": {},
   "outputs": [],
   "source": [
    "1) Only import the columns I need. \n",
    "2) Change the data types, some of the data types use less memory\n",
    "    2.1) you know that a column should only have positive integers, use unsigned integer type \n",
    "        (uint32) instead of the regular int type (or worse — float, which may sometimes happen \n",
    "        automatically).\n",
    "3) "
   ]
  },
  {
   "cell_type": "markdown",
   "metadata": {},
   "source": [
    "# ---------------------------------------------------------------------"
   ]
  },
  {
   "cell_type": "markdown",
   "metadata": {},
   "source": [
    "# Import County Points\n",
    "# From the U.S. Bureau of Labor Statistics (bls.gov)"
   ]
  },
  {
   "cell_type": "markdown",
   "metadata": {},
   "source": [
    "# ---------------------------------------------------------------------"
   ]
  },
  {
   "cell_type": "code",
   "execution_count": null,
   "metadata": {
    "scrolled": true
   },
   "outputs": [],
   "source": [
    "# # File Path for Importing the County Geometry Polygons.json File\n",
    "# cnty_geo_file_pth = os.path.join(\"Resources\", \"County_Geometry\", \"county_geometry.json\")\n",
    "\n",
    "# # File Path for Importing the Example Househole Income Geometry Polygons.json File\n",
    "# household_income_geo_file_pth = os.path.join(\"Resources\", \"County_Geometry\", \"Median_Household_Income_2016.geojson\")\n",
    "\n",
    "# File Path for Import the Example Househole Income Geometry Polygons.json File\n",
    "us_cnty_pnts_file_pth = os.path.join(\"Resources\", \"County_Points\", \"county_geometry.json\")\n",
    "\n",
    "us_cnty_pnts_df = pd.read_json(us_cnty_pnts_file_pth)\n",
    "\n",
    "\n",
    "# # Convert the CSV to a Dataframe\n",
    "# us_cnty_bndrs_df = geopandas.read_file(us_cnty_bndrs_file_pth)\n",
    "# us_cnty_bndrs_df.head()"
   ]
  },
  {
   "cell_type": "code",
   "execution_count": null,
   "metadata": {},
   "outputs": [],
   "source": [
    "bls_gov_st_st_code_df = pd.read_html(\"https://www.infoplease.com/us/postal-information/state-abbreviations-and-state-postal-codes\")\n",
    "len(bls_gov_st_st_code_df)"
   ]
  },
  {
   "cell_type": "code",
   "execution_count": null,
   "metadata": {
    "scrolled": false
   },
   "outputs": [],
   "source": [
    "bls_gov_st_st_code_df = bls_gov_st_st_code_df[0]\n",
    "bls_gov_st_st_code_df"
   ]
  },
  {
   "cell_type": "markdown",
   "metadata": {},
   "source": [
    "# ---------------------------------------------------------------------"
   ]
  },
  {
   "cell_type": "markdown",
   "metadata": {},
   "source": [
    "## Import simplemaps_uscities Data"
   ]
  },
  {
   "cell_type": "markdown",
   "metadata": {},
   "source": [
    "# ---------------------------------------------------------------------"
   ]
  },
  {
   "cell_type": "code",
   "execution_count": 12,
   "metadata": {},
   "outputs": [],
   "source": [
    "# File Path for Importing the New York Times COVID-19 Data .csv File\n",
    "simplemaps_uscities_file_pth = os.path.join(\"Resources\", \"simplemaps_uscities\", \"uscities.csv\")\n",
    "\n",
    "# Convert the CSV to a Dataframe\n",
    "simplemaps_uscities_df = pd.read_csv(simplemaps_uscities_file_pth, usecols= [\"county_fips\", \"county_name\", \"lat\", \"lng\"])"
   ]
  },
  {
   "cell_type": "code",
   "execution_count": 13,
   "metadata": {},
   "outputs": [
    {
     "data": {
      "text/html": [
       "<div>\n",
       "<style scoped>\n",
       "    .dataframe tbody tr th:only-of-type {\n",
       "        vertical-align: middle;\n",
       "    }\n",
       "\n",
       "    .dataframe tbody tr th {\n",
       "        vertical-align: top;\n",
       "    }\n",
       "\n",
       "    .dataframe thead th {\n",
       "        text-align: right;\n",
       "    }\n",
       "</style>\n",
       "<table border=\"1\" class=\"dataframe\">\n",
       "  <thead>\n",
       "    <tr style=\"text-align: right;\">\n",
       "      <th></th>\n",
       "      <th>county_fips</th>\n",
       "      <th>county_name</th>\n",
       "      <th>lat</th>\n",
       "      <th>lng</th>\n",
       "    </tr>\n",
       "  </thead>\n",
       "  <tbody>\n",
       "    <tr>\n",
       "      <th>0</th>\n",
       "      <td>36061</td>\n",
       "      <td>New York</td>\n",
       "      <td>40.6943</td>\n",
       "      <td>-73.9249</td>\n",
       "    </tr>\n",
       "    <tr>\n",
       "      <th>1</th>\n",
       "      <td>6037</td>\n",
       "      <td>Los Angeles</td>\n",
       "      <td>34.1139</td>\n",
       "      <td>-118.4068</td>\n",
       "    </tr>\n",
       "    <tr>\n",
       "      <th>2</th>\n",
       "      <td>17031</td>\n",
       "      <td>Cook</td>\n",
       "      <td>41.8373</td>\n",
       "      <td>-87.6862</td>\n",
       "    </tr>\n",
       "    <tr>\n",
       "      <th>3</th>\n",
       "      <td>12086</td>\n",
       "      <td>Miami-Dade</td>\n",
       "      <td>25.7839</td>\n",
       "      <td>-80.2102</td>\n",
       "    </tr>\n",
       "    <tr>\n",
       "      <th>4</th>\n",
       "      <td>48113</td>\n",
       "      <td>Dallas</td>\n",
       "      <td>32.7936</td>\n",
       "      <td>-96.7662</td>\n",
       "    </tr>\n",
       "  </tbody>\n",
       "</table>\n",
       "</div>"
      ],
      "text/plain": [
       "   county_fips  county_name      lat       lng\n",
       "0        36061     New York  40.6943  -73.9249\n",
       "1         6037  Los Angeles  34.1139 -118.4068\n",
       "2        17031         Cook  41.8373  -87.6862\n",
       "3        12086   Miami-Dade  25.7839  -80.2102\n",
       "4        48113       Dallas  32.7936  -96.7662"
      ]
     },
     "execution_count": 13,
     "metadata": {},
     "output_type": "execute_result"
    }
   ],
   "source": [
    "simplemaps_uscities_df.head()"
   ]
  },
  {
   "cell_type": "code",
   "execution_count": null,
   "metadata": {},
   "outputs": [],
   "source": []
  },
  {
   "cell_type": "markdown",
   "metadata": {},
   "source": [
    "# ---------------------------------------------------------------------"
   ]
  },
  {
   "cell_type": "markdown",
   "metadata": {},
   "source": [
    "## Import Texas County Centers Data"
   ]
  },
  {
   "cell_type": "markdown",
   "metadata": {},
   "source": [
    "# ---------------------------------------------------------------------"
   ]
  },
  {
   "cell_type": "code",
   "execution_count": 47,
   "metadata": {},
   "outputs": [
    {
     "data": {
      "text/html": [
       "<div>\n",
       "<style scoped>\n",
       "    .dataframe tbody tr th:only-of-type {\n",
       "        vertical-align: middle;\n",
       "    }\n",
       "\n",
       "    .dataframe tbody tr th {\n",
       "        vertical-align: top;\n",
       "    }\n",
       "\n",
       "    .dataframe thead th {\n",
       "        text-align: right;\n",
       "    }\n",
       "</style>\n",
       "<table border=\"1\" class=\"dataframe\">\n",
       "  <thead>\n",
       "    <tr style=\"text-align: right;\">\n",
       "      <th></th>\n",
       "      <th>XCoord</th>\n",
       "      <th>YCoord</th>\n",
       "      <th>CNAME</th>\n",
       "    </tr>\n",
       "  </thead>\n",
       "  <tbody>\n",
       "    <tr>\n",
       "      <th>0</th>\n",
       "      <td>-95.652315</td>\n",
       "      <td>31.813202</td>\n",
       "      <td>ANDERSON</td>\n",
       "    </tr>\n",
       "    <tr>\n",
       "      <th>1</th>\n",
       "      <td>-102.637310</td>\n",
       "      <td>32.304938</td>\n",
       "      <td>ANDREWS</td>\n",
       "    </tr>\n",
       "    <tr>\n",
       "      <th>2</th>\n",
       "      <td>-94.611708</td>\n",
       "      <td>31.254821</td>\n",
       "      <td>ANGELINA</td>\n",
       "    </tr>\n",
       "    <tr>\n",
       "      <th>3</th>\n",
       "      <td>-96.998991</td>\n",
       "      <td>28.106930</td>\n",
       "      <td>ARANSAS</td>\n",
       "    </tr>\n",
       "    <tr>\n",
       "      <th>4</th>\n",
       "      <td>-98.687025</td>\n",
       "      <td>33.615379</td>\n",
       "      <td>ARCHER</td>\n",
       "    </tr>\n",
       "  </tbody>\n",
       "</table>\n",
       "</div>"
      ],
      "text/plain": [
       "       XCoord     YCoord     CNAME\n",
       "0  -95.652315  31.813202  ANDERSON\n",
       "1 -102.637310  32.304938   ANDREWS\n",
       "2  -94.611708  31.254821  ANGELINA\n",
       "3  -96.998991  28.106930   ARANSAS\n",
       "4  -98.687025  33.615379    ARCHER"
      ]
     },
     "execution_count": 47,
     "metadata": {},
     "output_type": "execute_result"
    }
   ],
   "source": [
    "# File Path for Importing the bts.gov Trips Data .csv File\n",
    "tx_cnty_cntrs_file_pth = os.path.join(\"Resources\", \"County_Points\", \"texas_county_centers.csv\")\n",
    "\n",
    "# Convert the CSV to a Dataframe\n",
    "tx_cnty_cntrs_df = pd.read_csv(tx_cnty_cntrs_file_pth, usecols= [\"CNAME\",\"XCoord\", \"YCoord\"])\n",
    "tx_cnty_cntrs_df.head()"
   ]
  },
  {
   "cell_type": "code",
   "execution_count": null,
   "metadata": {},
   "outputs": [],
   "source": []
  },
  {
   "cell_type": "markdown",
   "metadata": {},
   "source": [
    "# ========================================"
   ]
  },
  {
   "cell_type": "markdown",
   "metadata": {},
   "source": [
    "# Null Values"
   ]
  },
  {
   "cell_type": "markdown",
   "metadata": {},
   "source": [
    "# ========================================"
   ]
  },
  {
   "cell_type": "markdown",
   "metadata": {},
   "source": [
    "# ---------------------------------------------------------------------"
   ]
  },
  {
   "cell_type": "markdown",
   "metadata": {},
   "source": [
    "## bts.gov Trip Data Null Values"
   ]
  },
  {
   "cell_type": "markdown",
   "metadata": {},
   "source": [
    "# ---------------------------------------------------------------------"
   ]
  },
  {
   "cell_type": "code",
   "execution_count": null,
   "metadata": {
    "scrolled": false
   },
   "outputs": [],
   "source": [
    "# Returns true if the column has null values\n",
    "bts_gov_trps_df.isnull().any()\n",
    "# OR\n",
    "# bts_gov_trps_df.isnull().any(axis=0) #(axis=0 is the defult)"
   ]
  },
  {
   "cell_type": "code",
   "execution_count": null,
   "metadata": {},
   "outputs": [],
   "source": [
    "# Rows with Null Values in the Trips Dataframe \n",
    "bts_gov_trps_df.isnull().sum()"
   ]
  },
  {
   "cell_type": "code",
   "execution_count": null,
   "metadata": {},
   "outputs": [],
   "source": [
    "# Returns a Dataframe Containing Only the Rows With Null Values\n",
    "bts_gov_trps_df_null_val = bts_gov_trps_df[bts_gov_trps_df.isnull().any(axis=1)]\n",
    "\n",
    "# Returns the Number of Cells Within a Column With Null Values\n",
    "print(bts_gov_trps_df_null_val.count())\n",
    "bts_gov_trps_df_null_val"
   ]
  },
  {
   "cell_type": "markdown",
   "metadata": {},
   "source": [
    "# ---------------------------------------------------------------------"
   ]
  },
  {
   "cell_type": "markdown",
   "metadata": {},
   "source": [
    "### Dateframe with Totals for each State and the Nation Per Day"
   ]
  },
  {
   "cell_type": "markdown",
   "metadata": {},
   "source": [
    "# ---------------------------------------------------------------------"
   ]
  },
  {
   "cell_type": "code",
   "execution_count": null,
   "metadata": {},
   "outputs": [],
   "source": [
    "# Array of the Columns Where the Null Values will be Converted to 0\n",
    "# These are the Columns that Should Have a Zero Values Instead of a Null Values\n",
    "clmns_to_cnvrt_null_vls_to_0 =[\"Population Staying at Home\", \"Population Not Staying at Home\",\"Number of Trips\",\"Number of Trips <1\", \"Number of Trips 1-3\", \"Number of Trips 1-3\", \"Number of Trips 3-5\", \"Number of Trips 5-10\", \"Number of Trips 10-25\", \"Number of Trips 25-50\", \"Number of Trips 50-100\", \"Number of Trips 100-250\", \"Number of Trips 250-500\", \"Number of Trips >=500\"]"
   ]
  },
  {
   "cell_type": "code",
   "execution_count": null,
   "metadata": {},
   "outputs": [],
   "source": [
    "# Drop the Rows that With Null Values (NaN) in ALL the Columns in the [\"clmns_to_cnvrt_null_vls_to_0\"] array: if All the Values are Null.\n",
    "bts_gov_trps_df_null_val_lvl_st_ntnl = bts_gov_trps_df_null_val.dropna(how=\"all\", subset=clmns_to_cnvrt_null_vls_to_0)\n",
    "print(bts_gov_trps_df_null_val_lvl_st_ntnl.count())\n",
    "bts_gov_trps_df_null_val_lvl_st_ntnl"
   ]
  },
  {
   "cell_type": "markdown",
   "metadata": {},
   "source": [
    "#### The Above Dataframe Looks Like the Totals for Each State and the Nation Per Day."
   ]
  },
  {
   "cell_type": "markdown",
   "metadata": {},
   "source": [
    "# ---------------------------------------------------------------------"
   ]
  },
  {
   "cell_type": "markdown",
   "metadata": {},
   "source": [
    "### Dataframe With Each State's Total Trips Per Day"
   ]
  },
  {
   "cell_type": "markdown",
   "metadata": {},
   "source": [
    "# ---------------------------------------------------------------------"
   ]
  },
  {
   "cell_type": "code",
   "execution_count": null,
   "metadata": {
    "scrolled": true
   },
   "outputs": [],
   "source": [
    "# Dataframe With the Total State Trips Per Day\n",
    "bts_gov_trps_df_cnty_clmn_null_lvl_st = bts_gov_trps_df_null_val_lvl_st_ntnl.dropna(how=\"all\", subset=[\"State Postal Code\"])\n",
    "print(bts_gov_trps_df_cnty_clmn_null_lvl_st.count())\n",
    "bts_gov_trps_df_cnty_clmn_null_lvl_st"
   ]
  },
  {
   "cell_type": "code",
   "execution_count": null,
   "metadata": {
    "scrolled": true
   },
   "outputs": [],
   "source": [
    "# Which Columns Have Null Values in the State Level Dataframe\n",
    "bts_gov_trps_df_cnty_clmn_null_lvl_st.isnull().any()"
   ]
  },
  {
   "cell_type": "markdown",
   "metadata": {},
   "source": [
    "#### Correct, Only the County Columns have Null Values. Since This is a Daily State Totals Dataframe. "
   ]
  },
  {
   "cell_type": "markdown",
   "metadata": {},
   "source": [
    "# ---------------------------------------------------------------------"
   ]
  },
  {
   "cell_type": "markdown",
   "metadata": {},
   "source": [
    "### Dataframe With Total National Trips Per Day"
   ]
  },
  {
   "cell_type": "markdown",
   "metadata": {},
   "source": [
    "# ---------------------------------------------------------------------"
   ]
  },
  {
   "cell_type": "code",
   "execution_count": null,
   "metadata": {
    "scrolled": false
   },
   "outputs": [],
   "source": [
    "# Dataframe the Total National Trips Per Day\n",
    "bts_gov_trps_df_NULL_VALUES_lvl_ntnl = bts_gov_trps_df_NULL_VALUES_lvl_st_ntnl[bts_gov_trps_df_NULL_VALUES_lvl_st_ntnl[\"Level\"] == \"National\"]\n",
    "print(bts_gov_trps_df_NULL_VALUES_lvl_ntnl.count())\n",
    "bts_gov_trps_df_NULL_VALUES_lvl_ntnl"
   ]
  },
  {
   "cell_type": "code",
   "execution_count": null,
   "metadata": {
    "scrolled": true
   },
   "outputs": [],
   "source": [
    "# Which Columns Have Null Values in the National Level Dataframe\n",
    "bts_gov_trps_df_NULL_VALUES_lvl_ntnl.isnull().any()"
   ]
  },
  {
   "cell_type": "markdown",
   "metadata": {},
   "source": [
    "#### Correct, the State and County Columns have Null Values. Since This is a Daily National Totals Dataframe. "
   ]
  },
  {
   "cell_type": "code",
   "execution_count": null,
   "metadata": {},
   "outputs": [],
   "source": [
    "bts_gov_trps_df_NULL_VALUES_lvl_ntnl = bts_gov_trps_df_NULL_VALUES_lvl_ntnl"
   ]
  },
  {
   "cell_type": "markdown",
   "metadata": {},
   "source": [
    "# ---------------------------------------------------------------------"
   ]
  },
  {
   "cell_type": "markdown",
   "metadata": {},
   "source": [
    "### Dataframe With Total County Trips Per Day"
   ]
  },
  {
   "cell_type": "markdown",
   "metadata": {},
   "source": [
    "# ---------------------------------------------------------------------"
   ]
  },
  {
   "cell_type": "code",
   "execution_count": null,
   "metadata": {
    "scrolled": true
   },
   "outputs": [],
   "source": [
    "# Dataframe the Total County Trips Per Day\n",
    "bts_gov_trps_df_lvl_cnty = bts_gov_trps_df[bts_gov_trps_df[\"Level\"] == \"County\"]\n",
    "print(bts_gov_trps_df_lvl_cnty.count())\n",
    "bts_gov_trps_df_lvl_cnty"
   ]
  },
  {
   "cell_type": "code",
   "execution_count": null,
   "metadata": {
    "scrolled": false
   },
   "outputs": [],
   "source": [
    "# Which Columns Have Null Values in the County Level Dataframe\n",
    "bts_gov_trps_df_lvl_cnty.isnull().any()"
   ]
  },
  {
   "cell_type": "markdown",
   "metadata": {},
   "source": [
    "#### #### I am Not Sure Why the Population and Trips Columns Have Null Values. I am Assuming They are Null Because No Trips Were Taken?"
   ]
  },
  {
   "cell_type": "code",
   "execution_count": null,
   "metadata": {},
   "outputs": [],
   "source": [
    "bts_gov_trps_df_NULL_VALUES_null_dltd[\"Level\"].unique()"
   ]
  },
  {
   "cell_type": "markdown",
   "metadata": {},
   "source": [
    "# ---------------------------------------------------------------------"
   ]
  },
  {
   "cell_type": "markdown",
   "metadata": {},
   "source": [
    "#### Convert All the Null Values in the \"clmns_to_cnvrt_null_vls_to_0\" Array to Zero"
   ]
  },
  {
   "cell_type": "markdown",
   "metadata": {},
   "source": [
    "# ---------------------------------------------------------------------"
   ]
  },
  {
   "cell_type": "code",
   "execution_count": null,
   "metadata": {
    "scrolled": true
   },
   "outputs": [],
   "source": [
    "bts_gov_trps_df_lvl_cnty[clmns_to_cnvrt_null_vls_to_0] = bts_gov_trps_df_lvl_cnty[clmns_to_cnvrt_null_vls_to_0].replace(np.nan, 0)\n",
    "bts_gov_trps_df_lvl_cnty"
   ]
  },
  {
   "cell_type": "code",
   "execution_count": null,
   "metadata": {
    "scrolled": true
   },
   "outputs": [],
   "source": [
    "# Which Columns Have Null Values in the County Level Dataframe\n",
    "bts_gov_trps_df_lvl_cnty.isnull().any()"
   ]
  },
  {
   "cell_type": "markdown",
   "metadata": {},
   "source": [
    "#### Correct, Now all the Columns Have a Value."
   ]
  },
  {
   "cell_type": "markdown",
   "metadata": {},
   "source": [
    "# ---------------------------------------------------------------------"
   ]
  },
  {
   "cell_type": "markdown",
   "metadata": {},
   "source": [
    "## New York Times COVID-19 Data Null Values"
   ]
  },
  {
   "cell_type": "markdown",
   "metadata": {},
   "source": [
    "# ---------------------------------------------------------------------"
   ]
  },
  {
   "cell_type": "code",
   "execution_count": null,
   "metadata": {},
   "outputs": [],
   "source": [
    "# Columns with Null Values in the New York Times Dataframe \n",
    "nytimes_covid_19_df.isnull().any()"
   ]
  },
  {
   "cell_type": "code",
   "execution_count": null,
   "metadata": {},
   "outputs": [],
   "source": [
    "# Rows with Null Values in the New York Times Dataframe \n",
    "nytimes_covid_19_df.isnull().sum()"
   ]
  },
  {
   "cell_type": "code",
   "execution_count": null,
   "metadata": {
    "scrolled": true
   },
   "outputs": [],
   "source": [
    "# Returns a Dataframe Containing Only the Rows With Null Values\n",
    "nytimes_covid_19_df_null_val = nytimes_covid_19_df[nytimes_covid_19_df.isnull().any(axis=1)]\n",
    "\n",
    "# Returns the Number of Cells Within a Column With Null Values\n",
    "print(nytimes_covid_19_df_null_val.count())\n",
    "nytimes_covid_19_df_null_val"
   ]
  },
  {
   "cell_type": "markdown",
   "metadata": {},
   "source": [
    "#### Since the [\"fips\"] Column has a Lot of Null Values, Lets Isolate the [\"deaths\"] Column to See How many Null Values are  in the [\"deaths\"] Column."
   ]
  },
  {
   "cell_type": "code",
   "execution_count": null,
   "metadata": {},
   "outputs": [],
   "source": [
    "# Isolated the Null Values in the [\"deaths\"] Column.\n",
    "nytimes_covid_19_df_dth_clmn_null_val = nytimes_covid_19_df[nytimes_covid_19_df[\"deaths\"].isnull()]\n",
    "print(len(nytimes_covid_19_df_dth_clmn_null_val))\n",
    "print(nytimes_covid_19_df_dth_clmn_null_val[\"state\"].value_counts())\n",
    "nytimes_covid_19_df_dth_clmn_null_val"
   ]
  },
  {
   "cell_type": "markdown",
   "metadata": {},
   "source": [
    "# *******Puerto Rico has no reported deaths?*******"
   ]
  },
  {
   "cell_type": "markdown",
   "metadata": {},
   "source": [
    "# ---------------------------------------------------------------------"
   ]
  },
  {
   "cell_type": "markdown",
   "metadata": {},
   "source": [
    "#### Convert All the Null Values in the [\"deaths\"] Column to Zero"
   ]
  },
  {
   "cell_type": "markdown",
   "metadata": {},
   "source": [
    "# ---------------------------------------------------------------------"
   ]
  },
  {
   "cell_type": "code",
   "execution_count": null,
   "metadata": {
    "scrolled": true
   },
   "outputs": [],
   "source": [
    "# Replace the Null Values With 0\n",
    "nytimes_covid_19_df_no_null_val_dths = nytimes_covid_19_df\n",
    "nytimes_covid_19_df_no_null_val_dths[\"deaths\"] = nytimes_covid_19_df_no_null_val_dths[\"deaths\"].replace(np.nan, 0)\n",
    "nytimes_covid_19_df_no_null_val_dths"
   ]
  },
  {
   "cell_type": "code",
   "execution_count": null,
   "metadata": {},
   "outputs": [],
   "source": [
    "# Rows with Null Values\n",
    "nytimes_covid_19_df_no_null_val_dths[nytimes_covid_19_df_no_null_val_dths[\"deaths\"].isnull()]"
   ]
  },
  {
   "cell_type": "markdown",
   "metadata": {},
   "source": [
    "# ========================================"
   ]
  },
  {
   "cell_type": "markdown",
   "metadata": {},
   "source": [
    "# Convert the Date Column to a datetime Date Type & Convert the Other Columns with Numbers into an int64 Data Type"
   ]
  },
  {
   "cell_type": "markdown",
   "metadata": {},
   "source": [
    "# ========================================"
   ]
  },
  {
   "cell_type": "markdown",
   "metadata": {},
   "source": [
    "# ---------------------------------------------------------------------"
   ]
  },
  {
   "cell_type": "markdown",
   "metadata": {},
   "source": [
    "## bts.gov Trip Data"
   ]
  },
  {
   "cell_type": "markdown",
   "metadata": {},
   "source": [
    "# ---------------------------------------------------------------------"
   ]
  },
  {
   "cell_type": "markdown",
   "metadata": {},
   "source": [
    "# ---------------------------------------------------------------------"
   ]
  },
  {
   "cell_type": "markdown",
   "metadata": {},
   "source": [
    "### The State Level Dataframe"
   ]
  },
  {
   "cell_type": "markdown",
   "metadata": {},
   "source": [
    "# ---------------------------------------------------------------------"
   ]
  },
  {
   "cell_type": "markdown",
   "metadata": {},
   "source": [
    "# ---------------------------------------------------------------------"
   ]
  },
  {
   "cell_type": "markdown",
   "metadata": {},
   "source": [
    "#### Remove the Commas in the [clmns_to_cnvrt_null_vls_to_0] Columns Array in the State Level Dataframe"
   ]
  },
  {
   "cell_type": "markdown",
   "metadata": {},
   "source": [
    "# ---------------------------------------------------------------------"
   ]
  },
  {
   "cell_type": "code",
   "execution_count": null,
   "metadata": {
    "scrolled": true
   },
   "outputs": [],
   "source": [
    "# Remove the Commas from the [clmns_to_cnvrt_null_vls_to_0] Array.\n",
    "bts_gov_trps_df_cnty_clmn_null_lvl_st_no_cmms = bts_gov_trps_df_cnty_clmn_null_lvl_st\n",
    "bts_gov_trps_df_cnty_clmn_null_lvl_st_no_cmms[clmns_to_cnvrt_null_vls_to_0] = bts_gov_trps_df_cnty_clmn_null_lvl_st_no_cmms[clmns_to_cnvrt_null_vls_to_0].replace(',','', regex=True)\n",
    "bts_gov_trps_df_cnty_clmn_null_lvl_st_no_cmms"
   ]
  },
  {
   "cell_type": "code",
   "execution_count": null,
   "metadata": {},
   "outputs": [],
   "source": [
    "# View Data Types\n",
    "bts_gov_trps_df_cnty_clmn_null_lvl_st_no_cmms.dtypes"
   ]
  },
  {
   "cell_type": "code",
   "execution_count": null,
   "metadata": {},
   "outputs": [],
   "source": [
    "# Change the Data Type of the Columns in the [clmns_to_cnvrt_null_vls_to_0] Array from a String to a int64\n",
    "bts_gov_trps_df_cnty_clmn_null_lvl_st_no_cmms_int64 = bts_gov_trps_df_cnty_clmn_null_lvl_st_no_cmms\n",
    "bts_gov_trps_df_cnty_clmn_null_lvl_st_no_cmms_int64[clmns_to_cnvrt_null_vls_to_0] = bts_gov_trps_df_cnty_clmn_null_lvl_st_no_cmms_int64[clmns_to_cnvrt_null_vls_to_0].astype(\"int64\")"
   ]
  },
  {
   "cell_type": "markdown",
   "metadata": {},
   "source": [
    "# ---------------------------------------------------------------------"
   ]
  },
  {
   "cell_type": "markdown",
   "metadata": {},
   "source": [
    "#### Convert the [\"Date\"] Column to a datetime64[ns] Data Type in the State Level Dataframe"
   ]
  },
  {
   "cell_type": "markdown",
   "metadata": {},
   "source": [
    "# ---------------------------------------------------------------------"
   ]
  },
  {
   "cell_type": "code",
   "execution_count": null,
   "metadata": {
    "scrolled": true
   },
   "outputs": [],
   "source": [
    "# Convert the [\"Date\"] Column from a String Data Type to a datetime64[ns] Data Type\n",
    "bts_gov_trps_df_cnty_clmn_null_lvl_st_no_cmms_int64_dttm = bts_gov_trps_df_cnty_clmn_null_lvl_st_no_cmms_int64\n",
    "bts_gov_trps_df_cnty_clmn_null_lvl_st_no_cmms_int64_dttm[\"Date\"]  = pd.to_datetime(bts_gov_trps_df_cnty_clmn_null_lvl_st_no_cmms_int64_dttm[\"Date\"])\n",
    "\n",
    "print(bts_gov_trps_df_cnty_clmn_null_lvl_st_no_cmms_int64_dttm[\"Date\"].dtypes)\n",
    "print(\"-------------------------\")\n",
    "print(bts_gov_trps_df_cnty_clmn_null_lvl_st_no_cmms_int64_dttm[\"Date\"])"
   ]
  },
  {
   "cell_type": "code",
   "execution_count": null,
   "metadata": {
    "scrolled": false
   },
   "outputs": [],
   "source": [
    "bts_gov_trps_df_cnty_clmn_null_lvl_st_no_cmms_int64_dttm.dtypes"
   ]
  },
  {
   "cell_type": "markdown",
   "metadata": {},
   "source": [
    "# ---------------------------------------------------------------------"
   ]
  },
  {
   "cell_type": "markdown",
   "metadata": {},
   "source": [
    "## New York Times COVID-19 Data"
   ]
  },
  {
   "cell_type": "markdown",
   "metadata": {},
   "source": [
    "# ---------------------------------------------------------------------"
   ]
  },
  {
   "cell_type": "markdown",
   "metadata": {},
   "source": [
    "# ---------------------------------------------------------------------"
   ]
  },
  {
   "cell_type": "markdown",
   "metadata": {},
   "source": [
    "### Change Deaths From a float to an int Data Type in the COVID-19 Dataframe"
   ]
  },
  {
   "cell_type": "markdown",
   "metadata": {},
   "source": [
    "# ---------------------------------------------------------------------"
   ]
  },
  {
   "cell_type": "markdown",
   "metadata": {},
   "source": [
    "# ---------------------------------------------------------------------"
   ]
  },
  {
   "cell_type": "markdown",
   "metadata": {},
   "source": [
    "#### Check the Values After the Decimal to Determine if They are Greater Than 0."
   ]
  },
  {
   "cell_type": "markdown",
   "metadata": {},
   "source": [
    "# ---------------------------------------------------------------------"
   ]
  },
  {
   "cell_type": "code",
   "execution_count": null,
   "metadata": {},
   "outputs": [],
   "source": [
    "# Check the Numbers After a Decimal Point\n",
    "# https://stackoverflow.com/questions/57900886/how-to-check-numbers-after-decimal-point\n",
    "\n",
    "nytimes_covid_19_df_no_null_val_dths_no_dcml_dths = nytimes_covid_19_df_no_null_val_dths\n",
    "nytimes_covid_19_df_no_null_val_dths_no_dcml_dths['check_point'] = np.modf(nytimes_covid_19_df_no_null_val_dths_no_dcml_dths['deaths'])[0].ne(0).astype(int)\n",
    "# nytimes_covid_19_df_no_null_val_dths_dcml_chck = nytimes_covid_19_df_no_null_val_dths_dcml_chck['check_point']\n",
    "nytimes_covid_19_df_no_null_val_dths_dcml_chck_dcml_not_zero = nytimes_covid_19_df_no_null_val_dths_no_dcml_dths[nytimes_covid_19_df_no_null_val_dths_no_dcml_dths[\"check_point\"]!=0]\n",
    "nytimes_covid_19_df_no_null_val_dths_dcml_chck_dcml_not_zero\n",
    "# nytimes_covid_19_df_no_null_val_dths_dcml_chck[\"state\"].value_counts()"
   ]
  },
  {
   "cell_type": "markdown",
   "metadata": {},
   "source": [
    "# Before Rounding, Need to Convert the [\"deaths] Column Datatype From a String to a int"
   ]
  },
  {
   "cell_type": "code",
   "execution_count": null,
   "metadata": {
    "scrolled": true
   },
   "outputs": [],
   "source": [
    "nytimes_covid_19_df_no_null_val_dths_no_dcml_dths.dtypes"
   ]
  },
  {
   "cell_type": "code",
   "execution_count": null,
   "metadata": {},
   "outputs": [],
   "source": [
    "# Convert to [\"deaths\"] Column to an int Data Type\n",
    "nytimes_covid_19_df_no_null_val_dths_no_dcml_dths_int_dths = nytimes_covid_19_df_no_null_val_dths_no_dcml_dths\n",
    "nytimes_covid_19_df_no_null_val_dths_no_dcml_dths_int_dths[\"deaths\"] = nytimes_covid_19_df_no_null_val_dths_no_dcml_dths_int_dths[\"deaths\"].astype(\"int64\")\n",
    "nytimes_covid_19_df_no_null_val_dths_no_dcml_dths_int_dths.dtypes"
   ]
  },
  {
   "cell_type": "code",
   "execution_count": null,
   "metadata": {
    "scrolled": true
   },
   "outputs": [],
   "source": [
    "# Round the Death Rate Up to a Whole Number.\n",
    "nytimes_covid_19_df_no_null_val_dths_no_dcml_dths_int_dths_rnd_dths = nytimes_covid_19_df_no_null_val_dths_no_dcml_dths_int_dths\n",
    "# nytimes_covid_19_df_no_null_val_dths_no_dcml_dths_rnd_ceil[\"deaths\"] = nytimes_covid_19_df_no_null_val_dths_no_dcml_dths_rnd_ceil[\"deaths\"].apply(np.ceil)\n",
    "\n",
    "nytimes_covid_19_df_no_null_val_dths_no_dcml_dths_int_dths_rnd_dths = nytimes_covid_19_df_no_null_val_dths_no_dcml_dths_int_dths_rnd_dths.round({\"deaths\": 0})\n",
    "nytimes_covid_19_df_no_null_val_dths_no_dcml_dths_int_dths_rnd_dths"
   ]
  },
  {
   "cell_type": "markdown",
   "metadata": {},
   "source": [
    "# ---------------------------------------------------------------------"
   ]
  },
  {
   "cell_type": "markdown",
   "metadata": {},
   "source": [
    "### Convert the [\"Date\"] Column to a datetime64[ns] Data Type in the State Level Dataframe"
   ]
  },
  {
   "cell_type": "markdown",
   "metadata": {},
   "source": [
    "# ---------------------------------------------------------------------"
   ]
  },
  {
   "cell_type": "code",
   "execution_count": null,
   "metadata": {
    "scrolled": true
   },
   "outputs": [],
   "source": [
    "# Convert the [\"Date\"] Column from a String Data Type to a datetime64[ns] Data Type\n",
    "nytimes_covid_19_df_no_null_val_dths_no_dcml_dths_int_dths_rnd_dths_dttm_date = nytimes_covid_19_df_no_null_val_dths_no_dcml_dths_int_dths_rnd_dths\n",
    "nytimes_covid_19_df_no_null_val_dths_no_dcml_dths_int_dths_rnd_dths_dttm_date[\"date\"]  = pd.to_datetime(nytimes_covid_19_df_no_null_val_dths_no_dcml_dths_int_dths_rnd_dths_dttm_date[\"date\"])\n",
    "\n",
    "print(nytimes_covid_19_df_no_null_val_dths_no_dcml_dths_int_dths_rnd_dths_dttm_date[\"date\"].dtypes)\n",
    "print(\"-------------------------\")\n",
    "print(nytimes_covid_19_df_no_null_val_dths_no_dcml_dths_int_dths_rnd_dths_dttm_date[\"date\"])"
   ]
  },
  {
   "cell_type": "code",
   "execution_count": null,
   "metadata": {
    "scrolled": false
   },
   "outputs": [],
   "source": [
    "nytimes_covid_19_df_no_null_val_dths_no_dcml_dths_int_dths_rnd_dths_dttm_date.dtypes"
   ]
  },
  {
   "cell_type": "code",
   "execution_count": null,
   "metadata": {},
   "outputs": [],
   "source": [
    "nytimes_covid_19_df_no_null_val_dths_no_dcml_dths_int_dths_rnd_dths_dttm_date"
   ]
  },
  {
   "cell_type": "markdown",
   "metadata": {},
   "source": [
    "# ========================================"
   ]
  },
  {
   "cell_type": "markdown",
   "metadata": {},
   "source": [
    "# Dataframes with Limited Columns"
   ]
  },
  {
   "cell_type": "markdown",
   "metadata": {},
   "source": [
    "# ========================================"
   ]
  },
  {
   "cell_type": "markdown",
   "metadata": {},
   "source": [
    "# ---------------------------------------------------------------------"
   ]
  },
  {
   "cell_type": "markdown",
   "metadata": {},
   "source": [
    "## State Dataframe with Limited Columns"
   ]
  },
  {
   "cell_type": "markdown",
   "metadata": {},
   "source": [
    "# ---------------------------------------------------------------------"
   ]
  },
  {
   "cell_type": "code",
   "execution_count": null,
   "metadata": {
    "scrolled": true
   },
   "outputs": [],
   "source": [
    "# New State Dataframe With the Following Columns: [\"Date\", \"State Postal Code\", \"Population Staying at Home\", \"Population Not Staying at Home\",\"Number of Trips\"] \n",
    "bts_gov_trps_df_cnty_clmn_null_lvl_st_no_cmms_int64_dttm_lmtd_clmn = bts_gov_trps_df_cnty_clmn_null_lvl_st_no_cmms_int64_dttm\n",
    "bts_gov_trps_df_cnty_clmn_null_lvl_st_no_cmms_int64_dttm_lmtd_clmn = bts_gov_trps_df_cnty_clmn_null_lvl_st_no_cmms_int64_dttm_lmtd_clmn[[\"Date\", \"State Postal Code\", \"Population Staying at Home\", \"Population Not Staying at Home\",\"Number of Trips\"]]\n",
    "bts_gov_trps_df_cnty_clmn_null_lvl_st_no_cmms_int64_dttm_lmtd_clmn"
   ]
  },
  {
   "cell_type": "code",
   "execution_count": null,
   "metadata": {},
   "outputs": [],
   "source": [
    "# Check the Data Types of the Dataframe\n",
    "bts_gov_trps_df_cnty_clmn_null_lvl_st_no_cmms_int64_dttm_lmtd_clmn.dtypes"
   ]
  },
  {
   "cell_type": "code",
   "execution_count": null,
   "metadata": {},
   "outputs": [],
   "source": [
    "# Check the Dataframe for Null Values\n",
    "bts_gov_trps_df_cnty_clmn_null_lvl_st_no_cmms_int64_dttm_lmtd_clmn.isnull().any()"
   ]
  },
  {
   "cell_type": "code",
   "execution_count": null,
   "metadata": {},
   "outputs": [],
   "source": [
    "# Number of Unique Values in the Date Column of the State Dataframe\n",
    "bts_gov_trps_df_cnty_clmn_null_lvl_st_no_cmms_int64_dttm_lmtd_clmn[\"Date\"].value_counts()"
   ]
  },
  {
   "cell_type": "code",
   "execution_count": null,
   "metadata": {},
   "outputs": [],
   "source": [
    "# Number of Non-NA cells for each column in the Date Column of the State Dataframe\n",
    "bts_gov_trps_df_cnty_clmn_null_lvl_st_no_cmms_int64_dttm_lmtd_clmn.count()"
   ]
  },
  {
   "cell_type": "code",
   "execution_count": null,
   "metadata": {},
   "outputs": [],
   "source": [
    "# Total Number of Rows in the Dataframe\n",
    "len(bts_gov_trps_df_cnty_clmn_null_lvl_st_no_cmms_int64_dttm_lmtd_clmn)"
   ]
  },
  {
   "cell_type": "code",
   "execution_count": null,
   "metadata": {
    "scrolled": true
   },
   "outputs": [],
   "source": [
    "# The Shape of the Dataframe\n",
    "bts_gov_trps_df_cnty_clmn_null_lvl_st_no_cmms_int64_dttm_lmtd_clmn.shape"
   ]
  },
  {
   "cell_type": "markdown",
   "metadata": {},
   "source": [
    "# ---------------------------------------------------------------------"
   ]
  },
  {
   "cell_type": "markdown",
   "metadata": {},
   "source": [
    "## COVID-19 Dataframe with Limited Columns"
   ]
  },
  {
   "cell_type": "markdown",
   "metadata": {},
   "source": [
    "# ********NOT WORKING********"
   ]
  },
  {
   "cell_type": "markdown",
   "metadata": {},
   "source": [
    "# ---------------------------------------------------------------------"
   ]
  },
  {
   "cell_type": "code",
   "execution_count": null,
   "metadata": {},
   "outputs": [],
   "source": [
    "nytimes_covid_19_df_no_null_val_dths_no_dcml_dths_int_dths_rnd_dths_dttm_date."
   ]
  },
  {
   "cell_type": "code",
   "execution_count": null,
   "metadata": {
    "scrolled": false
   },
   "outputs": [],
   "source": [
    "nytimes_covid_19_df_no_null_val_dths_no_dcml_dths_int_dths_rnd_dths_dttm_date_lmtd_clmn = nytimes_covid_19_df_no_null_val_dths_no_dcml_dths_int_dths_rnd_dths_dttm_date[\"date\", \"cases\"]\n",
    "nytimes_covid_19_df_no_null_val_dths_no_dcml_dths_int_dths_rnd_dths_dttm_date_lmtd_clmn"
   ]
  },
  {
   "cell_type": "markdown",
   "metadata": {},
   "source": [
    "# ---------------------------------------------------------------------"
   ]
  },
  {
   "cell_type": "markdown",
   "metadata": {},
   "source": [
    "## Texas County Polygons Dataframe with Limited Columns"
   ]
  },
  {
   "cell_type": "markdown",
   "metadata": {},
   "source": [
    "# ---------------------------------------------------------------------"
   ]
  },
  {
   "cell_type": "code",
   "execution_count": null,
   "metadata": {
    "scrolled": true
   },
   "outputs": [],
   "source": [
    "# Column Names in the US County Boundary Dataframe\n",
    "us_cnty_bndrs_df.keys()"
   ]
  },
  {
   "cell_type": "code",
   "execution_count": null,
   "metadata": {
    "scrolled": true
   },
   "outputs": [],
   "source": [
    "us_cnty_bndrs_df_lmtd_clmns = us_cnty_bndrs_df\n",
    "us_cnty_bndrs_df_lmtd_clmns = us_cnty_bndrs_df_lmtd_clmns[[\"countyfp_nozero\", \"countyfp\", \"namelsad\", \"statefp\", \"state_name\", \"geometry\"]]\n",
    "us_cnty_bndrs_df_lmtd_clmns[\"geometry\"]"
   ]
  },
  {
   "cell_type": "markdown",
   "metadata": {},
   "source": [
    "# ========================================"
   ]
  },
  {
   "cell_type": "markdown",
   "metadata": {},
   "source": [
    "# Change the Name of the Columns"
   ]
  },
  {
   "cell_type": "markdown",
   "metadata": {},
   "source": [
    "# ========================================"
   ]
  },
  {
   "cell_type": "markdown",
   "metadata": {},
   "source": [
    "# ---------------------------------------------------------------------"
   ]
  },
  {
   "cell_type": "markdown",
   "metadata": {},
   "source": [
    "## Change the Column Names in the State Trips Dataframe"
   ]
  },
  {
   "cell_type": "markdown",
   "metadata": {},
   "source": [
    "# ---------------------------------------------------------------------"
   ]
  },
  {
   "cell_type": "code",
   "execution_count": null,
   "metadata": {},
   "outputs": [],
   "source": [
    "# New Column Names\n",
    "new_date_clmn_nm = \"date\"\n",
    "new_st_clmn_nm = \"state\"\n",
    "new_st_pstl_code_clmn_nm = \"state_postal_code\"\n",
    "new_pop_at_hm_clmn_nm = \"pop_at_home\"\n",
    "new_pop_not_at_hm_clmn_nm = \"pop_not_at_home\"\n",
    "new_nmbr_trps_clmn_nm = \"number_trips\"\n",
    "new_cases_clmn_nm = \"covid_cases\"\n",
    "new_dths_clmn_nm = \"covid_deaths\""
   ]
  },
  {
   "cell_type": "code",
   "execution_count": null,
   "metadata": {},
   "outputs": [],
   "source": [
    "bts_gov_trps_df_cnty_clmn_null_lvl_st_no_cmms_int64_dttm_lmtd_clmn.keys()"
   ]
  },
  {
   "cell_type": "code",
   "execution_count": null,
   "metadata": {},
   "outputs": [],
   "source": [
    "# Changed the Names of the Column Headers\n",
    "bts_gov_trps_df_cnty_clmn_null_lvl_st_no_cmms_int64_dttm_lmtd_clmn_clmn_nm_chng = bts_gov_trps_df_cnty_clmn_null_lvl_st_no_cmms_int64_dttm_lmtd_clmn\n",
    "bts_gov_trps_df_cnty_clmn_null_lvl_st_no_cmms_int64_dttm_lmtd_clmn_clmn_nm_chng = bts_gov_trps_df_cnty_clmn_null_lvl_st_no_cmms_int64_dttm_lmtd_clmn_clmn_nm_chng ({\"Date\": new_date_clmn_nm, \"State Postal Code\": new_st_pstl_code_clmn_nm, \"Population Staying at Home\": new_pop_at_hm_clmn_nm, \"Population Not Staying at Home\": new_pop_not_at_hm_clmn_nm, \"Number of Trips\": new_nmbr_trps_clmn_nm}, axis = 1)\n",
    "# bts_gov_trps_df_cnty_clmn_null_lvl_st_no_cmms_int64_dttm_lmtd_clmn_clmn_nm_chng#.head()"
   ]
  },
  {
   "cell_type": "markdown",
   "metadata": {},
   "source": [
    "# ========================================"
   ]
  },
  {
   "cell_type": "markdown",
   "metadata": {},
   "source": [
    "# Add the State Name & State Postal Code"
   ]
  },
  {
   "cell_type": "markdown",
   "metadata": {},
   "source": [
    "# ========================================"
   ]
  },
  {
   "cell_type": "markdown",
   "metadata": {},
   "source": [
    "# ---------------------------------------------------------------------"
   ]
  },
  {
   "cell_type": "markdown",
   "metadata": {},
   "source": [
    "## Add the State Postal Code in the Trips Dataframe"
   ]
  },
  {
   "cell_type": "markdown",
   "metadata": {},
   "source": [
    "# ---------------------------------------------------------------------"
   ]
  },
  {
   "cell_type": "code",
   "execution_count": null,
   "metadata": {},
   "outputs": [],
   "source": [
    "\n",
    "bls_gov_st_st_code_df.keys()"
   ]
  },
  {
   "cell_type": "code",
   "execution_count": null,
   "metadata": {},
   "outputs": [],
   "source": [
    "bts_gov_trps_df_cnty_clmn_null_lvl_st_no_cmms_int64_dttm_lmtd_clmn.keys()"
   ]
  },
  {
   "cell_type": "code",
   "execution_count": null,
   "metadata": {},
   "outputs": [],
   "source": [
    "# Replace all the Abbreviations with the Full State Name \n",
    "for t in range(len(State_Abbreviations_Code_Table_df)):\n",
    "\n",
    "    for i in range(len(avg_auto_insnc_concat_df_clnd)):\n",
    "\n",
    "        if State_Abbreviations_Code_Table_df.iloc[t][\"Code\"] == avg_auto_insnc_concat_df_clnd.iloc[i][\"State\"]:\n",
    "            avg_auto_insnc_concat_df_clnd.iloc[i][\"State\"] = State_Abbreviations_Code_Table_df.iloc[t][\"Description\"]"
   ]
  },
  {
   "cell_type": "code",
   "execution_count": null,
   "metadata": {},
   "outputs": [],
   "source": [
    "# ********NOT WORKING********"
   ]
  },
  {
   "cell_type": "markdown",
   "metadata": {},
   "source": [
    "# ========================================"
   ]
  },
  {
   "cell_type": "markdown",
   "metadata": {},
   "source": [
    "# Change the Name of the Dataframes"
   ]
  },
  {
   "cell_type": "markdown",
   "metadata": {},
   "source": [
    "# ========================================"
   ]
  },
  {
   "cell_type": "markdown",
   "metadata": {},
   "source": [
    "# ---------------------------------------------------------------------"
   ]
  },
  {
   "cell_type": "markdown",
   "metadata": {},
   "source": [
    "## Change the State Trips Dataframe"
   ]
  },
  {
   "cell_type": "markdown",
   "metadata": {},
   "source": [
    "# ---------------------------------------------------------------------"
   ]
  },
  {
   "cell_type": "code",
   "execution_count": null,
   "metadata": {
    "scrolled": false
   },
   "outputs": [],
   "source": [
    "bts_gov_trps_df_FINAL = bts_gov_trps_df_cnty_clmn_null_lvl_st_no_cmms_int64_dttm_lmtd_clmn\n",
    "bts_gov_trps_df_FINAL"
   ]
  },
  {
   "cell_type": "markdown",
   "metadata": {},
   "source": [
    "# ========================================"
   ]
  },
  {
   "cell_type": "markdown",
   "metadata": {},
   "source": [
    "# Join the Dataframes"
   ]
  },
  {
   "cell_type": "markdown",
   "metadata": {},
   "source": [
    "# ========================================"
   ]
  },
  {
   "cell_type": "markdown",
   "metadata": {},
   "source": [
    "# ---------------------------------------------------------------------"
   ]
  },
  {
   "cell_type": "markdown",
   "metadata": {},
   "source": [
    "## Join the State Trips Dataframe with the COVID-19 Dataframe"
   ]
  },
  {
   "cell_type": "markdown",
   "metadata": {},
   "source": [
    "# ---------------------------------------------------------------------"
   ]
  },
  {
   "cell_type": "code",
   "execution_count": 17,
   "metadata": {
    "scrolled": true
   },
   "outputs": [
    {
     "name": "stdout",
     "output_type": "stream",
     "text": [
      "(2207054, 8)\n"
     ]
    }
   ],
   "source": [
    "bts_gov_trps_df_test.head()\n",
    "print(bts_gov_trps_df_test.shape)"
   ]
  },
  {
   "cell_type": "code",
   "execution_count": 18,
   "metadata": {},
   "outputs": [
    {
     "data": {
      "text/plain": [
       "(2148011, 8)"
      ]
     },
     "execution_count": 18,
     "metadata": {},
     "output_type": "execute_result"
    }
   ],
   "source": [
    "bts_gov_trps_df_test_2 = bts_gov_trps_df_test.dropna()\n",
    "bts_gov_trps_df_test_2.shape"
   ]
  },
  {
   "cell_type": "code",
   "execution_count": 19,
   "metadata": {},
   "outputs": [
    {
     "data": {
      "text/plain": [
       "(172711, 8)"
      ]
     },
     "execution_count": 19,
     "metadata": {},
     "output_type": "execute_result"
    }
   ],
   "source": [
    "# Filter Data on [\"State Postal Code\"] Column for \"TX\"\n",
    "bts_gov_trps_df_test_2 = bts_gov_trps_df_test_2[bts_gov_trps_df_test_2[new_st_pstl_code_clmn_nm] == \"TX\"]\n",
    "bts_gov_trps_df_test_2.shape\n",
    "# bts_gov_trps_df_test_2"
   ]
  },
  {
   "cell_type": "code",
   "execution_count": null,
   "metadata": {},
   "outputs": [],
   "source": [
    "# bts_gov_trps_df_test_2_grpby = bts_gov_trps_df_test_2.groupby([\"county_fips\"], as_index = False)"
   ]
  },
  {
   "cell_type": "code",
   "execution_count": null,
   "metadata": {
    "scrolled": false
   },
   "outputs": [],
   "source": [
    "# bts_gov_trps_df_test_2_grpby.head()"
   ]
  },
  {
   "cell_type": "code",
   "execution_count": 20,
   "metadata": {},
   "outputs": [
    {
     "data": {
      "text/plain": [
       "date                 datetime64[ns]\n",
       "State FIPS                  float64\n",
       "state_postal_code            object\n",
       "county_fips                 float64\n",
       "county                       object\n",
       "pop_at_home                  object\n",
       "pop_not_at_home              object\n",
       "trips                        object\n",
       "dtype: object"
      ]
     },
     "execution_count": 20,
     "metadata": {},
     "output_type": "execute_result"
    }
   ],
   "source": [
    "bts_gov_trps_df_test_2[\"date\"]  = pd.to_datetime(bts_gov_trps_df_test_2[\"date\"])\n",
    "bts_gov_trps_df_test_2.dtypes"
   ]
  },
  {
   "cell_type": "code",
   "execution_count": 21,
   "metadata": {},
   "outputs": [
    {
     "data": {
      "text/plain": [
       "(59128, 6)"
      ]
     },
     "execution_count": 21,
     "metadata": {},
     "output_type": "execute_result"
    }
   ],
   "source": [
    "# Filter Data on [\"State Postal Code\"] Column for \"AK\"\n",
    "nytimes_covid_19_df_test = nytimes_covid_19_df_test[nytimes_covid_19_df_test[\"state\"] == \"Texas\"]\n",
    "nytimes_covid_19_df_test.shape"
   ]
  },
  {
   "cell_type": "code",
   "execution_count": null,
   "metadata": {
    "scrolled": true
   },
   "outputs": [],
   "source": [
    "nytimes_covid_19_df_test"
   ]
  },
  {
   "cell_type": "code",
   "execution_count": 22,
   "metadata": {},
   "outputs": [
    {
     "data": {
      "text/plain": [
       "Bexar         293\n",
       "Fort Bend     272\n",
       "Harris        271\n",
       "Collin        267\n",
       "Montgomery    266\n",
       "             ... \n",
       "Sterling      110\n",
       "Borden         69\n",
       "King           49\n",
       "Loving         14\n",
       "Unknown         1\n",
       "Name: county, Length: 255, dtype: int64"
      ]
     },
     "execution_count": 22,
     "metadata": {},
     "output_type": "execute_result"
    }
   ],
   "source": [
    "nytimes_covid_19_df_test[\"county\"].value_counts()"
   ]
  },
  {
   "cell_type": "code",
   "execution_count": null,
   "metadata": {},
   "outputs": [],
   "source": [
    "# nytimes_covid_19_df_test_grpby = nytimes_covid_19_df_test.groupby([\"county_fips\"], as_index = False)"
   ]
  },
  {
   "cell_type": "code",
   "execution_count": null,
   "metadata": {},
   "outputs": [],
   "source": [
    "# nytimes_covid_19_df_test_grpby.head()"
   ]
  },
  {
   "cell_type": "code",
   "execution_count": 23,
   "metadata": {},
   "outputs": [
    {
     "data": {
      "text/plain": [
       "date            datetime64[ns]\n",
       "county                  object\n",
       "state                   object\n",
       "county_fips            float64\n",
       "covid_cases              int64\n",
       "covid_deaths           float64\n",
       "dtype: object"
      ]
     },
     "execution_count": 23,
     "metadata": {},
     "output_type": "execute_result"
    }
   ],
   "source": [
    "nytimes_covid_19_df_test[\"date\"]  = pd.to_datetime(nytimes_covid_19_df_test[\"date\"])\n",
    "nytimes_covid_19_df_test.dtypes"
   ]
  },
  {
   "cell_type": "code",
   "execution_count": 24,
   "metadata": {},
   "outputs": [],
   "source": [
    "# new_cnty_fips_clmn_nm\n",
    "trp_covid_df = pd.merge(bts_gov_trps_df_test_2, nytimes_covid_19_df_test, on = [\"date\", \"county_fips\"], suffixes=(\"_trps\", \"_covid\"), how = \"inner\")"
   ]
  },
  {
   "cell_type": "code",
   "execution_count": 25,
   "metadata": {},
   "outputs": [
    {
     "data": {
      "text/plain": [
       "(56735, 12)"
      ]
     },
     "execution_count": 25,
     "metadata": {},
     "output_type": "execute_result"
    }
   ],
   "source": [
    "trp_covid_df.shape"
   ]
  },
  {
   "cell_type": "code",
   "execution_count": 26,
   "metadata": {
    "scrolled": true
   },
   "outputs": [
    {
     "data": {
      "text/html": [
       "<div>\n",
       "<style scoped>\n",
       "    .dataframe tbody tr th:only-of-type {\n",
       "        vertical-align: middle;\n",
       "    }\n",
       "\n",
       "    .dataframe tbody tr th {\n",
       "        vertical-align: top;\n",
       "    }\n",
       "\n",
       "    .dataframe thead th {\n",
       "        text-align: right;\n",
       "    }\n",
       "</style>\n",
       "<table border=\"1\" class=\"dataframe\">\n",
       "  <thead>\n",
       "    <tr style=\"text-align: right;\">\n",
       "      <th></th>\n",
       "      <th>date</th>\n",
       "      <th>State FIPS</th>\n",
       "      <th>state_postal_code</th>\n",
       "      <th>county_fips</th>\n",
       "      <th>county_trps</th>\n",
       "      <th>pop_at_home</th>\n",
       "      <th>pop_not_at_home</th>\n",
       "      <th>trips</th>\n",
       "      <th>county_covid</th>\n",
       "      <th>state</th>\n",
       "      <th>covid_cases</th>\n",
       "      <th>covid_deaths</th>\n",
       "    </tr>\n",
       "  </thead>\n",
       "  <tbody>\n",
       "    <tr>\n",
       "      <th>0</th>\n",
       "      <td>2020-02-12</td>\n",
       "      <td>48.0</td>\n",
       "      <td>TX</td>\n",
       "      <td>48029.0</td>\n",
       "      <td>Bexar County</td>\n",
       "      <td>326,140</td>\n",
       "      <td>1,659,909</td>\n",
       "      <td>7,145,685</td>\n",
       "      <td>Bexar</td>\n",
       "      <td>Texas</td>\n",
       "      <td>1</td>\n",
       "      <td>0.0</td>\n",
       "    </tr>\n",
       "    <tr>\n",
       "      <th>1</th>\n",
       "      <td>2020-02-13</td>\n",
       "      <td>48.0</td>\n",
       "      <td>TX</td>\n",
       "      <td>48029.0</td>\n",
       "      <td>Bexar County</td>\n",
       "      <td>317,245</td>\n",
       "      <td>1,668,804</td>\n",
       "      <td>7,326,573</td>\n",
       "      <td>Bexar</td>\n",
       "      <td>Texas</td>\n",
       "      <td>2</td>\n",
       "      <td>0.0</td>\n",
       "    </tr>\n",
       "    <tr>\n",
       "      <th>2</th>\n",
       "      <td>2020-02-14</td>\n",
       "      <td>48.0</td>\n",
       "      <td>TX</td>\n",
       "      <td>48029.0</td>\n",
       "      <td>Bexar County</td>\n",
       "      <td>314,930</td>\n",
       "      <td>1,671,119</td>\n",
       "      <td>7,859,381</td>\n",
       "      <td>Bexar</td>\n",
       "      <td>Texas</td>\n",
       "      <td>2</td>\n",
       "      <td>0.0</td>\n",
       "    </tr>\n",
       "    <tr>\n",
       "      <th>3</th>\n",
       "      <td>2020-02-15</td>\n",
       "      <td>48.0</td>\n",
       "      <td>TX</td>\n",
       "      <td>48029.0</td>\n",
       "      <td>Bexar County</td>\n",
       "      <td>355,894</td>\n",
       "      <td>1,630,155</td>\n",
       "      <td>7,104,962</td>\n",
       "      <td>Bexar</td>\n",
       "      <td>Texas</td>\n",
       "      <td>2</td>\n",
       "      <td>0.0</td>\n",
       "    </tr>\n",
       "    <tr>\n",
       "      <th>4</th>\n",
       "      <td>2020-02-16</td>\n",
       "      <td>48.0</td>\n",
       "      <td>TX</td>\n",
       "      <td>48029.0</td>\n",
       "      <td>Bexar County</td>\n",
       "      <td>399,704</td>\n",
       "      <td>1,586,345</td>\n",
       "      <td>6,281,204</td>\n",
       "      <td>Bexar</td>\n",
       "      <td>Texas</td>\n",
       "      <td>2</td>\n",
       "      <td>0.0</td>\n",
       "    </tr>\n",
       "    <tr>\n",
       "      <th>...</th>\n",
       "      <td>...</td>\n",
       "      <td>...</td>\n",
       "      <td>...</td>\n",
       "      <td>...</td>\n",
       "      <td>...</td>\n",
       "      <td>...</td>\n",
       "      <td>...</td>\n",
       "      <td>...</td>\n",
       "      <td>...</td>\n",
       "      <td>...</td>\n",
       "      <td>...</td>\n",
       "      <td>...</td>\n",
       "    </tr>\n",
       "    <tr>\n",
       "      <th>56730</th>\n",
       "      <td>2020-11-21</td>\n",
       "      <td>48.0</td>\n",
       "      <td>TX</td>\n",
       "      <td>48031.0</td>\n",
       "      <td>Blanco County</td>\n",
       "      <td>2,481</td>\n",
       "      <td>9,221</td>\n",
       "      <td>36,299</td>\n",
       "      <td>Blanco</td>\n",
       "      <td>Texas</td>\n",
       "      <td>178</td>\n",
       "      <td>6.0</td>\n",
       "    </tr>\n",
       "    <tr>\n",
       "      <th>56731</th>\n",
       "      <td>2020-11-21</td>\n",
       "      <td>48.0</td>\n",
       "      <td>TX</td>\n",
       "      <td>48033.0</td>\n",
       "      <td>Borden County</td>\n",
       "      <td>134</td>\n",
       "      <td>514</td>\n",
       "      <td>2,987</td>\n",
       "      <td>Borden</td>\n",
       "      <td>Texas</td>\n",
       "      <td>5</td>\n",
       "      <td>0.0</td>\n",
       "    </tr>\n",
       "    <tr>\n",
       "      <th>56732</th>\n",
       "      <td>2020-11-21</td>\n",
       "      <td>48.0</td>\n",
       "      <td>TX</td>\n",
       "      <td>48035.0</td>\n",
       "      <td>Bosque County</td>\n",
       "      <td>4,714</td>\n",
       "      <td>13,977</td>\n",
       "      <td>50,067</td>\n",
       "      <td>Bosque</td>\n",
       "      <td>Texas</td>\n",
       "      <td>507</td>\n",
       "      <td>15.0</td>\n",
       "    </tr>\n",
       "    <tr>\n",
       "      <th>56733</th>\n",
       "      <td>2020-11-21</td>\n",
       "      <td>48.0</td>\n",
       "      <td>TX</td>\n",
       "      <td>48037.0</td>\n",
       "      <td>Bowie County</td>\n",
       "      <td>23,241</td>\n",
       "      <td>71,083</td>\n",
       "      <td>257,762</td>\n",
       "      <td>Bowie</td>\n",
       "      <td>Texas</td>\n",
       "      <td>2479</td>\n",
       "      <td>97.0</td>\n",
       "    </tr>\n",
       "    <tr>\n",
       "      <th>56734</th>\n",
       "      <td>2020-11-21</td>\n",
       "      <td>48.0</td>\n",
       "      <td>TX</td>\n",
       "      <td>48039.0</td>\n",
       "      <td>Brazoria County</td>\n",
       "      <td>79,296</td>\n",
       "      <td>290,904</td>\n",
       "      <td>1,124,966</td>\n",
       "      <td>Brazoria</td>\n",
       "      <td>Texas</td>\n",
       "      <td>13722</td>\n",
       "      <td>194.0</td>\n",
       "    </tr>\n",
       "  </tbody>\n",
       "</table>\n",
       "<p>56735 rows × 12 columns</p>\n",
       "</div>"
      ],
      "text/plain": [
       "            date  State FIPS state_postal_code  county_fips      county_trps  \\\n",
       "0     2020-02-12        48.0                TX      48029.0     Bexar County   \n",
       "1     2020-02-13        48.0                TX      48029.0     Bexar County   \n",
       "2     2020-02-14        48.0                TX      48029.0     Bexar County   \n",
       "3     2020-02-15        48.0                TX      48029.0     Bexar County   \n",
       "4     2020-02-16        48.0                TX      48029.0     Bexar County   \n",
       "...          ...         ...               ...          ...              ...   \n",
       "56730 2020-11-21        48.0                TX      48031.0    Blanco County   \n",
       "56731 2020-11-21        48.0                TX      48033.0    Borden County   \n",
       "56732 2020-11-21        48.0                TX      48035.0    Bosque County   \n",
       "56733 2020-11-21        48.0                TX      48037.0     Bowie County   \n",
       "56734 2020-11-21        48.0                TX      48039.0  Brazoria County   \n",
       "\n",
       "      pop_at_home pop_not_at_home      trips county_covid  state  covid_cases  \\\n",
       "0         326,140       1,659,909  7,145,685        Bexar  Texas            1   \n",
       "1         317,245       1,668,804  7,326,573        Bexar  Texas            2   \n",
       "2         314,930       1,671,119  7,859,381        Bexar  Texas            2   \n",
       "3         355,894       1,630,155  7,104,962        Bexar  Texas            2   \n",
       "4         399,704       1,586,345  6,281,204        Bexar  Texas            2   \n",
       "...           ...             ...        ...          ...    ...          ...   \n",
       "56730       2,481           9,221     36,299       Blanco  Texas          178   \n",
       "56731         134             514      2,987       Borden  Texas            5   \n",
       "56732       4,714          13,977     50,067       Bosque  Texas          507   \n",
       "56733      23,241          71,083    257,762        Bowie  Texas         2479   \n",
       "56734      79,296         290,904  1,124,966     Brazoria  Texas        13722   \n",
       "\n",
       "       covid_deaths  \n",
       "0               0.0  \n",
       "1               0.0  \n",
       "2               0.0  \n",
       "3               0.0  \n",
       "4               0.0  \n",
       "...             ...  \n",
       "56730           6.0  \n",
       "56731           0.0  \n",
       "56732          15.0  \n",
       "56733          97.0  \n",
       "56734         194.0  \n",
       "\n",
       "[56735 rows x 12 columns]"
      ]
     },
     "execution_count": 26,
     "metadata": {},
     "output_type": "execute_result"
    }
   ],
   "source": [
    "trp_covid_df.dropna(how = \"any\")"
   ]
  },
  {
   "cell_type": "code",
   "execution_count": 39,
   "metadata": {},
   "outputs": [],
   "source": [
    "trp_covid_df_filter = trp_covid_df[(trp_covid_df['date']>'2020-11-01') & (trp_covid_df['date']<'2020-11-30')]"
   ]
  },
  {
   "cell_type": "code",
   "execution_count": 40,
   "metadata": {},
   "outputs": [
    {
     "data": {
      "text/plain": [
       "Matagorda County    20\n",
       "Ochiltree County    20\n",
       "Knox County         20\n",
       "Blanco County       20\n",
       "Milam County        20\n",
       "                    ..\n",
       "Kaufman County      20\n",
       "Hidalgo County      20\n",
       "Zapata County       20\n",
       "Callahan County     20\n",
       "Loving County        5\n",
       "Name: county_trps, Length: 254, dtype: int64"
      ]
     },
     "execution_count": 40,
     "metadata": {},
     "output_type": "execute_result"
    }
   ],
   "source": [
    "trp_covid_df_filter[\"county_trps\"].value_counts()"
   ]
  },
  {
   "cell_type": "code",
   "execution_count": 41,
   "metadata": {
    "scrolled": true
   },
   "outputs": [
    {
     "data": {
      "text/html": [
       "<div>\n",
       "<style scoped>\n",
       "    .dataframe tbody tr th:only-of-type {\n",
       "        vertical-align: middle;\n",
       "    }\n",
       "\n",
       "    .dataframe tbody tr th {\n",
       "        vertical-align: top;\n",
       "    }\n",
       "\n",
       "    .dataframe thead th {\n",
       "        text-align: right;\n",
       "    }\n",
       "</style>\n",
       "<table border=\"1\" class=\"dataframe\">\n",
       "  <thead>\n",
       "    <tr style=\"text-align: right;\">\n",
       "      <th></th>\n",
       "      <th>date</th>\n",
       "      <th>State FIPS</th>\n",
       "      <th>state_postal_code</th>\n",
       "      <th>county_fips</th>\n",
       "      <th>county_trps</th>\n",
       "      <th>pop_at_home</th>\n",
       "      <th>pop_not_at_home</th>\n",
       "      <th>trips</th>\n",
       "      <th>county_covid</th>\n",
       "      <th>state</th>\n",
       "      <th>covid_cases</th>\n",
       "      <th>covid_deaths</th>\n",
       "    </tr>\n",
       "  </thead>\n",
       "  <tbody>\n",
       "    <tr>\n",
       "      <th>51670</th>\n",
       "      <td>2020-11-02</td>\n",
       "      <td>48.0</td>\n",
       "      <td>TX</td>\n",
       "      <td>48495.0</td>\n",
       "      <td>Winkler County</td>\n",
       "      <td>1,994</td>\n",
       "      <td>5,726</td>\n",
       "      <td>23,034</td>\n",
       "      <td>Winkler</td>\n",
       "      <td>Texas</td>\n",
       "      <td>153</td>\n",
       "      <td>5.0</td>\n",
       "    </tr>\n",
       "    <tr>\n",
       "      <th>51671</th>\n",
       "      <td>2020-11-02</td>\n",
       "      <td>48.0</td>\n",
       "      <td>TX</td>\n",
       "      <td>48001.0</td>\n",
       "      <td>Anderson County</td>\n",
       "      <td>10,765</td>\n",
       "      <td>47,292</td>\n",
       "      <td>174,643</td>\n",
       "      <td>Anderson</td>\n",
       "      <td>Texas</td>\n",
       "      <td>2979</td>\n",
       "      <td>39.0</td>\n",
       "    </tr>\n",
       "    <tr>\n",
       "      <th>51672</th>\n",
       "      <td>2020-11-02</td>\n",
       "      <td>48.0</td>\n",
       "      <td>TX</td>\n",
       "      <td>48003.0</td>\n",
       "      <td>Andrews County</td>\n",
       "      <td>4,014</td>\n",
       "      <td>14,114</td>\n",
       "      <td>54,811</td>\n",
       "      <td>Andrews</td>\n",
       "      <td>Texas</td>\n",
       "      <td>667</td>\n",
       "      <td>10.0</td>\n",
       "    </tr>\n",
       "    <tr>\n",
       "      <th>51673</th>\n",
       "      <td>2020-11-02</td>\n",
       "      <td>48.0</td>\n",
       "      <td>TX</td>\n",
       "      <td>48005.0</td>\n",
       "      <td>Angelina County</td>\n",
       "      <td>18,309</td>\n",
       "      <td>68,783</td>\n",
       "      <td>251,533</td>\n",
       "      <td>Angelina</td>\n",
       "      <td>Texas</td>\n",
       "      <td>2922</td>\n",
       "      <td>93.0</td>\n",
       "    </tr>\n",
       "    <tr>\n",
       "      <th>51674</th>\n",
       "      <td>2020-11-02</td>\n",
       "      <td>48.0</td>\n",
       "      <td>TX</td>\n",
       "      <td>48007.0</td>\n",
       "      <td>Aransas County</td>\n",
       "      <td>6,740</td>\n",
       "      <td>17,052</td>\n",
       "      <td>52,929</td>\n",
       "      <td>Aransas</td>\n",
       "      <td>Texas</td>\n",
       "      <td>351</td>\n",
       "      <td>18.0</td>\n",
       "    </tr>\n",
       "    <tr>\n",
       "      <th>...</th>\n",
       "      <td>...</td>\n",
       "      <td>...</td>\n",
       "      <td>...</td>\n",
       "      <td>...</td>\n",
       "      <td>...</td>\n",
       "      <td>...</td>\n",
       "      <td>...</td>\n",
       "      <td>...</td>\n",
       "      <td>...</td>\n",
       "      <td>...</td>\n",
       "      <td>...</td>\n",
       "      <td>...</td>\n",
       "    </tr>\n",
       "    <tr>\n",
       "      <th>56730</th>\n",
       "      <td>2020-11-21</td>\n",
       "      <td>48.0</td>\n",
       "      <td>TX</td>\n",
       "      <td>48031.0</td>\n",
       "      <td>Blanco County</td>\n",
       "      <td>2,481</td>\n",
       "      <td>9,221</td>\n",
       "      <td>36,299</td>\n",
       "      <td>Blanco</td>\n",
       "      <td>Texas</td>\n",
       "      <td>178</td>\n",
       "      <td>6.0</td>\n",
       "    </tr>\n",
       "    <tr>\n",
       "      <th>56731</th>\n",
       "      <td>2020-11-21</td>\n",
       "      <td>48.0</td>\n",
       "      <td>TX</td>\n",
       "      <td>48033.0</td>\n",
       "      <td>Borden County</td>\n",
       "      <td>134</td>\n",
       "      <td>514</td>\n",
       "      <td>2,987</td>\n",
       "      <td>Borden</td>\n",
       "      <td>Texas</td>\n",
       "      <td>5</td>\n",
       "      <td>0.0</td>\n",
       "    </tr>\n",
       "    <tr>\n",
       "      <th>56732</th>\n",
       "      <td>2020-11-21</td>\n",
       "      <td>48.0</td>\n",
       "      <td>TX</td>\n",
       "      <td>48035.0</td>\n",
       "      <td>Bosque County</td>\n",
       "      <td>4,714</td>\n",
       "      <td>13,977</td>\n",
       "      <td>50,067</td>\n",
       "      <td>Bosque</td>\n",
       "      <td>Texas</td>\n",
       "      <td>507</td>\n",
       "      <td>15.0</td>\n",
       "    </tr>\n",
       "    <tr>\n",
       "      <th>56733</th>\n",
       "      <td>2020-11-21</td>\n",
       "      <td>48.0</td>\n",
       "      <td>TX</td>\n",
       "      <td>48037.0</td>\n",
       "      <td>Bowie County</td>\n",
       "      <td>23,241</td>\n",
       "      <td>71,083</td>\n",
       "      <td>257,762</td>\n",
       "      <td>Bowie</td>\n",
       "      <td>Texas</td>\n",
       "      <td>2479</td>\n",
       "      <td>97.0</td>\n",
       "    </tr>\n",
       "    <tr>\n",
       "      <th>56734</th>\n",
       "      <td>2020-11-21</td>\n",
       "      <td>48.0</td>\n",
       "      <td>TX</td>\n",
       "      <td>48039.0</td>\n",
       "      <td>Brazoria County</td>\n",
       "      <td>79,296</td>\n",
       "      <td>290,904</td>\n",
       "      <td>1,124,966</td>\n",
       "      <td>Brazoria</td>\n",
       "      <td>Texas</td>\n",
       "      <td>13722</td>\n",
       "      <td>194.0</td>\n",
       "    </tr>\n",
       "  </tbody>\n",
       "</table>\n",
       "<p>5065 rows × 12 columns</p>\n",
       "</div>"
      ],
      "text/plain": [
       "            date  State FIPS state_postal_code  county_fips      county_trps  \\\n",
       "51670 2020-11-02        48.0                TX      48495.0   Winkler County   \n",
       "51671 2020-11-02        48.0                TX      48001.0  Anderson County   \n",
       "51672 2020-11-02        48.0                TX      48003.0   Andrews County   \n",
       "51673 2020-11-02        48.0                TX      48005.0  Angelina County   \n",
       "51674 2020-11-02        48.0                TX      48007.0   Aransas County   \n",
       "...          ...         ...               ...          ...              ...   \n",
       "56730 2020-11-21        48.0                TX      48031.0    Blanco County   \n",
       "56731 2020-11-21        48.0                TX      48033.0    Borden County   \n",
       "56732 2020-11-21        48.0                TX      48035.0    Bosque County   \n",
       "56733 2020-11-21        48.0                TX      48037.0     Bowie County   \n",
       "56734 2020-11-21        48.0                TX      48039.0  Brazoria County   \n",
       "\n",
       "      pop_at_home pop_not_at_home      trips county_covid  state  covid_cases  \\\n",
       "51670       1,994           5,726     23,034      Winkler  Texas          153   \n",
       "51671      10,765          47,292    174,643     Anderson  Texas         2979   \n",
       "51672       4,014          14,114     54,811      Andrews  Texas          667   \n",
       "51673      18,309          68,783    251,533     Angelina  Texas         2922   \n",
       "51674       6,740          17,052     52,929      Aransas  Texas          351   \n",
       "...           ...             ...        ...          ...    ...          ...   \n",
       "56730       2,481           9,221     36,299       Blanco  Texas          178   \n",
       "56731         134             514      2,987       Borden  Texas            5   \n",
       "56732       4,714          13,977     50,067       Bosque  Texas          507   \n",
       "56733      23,241          71,083    257,762        Bowie  Texas         2479   \n",
       "56734      79,296         290,904  1,124,966     Brazoria  Texas        13722   \n",
       "\n",
       "       covid_deaths  \n",
       "51670           5.0  \n",
       "51671          39.0  \n",
       "51672          10.0  \n",
       "51673          93.0  \n",
       "51674          18.0  \n",
       "...             ...  \n",
       "56730           6.0  \n",
       "56731           0.0  \n",
       "56732          15.0  \n",
       "56733          97.0  \n",
       "56734         194.0  \n",
       "\n",
       "[5065 rows x 12 columns]"
      ]
     },
     "execution_count": 41,
     "metadata": {},
     "output_type": "execute_result"
    }
   ],
   "source": [
    "trp_covid_df_filter"
   ]
  },
  {
   "cell_type": "markdown",
   "metadata": {},
   "source": [
    "# ---------------------------------------------------------------------"
   ]
  },
  {
   "cell_type": "markdown",
   "metadata": {},
   "source": [
    "## Join the Trips & COVID-19 Dataframe with the Polygon Dataframe"
   ]
  },
  {
   "cell_type": "markdown",
   "metadata": {},
   "source": [
    "# ---------------------------------------------------------------------"
   ]
  },
  {
   "cell_type": "code",
   "execution_count": null,
   "metadata": {},
   "outputs": [],
   "source": [
    "# # Filter Data on [\"State Postal Code\"] Column for \"AK\"\n",
    "# us_cnty_bndrs_df_test = us_cnty_bndrs_df_test[us_cnty_bndrs_df_test[\"state\"] == \"Texas\"]\n",
    "# us_cnty_bndrs_df_test.shape"
   ]
  },
  {
   "cell_type": "code",
   "execution_count": 38,
   "metadata": {},
   "outputs": [],
   "source": [
    "# us_cnty_bndrs_df_test.head()"
   ]
  },
  {
   "cell_type": "code",
   "execution_count": 42,
   "metadata": {
    "scrolled": false
   },
   "outputs": [
    {
     "data": {
      "text/html": [
       "<div>\n",
       "<style scoped>\n",
       "    .dataframe tbody tr th:only-of-type {\n",
       "        vertical-align: middle;\n",
       "    }\n",
       "\n",
       "    .dataframe tbody tr th {\n",
       "        vertical-align: top;\n",
       "    }\n",
       "\n",
       "    .dataframe thead th {\n",
       "        text-align: right;\n",
       "    }\n",
       "</style>\n",
       "<table border=\"1\" class=\"dataframe\">\n",
       "  <thead>\n",
       "    <tr style=\"text-align: right;\">\n",
       "      <th></th>\n",
       "      <th>date</th>\n",
       "      <th>State FIPS</th>\n",
       "      <th>state_postal_code</th>\n",
       "      <th>county_fips</th>\n",
       "      <th>county_name_county</th>\n",
       "      <th>pop_at_home</th>\n",
       "      <th>pop_not_at_home</th>\n",
       "      <th>trips</th>\n",
       "      <th>county_name</th>\n",
       "      <th>state</th>\n",
       "      <th>covid_cases</th>\n",
       "      <th>covid_deaths</th>\n",
       "    </tr>\n",
       "  </thead>\n",
       "  <tbody>\n",
       "    <tr>\n",
       "      <th>51670</th>\n",
       "      <td>2020-11-02</td>\n",
       "      <td>48.0</td>\n",
       "      <td>TX</td>\n",
       "      <td>48495.0</td>\n",
       "      <td>Winkler County</td>\n",
       "      <td>1,994</td>\n",
       "      <td>5,726</td>\n",
       "      <td>23,034</td>\n",
       "      <td>Winkler</td>\n",
       "      <td>Texas</td>\n",
       "      <td>153</td>\n",
       "      <td>5.0</td>\n",
       "    </tr>\n",
       "    <tr>\n",
       "      <th>51671</th>\n",
       "      <td>2020-11-02</td>\n",
       "      <td>48.0</td>\n",
       "      <td>TX</td>\n",
       "      <td>48001.0</td>\n",
       "      <td>Anderson County</td>\n",
       "      <td>10,765</td>\n",
       "      <td>47,292</td>\n",
       "      <td>174,643</td>\n",
       "      <td>Anderson</td>\n",
       "      <td>Texas</td>\n",
       "      <td>2979</td>\n",
       "      <td>39.0</td>\n",
       "    </tr>\n",
       "    <tr>\n",
       "      <th>51672</th>\n",
       "      <td>2020-11-02</td>\n",
       "      <td>48.0</td>\n",
       "      <td>TX</td>\n",
       "      <td>48003.0</td>\n",
       "      <td>Andrews County</td>\n",
       "      <td>4,014</td>\n",
       "      <td>14,114</td>\n",
       "      <td>54,811</td>\n",
       "      <td>Andrews</td>\n",
       "      <td>Texas</td>\n",
       "      <td>667</td>\n",
       "      <td>10.0</td>\n",
       "    </tr>\n",
       "    <tr>\n",
       "      <th>51673</th>\n",
       "      <td>2020-11-02</td>\n",
       "      <td>48.0</td>\n",
       "      <td>TX</td>\n",
       "      <td>48005.0</td>\n",
       "      <td>Angelina County</td>\n",
       "      <td>18,309</td>\n",
       "      <td>68,783</td>\n",
       "      <td>251,533</td>\n",
       "      <td>Angelina</td>\n",
       "      <td>Texas</td>\n",
       "      <td>2922</td>\n",
       "      <td>93.0</td>\n",
       "    </tr>\n",
       "    <tr>\n",
       "      <th>51674</th>\n",
       "      <td>2020-11-02</td>\n",
       "      <td>48.0</td>\n",
       "      <td>TX</td>\n",
       "      <td>48007.0</td>\n",
       "      <td>Aransas County</td>\n",
       "      <td>6,740</td>\n",
       "      <td>17,052</td>\n",
       "      <td>52,929</td>\n",
       "      <td>Aransas</td>\n",
       "      <td>Texas</td>\n",
       "      <td>351</td>\n",
       "      <td>18.0</td>\n",
       "    </tr>\n",
       "    <tr>\n",
       "      <th>...</th>\n",
       "      <td>...</td>\n",
       "      <td>...</td>\n",
       "      <td>...</td>\n",
       "      <td>...</td>\n",
       "      <td>...</td>\n",
       "      <td>...</td>\n",
       "      <td>...</td>\n",
       "      <td>...</td>\n",
       "      <td>...</td>\n",
       "      <td>...</td>\n",
       "      <td>...</td>\n",
       "      <td>...</td>\n",
       "    </tr>\n",
       "    <tr>\n",
       "      <th>56730</th>\n",
       "      <td>2020-11-21</td>\n",
       "      <td>48.0</td>\n",
       "      <td>TX</td>\n",
       "      <td>48031.0</td>\n",
       "      <td>Blanco County</td>\n",
       "      <td>2,481</td>\n",
       "      <td>9,221</td>\n",
       "      <td>36,299</td>\n",
       "      <td>Blanco</td>\n",
       "      <td>Texas</td>\n",
       "      <td>178</td>\n",
       "      <td>6.0</td>\n",
       "    </tr>\n",
       "    <tr>\n",
       "      <th>56731</th>\n",
       "      <td>2020-11-21</td>\n",
       "      <td>48.0</td>\n",
       "      <td>TX</td>\n",
       "      <td>48033.0</td>\n",
       "      <td>Borden County</td>\n",
       "      <td>134</td>\n",
       "      <td>514</td>\n",
       "      <td>2,987</td>\n",
       "      <td>Borden</td>\n",
       "      <td>Texas</td>\n",
       "      <td>5</td>\n",
       "      <td>0.0</td>\n",
       "    </tr>\n",
       "    <tr>\n",
       "      <th>56732</th>\n",
       "      <td>2020-11-21</td>\n",
       "      <td>48.0</td>\n",
       "      <td>TX</td>\n",
       "      <td>48035.0</td>\n",
       "      <td>Bosque County</td>\n",
       "      <td>4,714</td>\n",
       "      <td>13,977</td>\n",
       "      <td>50,067</td>\n",
       "      <td>Bosque</td>\n",
       "      <td>Texas</td>\n",
       "      <td>507</td>\n",
       "      <td>15.0</td>\n",
       "    </tr>\n",
       "    <tr>\n",
       "      <th>56733</th>\n",
       "      <td>2020-11-21</td>\n",
       "      <td>48.0</td>\n",
       "      <td>TX</td>\n",
       "      <td>48037.0</td>\n",
       "      <td>Bowie County</td>\n",
       "      <td>23,241</td>\n",
       "      <td>71,083</td>\n",
       "      <td>257,762</td>\n",
       "      <td>Bowie</td>\n",
       "      <td>Texas</td>\n",
       "      <td>2479</td>\n",
       "      <td>97.0</td>\n",
       "    </tr>\n",
       "    <tr>\n",
       "      <th>56734</th>\n",
       "      <td>2020-11-21</td>\n",
       "      <td>48.0</td>\n",
       "      <td>TX</td>\n",
       "      <td>48039.0</td>\n",
       "      <td>Brazoria County</td>\n",
       "      <td>79,296</td>\n",
       "      <td>290,904</td>\n",
       "      <td>1,124,966</td>\n",
       "      <td>Brazoria</td>\n",
       "      <td>Texas</td>\n",
       "      <td>13722</td>\n",
       "      <td>194.0</td>\n",
       "    </tr>\n",
       "  </tbody>\n",
       "</table>\n",
       "<p>5065 rows × 12 columns</p>\n",
       "</div>"
      ],
      "text/plain": [
       "            date  State FIPS state_postal_code  county_fips  \\\n",
       "51670 2020-11-02        48.0                TX      48495.0   \n",
       "51671 2020-11-02        48.0                TX      48001.0   \n",
       "51672 2020-11-02        48.0                TX      48003.0   \n",
       "51673 2020-11-02        48.0                TX      48005.0   \n",
       "51674 2020-11-02        48.0                TX      48007.0   \n",
       "...          ...         ...               ...          ...   \n",
       "56730 2020-11-21        48.0                TX      48031.0   \n",
       "56731 2020-11-21        48.0                TX      48033.0   \n",
       "56732 2020-11-21        48.0                TX      48035.0   \n",
       "56733 2020-11-21        48.0                TX      48037.0   \n",
       "56734 2020-11-21        48.0                TX      48039.0   \n",
       "\n",
       "      county_name_county pop_at_home pop_not_at_home      trips county_name  \\\n",
       "51670     Winkler County       1,994           5,726     23,034     Winkler   \n",
       "51671    Anderson County      10,765          47,292    174,643    Anderson   \n",
       "51672     Andrews County       4,014          14,114     54,811     Andrews   \n",
       "51673    Angelina County      18,309          68,783    251,533    Angelina   \n",
       "51674     Aransas County       6,740          17,052     52,929     Aransas   \n",
       "...                  ...         ...             ...        ...         ...   \n",
       "56730      Blanco County       2,481           9,221     36,299      Blanco   \n",
       "56731      Borden County         134             514      2,987      Borden   \n",
       "56732      Bosque County       4,714          13,977     50,067      Bosque   \n",
       "56733       Bowie County      23,241          71,083    257,762       Bowie   \n",
       "56734    Brazoria County      79,296         290,904  1,124,966    Brazoria   \n",
       "\n",
       "       state  covid_cases  covid_deaths  \n",
       "51670  Texas          153           5.0  \n",
       "51671  Texas         2979          39.0  \n",
       "51672  Texas          667          10.0  \n",
       "51673  Texas         2922          93.0  \n",
       "51674  Texas          351          18.0  \n",
       "...      ...          ...           ...  \n",
       "56730  Texas          178           6.0  \n",
       "56731  Texas            5           0.0  \n",
       "56732  Texas          507          15.0  \n",
       "56733  Texas         2479          97.0  \n",
       "56734  Texas        13722         194.0  \n",
       "\n",
       "[5065 rows x 12 columns]"
      ]
     },
     "execution_count": 42,
     "metadata": {},
     "output_type": "execute_result"
    }
   ],
   "source": [
    "# Change the Column Names\n",
    "# new_cnty_clmn_nm = \"county_name\"\n",
    "# new_cnty_cnty_clmn_nm = \"county_name_county\"\n",
    "trp_covid_df_filter = trp_covid_df_filter.rename(columns = {\"county_trps\": new_cnty_cnty_clmn_nm, \"county_covid\": new_cnty_clmn_nm})\n",
    "trp_covid_df_filter\n",
    "# nytimes_covid_19_df_test = nytimes_covid_19_df_test[[\"date_covid\", \"state_covid\", \"cases_covid\",\"deaths_covid\"]]"
   ]
  },
  {
   "cell_type": "code",
   "execution_count": 48,
   "metadata": {
    "scrolled": true
   },
   "outputs": [
    {
     "data": {
      "text/html": [
       "<div>\n",
       "<style scoped>\n",
       "    .dataframe tbody tr th:only-of-type {\n",
       "        vertical-align: middle;\n",
       "    }\n",
       "\n",
       "    .dataframe tbody tr th {\n",
       "        vertical-align: top;\n",
       "    }\n",
       "\n",
       "    .dataframe thead th {\n",
       "        text-align: right;\n",
       "    }\n",
       "</style>\n",
       "<table border=\"1\" class=\"dataframe\">\n",
       "  <thead>\n",
       "    <tr style=\"text-align: right;\">\n",
       "      <th></th>\n",
       "      <th>key_0</th>\n",
       "      <th>date</th>\n",
       "      <th>State FIPS</th>\n",
       "      <th>state_postal_code</th>\n",
       "      <th>county_fips</th>\n",
       "      <th>county_name_county</th>\n",
       "      <th>pop_at_home</th>\n",
       "      <th>pop_not_at_home</th>\n",
       "      <th>trips</th>\n",
       "      <th>county_name</th>\n",
       "      <th>state</th>\n",
       "      <th>covid_cases</th>\n",
       "      <th>covid_deaths</th>\n",
       "      <th>XCoord</th>\n",
       "      <th>YCoord</th>\n",
       "      <th>CNAME</th>\n",
       "    </tr>\n",
       "  </thead>\n",
       "  <tbody>\n",
       "    <tr>\n",
       "      <th>0</th>\n",
       "      <td>winkler</td>\n",
       "      <td>2020-11-02</td>\n",
       "      <td>48.0</td>\n",
       "      <td>TX</td>\n",
       "      <td>48495.0</td>\n",
       "      <td>Winkler County</td>\n",
       "      <td>1,994</td>\n",
       "      <td>5,726</td>\n",
       "      <td>23,034</td>\n",
       "      <td>Winkler</td>\n",
       "      <td>Texas</td>\n",
       "      <td>153</td>\n",
       "      <td>5.0</td>\n",
       "      <td>-103.04717</td>\n",
       "      <td>31.849929</td>\n",
       "      <td>WINKLER</td>\n",
       "    </tr>\n",
       "    <tr>\n",
       "      <th>1</th>\n",
       "      <td>winkler</td>\n",
       "      <td>2020-11-03</td>\n",
       "      <td>48.0</td>\n",
       "      <td>TX</td>\n",
       "      <td>48495.0</td>\n",
       "      <td>Winkler County</td>\n",
       "      <td>1,568</td>\n",
       "      <td>6,152</td>\n",
       "      <td>27,728</td>\n",
       "      <td>Winkler</td>\n",
       "      <td>Texas</td>\n",
       "      <td>153</td>\n",
       "      <td>5.0</td>\n",
       "      <td>-103.04717</td>\n",
       "      <td>31.849929</td>\n",
       "      <td>WINKLER</td>\n",
       "    </tr>\n",
       "    <tr>\n",
       "      <th>2</th>\n",
       "      <td>winkler</td>\n",
       "      <td>2020-11-04</td>\n",
       "      <td>48.0</td>\n",
       "      <td>TX</td>\n",
       "      <td>48495.0</td>\n",
       "      <td>Winkler County</td>\n",
       "      <td>1,749</td>\n",
       "      <td>5,971</td>\n",
       "      <td>29,207</td>\n",
       "      <td>Winkler</td>\n",
       "      <td>Texas</td>\n",
       "      <td>154</td>\n",
       "      <td>5.0</td>\n",
       "      <td>-103.04717</td>\n",
       "      <td>31.849929</td>\n",
       "      <td>WINKLER</td>\n",
       "    </tr>\n",
       "    <tr>\n",
       "      <th>3</th>\n",
       "      <td>winkler</td>\n",
       "      <td>2020-11-05</td>\n",
       "      <td>48.0</td>\n",
       "      <td>TX</td>\n",
       "      <td>48495.0</td>\n",
       "      <td>Winkler County</td>\n",
       "      <td>1,616</td>\n",
       "      <td>6,104</td>\n",
       "      <td>20,760</td>\n",
       "      <td>Winkler</td>\n",
       "      <td>Texas</td>\n",
       "      <td>161</td>\n",
       "      <td>5.0</td>\n",
       "      <td>-103.04717</td>\n",
       "      <td>31.849929</td>\n",
       "      <td>WINKLER</td>\n",
       "    </tr>\n",
       "    <tr>\n",
       "      <th>4</th>\n",
       "      <td>winkler</td>\n",
       "      <td>2020-11-06</td>\n",
       "      <td>48.0</td>\n",
       "      <td>TX</td>\n",
       "      <td>48495.0</td>\n",
       "      <td>Winkler County</td>\n",
       "      <td>1,817</td>\n",
       "      <td>5,903</td>\n",
       "      <td>22,690</td>\n",
       "      <td>Winkler</td>\n",
       "      <td>Texas</td>\n",
       "      <td>161</td>\n",
       "      <td>5.0</td>\n",
       "      <td>-103.04717</td>\n",
       "      <td>31.849929</td>\n",
       "      <td>WINKLER</td>\n",
       "    </tr>\n",
       "    <tr>\n",
       "      <th>...</th>\n",
       "      <td>...</td>\n",
       "      <td>...</td>\n",
       "      <td>...</td>\n",
       "      <td>...</td>\n",
       "      <td>...</td>\n",
       "      <td>...</td>\n",
       "      <td>...</td>\n",
       "      <td>...</td>\n",
       "      <td>...</td>\n",
       "      <td>...</td>\n",
       "      <td>...</td>\n",
       "      <td>...</td>\n",
       "      <td>...</td>\n",
       "      <td>...</td>\n",
       "      <td>...</td>\n",
       "      <td>...</td>\n",
       "    </tr>\n",
       "    <tr>\n",
       "      <th>5020</th>\n",
       "      <td>loving</td>\n",
       "      <td>2020-11-17</td>\n",
       "      <td>48.0</td>\n",
       "      <td>TX</td>\n",
       "      <td>48301.0</td>\n",
       "      <td>Loving County</td>\n",
       "      <td>16</td>\n",
       "      <td>136</td>\n",
       "      <td>507</td>\n",
       "      <td>Loving</td>\n",
       "      <td>Texas</td>\n",
       "      <td>1</td>\n",
       "      <td>0.0</td>\n",
       "      <td>-103.57810</td>\n",
       "      <td>31.848756</td>\n",
       "      <td>LOVING</td>\n",
       "    </tr>\n",
       "    <tr>\n",
       "      <th>5021</th>\n",
       "      <td>loving</td>\n",
       "      <td>2020-11-18</td>\n",
       "      <td>48.0</td>\n",
       "      <td>TX</td>\n",
       "      <td>48301.0</td>\n",
       "      <td>Loving County</td>\n",
       "      <td>21</td>\n",
       "      <td>131</td>\n",
       "      <td>406</td>\n",
       "      <td>Loving</td>\n",
       "      <td>Texas</td>\n",
       "      <td>1</td>\n",
       "      <td>0.0</td>\n",
       "      <td>-103.57810</td>\n",
       "      <td>31.848756</td>\n",
       "      <td>LOVING</td>\n",
       "    </tr>\n",
       "    <tr>\n",
       "      <th>5022</th>\n",
       "      <td>loving</td>\n",
       "      <td>2020-11-19</td>\n",
       "      <td>48.0</td>\n",
       "      <td>TX</td>\n",
       "      <td>48301.0</td>\n",
       "      <td>Loving County</td>\n",
       "      <td>22</td>\n",
       "      <td>130</td>\n",
       "      <td>470</td>\n",
       "      <td>Loving</td>\n",
       "      <td>Texas</td>\n",
       "      <td>1</td>\n",
       "      <td>0.0</td>\n",
       "      <td>-103.57810</td>\n",
       "      <td>31.848756</td>\n",
       "      <td>LOVING</td>\n",
       "    </tr>\n",
       "    <tr>\n",
       "      <th>5023</th>\n",
       "      <td>loving</td>\n",
       "      <td>2020-11-20</td>\n",
       "      <td>48.0</td>\n",
       "      <td>TX</td>\n",
       "      <td>48301.0</td>\n",
       "      <td>Loving County</td>\n",
       "      <td>21</td>\n",
       "      <td>131</td>\n",
       "      <td>412</td>\n",
       "      <td>Loving</td>\n",
       "      <td>Texas</td>\n",
       "      <td>1</td>\n",
       "      <td>0.0</td>\n",
       "      <td>-103.57810</td>\n",
       "      <td>31.848756</td>\n",
       "      <td>LOVING</td>\n",
       "    </tr>\n",
       "    <tr>\n",
       "      <th>5024</th>\n",
       "      <td>loving</td>\n",
       "      <td>2020-11-21</td>\n",
       "      <td>48.0</td>\n",
       "      <td>TX</td>\n",
       "      <td>48301.0</td>\n",
       "      <td>Loving County</td>\n",
       "      <td>22</td>\n",
       "      <td>130</td>\n",
       "      <td>413</td>\n",
       "      <td>Loving</td>\n",
       "      <td>Texas</td>\n",
       "      <td>1</td>\n",
       "      <td>0.0</td>\n",
       "      <td>-103.57810</td>\n",
       "      <td>31.848756</td>\n",
       "      <td>LOVING</td>\n",
       "    </tr>\n",
       "  </tbody>\n",
       "</table>\n",
       "<p>5025 rows × 16 columns</p>\n",
       "</div>"
      ],
      "text/plain": [
       "        key_0       date  State FIPS state_postal_code  county_fips  \\\n",
       "0     winkler 2020-11-02        48.0                TX      48495.0   \n",
       "1     winkler 2020-11-03        48.0                TX      48495.0   \n",
       "2     winkler 2020-11-04        48.0                TX      48495.0   \n",
       "3     winkler 2020-11-05        48.0                TX      48495.0   \n",
       "4     winkler 2020-11-06        48.0                TX      48495.0   \n",
       "...       ...        ...         ...               ...          ...   \n",
       "5020   loving 2020-11-17        48.0                TX      48301.0   \n",
       "5021   loving 2020-11-18        48.0                TX      48301.0   \n",
       "5022   loving 2020-11-19        48.0                TX      48301.0   \n",
       "5023   loving 2020-11-20        48.0                TX      48301.0   \n",
       "5024   loving 2020-11-21        48.0                TX      48301.0   \n",
       "\n",
       "     county_name_county pop_at_home pop_not_at_home   trips county_name  \\\n",
       "0        Winkler County       1,994           5,726  23,034     Winkler   \n",
       "1        Winkler County       1,568           6,152  27,728     Winkler   \n",
       "2        Winkler County       1,749           5,971  29,207     Winkler   \n",
       "3        Winkler County       1,616           6,104  20,760     Winkler   \n",
       "4        Winkler County       1,817           5,903  22,690     Winkler   \n",
       "...                 ...         ...             ...     ...         ...   \n",
       "5020      Loving County          16             136     507      Loving   \n",
       "5021      Loving County          21             131     406      Loving   \n",
       "5022      Loving County          22             130     470      Loving   \n",
       "5023      Loving County          21             131     412      Loving   \n",
       "5024      Loving County          22             130     413      Loving   \n",
       "\n",
       "      state  covid_cases  covid_deaths     XCoord     YCoord    CNAME  \n",
       "0     Texas          153           5.0 -103.04717  31.849929  WINKLER  \n",
       "1     Texas          153           5.0 -103.04717  31.849929  WINKLER  \n",
       "2     Texas          154           5.0 -103.04717  31.849929  WINKLER  \n",
       "3     Texas          161           5.0 -103.04717  31.849929  WINKLER  \n",
       "4     Texas          161           5.0 -103.04717  31.849929  WINKLER  \n",
       "...     ...          ...           ...        ...        ...      ...  \n",
       "5020  Texas            1           0.0 -103.57810  31.848756   LOVING  \n",
       "5021  Texas            1           0.0 -103.57810  31.848756   LOVING  \n",
       "5022  Texas            1           0.0 -103.57810  31.848756   LOVING  \n",
       "5023  Texas            1           0.0 -103.57810  31.848756   LOVING  \n",
       "5024  Texas            1           0.0 -103.57810  31.848756   LOVING  \n",
       "\n",
       "[5025 rows x 16 columns]"
      ]
     },
     "execution_count": 48,
     "metadata": {},
     "output_type": "execute_result"
    }
   ],
   "source": [
    "trp_covid_cnty_cntr_merged = pd.merge(trp_covid_df_filter, tx_cnty_cntrs_df, left_on=trp_covid_df_filter[\"county_name\"].str.lower(), right_on=tx_cnty_cntrs_df[\"CNAME\"].str.lower(), how=\"inner\")\n",
    "trp_covid_cnty_cntr_merged\n",
    "# trp_covid_geo_poly_df = pd.merge(trp_covid_df_filter, us_cnty_bndrs_df_test, on = new_cnty_clmn_nm, suffixes=(\"_trps_covid\", \"_cnty_bndrs\"))"
   ]
  },
  {
   "cell_type": "code",
   "execution_count": null,
   "metadata": {},
   "outputs": [],
   "source": [
    "# # new_cnty_fips_clmn_nm\n",
    "# trp_covid_geo_poly_df = pd.merge(trp_covid_df_filter, us_cnty_bndrs_df_test, on = new_cnty_clmn_nm, suffixes=(\"_trps_covid\", \"_cnty_bndrs\"))"
   ]
  },
  {
   "cell_type": "code",
   "execution_count": null,
   "metadata": {},
   "outputs": [],
   "source": [
    "print(trp_covid_geo_poly_df.shape)\n",
    "trp_covid_geo_poly_df.head()"
   ]
  },
  {
   "cell_type": "code",
   "execution_count": 51,
   "metadata": {
    "scrolled": false
   },
   "outputs": [
    {
     "data": {
      "text/html": [
       "<div>\n",
       "<style scoped>\n",
       "    .dataframe tbody tr th:only-of-type {\n",
       "        vertical-align: middle;\n",
       "    }\n",
       "\n",
       "    .dataframe tbody tr th {\n",
       "        vertical-align: top;\n",
       "    }\n",
       "\n",
       "    .dataframe thead th {\n",
       "        text-align: right;\n",
       "    }\n",
       "</style>\n",
       "<table border=\"1\" class=\"dataframe\">\n",
       "  <thead>\n",
       "    <tr style=\"text-align: right;\">\n",
       "      <th></th>\n",
       "      <th>date</th>\n",
       "      <th>state_postal_code</th>\n",
       "      <th>county_name_county</th>\n",
       "      <th>pop_at_home</th>\n",
       "      <th>pop_not_at_home</th>\n",
       "      <th>trips</th>\n",
       "      <th>county_name</th>\n",
       "      <th>covid_cases</th>\n",
       "      <th>covid_deaths</th>\n",
       "      <th>XCoord</th>\n",
       "      <th>YCoord</th>\n",
       "    </tr>\n",
       "  </thead>\n",
       "  <tbody>\n",
       "    <tr>\n",
       "      <th>0</th>\n",
       "      <td>2020-11-02</td>\n",
       "      <td>TX</td>\n",
       "      <td>Winkler County</td>\n",
       "      <td>1,994</td>\n",
       "      <td>5,726</td>\n",
       "      <td>23,034</td>\n",
       "      <td>Winkler</td>\n",
       "      <td>153</td>\n",
       "      <td>5.0</td>\n",
       "      <td>-103.04717</td>\n",
       "      <td>31.849929</td>\n",
       "    </tr>\n",
       "    <tr>\n",
       "      <th>1</th>\n",
       "      <td>2020-11-03</td>\n",
       "      <td>TX</td>\n",
       "      <td>Winkler County</td>\n",
       "      <td>1,568</td>\n",
       "      <td>6,152</td>\n",
       "      <td>27,728</td>\n",
       "      <td>Winkler</td>\n",
       "      <td>153</td>\n",
       "      <td>5.0</td>\n",
       "      <td>-103.04717</td>\n",
       "      <td>31.849929</td>\n",
       "    </tr>\n",
       "    <tr>\n",
       "      <th>2</th>\n",
       "      <td>2020-11-04</td>\n",
       "      <td>TX</td>\n",
       "      <td>Winkler County</td>\n",
       "      <td>1,749</td>\n",
       "      <td>5,971</td>\n",
       "      <td>29,207</td>\n",
       "      <td>Winkler</td>\n",
       "      <td>154</td>\n",
       "      <td>5.0</td>\n",
       "      <td>-103.04717</td>\n",
       "      <td>31.849929</td>\n",
       "    </tr>\n",
       "    <tr>\n",
       "      <th>3</th>\n",
       "      <td>2020-11-05</td>\n",
       "      <td>TX</td>\n",
       "      <td>Winkler County</td>\n",
       "      <td>1,616</td>\n",
       "      <td>6,104</td>\n",
       "      <td>20,760</td>\n",
       "      <td>Winkler</td>\n",
       "      <td>161</td>\n",
       "      <td>5.0</td>\n",
       "      <td>-103.04717</td>\n",
       "      <td>31.849929</td>\n",
       "    </tr>\n",
       "    <tr>\n",
       "      <th>4</th>\n",
       "      <td>2020-11-06</td>\n",
       "      <td>TX</td>\n",
       "      <td>Winkler County</td>\n",
       "      <td>1,817</td>\n",
       "      <td>5,903</td>\n",
       "      <td>22,690</td>\n",
       "      <td>Winkler</td>\n",
       "      <td>161</td>\n",
       "      <td>5.0</td>\n",
       "      <td>-103.04717</td>\n",
       "      <td>31.849929</td>\n",
       "    </tr>\n",
       "  </tbody>\n",
       "</table>\n",
       "</div>"
      ],
      "text/plain": [
       "        date state_postal_code county_name_county pop_at_home pop_not_at_home  \\\n",
       "0 2020-11-02                TX     Winkler County       1,994           5,726   \n",
       "1 2020-11-03                TX     Winkler County       1,568           6,152   \n",
       "2 2020-11-04                TX     Winkler County       1,749           5,971   \n",
       "3 2020-11-05                TX     Winkler County       1,616           6,104   \n",
       "4 2020-11-06                TX     Winkler County       1,817           5,903   \n",
       "\n",
       "    trips county_name  covid_cases  covid_deaths     XCoord     YCoord  \n",
       "0  23,034     Winkler          153           5.0 -103.04717  31.849929  \n",
       "1  27,728     Winkler          153           5.0 -103.04717  31.849929  \n",
       "2  29,207     Winkler          154           5.0 -103.04717  31.849929  \n",
       "3  20,760     Winkler          161           5.0 -103.04717  31.849929  \n",
       "4  22,690     Winkler          161           5.0 -103.04717  31.849929  "
      ]
     },
     "execution_count": 51,
     "metadata": {},
     "output_type": "execute_result"
    }
   ],
   "source": [
    "trp_covid_cnty_cntr_merged = trp_covid_cnty_cntr_merged[[\"date\", \"state_postal_code\", \"county_name_county\", \"pop_at_home\",\"pop_not_at_home\", \"trips\", \"county_name\", \"covid_cases\", \"covid_deaths\", \"XCoord\", \"YCoord\"]]\n",
    "trp_covid_cnty_cntr_merged.head()"
   ]
  },
  {
   "cell_type": "code",
   "execution_count": 53,
   "metadata": {
    "scrolled": false
   },
   "outputs": [
    {
     "name": "stdout",
     "output_type": "stream",
     "text": [
      "(5025, 11)\n"
     ]
    },
    {
     "data": {
      "text/plain": [
       "Index(['date', 'state_postal_code', 'county_name_county', 'pop_at_home',\n",
       "       'pop_not_at_home', 'trips', 'county_name', 'covid_cases',\n",
       "       'covid_deaths', 'longitude', 'latitude'],\n",
       "      dtype='object')"
      ]
     },
     "execution_count": 53,
     "metadata": {},
     "output_type": "execute_result"
    }
   ],
   "source": [
    "# bts_gov_trps_df_test = bts_gov_trps_df.rename(columns = {\"Date\": new_date_clmn_nm, \"State Postal Code\": new_st_pstl_code_clmn_nm, \"County FIPS\": new_cnty_fips_clmn_nm, \"County Name\": new_cnty_clmn_nm, \"Population Staying at Home\": new_pop_at_hm_clmn_nm, \"Population Not Staying at Home\": new_pop_not_at_hm_clmn_nm,\"Number of Trips\": new_nmbr_trps_clmn_nm})\n",
    "trp_covid_cnty_cntr_merged = trp_covid_cnty_cntr_merged.rename(columns = {\"XCoord\": \"longitude\", \"YCoord\": \"latitude\"})\n",
    "print(trp_covid_cnty_cntr_merged.shape)\n",
    "trp_covid_cnty_cntr_merged.keys()"
   ]
  },
  {
   "cell_type": "code",
   "execution_count": null,
   "metadata": {},
   "outputs": [],
   "source": [
    "# trp_covid_geo_poly_df = trp_covid_geo_poly_df[[\"date\", \"state_postal_code_trps_covid\", \"county\", \"county_covid\",\"pop_at_home\", \"pop_not_at_home\", \"trips\", \"state_trps_covid\", \"covid_cases\", \"covid_deaths\", \"geometry\"]]\n",
    "# trp_covid_geo_poly_df.head()"
   ]
  },
  {
   "cell_type": "code",
   "execution_count": null,
   "metadata": {
    "scrolled": false
   },
   "outputs": [],
   "source": [
    "# # bts_gov_trps_df_test = bts_gov_trps_df.rename(columns = {\"Date\": new_date_clmn_nm, \"State Postal Code\": new_st_pstl_code_clmn_nm, \"County FIPS\": new_cnty_fips_clmn_nm, \"County Name\": new_cnty_clmn_nm, \"Population Staying at Home\": new_pop_at_hm_clmn_nm, \"Population Not Staying at Home\": new_pop_not_at_hm_clmn_nm,\"Number of Trips\": new_nmbr_trps_clmn_nm})\n",
    "# trp_covid_geo_poly_df = trp_covid_geo_poly_df.rename(columns = {\"date\": new_date_clmn_nm, \"state_postal_code_trps_covid\": new_st_pstl_code_clmn_nm, \"state_trps_covid\": new_st_clmn_nm})\n",
    "# trp_covid_geo_poly_df.keys()"
   ]
  },
  {
   "cell_type": "markdown",
   "metadata": {},
   "source": [
    "# ---------------------------------------------------------------------"
   ]
  },
  {
   "cell_type": "markdown",
   "metadata": {},
   "source": [
    "#### Remove the Commas in the [clmns_to_cnvrt_null_vls_to_0] Columns Array in the State Level Dataframe"
   ]
  },
  {
   "cell_type": "markdown",
   "metadata": {},
   "source": [
    "# ---------------------------------------------------------------------"
   ]
  },
  {
   "cell_type": "code",
   "execution_count": 54,
   "metadata": {
    "scrolled": true
   },
   "outputs": [
    {
     "data": {
      "text/html": [
       "<div>\n",
       "<style scoped>\n",
       "    .dataframe tbody tr th:only-of-type {\n",
       "        vertical-align: middle;\n",
       "    }\n",
       "\n",
       "    .dataframe tbody tr th {\n",
       "        vertical-align: top;\n",
       "    }\n",
       "\n",
       "    .dataframe thead th {\n",
       "        text-align: right;\n",
       "    }\n",
       "</style>\n",
       "<table border=\"1\" class=\"dataframe\">\n",
       "  <thead>\n",
       "    <tr style=\"text-align: right;\">\n",
       "      <th></th>\n",
       "      <th>date</th>\n",
       "      <th>state_postal_code</th>\n",
       "      <th>county_name_county</th>\n",
       "      <th>pop_at_home</th>\n",
       "      <th>pop_not_at_home</th>\n",
       "      <th>trips</th>\n",
       "      <th>county_name</th>\n",
       "      <th>covid_cases</th>\n",
       "      <th>covid_deaths</th>\n",
       "      <th>longitude</th>\n",
       "      <th>latitude</th>\n",
       "    </tr>\n",
       "  </thead>\n",
       "  <tbody>\n",
       "    <tr>\n",
       "      <th>0</th>\n",
       "      <td>2020-11-02</td>\n",
       "      <td>TX</td>\n",
       "      <td>Winkler County</td>\n",
       "      <td>1994</td>\n",
       "      <td>5726</td>\n",
       "      <td>23034</td>\n",
       "      <td>Winkler</td>\n",
       "      <td>153</td>\n",
       "      <td>5.0</td>\n",
       "      <td>-103.04717</td>\n",
       "      <td>31.849929</td>\n",
       "    </tr>\n",
       "    <tr>\n",
       "      <th>1</th>\n",
       "      <td>2020-11-03</td>\n",
       "      <td>TX</td>\n",
       "      <td>Winkler County</td>\n",
       "      <td>1568</td>\n",
       "      <td>6152</td>\n",
       "      <td>27728</td>\n",
       "      <td>Winkler</td>\n",
       "      <td>153</td>\n",
       "      <td>5.0</td>\n",
       "      <td>-103.04717</td>\n",
       "      <td>31.849929</td>\n",
       "    </tr>\n",
       "    <tr>\n",
       "      <th>2</th>\n",
       "      <td>2020-11-04</td>\n",
       "      <td>TX</td>\n",
       "      <td>Winkler County</td>\n",
       "      <td>1749</td>\n",
       "      <td>5971</td>\n",
       "      <td>29207</td>\n",
       "      <td>Winkler</td>\n",
       "      <td>154</td>\n",
       "      <td>5.0</td>\n",
       "      <td>-103.04717</td>\n",
       "      <td>31.849929</td>\n",
       "    </tr>\n",
       "    <tr>\n",
       "      <th>3</th>\n",
       "      <td>2020-11-05</td>\n",
       "      <td>TX</td>\n",
       "      <td>Winkler County</td>\n",
       "      <td>1616</td>\n",
       "      <td>6104</td>\n",
       "      <td>20760</td>\n",
       "      <td>Winkler</td>\n",
       "      <td>161</td>\n",
       "      <td>5.0</td>\n",
       "      <td>-103.04717</td>\n",
       "      <td>31.849929</td>\n",
       "    </tr>\n",
       "    <tr>\n",
       "      <th>4</th>\n",
       "      <td>2020-11-06</td>\n",
       "      <td>TX</td>\n",
       "      <td>Winkler County</td>\n",
       "      <td>1817</td>\n",
       "      <td>5903</td>\n",
       "      <td>22690</td>\n",
       "      <td>Winkler</td>\n",
       "      <td>161</td>\n",
       "      <td>5.0</td>\n",
       "      <td>-103.04717</td>\n",
       "      <td>31.849929</td>\n",
       "    </tr>\n",
       "  </tbody>\n",
       "</table>\n",
       "</div>"
      ],
      "text/plain": [
       "        date state_postal_code county_name_county pop_at_home pop_not_at_home  \\\n",
       "0 2020-11-02                TX     Winkler County        1994            5726   \n",
       "1 2020-11-03                TX     Winkler County        1568            6152   \n",
       "2 2020-11-04                TX     Winkler County        1749            5971   \n",
       "3 2020-11-05                TX     Winkler County        1616            6104   \n",
       "4 2020-11-06                TX     Winkler County        1817            5903   \n",
       "\n",
       "   trips county_name  covid_cases  covid_deaths  longitude   latitude  \n",
       "0  23034     Winkler          153           5.0 -103.04717  31.849929  \n",
       "1  27728     Winkler          153           5.0 -103.04717  31.849929  \n",
       "2  29207     Winkler          154           5.0 -103.04717  31.849929  \n",
       "3  20760     Winkler          161           5.0 -103.04717  31.849929  \n",
       "4  22690     Winkler          161           5.0 -103.04717  31.849929  "
      ]
     },
     "execution_count": 54,
     "metadata": {},
     "output_type": "execute_result"
    }
   ],
   "source": [
    "# Remove the Commas from the [clmns_to_cnvrt_null_vls_to_0] Array.\n",
    "clmns_to_cnvrt_to_int64 = ['pop_at_home', 'pop_not_at_home','trips']\n",
    "trp_covid_cnty_cntr_merged_no_cmms = trp_covid_cnty_cntr_merged\n",
    "trp_covid_cnty_cntr_merged_no_cmms[clmns_to_cnvrt_to_int64] = trp_covid_cnty_cntr_merged_no_cmms[clmns_to_cnvrt_to_int64].replace(',','', regex=True)\n",
    "trp_covid_cnty_cntr_merged_no_cmms.head()"
   ]
  },
  {
   "cell_type": "code",
   "execution_count": null,
   "metadata": {
    "scrolled": true
   },
   "outputs": [],
   "source": [
    "# # Remove the Commas from the [clmns_to_cnvrt_null_vls_to_0] Array.\n",
    "# clmns_to_cnvrt_to_int64 = ['pop_at_home', 'pop_not_at_home','trips']\n",
    "# trp_covid_geo_poly_df_no_cmms = trp_covid_geo_poly_df\n",
    "# trp_covid_geo_poly_df_no_cmms[clmns_to_cnvrt_to_int64] = trp_covid_geo_poly_df_no_cmms[clmns_to_cnvrt_to_int64].replace(',','', regex=True)\n",
    "# trp_covid_geo_poly_df_no_cmms"
   ]
  },
  {
   "cell_type": "code",
   "execution_count": null,
   "metadata": {},
   "outputs": [],
   "source": [
    "# View Data Types\n",
    "trp_covid_geo_poly_df_no_cmms.dtypes"
   ]
  },
  {
   "cell_type": "code",
   "execution_count": 56,
   "metadata": {},
   "outputs": [
    {
     "data": {
      "text/plain": [
       "date                  datetime64[ns]\n",
       "state_postal_code             object\n",
       "county_name_county            object\n",
       "pop_at_home                    int64\n",
       "pop_not_at_home                int64\n",
       "trips                          int64\n",
       "county_name                   object\n",
       "covid_cases                    int64\n",
       "covid_deaths                 float64\n",
       "longitude                    float64\n",
       "latitude                     float64\n",
       "dtype: object"
      ]
     },
     "execution_count": 56,
     "metadata": {},
     "output_type": "execute_result"
    }
   ],
   "source": [
    "# Change the Data Type of the Columns in the [clmns_to_cnvrt_null_vls_to_0] Array from a String to a int64\n",
    "trp_covid_cnty_cntr_merged_no_cmms_int64 = trp_covid_cnty_cntr_merged_no_cmms\n",
    "trp_covid_cnty_cntr_merged_no_cmms_int64[clmns_to_cnvrt_to_int64] = trp_covid_cnty_cntr_merged_no_cmms_int64[clmns_to_cnvrt_to_int64].astype(\"int64\")\n",
    "trp_covid_cnty_cntr_merged_no_cmms_int64.dtypes"
   ]
  },
  {
   "cell_type": "code",
   "execution_count": null,
   "metadata": {},
   "outputs": [],
   "source": [
    "# # Change the Data Type of the Columns in the [clmns_to_cnvrt_null_vls_to_0] Array from a String to a int64\n",
    "# trp_covid_geo_poly_df_no_cmms_int64 = trp_covid_geo_poly_df_no_cmms\n",
    "# trp_covid_geo_poly_df_no_cmms_int64[clmns_to_cnvrt_to_int64] = trp_covid_geo_poly_df_no_cmms[clmns_to_cnvrt_to_int64].astype(\"int64\")"
   ]
  },
  {
   "cell_type": "code",
   "execution_count": 71,
   "metadata": {},
   "outputs": [
    {
     "data": {
      "text/plain": [
       "date                  datetime64[ns]\n",
       "state_postal_code             object\n",
       "county_name_county            object\n",
       "pop_at_home                    int64\n",
       "pop_not_at_home                int64\n",
       "trips                          int64\n",
       "county_name                   object\n",
       "covid_cases                    int64\n",
       "covid_deaths                   int64\n",
       "longitude                    float64\n",
       "latitude                     float64\n",
       "dtype: object"
      ]
     },
     "execution_count": 71,
     "metadata": {},
     "output_type": "execute_result"
    }
   ],
   "source": [
    "# Change the Data Type of the Columns in the [clmns_to_cnvrt_null_vls_to_0] Array from a String to a int64\n",
    "# trp_covid_cnty_cntr_merged_no_cmms_int64 = trp_covid_geo_poly_df_no_cmms\n",
    "trp_covid_cnty_cntr_merged_no_cmms_int64[\"covid_deaths\"] = trp_covid_cnty_cntr_merged_no_cmms_int64[\"covid_deaths\"].astype(\"int64\")\n",
    "trp_covid_cnty_cntr_merged_no_cmms_int64.dtypes"
   ]
  },
  {
   "cell_type": "code",
   "execution_count": null,
   "metadata": {},
   "outputs": [],
   "source": [
    "# # Change the Data Type of the Columns in the [clmns_to_cnvrt_null_vls_to_0] Array from a String to a int64\n",
    "# trp_covid_geo_poly_df_no_cmms_int64 = trp_covid_geo_poly_df_no_cmms\n",
    "# trp_covid_geo_poly_df_no_cmms_int64[\"covid_deaths\"] = trp_covid_geo_poly_df_no_cmms[\"covid_deaths\"].astype(\"int64\")"
   ]
  },
  {
   "cell_type": "code",
   "execution_count": 72,
   "metadata": {
    "scrolled": true
   },
   "outputs": [
    {
     "data": {
      "text/html": [
       "<div>\n",
       "<style scoped>\n",
       "    .dataframe tbody tr th:only-of-type {\n",
       "        vertical-align: middle;\n",
       "    }\n",
       "\n",
       "    .dataframe tbody tr th {\n",
       "        vertical-align: top;\n",
       "    }\n",
       "\n",
       "    .dataframe thead th {\n",
       "        text-align: right;\n",
       "    }\n",
       "</style>\n",
       "<table border=\"1\" class=\"dataframe\">\n",
       "  <thead>\n",
       "    <tr style=\"text-align: right;\">\n",
       "      <th></th>\n",
       "      <th>county_name_county</th>\n",
       "      <th>pop_at_home</th>\n",
       "      <th>pop_not_at_home</th>\n",
       "      <th>trips</th>\n",
       "      <th>covid_cases</th>\n",
       "      <th>covid_deaths</th>\n",
       "      <th>longitude</th>\n",
       "      <th>latitude</th>\n",
       "    </tr>\n",
       "  </thead>\n",
       "  <tbody>\n",
       "    <tr>\n",
       "      <th>0</th>\n",
       "      <td>Anderson County</td>\n",
       "      <td>223392</td>\n",
       "      <td>937748</td>\n",
       "      <td>3516302</td>\n",
       "      <td>60802</td>\n",
       "      <td>856</td>\n",
       "      <td>-95.652315</td>\n",
       "      <td>31.813202</td>\n",
       "    </tr>\n",
       "    <tr>\n",
       "      <th>1</th>\n",
       "      <td>Andrews County</td>\n",
       "      <td>91115</td>\n",
       "      <td>271445</td>\n",
       "      <td>1118513</td>\n",
       "      <td>16138</td>\n",
       "      <td>226</td>\n",
       "      <td>-102.637310</td>\n",
       "      <td>32.304938</td>\n",
       "    </tr>\n",
       "    <tr>\n",
       "      <th>2</th>\n",
       "      <td>Angelina County</td>\n",
       "      <td>380856</td>\n",
       "      <td>1360984</td>\n",
       "      <td>5329014</td>\n",
       "      <td>63039</td>\n",
       "      <td>1885</td>\n",
       "      <td>-94.611708</td>\n",
       "      <td>31.254821</td>\n",
       "    </tr>\n",
       "    <tr>\n",
       "      <th>3</th>\n",
       "      <td>Aransas County</td>\n",
       "      <td>133564</td>\n",
       "      <td>342276</td>\n",
       "      <td>1272668</td>\n",
       "      <td>7336</td>\n",
       "      <td>360</td>\n",
       "      <td>-96.998991</td>\n",
       "      <td>28.106930</td>\n",
       "    </tr>\n",
       "    <tr>\n",
       "      <th>4</th>\n",
       "      <td>Archer County</td>\n",
       "      <td>44140</td>\n",
       "      <td>131580</td>\n",
       "      <td>604178</td>\n",
       "      <td>3791</td>\n",
       "      <td>27</td>\n",
       "      <td>-98.687025</td>\n",
       "      <td>33.615379</td>\n",
       "    </tr>\n",
       "    <tr>\n",
       "      <th>...</th>\n",
       "      <td>...</td>\n",
       "      <td>...</td>\n",
       "      <td>...</td>\n",
       "      <td>...</td>\n",
       "      <td>...</td>\n",
       "      <td>...</td>\n",
       "      <td>...</td>\n",
       "      <td>...</td>\n",
       "    </tr>\n",
       "    <tr>\n",
       "      <th>247</th>\n",
       "      <td>Wood County</td>\n",
       "      <td>224972</td>\n",
       "      <td>677608</td>\n",
       "      <td>2353243</td>\n",
       "      <td>14926</td>\n",
       "      <td>881</td>\n",
       "      <td>-95.381974</td>\n",
       "      <td>32.786302</td>\n",
       "    </tr>\n",
       "    <tr>\n",
       "      <th>248</th>\n",
       "      <td>Yoakum County</td>\n",
       "      <td>43995</td>\n",
       "      <td>127825</td>\n",
       "      <td>580289</td>\n",
       "      <td>9418</td>\n",
       "      <td>184</td>\n",
       "      <td>-102.827502</td>\n",
       "      <td>33.172896</td>\n",
       "    </tr>\n",
       "    <tr>\n",
       "      <th>249</th>\n",
       "      <td>Young County</td>\n",
       "      <td>116510</td>\n",
       "      <td>244390</td>\n",
       "      <td>1034381</td>\n",
       "      <td>14189</td>\n",
       "      <td>285</td>\n",
       "      <td>-98.687972</td>\n",
       "      <td>33.176706</td>\n",
       "    </tr>\n",
       "    <tr>\n",
       "      <th>250</th>\n",
       "      <td>Zapata County</td>\n",
       "      <td>63250</td>\n",
       "      <td>220550</td>\n",
       "      <td>868278</td>\n",
       "      <td>7844</td>\n",
       "      <td>180</td>\n",
       "      <td>-99.168378</td>\n",
       "      <td>27.000585</td>\n",
       "    </tr>\n",
       "    <tr>\n",
       "      <th>251</th>\n",
       "      <td>Zavala County</td>\n",
       "      <td>68170</td>\n",
       "      <td>171490</td>\n",
       "      <td>700830</td>\n",
       "      <td>11920</td>\n",
       "      <td>402</td>\n",
       "      <td>-99.760190</td>\n",
       "      <td>28.866412</td>\n",
       "    </tr>\n",
       "  </tbody>\n",
       "</table>\n",
       "<p>252 rows × 8 columns</p>\n",
       "</div>"
      ],
      "text/plain": [
       "    county_name_county  pop_at_home  pop_not_at_home    trips  covid_cases  \\\n",
       "0      Anderson County       223392           937748  3516302        60802   \n",
       "1       Andrews County        91115           271445  1118513        16138   \n",
       "2      Angelina County       380856          1360984  5329014        63039   \n",
       "3       Aransas County       133564           342276  1272668         7336   \n",
       "4        Archer County        44140           131580   604178         3791   \n",
       "..                 ...          ...              ...      ...          ...   \n",
       "247        Wood County       224972           677608  2353243        14926   \n",
       "248      Yoakum County        43995           127825   580289         9418   \n",
       "249       Young County       116510           244390  1034381        14189   \n",
       "250      Zapata County        63250           220550   868278         7844   \n",
       "251      Zavala County        68170           171490   700830        11920   \n",
       "\n",
       "     covid_deaths   longitude   latitude  \n",
       "0             856  -95.652315  31.813202  \n",
       "1             226 -102.637310  32.304938  \n",
       "2            1885  -94.611708  31.254821  \n",
       "3             360  -96.998991  28.106930  \n",
       "4              27  -98.687025  33.615379  \n",
       "..            ...         ...        ...  \n",
       "247           881  -95.381974  32.786302  \n",
       "248           184 -102.827502  33.172896  \n",
       "249           285  -98.687972  33.176706  \n",
       "250           180  -99.168378  27.000585  \n",
       "251           402  -99.760190  28.866412  \n",
       "\n",
       "[252 rows x 8 columns]"
      ]
     },
     "execution_count": 72,
     "metadata": {},
     "output_type": "execute_result"
    }
   ],
   "source": [
    "# trp_covid_geo_poly_df_groupby = trp_covid_geo_poly_df\n",
    "trp_covid_cnty_cntr_merged_no_cmms_int64_groupby = trp_covid_cnty_cntr_merged_no_cmms_int64.groupby(\"county_name_county\", as_index = False).agg({\"pop_at_home\": \"sum\", \"pop_not_at_home\": \"sum\", \"trips\": \"sum\", \"covid_cases\": \"sum\", \"covid_deaths\": \"sum\", \"longitude\": \"first\", \"latitude\": \"first\"})\n",
    "# trp_covid_geo_poly_df_groupby_total = trp_covid_geo_poly_df_groupby[\"covid_cases\", \"covid_deaths\"].sum()\n",
    "trp_covid_cnty_cntr_merged_no_cmms_int64_groupby"
   ]
  },
  {
   "cell_type": "code",
   "execution_count": null,
   "metadata": {
    "scrolled": true
   },
   "outputs": [],
   "source": [
    "# # trp_covid_geo_poly_df_groupby = trp_covid_geo_poly_df\n",
    "# trp_covid_geo_poly_df_groupby = trp_covid_geo_poly_df.groupby(\"county\", as_index = False).agg({\"pop_at_home\": \"sum\", \"pop_not_at_home\": \"sum\", \"trips\": \"sum\", \"covid_cases\": \"sum\", \"covid_deaths\": \"sum\", \"geometry\": \"first\"})\n",
    "# # trp_covid_geo_poly_df_groupby_total = trp_covid_geo_poly_df_groupby[\"covid_cases\", \"covid_deaths\"].sum()\n",
    "# trp_covid_geo_poly_df_groupby"
   ]
  },
  {
   "cell_type": "code",
   "execution_count": null,
   "metadata": {
    "scrolled": true
   },
   "outputs": [],
   "source": [
    "# Remove the Commas from the [clmns_to_cnvrt_null_vls_to_0] Array.\n",
    "\n",
    "trp_covid_geo_poly_df_groupby_no_cmms = trp_covid_geo_poly_df_groupby\n",
    "trp_covid_geo_poly_df_groupby_no_cmms[\"geometry\"] = trp_covid_geo_poly_df_groupby_no_cmms[\"geometry\"].replace(',','', regex=True)\n",
    "trp_covid_geo_poly_df_groupby_no_cmms"
   ]
  },
  {
   "cell_type": "code",
   "execution_count": 74,
   "metadata": {},
   "outputs": [],
   "source": [
    "# Export as a csv file\n",
    "# File Path for Importing the bts.gov Trips Data .csv File\n",
    "TEST_DATA_trp_covid_cnty_pnts_file_pth = os.path.join(\"Resources\", \"Test_Data\", \"TEST_DATA_trp_covid_cnty_pnts.csv\")\n",
    "\n",
    "TEST_DATA_trp_covid_cnty_pnts_df = trp_covid_cnty_cntr_merged_no_cmms_int64_groupby\n",
    "TEST_DATA_trp_covid_cnty_pnts_df.to_csv(TEST_DATA_trp_covid_cnty_pnts_file_pth, index = False)\n",
    "\n",
    "# Export to json\n",
    "# trp_covid_geo_poly_df_TEST_DATA.to_json(r\"Resources\\Test_Data\\trp_covid_geo_poly_df_TEST_DATA.json\")"
   ]
  },
  {
   "cell_type": "code",
   "execution_count": null,
   "metadata": {},
   "outputs": [],
   "source": [
    "# Export as a csv file\n",
    "# File Path for Importing the bts.gov Trips Data .csv File\n",
    "trp_covid_geo_poly_file_pth = os.path.join(\"Resources\", \"Test_Data\", \"TEST_DATA_trp_covid_geo_poly_df.csv\")\n",
    "\n",
    "TEST_DATA_trp_covid_geo_poly_df = trp_covid_geo_poly_df_groupby\n",
    "TEST_DATA_trp_covid_geo_poly_df.to_csv(trp_covid_geo_poly_file_pth, index = False)\n",
    "\n",
    "# Export to json\n",
    "# trp_covid_geo_poly_df_TEST_DATA.to_json(r\"Resources\\Test_Data\\trp_covid_geo_poly_df_TEST_DATA.json\")"
   ]
  },
  {
   "cell_type": "code",
   "execution_count": null,
   "metadata": {},
   "outputs": [],
   "source": [
    "# # Convert Dataframe to a json File\n",
    "# TEST_DATA_trp_covid_geo_poly_jsonDf = TEST_DATA_trp_covid_geo_poly_df.to_json(orient='records')"
   ]
  },
  {
   "cell_type": "markdown",
   "metadata": {},
   "source": [
    "# ========================================"
   ]
  },
  {
   "cell_type": "code",
   "execution_count": null,
   "metadata": {
    "scrolled": true
   },
   "outputs": [],
   "source": [
    "trp_covid_df_filter.head()"
   ]
  },
  {
   "cell_type": "code",
   "execution_count": null,
   "metadata": {},
   "outputs": [],
   "source": [
    "trp_covid_df_filter.shape"
   ]
  },
  {
   "cell_type": "code",
   "execution_count": null,
   "metadata": {},
   "outputs": [],
   "source": [
    "trp_covid_geo_poly_df.keys()"
   ]
  },
  {
   "cell_type": "code",
   "execution_count": null,
   "metadata": {},
   "outputs": [],
   "source": [
    "trp_covid_geo_poly_df.head()"
   ]
  },
  {
   "cell_type": "code",
   "execution_count": null,
   "metadata": {},
   "outputs": [],
   "source": [
    "trp_covid_geo_poly_df.shape"
   ]
  },
  {
   "cell_type": "code",
   "execution_count": null,
   "metadata": {},
   "outputs": [],
   "source": [
    "trp_covid_geo_poly_df_TEST_DATA = trp_covid_geo_poly_df[[\"date_trps\", \"state_cnty_bndrs\", \"state_postal_code_trps_covid\", \"county\", \"pop_at_home\", \"pop_not_at_home\", \"trips\", \"covid_cases\", \"covid_deaths\",\"geometry\"]] "
   ]
  },
  {
   "cell_type": "code",
   "execution_count": null,
   "metadata": {
    "scrolled": true
   },
   "outputs": [],
   "source": [
    "trp_covid_geo_poly_df_TEST_DATA.head()"
   ]
  },
  {
   "cell_type": "code",
   "execution_count": null,
   "metadata": {},
   "outputs": [],
   "source": [
    "trp_covid_geo_poly_df_TEST_DATA = trp_covid_geo_poly_df_TEST_DATA.rename(columns = {\"date_trps\":\"date\", \"state_cnty_bndrs\": \"state\", \"state_postal_code_trps_covid\": \"state_postal_code\"})\n",
    "trp_covid_geo_poly_df_TEST_DATA.keys()"
   ]
  },
  {
   "cell_type": "code",
   "execution_count": null,
   "metadata": {},
   "outputs": [],
   "source": [
    "# Array of the Columns Where the Null Values will be Converted to 0\n",
    "# These are the Columns that Should Have a Zero Values Instead of a Null Values\n",
    "clmns_to_cnvrt_null_vls_to_0 =[\"Population Staying at Home\", \"Population Not Staying at Home\",\"Number of Trips\",\"Number of Trips <1\", \"Number of Trips 1-3\", \"Number of Trips 1-3\", \"Number of Trips 3-5\", \"Number of Trips 5-10\", \"Number of Trips 10-25\", \"Number of Trips 25-50\", \"Number of Trips 50-100\", \"Number of Trips 100-250\", \"Number of Trips 250-500\", \"Number of Trips >=500\"]"
   ]
  },
  {
   "cell_type": "code",
   "execution_count": null,
   "metadata": {},
   "outputs": [],
   "source": [
    "# Count the Null Columns\n",
    "null_columns = bts_gov_trps_df.columns[bts_gov_trps_df.isnull().any()]\n",
    "bts_gov_trps_df[null_columns].isnull().sum()"
   ]
  },
  {
   "cell_type": "code",
   "execution_count": null,
   "metadata": {},
   "outputs": [],
   "source": [
    "# Array of the Columns Where the Null Values will be Converted to 0\n",
    "clmns_to_dlt_st_ntnl_totls =[\"County FIPS\", \"County Name\"]"
   ]
  },
  {
   "cell_type": "code",
   "execution_count": null,
   "metadata": {},
   "outputs": [],
   "source": [
    "# Drop the Rows that Contains Null (NaN) Values in the [\"County FIPS\"] and [\"County Name\"] Columns.\n",
    "bts_gov_trps_df_clnd = bts_gov_trps_df.dropna(how=\"all\", subset=clmns_to_dlt_st_ntnl_totls)\n",
    "print(bts_gov_trps_df_clnd.count())\n",
    "bts_gov_trps_df_clnd"
   ]
  },
  {
   "cell_type": "code",
   "execution_count": null,
   "metadata": {},
   "outputs": [],
   "source": [
    "bts_gov_trps_df_clnd.dtypes"
   ]
  },
  {
   "cell_type": "code",
   "execution_count": null,
   "metadata": {},
   "outputs": [],
   "source": [
    "bts_gov_trps_df_clnd_test.dtypes"
   ]
  },
  {
   "cell_type": "code",
   "execution_count": null,
   "metadata": {},
   "outputs": [],
   "source": [
    "bts_gov_trps_df_clnd_test_grpby = bts_gov_trps_df_clnd_test.groupby([\"State Postal Code\", \"County Name\"])\n",
    "bts_gov_trps_df_clnd_test_grpby"
   ]
  },
  {
   "cell_type": "code",
   "execution_count": null,
   "metadata": {},
   "outputs": [],
   "source": [
    "# Create Some Plots to Look at the Data\n",
    "\n",
    "date_fltr = (bts_gov_trps_df_clnd_test['Date'] <'2020-01-01') | (bts_gov_trps_df_clnd_test['Date']>'2020-11-21')\n",
    "    \n",
    "#     plt.scatter(x = group[date_filter_not]['air_pressure(mBar)'],\n",
    "#                 y = group[date_filter_not][\"wind_speed\"],\n",
    "\n",
    "for title, group in bts_gov_trps_df_clnd_test.groupby([\"County FIPS\"]):\n",
    "    plt.plot(group[date_fltr]['Date'], \n",
    "             group[date_fltr]['Number of Trips']) \n",
    "#              subplots=True, \n",
    "#              title=title)\n",
    "    fig = plt.gcf()\n",
    "    \n",
    "    plt.figure(figsize=(200,100))\n",
    "#     fig.savefig(f\"../images/{title}_wind_speed.png\")"
   ]
  },
  {
   "cell_type": "code",
   "execution_count": null,
   "metadata": {},
   "outputs": [],
   "source": [
    "# Filter Data on [\"State Postal Code\"] Column for \"AK\"\n",
    "ak_df = bts_gov_trps_df_clnd_test[bts_gov_trps_df_clnd_test[\"County Name\"] == \"Adair County\"]\n",
    "ak_df"
   ]
  },
  {
   "cell_type": "code",
   "execution_count": null,
   "metadata": {},
   "outputs": [],
   "source": [
    "st_cnt = bts_gov_trps_df[\"Population Staying at Home\"].unique()\n",
    "print(st_cnt)"
   ]
  },
  {
   "cell_type": "code",
   "execution_count": null,
   "metadata": {},
   "outputs": [],
   "source": [
    "bts_gov_trps_df[\"Population Staying at Home\"].value_counts()"
   ]
  },
  {
   "cell_type": "code",
   "execution_count": null,
   "metadata": {},
   "outputs": [],
   "source": []
  },
  {
   "cell_type": "code",
   "execution_count": null,
   "metadata": {},
   "outputs": [],
   "source": []
  },
  {
   "cell_type": "code",
   "execution_count": null,
   "metadata": {},
   "outputs": [],
   "source": []
  },
  {
   "cell_type": "code",
   "execution_count": null,
   "metadata": {},
   "outputs": [],
   "source": [
    "bts_gov_trps_df[\"VA Trip Totals\"] = bts_gov_trps_df[\"Number of Trips <1\"] + bts_gov_trps_df[\"Number of Trips 1-3\"] + bts_gov_trps_df[\"Number of Trips 3-5\"] +  bts_gov_trps_df[\"Number of Trips 5-10\"] + bts_gov_trps_df[\"Number of Trips 10-25\"] + bts_gov_trps_df[\"Number of Trips 25-50\"] + bts_gov_trps_df[\"Number of Trips 50-100\"] +bts_gov_trps_df[\"Number of Trips 100-250\"] +bts_gov_trps_df[\"Number of Trips 250-500\"] +bts_gov_trps_df[\"Number of Trips >=500\"]\n",
    "\n",
    "bts_gov_trps_df.head()"
   ]
  },
  {
   "cell_type": "code",
   "execution_count": null,
   "metadata": {},
   "outputs": [],
   "source": [
    "# List of all the Columns in the Trips Dataframe\n",
    "bts_gov_trps_df.columns"
   ]
  },
  {
   "cell_type": "code",
   "execution_count": null,
   "metadata": {},
   "outputs": [],
   "source": [
    "bts_gov_trps_df.describe()"
   ]
  },
  {
   "cell_type": "code",
   "execution_count": null,
   "metadata": {},
   "outputs": [],
   "source": [
    "bts_gov_trps_df[\"Number of Trips\"].describe()"
   ]
  },
  {
   "cell_type": "code",
   "execution_count": null,
   "metadata": {},
   "outputs": [],
   "source": [
    "# File Path for Importing the January 21, 2020 thru November 30, 2020 COVID-19 Data .csv File\n",
    "NY_Tmes_COVID_20200121_to_20201130_file_pth = os.path.join(\"Resources\", \"github.com_nytimes_covid_19_data\", \"us-counties20200121_to_20201130.csv\")\n",
    "\n",
    "# Convert the CSV to a Dataframe\n",
    "NY_Tmes_COVID_20200121_to_20201130_df = pd.read_csv(NY_Tmes_COVID_20200121_to_20201130_file_pth)"
   ]
  },
  {
   "cell_type": "code",
   "execution_count": null,
   "metadata": {},
   "outputs": [],
   "source": [
    "NY_Tmes_COVID_20200121_to_20201130_df.head()"
   ]
  },
  {
   "cell_type": "code",
   "execution_count": null,
   "metadata": {},
   "outputs": [],
   "source": [
    "NY_Tmes_COVID_20200121_to_20201130_df.tail()"
   ]
  },
  {
   "cell_type": "code",
   "execution_count": null,
   "metadata": {},
   "outputs": [],
   "source": [
    "# # File Path for Importing the January 21, 2020 thru November 30, 2020 COVID-19 Data .csv File\n",
    "# NY_Tmes_COVID_20201201_file_pth = os.path.join(\"Resources\", \"github.com_nytimes_covid_19_data\", \"us-counties20201201.csv\")\n",
    "\n",
    "# # Convert the CSV to a Dataframe\n",
    "# NY_Tmes_COVID_20201201__df = pd.read_csv(NY_Tmes_COVID_20201201_file_pth)"
   ]
  },
  {
   "cell_type": "code",
   "execution_count": null,
   "metadata": {},
   "outputs": [],
   "source": [
    "NY_Tmes_COVID_20200121_to_20201130_df.head()"
   ]
  },
  {
   "cell_type": "code",
   "execution_count": null,
   "metadata": {},
   "outputs": [],
   "source": [
    "# # API Keys for the Zip-Codes API\n",
    "# key = \"?key=\"\n",
    "# user_API_key = \"QSTIRXQR7CN0Q8T9UGRT\"\n",
    "# url = \"https://api.zip-codes.com/ZipCodesAPI.svc/1.0/QuickGetZipCodeDetails/\"\n",
    "\n",
    "# print(url + key + user_API_key)"
   ]
  },
  {
   "cell_type": "code",
   "execution_count": null,
   "metadata": {},
   "outputs": [],
   "source": [
    "# New Column Header Names\n",
    "zip_clmn_hdr_nm = \"Zip_Code\"\n",
    "avg_auto_insrnc_rate_clmn_hdr_nm = \"Average_Auto_Insurance_Rate\""
   ]
  },
  {
   "cell_type": "code",
   "execution_count": null,
   "metadata": {},
   "outputs": [],
   "source": [
    "# The Number of Tables on Each Website\n",
    "print(len(ASN_Table_2020))\n",
    "# print(len(AutoInsurance_Tables))\n",
    "# print(len(State_Abbreviations_Code_Table))"
   ]
  },
  {
   "cell_type": "markdown",
   "metadata": {},
   "source": [
    "# Tables from Car Insurance (www.carinsurance.com)"
   ]
  },
  {
   "cell_type": "markdown",
   "metadata": {},
   "source": [
    "## The Most and Lease Expensive Auto Insurance"
   ]
  },
  {
   "cell_type": "code",
   "execution_count": null,
   "metadata": {},
   "outputs": [],
   "source": [
    "# Table of The Most and Lease Expensive Auto Insurance, Table #5, from CarInsurance (www.carinsurance.com)\n",
    "mst_and_lst_expnsv_by_state_CarInsurance_df = CarInsurance_Tables[5]\n",
    "mst_and_lst_expnsv_by_state_CarInsurance_df.head()\n",
    "\n",
    "# Resaved the DataFrame With Only the Columns Needed \n",
    "mst_and_lst_expnsv_by_state_CarInsurance_df = mst_and_lst_expnsv_by_state_CarInsurance_df[[\"State\", \"ZIP Code\", \"City\", \"Average Annual Rate\"]]\n",
    "mst_and_lst_expnsv_by_state_CarInsurance_df.head()\n",
    "\n",
    "# Changed the Names of the Column Headers\n",
    "mst_and_lst_expnsv_by_state_CarInsurance_df = mst_and_lst_expnsv_by_state_CarInsurance_df.rename ({\"ZIP Code\" : zip_clmn_hdr_nm, \"Average Annual Rate\" : avg_auto_insrnc_rate_clmn_hdr_nm}, axis = 1)\n",
    "mst_and_lst_expnsv_by_state_CarInsurance_df.head()"
   ]
  },
  {
   "cell_type": "markdown",
   "metadata": {},
   "source": [
    "## The Most Expensive Auto Insurance"
   ]
  },
  {
   "cell_type": "code",
   "execution_count": null,
   "metadata": {},
   "outputs": [],
   "source": [
    "# Table of The Most Expensive Auto Insurance, Table #6, from CarInsurance (www.carinsurance.com)\n",
    "mst_expnsv_by_state_CarInsurance_df = CarInsurance_Tables[6]\n",
    "mst_expnsv_by_state_CarInsurance_df.head()\n",
    "\n",
    "# Resaved the DataFrame With Only the Columns Needed \n",
    "mst_expnsv_by_state_CarInsurance_df = mst_expnsv_by_state_CarInsurance_df[[\"State\", \"ZIP Code\", \"City\", \"Average Annual Rate\"]]\n",
    "mst_expnsv_by_state_CarInsurance_df.head()\n",
    "\n",
    "# Changed the Names of the Column Headers\n",
    "mst_expnsv_by_state_CarInsurance_df = mst_expnsv_by_state_CarInsurance_df.rename ({\"ZIP Code\" : zip_clmn_hdr_nm, \"Average Annual Rate\" : avg_auto_insrnc_rate_clmn_hdr_nm}, axis = 1)\n",
    "mst_expnsv_by_state_CarInsurance_df.head()"
   ]
  },
  {
   "cell_type": "markdown",
   "metadata": {},
   "source": [
    "# Tables from Auto Insurance (www.autoinsurance.org)"
   ]
  },
  {
   "cell_type": "markdown",
   "metadata": {},
   "source": [
    "## The 25 Most Expensive Auto Insurance"
   ]
  },
  {
   "cell_type": "code",
   "execution_count": null,
   "metadata": {},
   "outputs": [],
   "source": [
    "# Table of The 25 Most Expensive Auto Insurance, Table #3, from AutoInsurance (www.autoinsurance.org)\n",
    "_25_mst_expnsv_auto_insrnc_rts_by_zip_cde_df = AutoInsurance_Tables[3]\n",
    "_25_mst_expnsv_auto_insrnc_rts_by_zip_cde_df.head()\n",
    "\n",
    "# Changed the Names of the Column Headers\n",
    "_25_mst_expnsv_auto_insrnc_rts_by_zip_cde_df = _25_mst_expnsv_auto_insrnc_rts_by_zip_cde_df.rename ({\"ZIP Code\" : zip_clmn_hdr_nm, \"Average Annual Auto Insurance Rates\" : avg_auto_insrnc_rate_clmn_hdr_nm}, axis = 1)\n",
    "_25_mst_expnsv_auto_insrnc_rts_by_zip_cde_df.head()\n",
    "\n",
    "# Add a New Column Called State, the Column is Empty\n",
    "_25_mst_expnsv_auto_insrnc_rts_by_zip_cde_df[\"State\"] = \"\"\n",
    "_25_mst_expnsv_auto_insrnc_rts_by_zip_cde_df.head()\n",
    "\n",
    "# Reorder the Columns\n",
    "_25_mst_expnsv_auto_insrnc_rts_by_zip_cde_df = _25_mst_expnsv_auto_insrnc_rts_by_zip_cde_df[[\"State\", zip_clmn_hdr_nm, \"City\", avg_auto_insrnc_rate_clmn_hdr_nm]]\n",
    "_25_mst_expnsv_auto_insrnc_rts_by_zip_cde_df.head()"
   ]
  },
  {
   "cell_type": "markdown",
   "metadata": {},
   "source": [
    "## The 25 Lease Expensive Auto Insurance"
   ]
  },
  {
   "cell_type": "code",
   "execution_count": null,
   "metadata": {},
   "outputs": [],
   "source": [
    "# Table of The 25 Lowest Expensive Auto Insurance, Table #4, from AutoInsurance (www.autoinsurance.org)\n",
    "_25_lst_expnsv_auto_insrnc_rts_by_zip_cde_df = AutoInsurance_Tables[4]\n",
    "_25_lst_expnsv_auto_insrnc_rts_by_zip_cde_df.head()\n",
    "\n",
    "# Changed the Names of the Column Headers\n",
    "_25_lst_expnsv_auto_insrnc_rts_by_zip_cde_df = _25_lst_expnsv_auto_insrnc_rts_by_zip_cde_df.rename ({\"ZIP Code\" : zip_clmn_hdr_nm, \"Average Annual Auto Insurance Rates\" : avg_auto_insrnc_rate_clmn_hdr_nm}, axis = 1)\n",
    "_25_lst_expnsv_auto_insrnc_rts_by_zip_cde_df.head()\n",
    "\n",
    "# Add a New Column Called State, the Column is Empty\n",
    "_25_lst_expnsv_auto_insrnc_rts_by_zip_cde_df[\"State\"] = \"\"\n",
    "_25_lst_expnsv_auto_insrnc_rts_by_zip_cde_df.head()\n",
    "\n",
    "# Reorder the Columns\n",
    "_25_lst_expnsv_auto_insrnc_rts_by_zip_cde_df = _25_lst_expnsv_auto_insrnc_rts_by_zip_cde_df[[\"State\", zip_clmn_hdr_nm, \"City\", avg_auto_insrnc_rate_clmn_hdr_nm]]\n",
    "_25_lst_expnsv_auto_insrnc_rts_by_zip_cde_df.head()"
   ]
  },
  {
   "cell_type": "markdown",
   "metadata": {},
   "source": [
    "## The Highest and Lowest Auto Insurance Rates"
   ]
  },
  {
   "cell_type": "code",
   "execution_count": null,
   "metadata": {},
   "outputs": [],
   "source": [
    "# Table of The Highest and Lowest Auto Insurance Rate, Table #5, from AutoInsurance (www.autoinsurance.org)\n",
    "hghst_and_lwst_avg_annl_auto_insrnc_rates_per_state_df = AutoInsurance_Tables[5]\n",
    "hghst_and_lwst_avg_annl_auto_insrnc_rates_per_state_df.head()"
   ]
  },
  {
   "cell_type": "markdown",
   "metadata": {},
   "source": [
    "### Create a DataFrame for the Least Expensive Auto Insurance Rates from hghst_and_lwst_avg_annl_auto_insrnc_rates_per_state_df (Above)"
   ]
  },
  {
   "cell_type": "code",
   "execution_count": null,
   "metadata": {},
   "outputs": [],
   "source": [
    "# Splitting Up The Table of The Highest and Lowest Auto Insurance Rate\n",
    "lwst_avg_annl_auto_insrnc_rates_per_state_df = hghst_and_lwst_avg_annl_auto_insrnc_rates_per_state_df[[\"State\", \"Least Expensive Zip Code\", \"City\", \"Lowest Average Annual Auto Insurance Rates\"]]\n",
    "lwst_avg_annl_auto_insrnc_rates_per_state_df.head()\n",
    "\n",
    "# Reorganize Column Headers and Rename Some of the Column Headers\n",
    "lwst_avg_annl_auto_insrnc_rates_per_state_df = lwst_avg_annl_auto_insrnc_rates_per_state_df.rename ({\"Least Expensive Zip Code\" : zip_clmn_hdr_nm, \"Lowest Average Annual Auto Insurance Rates\" : avg_auto_insrnc_rate_clmn_hdr_nm}, axis = 1)\n",
    "lwst_avg_annl_auto_insrnc_rates_per_state_df.head()"
   ]
  },
  {
   "cell_type": "markdown",
   "metadata": {},
   "source": [
    "### Create a DataFrame for the Most Expensive Auto Insurance Rates from hghst_and_lwst_avg_annl_auto_insrnc_rates_per_state_df (Two Cells Above)"
   ]
  },
  {
   "cell_type": "code",
   "execution_count": null,
   "metadata": {},
   "outputs": [],
   "source": [
    "# Splitting Up The Table of The Highest and Lowest Auto Insurance Rate\n",
    "hghst_avg_annl_auto_insrnc_rates_per_state_df = hghst_and_lwst_avg_annl_auto_insrnc_rates_per_state_df[[\"State\", \"Most Expensive Zip Code\", \"City.1\", \"Highest Average Annual Auto Insurance Rates\"]]\n",
    "hghst_avg_annl_auto_insrnc_rates_per_state_df.head()\n",
    "\n",
    "# Reorganize Column Headers and Rename Some of the Column Headers\n",
    "hghst_avg_annl_auto_insrnc_rates_per_state_df = hghst_avg_annl_auto_insrnc_rates_per_state_df.rename ({\"Most Expensive Zip Code\" : zip_clmn_hdr_nm, \"City.1\" : \"City\", \"Highest Average Annual Auto Insurance Rates\" : avg_auto_insrnc_rate_clmn_hdr_nm}, axis = 1)\n",
    "hghst_avg_annl_auto_insrnc_rates_per_state_df.head()"
   ]
  },
  {
   "cell_type": "markdown",
   "metadata": {},
   "source": [
    "# Combine All of the DataFrames into One DataFrame"
   ]
  },
  {
   "cell_type": "code",
   "execution_count": null,
   "metadata": {},
   "outputs": [],
   "source": [
    "# Create a Variable with All of the Average Auto Insurace Tables (DataFrames)\n",
    "lst_of_tbls = [mst_expnsv_by_state_CarInsurance_df, _25_mst_expnsv_auto_insrnc_rts_by_zip_cde_df, _25_lst_expnsv_auto_insrnc_rts_by_zip_cde_df, _25_lst_expnsv_auto_insrnc_rts_by_zip_cde_df, lwst_avg_annl_auto_insrnc_rates_per_state_df, hghst_avg_annl_auto_insrnc_rates_per_state_df]\n",
    "\n",
    "# Concatenate All of the Average Auto Insurace Tables Together\n",
    "avg_auto_insnc_concat_df = pd.concat(lst_of_tbls)\n",
    "avg_auto_insnc_concat_df\n",
    "\n",
    "\n",
    "## This Will Allow You to Reset the Index After Concatenating the DataFrames Together\n",
    "# avg_auto_insnc_concat_df = pd.concat(lst_of_tbls, ignore_index = 'True')"
   ]
  },
  {
   "cell_type": "markdown",
   "metadata": {},
   "source": [
    "# Data Clean UP"
   ]
  },
  {
   "cell_type": "markdown",
   "metadata": {},
   "source": [
    "## Delete Dulpicate Data"
   ]
  },
  {
   "cell_type": "markdown",
   "metadata": {},
   "source": [
    "### Deleted Rows with \"Get Your Rates Quote Now\" in Them"
   ]
  },
  {
   "cell_type": "code",
   "execution_count": null,
   "metadata": {},
   "outputs": [],
   "source": [
    "# Evaluate Duplicate Data by Displaying the Number of Unique Values in the DataFrame\n",
    "avg_auto_insnc_concat_df[zip_clmn_hdr_nm].value_counts()"
   ]
  },
  {
   "cell_type": "code",
   "execution_count": null,
   "metadata": {},
   "outputs": [],
   "source": [
    "# Display Rows with \"Get Your Rates Quote Now\" in Them\n",
    "avg_auto_insnc_concat_df[(avg_auto_insnc_concat_df[zip_clmn_hdr_nm] == \"Get Your Rates Quote Now\")]"
   ]
  },
  {
   "cell_type": "code",
   "execution_count": null,
   "metadata": {},
   "outputs": [],
   "source": [
    "# Filtered the DataFrame then Created an Index List of all the Rows with \"Get Your Rates Quote Now\" in the City Column\n",
    "drp_gt_your_rts_qute_nw_index = avg_auto_insnc_concat_df[(avg_auto_insnc_concat_df[\"City\"] == \"Get Your Rates Quote Now\")].index\n",
    "drp_gt_your_rts_qute_nw_index"
   ]
  },
  {
   "cell_type": "code",
   "execution_count": null,
   "metadata": {},
   "outputs": [],
   "source": [
    "# Used the above Index List to drop all the rows with \"Get Your Rates Quote Now\"\n",
    "avg_auto_insnc_concat_df = avg_auto_insnc_concat_df.drop(drp_gt_your_rts_qute_nw_index)\n",
    "avg_auto_insnc_concat_df"
   ]
  },
  {
   "cell_type": "code",
   "execution_count": null,
   "metadata": {},
   "outputs": [],
   "source": [
    "# Make Sure the Data was Deleted by Displaying the Number of Unique Values in the DataFrameNumber of Unique Values in the DataFrame\n",
    "avg_auto_insnc_concat_df[zip_clmn_hdr_nm].value_counts()"
   ]
  },
  {
   "cell_type": "markdown",
   "metadata": {},
   "source": [
    "### Delete the Duplicate Zip Codes from the DataFrame"
   ]
  },
  {
   "cell_type": "markdown",
   "metadata": {},
   "source": [
    "#### Evaluate Duplicate Data"
   ]
  },
  {
   "cell_type": "code",
   "execution_count": null,
   "metadata": {},
   "outputs": [],
   "source": [
    "# Evaluate Duplicate Data by Displaying the Number of Unique Values in the DataFrame Number\n",
    "avg_auto_insnc_concat_df[zip_clmn_hdr_nm].value_counts()"
   ]
  },
  {
   "cell_type": "markdown",
   "metadata": {},
   "source": [
    "#### Delete the Duplicate Rows in The DataFrame"
   ]
  },
  {
   "cell_type": "code",
   "execution_count": null,
   "metadata": {},
   "outputs": [],
   "source": [
    "# Delete Rows with the Same Data\n",
    "avg_auto_insnc_concat_df_drp_dplcts = avg_auto_insnc_concat_df.drop_duplicates()\n",
    "avg_auto_insnc_concat_df_drp_dplcts"
   ]
  },
  {
   "cell_type": "code",
   "execution_count": null,
   "metadata": {},
   "outputs": [],
   "source": [
    "# Make Sure the Data was Deleted by Displaying the Number of Unique Values in the DataFrameNumber of Unique Values in the DataFrame\n",
    "avg_auto_insnc_concat_df_drp_dplcts[zip_clmn_hdr_nm].value_counts()"
   ]
  },
  {
   "cell_type": "markdown",
   "metadata": {},
   "source": [
    "#### Reindex the DataFrame"
   ]
  },
  {
   "cell_type": "code",
   "execution_count": null,
   "metadata": {},
   "outputs": [],
   "source": [
    "# Make an List of Values Incrementing by One\n",
    "avg_auto_insnc_concat_index_list = []\n",
    "\n",
    "for a in range(len(avg_auto_insnc_concat_df_drp_dplcts)):\n",
    "#     print(a)\n",
    "    avg_auto_insnc_concat_index_list.append(a)\n",
    "avg_auto_insnc_concat_index_list\n",
    "\n",
    "# Add a New Column Called Index and Append/Populate the Index Column with the Values from the avg_auto_insnc_concat_index_list List.\n",
    "avg_auto_insnc_concat_df_drp_dplcts[\"Index\"] = avg_auto_insnc_concat_index_list\n",
    "avg_auto_insnc_concat_df_drp_dplcts\n",
    "\n",
    "# Make the Index Column the Index for the DataFrame\n",
    "avg_auto_insnc_concat_df_drp_dplcts = avg_auto_insnc_concat_df_drp_dplcts.set_index(\"Index\")\n",
    "avg_auto_insnc_concat_df_drp_dplcts"
   ]
  },
  {
   "cell_type": "markdown",
   "metadata": {},
   "source": [
    "#### Create the .value_counts Series and Convert the Series into a DataFrame"
   ]
  },
  {
   "cell_type": "code",
   "execution_count": null,
   "metadata": {},
   "outputs": [],
   "source": [
    "# Run .value_counts() on the avg_auto_insnc_concat_df DataFrame and Save the .value_count Series \n",
    "avg_auto_insnc_concat_df_drp_dplcts_val_cnts_srs = avg_auto_insnc_concat_df_drp_dplcts[zip_clmn_hdr_nm].value_counts()\n",
    "print(type(avg_auto_insnc_concat_df_drp_dplcts_val_cnts_srs))\n",
    "print()\n",
    "\n",
    "# Convert the .value_counts Series into a DataFrame and Save the DataFrame\n",
    "avg_auto_insnc_concat_df_drp_dplcts_val_cnts_df = pd.DataFrame(avg_auto_insnc_concat_df_drp_dplcts_val_cnts_srs)\n",
    "print(type(avg_auto_insnc_concat_df_drp_dplcts_val_cnts_df))\n",
    "print()\n",
    "avg_auto_insnc_concat_df_drp_dplcts_val_cnts_df"
   ]
  },
  {
   "cell_type": "markdown",
   "metadata": {},
   "source": [
    "#### Create a DataFrame of the Zip Codes with a Value Count Greater than One"
   ]
  },
  {
   "cell_type": "code",
   "execution_count": null,
   "metadata": {},
   "outputs": [],
   "source": [
    "# Change the Zip Code Column Header to Value Count\n",
    "avg_auto_insnc_concat_df_drp_dplcts_val_cnts_df = avg_auto_insnc_concat_df_drp_dplcts_val_cnts_df.rename ({zip_clmn_hdr_nm : \"Value Count\"}, axis = 1)\n",
    "avg_auto_insnc_concat_df_drp_dplcts_val_cnts_df"
   ]
  },
  {
   "cell_type": "code",
   "execution_count": null,
   "metadata": {},
   "outputs": [],
   "source": [
    "# Create a New DataFrame that was Filtered the Value Counts Column for Values Greater than 1 \n",
    "avg_auto_insnc_concat_df_drp_dplcts_val_cnts_grtr_thn_1 = avg_auto_insnc_concat_df_drp_dplcts_val_cnts_df[(avg_auto_insnc_concat_df_drp_dplcts_val_cnts_df[\"Value Count\"] > 1)]\n",
    "avg_auto_insnc_concat_df_drp_dplcts_val_cnts_grtr_thn_1"
   ]
  },
  {
   "cell_type": "code",
   "execution_count": null,
   "metadata": {},
   "outputs": [],
   "source": [
    "# Add a Column Header to the Index Column\n",
    "avg_auto_insnc_concat_df_drp_dplcts_val_cnts_grtr_thn_1.index.names = [zip_clmn_hdr_nm]\n",
    "avg_auto_insnc_concat_df_drp_dplcts_val_cnts_grtr_thn_1\n",
    "\n",
    "# Make a List of Values Incrementing by One\n",
    "dplcts_val_cnts_index_list = []\n",
    "\n",
    "for a in range(len(avg_auto_insnc_concat_df_drp_dplcts_val_cnts_grtr_thn_1)):\n",
    "#     print(a)\n",
    "    dplcts_val_cnts_index_list.append(a)\n",
    "dplcts_val_cnts_index_list\n",
    "\n",
    "# Add a New Column Called Index and Append/Populate the Index Column with the Values from the index_list List.\n",
    "avg_auto_insnc_concat_df_drp_dplcts_val_cnts_grtr_thn_1[\"Index\"] = dplcts_val_cnts_index_list\n",
    "avg_auto_insnc_concat_df_drp_dplcts_val_cnts_grtr_thn_1\n",
    "\n",
    "# Make the Index Column the Index for the DataFrame\n",
    "avg_auto_insnc_concat_df_drp_dplcts_val_cnts_grtr_thn_1 = avg_auto_insnc_concat_df_drp_dplcts_val_cnts_grtr_thn_1.reset_index().set_index(\"Index\")\n",
    "avg_auto_insnc_concat_df_drp_dplcts_val_cnts_grtr_thn_1"
   ]
  },
  {
   "cell_type": "markdown",
   "metadata": {},
   "source": [
    "#### Delete the Remaining Duplicate Zip Codes"
   ]
  },
  {
   "cell_type": "code",
   "execution_count": null,
   "metadata": {},
   "outputs": [],
   "source": [
    "# Print the length of the Average Auto Insurance DataFrame and Average Auto Insurance Value Counts DataFrame\n",
    "print(f\"This is the length of the Average Auto Insurance DataFrame: {len(avg_auto_insnc_concat_df_drp_dplcts)}\")\n",
    "print()\n",
    "print(f\"This is the length of the Average Auto Insurance Value Counts DataFrame: {len(avg_auto_insnc_concat_df_drp_dplcts_val_cnts_grtr_thn_1)}\")\n",
    "print()\n",
    "\n",
    "# Find And Print the Entire Row for the Remaining Duplicate Zip Codes\n",
    "for y in range(len(avg_auto_insnc_concat_df_drp_dplcts)):\n",
    "    \n",
    "    for h in range(len(avg_auto_insnc_concat_df_drp_dplcts_val_cnts_grtr_thn_1)):\n",
    "        \n",
    "        if avg_auto_insnc_concat_df_drp_dplcts.iloc[y][zip_clmn_hdr_nm] == avg_auto_insnc_concat_df_drp_dplcts_val_cnts_grtr_thn_1.iloc[h][zip_clmn_hdr_nm]: \n",
    "            print(f\"State: {avg_auto_insnc_concat_df_drp_dplcts.iloc[y]['State']}; \\tCity: {avg_auto_insnc_concat_df_drp_dplcts.iloc[y]['City']}; \\tZip Code: {avg_auto_insnc_concat_df_drp_dplcts.iloc[y][zip_clmn_hdr_nm]}; \\tAverage Auto Insurance Rate: {avg_auto_insnc_concat_df_drp_dplcts.iloc[y][avg_auto_insrnc_rate_clmn_hdr_nm]}\")"
   ]
  },
  {
   "cell_type": "code",
   "execution_count": null,
   "metadata": {},
   "outputs": [],
   "source": [
    "# Data Types for the Columns in the avg_auto_insnc_concat_df_drp_dplcts DataFrame\n",
    "avg_auto_insnc_concat_df_drp_dplcts.dtypes"
   ]
  },
  {
   "cell_type": "code",
   "execution_count": null,
   "metadata": {},
   "outputs": [],
   "source": [
    "# Get the Index Number for the Data Filtered on: 48201, Detroit, Blank State, $30,350.09 from the avg_auto_insnc_concat_df_drp_dplcts DataFrame\n",
    "drp_dplct_48201_zip_cd_index = avg_auto_insnc_concat_df_drp_dplcts[(avg_auto_insnc_concat_df_drp_dplcts[zip_clmn_hdr_nm] == \"48201\") & \\\n",
    "                                                                   (avg_auto_insnc_concat_df_drp_dplcts[\"City\"] == \"Detroit\") & \\\n",
    "                                                                   (avg_auto_insnc_concat_df_drp_dplcts[\"State\"] == \"\") & \\\n",
    "                                                                   (avg_auto_insnc_concat_df_drp_dplcts[avg_auto_insrnc_rate_clmn_hdr_nm] == \"$30,350.09\")].index\n",
    "test = drp_dplct_48201_zip_cd_index[0]\n",
    "test"
   ]
  },
  {
   "cell_type": "code",
   "execution_count": null,
   "metadata": {},
   "outputs": [],
   "source": [
    "# Get the Index Number for the Data Filtered on: 24450, Lexington, Blank State, $2,018.13 from the avg_auto_insnc_concat_df_drp_dplcts DataFrame\n",
    "drp_dplct_24450_zip_cd_index = avg_auto_insnc_concat_df_drp_dplcts[(avg_auto_insnc_concat_df_drp_dplcts[zip_clmn_hdr_nm] == \"24450\") & \\\n",
    "                                                                   (avg_auto_insnc_concat_df_drp_dplcts[\"City\"] == \"Lexington\") & \\\n",
    "                                                                   (avg_auto_insnc_concat_df_drp_dplcts[\"State\"] == \"\") & \\\n",
    "                                                                   (avg_auto_insnc_concat_df_drp_dplcts[avg_auto_insrnc_rate_clmn_hdr_nm] == \"$2,018.13\")].index\n",
    "drp_dplct_24450_zip_cd_index[0]"
   ]
  },
  {
   "cell_type": "code",
   "execution_count": null,
   "metadata": {},
   "outputs": [],
   "source": [
    "# Get the Index Number for the Data Filtered on: 06340, Groton, Delaware, $3,896.10 from the avg_auto_insnc_concat_df_drp_dplcts DataFrame\n",
    "drp_dplct_06340_zip_cd_index = avg_auto_insnc_concat_df_drp_dplcts[(avg_auto_insnc_concat_df_drp_dplcts[zip_clmn_hdr_nm] == \"06340\") & \\\n",
    "                                                                   (avg_auto_insnc_concat_df_drp_dplcts[\"City\"] == \"Groton\") & \\\n",
    "                                                                   (avg_auto_insnc_concat_df_drp_dplcts[\"State\"] == \"Delaware\") & \\\n",
    "                                                                   (avg_auto_insnc_concat_df_drp_dplcts[avg_auto_insrnc_rate_clmn_hdr_nm] == \"$3,896.10\")].index\n",
    "drp_dplct_06340_zip_cd_index[0]"
   ]
  },
  {
   "cell_type": "markdown",
   "metadata": {},
   "source": [
    "##### Drop the Remaining Duplicate Data"
   ]
  },
  {
   "cell_type": "code",
   "execution_count": null,
   "metadata": {},
   "outputs": [],
   "source": [
    "# Print the Number of Unique Items in avg_auto_insnc_concat_df_drp_dplcts\n",
    "print(\"Values Before Dropping the Remain Duplicates\")\n",
    "print(avg_auto_insnc_concat_df_drp_dplcts[zip_clmn_hdr_nm].value_counts())\n",
    "print()\n",
    "print()\n",
    "\n",
    "# Drop the Zip Codes from the Cell Above (Which includes: drp_dplct_48201_zip_cd_index[0], drp_dplct_24450_zip_cd_index[0], drp_dplct_06340_zip_cd_index[0])   \n",
    "# avg_auto_insnc_concat_df_clnd = avg_auto_insnc_concat_df_drp_dplcts.drop([drp_dplct_48201_zip_cd_index, drp_dplct_24450_zip_cd_index, drp_dplct_06340_zip_cd_index])\n",
    "avg_auto_insnc_concat_df_clnd = avg_auto_insnc_concat_df_drp_dplcts.drop([drp_dplct_48201_zip_cd_index[0], drp_dplct_24450_zip_cd_index[0], drp_dplct_06340_zip_cd_index[0]])\n",
    "\n",
    "# Print the Number of Unique Items in avg_auto_insnc_concat_df_clnd, Do this to Make sure the Duplicate Data was Dropped\n",
    "print(\"Values After Dropping the Remain Duplicates\")\n",
    "avg_auto_insnc_concat_df_clnd[zip_clmn_hdr_nm].value_counts()"
   ]
  },
  {
   "cell_type": "markdown",
   "metadata": {},
   "source": [
    "# Add a State to a Blank Row in the State Column"
   ]
  },
  {
   "cell_type": "code",
   "execution_count": null,
   "metadata": {},
   "outputs": [],
   "source": [
    "avg_auto_insnc_concat_df_clnd[\"City\"]"
   ]
  },
  {
   "cell_type": "code",
   "execution_count": null,
   "metadata": {},
   "outputs": [],
   "source": [
    "# Show all the Rows with no Data in the State Column\n",
    "rows_wth_out_state = avg_auto_insnc_concat_df_clnd[(avg_auto_insnc_concat_df_clnd[\"State\"] == \"\")]\n",
    "rows_wth_out_state"
   ]
  },
  {
   "cell_type": "markdown",
   "metadata": {},
   "source": [
    "## Put the State of Michigan into the Rows with Detroit as the City"
   ]
  },
  {
   "cell_type": "code",
   "execution_count": null,
   "metadata": {},
   "outputs": [],
   "source": [
    "# Show all the Rows with Detroit\n",
    "avg_auto_insnc_concat_df_clnd[(avg_auto_insnc_concat_df_clnd[\"City\"] == \"Detroit\")]"
   ]
  },
  {
   "cell_type": "code",
   "execution_count": null,
   "metadata": {},
   "outputs": [],
   "source": [
    "# Put the State of Michigan into the Rows with Detroit as the City\n",
    "for x in range(len(avg_auto_insnc_concat_df_clnd)):\n",
    "\n",
    "    if avg_auto_insnc_concat_df_clnd.iloc[x][\"City\"] == \"Detroit\" and avg_auto_insnc_concat_df_clnd.iloc[x][\"State\"] == \"\":\n",
    "        \n",
    "        avg_auto_insnc_concat_df_clnd.iloc[x]['State'] = \"Michigan\"\n",
    "        \n",
    "avg_auto_insnc_concat_df_clnd[(avg_auto_insnc_concat_df_clnd[\"City\"] == \"Detroit\")]"
   ]
  },
  {
   "cell_type": "markdown",
   "metadata": {},
   "source": [
    "## Replace the Blank State Row with the State Abbreviations"
   ]
  },
  {
   "cell_type": "code",
   "execution_count": null,
   "metadata": {},
   "outputs": [],
   "source": [
    "# Show all the Rows with no Data in the State Column\n",
    "rows_wth_out_state_df = avg_auto_insnc_concat_df_clnd[(avg_auto_insnc_concat_df_clnd[\"State\"] == \"\")]\n",
    "rows_wth_out_state_df"
   ]
  },
  {
   "cell_type": "code",
   "execution_count": null,
   "metadata": {},
   "outputs": [],
   "source": [
    "# Use the Zip Code to Pull the State Abbreviation from the Zip-Codes.com API\n",
    "for n in range(len(avg_auto_insnc_concat_df_clnd)):\n",
    "    \n",
    "    if avg_auto_insnc_concat_df_clnd.iloc[n][\"State\"] == \"\":\n",
    "\n",
    "        zip_code = avg_auto_insnc_concat_df_clnd.iloc[n][zip_clmn_hdr_nm]\n",
    "\n",
    "#         Make a Request to the Zip-Codes.com API for Each Row without a State\n",
    "        zip_code_response = requests.get(url + zip_code + key + user_API_key).json()\n",
    "        print(f\"{url}{zip_code}{key}{user_API_key}\")\n",
    "        \n",
    "#         Input the State Abbreviation into the DataFrame\n",
    "        avg_auto_insnc_concat_df_clnd.iloc[n][\"State\"] = zip_code_response[\"State\"]"
   ]
  },
  {
   "cell_type": "code",
   "execution_count": null,
   "metadata": {},
   "outputs": [],
   "source": [
    "# Check to Make Sure All the Rows Have a State\n",
    "avg_auto_insnc_concat_df_clnd[(avg_auto_insnc_concat_df_clnd[\"State\"] == \"\")]"
   ]
  },
  {
   "cell_type": "code",
   "execution_count": null,
   "metadata": {},
   "outputs": [],
   "source": [
    "type(zip_code_response)"
   ]
  },
  {
   "cell_type": "code",
   "execution_count": null,
   "metadata": {},
   "outputs": [],
   "source": [
    "zip_code_response.keys()"
   ]
  },
  {
   "cell_type": "code",
   "execution_count": null,
   "metadata": {},
   "outputs": [],
   "source": [
    "print(json.dumps(zip_code_response, indent =4, sort_keys = True))"
   ]
  },
  {
   "cell_type": "markdown",
   "metadata": {},
   "source": [
    "## Replace the State Abbrevitions with the Full State Name"
   ]
  },
  {
   "cell_type": "markdown",
   "metadata": {},
   "source": [
    "### View The State Abbreviations Code Table"
   ]
  },
  {
   "cell_type": "code",
   "execution_count": null,
   "metadata": {},
   "outputs": [],
   "source": [
    "# Table of The State Abbreviations Code Table, Table #0, from app02.clerk.org\n",
    "State_Abbreviations_Code_Table_df = State_Abbreviations_Code_Table[0]\n",
    "print(type(State_Abbreviations_Code_Table_df))\n",
    "print(len(State_Abbreviations_Code_Table_df))\n",
    "print()\n",
    "State_Abbreviations_Code_Table_df.head()"
   ]
  },
  {
   "cell_type": "code",
   "execution_count": null,
   "metadata": {},
   "outputs": [],
   "source": [
    "State_Abbreviations_Code_Table_df.keys()"
   ]
  },
  {
   "cell_type": "code",
   "execution_count": null,
   "metadata": {},
   "outputs": [],
   "source": [
    "# Replace all the Abbreviations with the Full State Name \n",
    "for t in range(len(State_Abbreviations_Code_Table_df)):\n",
    "\n",
    "    for i in range(len(avg_auto_insnc_concat_df_clnd)):\n",
    "\n",
    "        if State_Abbreviations_Code_Table_df.iloc[t][\"Code\"] == avg_auto_insnc_concat_df_clnd.iloc[i][\"State\"]:\n",
    "            avg_auto_insnc_concat_df_clnd.iloc[i][\"State\"] = State_Abbreviations_Code_Table_df.iloc[t][\"Description\"]"
   ]
  },
  {
   "cell_type": "code",
   "execution_count": null,
   "metadata": {},
   "outputs": [],
   "source": [
    "# Check to Make Sure All the Abbreviations are gone\n",
    "avg_auto_insnc_concat_df_clnd[\"State\"].value_counts()"
   ]
  },
  {
   "cell_type": "code",
   "execution_count": null,
   "metadata": {},
   "outputs": [],
   "source": [
    "avg_auto_insnc_concat_df_clnd"
   ]
  },
  {
   "cell_type": "code",
   "execution_count": null,
   "metadata": {},
   "outputs": [],
   "source": [
    "# Check to Make Sure All the Rows Have a State\n",
    "avg_auto_insnc_concat_df_clnd[(avg_auto_insnc_concat_df_clnd[\"State\"] == \"\")]"
   ]
  },
  {
   "cell_type": "markdown",
   "metadata": {},
   "source": [
    "## Replace the $ and Commas"
   ]
  },
  {
   "cell_type": "code",
   "execution_count": null,
   "metadata": {},
   "outputs": [],
   "source": [
    "# Remove the $ sign and commoas from each row in the Average_Auto_Insurance_Rate column\n",
    "avg_auto_insnc_concat_df_clnd[avg_auto_insrnc_rate_clmn_hdr_nm] = avg_auto_insnc_concat_df_clnd[avg_auto_insrnc_rate_clmn_hdr_nm].str.replace(\"$\", \"\")\n",
    "avg_auto_insnc_concat_df_clnd[avg_auto_insrnc_rate_clmn_hdr_nm] = avg_auto_insnc_concat_df_clnd[avg_auto_insrnc_rate_clmn_hdr_nm].str.replace(\",\", \"\")\n",
    "avg_auto_insnc_concat_df_clnd.dtypes"
   ]
  },
  {
   "cell_type": "code",
   "execution_count": null,
   "metadata": {},
   "outputs": [],
   "source": [
    "# Check to make sure the $ and commas were removed\n",
    "avg_auto_insnc_concat_df_clnd"
   ]
  },
  {
   "cell_type": "markdown",
   "metadata": {},
   "source": [
    "# Export the Average Auto Insurnace DataFrame to a csv File"
   ]
  },
  {
   "cell_type": "code",
   "execution_count": null,
   "metadata": {},
   "outputs": [],
   "source": [
    "avg_auto_insnc_concat_df_clnd.to_csv(exprt_pth, index=True, header=True)"
   ]
  }
 ],
 "metadata": {
  "kernelspec": {
   "display_name": "Python 3",
   "language": "python",
   "name": "python3"
  },
  "language_info": {
   "codemirror_mode": {
    "name": "ipython",
    "version": 3
   },
   "file_extension": ".py",
   "mimetype": "text/x-python",
   "name": "python",
   "nbconvert_exporter": "python",
   "pygments_lexer": "ipython3",
   "version": "3.7.6"
  }
 },
 "nbformat": 4,
 "nbformat_minor": 4
}
