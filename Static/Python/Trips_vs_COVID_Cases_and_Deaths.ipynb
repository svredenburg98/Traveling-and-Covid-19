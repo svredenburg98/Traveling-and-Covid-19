{
 "cells": [
  {
   "cell_type": "code",
   "execution_count": 229,
   "metadata": {},
   "outputs": [],
   "source": [
    "import os\n",
    "import csv\n",
    "import json\n",
    "import datetime\n",
    "import requests\n",
    "import geopandas\n",
    "import numpy as np\n",
    "import pandas as pd\n",
    "from bs4 import BeautifulSoup\n",
    "import matplotlib.pyplot as plt"
   ]
  },
  {
   "cell_type": "code",
   "execution_count": 210,
   "metadata": {},
   "outputs": [],
   "source": [
    "# New Column Names\n",
    "new_date_clmn_nm = \"date\"\n",
    "new_st_clmn_nm = \"state\"\n",
    "new_pop_at_hm_clmn_nm = \"pop_at_home\"\n",
    "new_pop_not_at_hm_clmn_nm = \"pop_not_at_home\"\n",
    "new_nmbr_trps_clmn_nm = \"trips\"\n",
    "new_cases_clmn_nm = \"covid_cases\"\n",
    "new_dths_clmn_nm = \"covid_deaths\""
   ]
  },
  {
   "cell_type": "code",
   "execution_count": null,
   "metadata": {},
   "outputs": [],
   "source": [
    "# File Name for the Final COVID DataFrame\n",
    "# dtfrm_file_nm = \"ASN_Table.csv\""
   ]
  },
  {
   "cell_type": "markdown",
   "metadata": {},
   "source": [
    "# ========================================"
   ]
  },
  {
   "cell_type": "markdown",
   "metadata": {},
   "source": [
    "# Importing Data"
   ]
  },
  {
   "cell_type": "markdown",
   "metadata": {},
   "source": [
    "# ========================================"
   ]
  },
  {
   "cell_type": "markdown",
   "metadata": {},
   "source": [
    "# ---------------------------------------------------------------------"
   ]
  },
  {
   "cell_type": "markdown",
   "metadata": {},
   "source": [
    "## Import bts.gov Trip Data"
   ]
  },
  {
   "cell_type": "markdown",
   "metadata": {},
   "source": [
    "# ---------------------------------------------------------------------"
   ]
  },
  {
   "cell_type": "code",
   "execution_count": 2,
   "metadata": {},
   "outputs": [],
   "source": [
    "# File Path for Importing the bts.gov Trips Data .csv File\n",
    "bts_gov_trps_file_pth = os.path.join(\"Resources\", \"bts.gov\", \"Trips_by_Distance.csv\")\n",
    "\n",
    "# Convert the CSV to a Dataframe\n",
    "bts_gov_trps_df = pd.read_csv(bts_gov_trps_file_pth)"
   ]
  },
  {
   "cell_type": "code",
   "execution_count": null,
   "metadata": {},
   "outputs": [],
   "source": [
    "bts_gov_trps_df.head()"
   ]
  },
  {
   "cell_type": "code",
   "execution_count": null,
   "metadata": {},
   "outputs": [],
   "source": [
    "print(bts_gov_trps_df.count())"
   ]
  },
  {
   "cell_type": "code",
   "execution_count": 3,
   "metadata": {},
   "outputs": [
    {
     "data": {
      "text/plain": [
       "Level                              object\n",
       "Date                               object\n",
       "State FIPS                        float64\n",
       "State Postal Code                  object\n",
       "County FIPS                       float64\n",
       "County Name                        object\n",
       "Population Staying at Home         object\n",
       "Population Not Staying at Home     object\n",
       "Number of Trips                    object\n",
       "Number of Trips <1                 object\n",
       "Number of Trips 1-3                object\n",
       "Number of Trips 3-5                object\n",
       "Number of Trips 5-10               object\n",
       "Number of Trips 10-25              object\n",
       "Number of Trips 25-50              object\n",
       "Number of Trips 50-100             object\n",
       "Number of Trips 100-250            object\n",
       "Number of Trips 250-500            object\n",
       "Number of Trips >=500              object\n",
       "dtype: object"
      ]
     },
     "execution_count": 3,
     "metadata": {},
     "output_type": "execute_result"
    }
   ],
   "source": [
    "bts_gov_trps_df.dtypes"
   ]
  },
  {
   "cell_type": "markdown",
   "metadata": {},
   "source": [
    "# ---------------------------------------------------------------------"
   ]
  },
  {
   "cell_type": "markdown",
   "metadata": {},
   "source": [
    "## Import New York Times COVID-19 Data"
   ]
  },
  {
   "cell_type": "markdown",
   "metadata": {},
   "source": [
    "# ---------------------------------------------------------------------"
   ]
  },
  {
   "cell_type": "code",
   "execution_count": 175,
   "metadata": {},
   "outputs": [],
   "source": [
    "# File Path for Importing the New York Times COVID-19 Data .csv File\n",
    "nytimes_covid_19_file_pth = os.path.join(\"Resources\", \"github.com_nytimes_covid_19_data\", \"us-counties20200121_to_20201130.csv\")\n",
    "\n",
    "# Convert the CSV to a Dataframe\n",
    "nytimes_covid_19_df = pd.read_csv(nytimes_covid_19_file_pth)"
   ]
  },
  {
   "cell_type": "code",
   "execution_count": 113,
   "metadata": {},
   "outputs": [
    {
     "data": {
      "text/html": [
       "<div>\n",
       "<style scoped>\n",
       "    .dataframe tbody tr th:only-of-type {\n",
       "        vertical-align: middle;\n",
       "    }\n",
       "\n",
       "    .dataframe tbody tr th {\n",
       "        vertical-align: top;\n",
       "    }\n",
       "\n",
       "    .dataframe thead th {\n",
       "        text-align: right;\n",
       "    }\n",
       "</style>\n",
       "<table border=\"1\" class=\"dataframe\">\n",
       "  <thead>\n",
       "    <tr style=\"text-align: right;\">\n",
       "      <th></th>\n",
       "      <th>date</th>\n",
       "      <th>county</th>\n",
       "      <th>state</th>\n",
       "      <th>fips</th>\n",
       "      <th>cases</th>\n",
       "      <th>deaths</th>\n",
       "    </tr>\n",
       "  </thead>\n",
       "  <tbody>\n",
       "    <tr>\n",
       "      <th>0</th>\n",
       "      <td>2020-01-21</td>\n",
       "      <td>Snohomish</td>\n",
       "      <td>Washington</td>\n",
       "      <td>53061.0</td>\n",
       "      <td>1</td>\n",
       "      <td>0.0</td>\n",
       "    </tr>\n",
       "    <tr>\n",
       "      <th>1</th>\n",
       "      <td>2020-01-22</td>\n",
       "      <td>Snohomish</td>\n",
       "      <td>Washington</td>\n",
       "      <td>53061.0</td>\n",
       "      <td>1</td>\n",
       "      <td>0.0</td>\n",
       "    </tr>\n",
       "    <tr>\n",
       "      <th>2</th>\n",
       "      <td>2020-01-23</td>\n",
       "      <td>Snohomish</td>\n",
       "      <td>Washington</td>\n",
       "      <td>53061.0</td>\n",
       "      <td>1</td>\n",
       "      <td>0.0</td>\n",
       "    </tr>\n",
       "    <tr>\n",
       "      <th>3</th>\n",
       "      <td>2020-01-24</td>\n",
       "      <td>Cook</td>\n",
       "      <td>Illinois</td>\n",
       "      <td>17031.0</td>\n",
       "      <td>1</td>\n",
       "      <td>0.0</td>\n",
       "    </tr>\n",
       "    <tr>\n",
       "      <th>4</th>\n",
       "      <td>2020-01-24</td>\n",
       "      <td>Snohomish</td>\n",
       "      <td>Washington</td>\n",
       "      <td>53061.0</td>\n",
       "      <td>1</td>\n",
       "      <td>0.0</td>\n",
       "    </tr>\n",
       "    <tr>\n",
       "      <th>...</th>\n",
       "      <td>...</td>\n",
       "      <td>...</td>\n",
       "      <td>...</td>\n",
       "      <td>...</td>\n",
       "      <td>...</td>\n",
       "      <td>...</td>\n",
       "    </tr>\n",
       "    <tr>\n",
       "      <th>784208</th>\n",
       "      <td>2020-11-30</td>\n",
       "      <td>Sweetwater</td>\n",
       "      <td>Wyoming</td>\n",
       "      <td>56037.0</td>\n",
       "      <td>1888</td>\n",
       "      <td>6.0</td>\n",
       "    </tr>\n",
       "    <tr>\n",
       "      <th>784209</th>\n",
       "      <td>2020-11-30</td>\n",
       "      <td>Teton</td>\n",
       "      <td>Wyoming</td>\n",
       "      <td>56039.0</td>\n",
       "      <td>1644</td>\n",
       "      <td>2.0</td>\n",
       "    </tr>\n",
       "    <tr>\n",
       "      <th>784210</th>\n",
       "      <td>2020-11-30</td>\n",
       "      <td>Uinta</td>\n",
       "      <td>Wyoming</td>\n",
       "      <td>56041.0</td>\n",
       "      <td>1070</td>\n",
       "      <td>4.0</td>\n",
       "    </tr>\n",
       "    <tr>\n",
       "      <th>784211</th>\n",
       "      <td>2020-11-30</td>\n",
       "      <td>Washakie</td>\n",
       "      <td>Wyoming</td>\n",
       "      <td>56043.0</td>\n",
       "      <td>440</td>\n",
       "      <td>8.0</td>\n",
       "    </tr>\n",
       "    <tr>\n",
       "      <th>784212</th>\n",
       "      <td>2020-11-30</td>\n",
       "      <td>Weston</td>\n",
       "      <td>Wyoming</td>\n",
       "      <td>56045.0</td>\n",
       "      <td>397</td>\n",
       "      <td>1.0</td>\n",
       "    </tr>\n",
       "  </tbody>\n",
       "</table>\n",
       "<p>784213 rows × 6 columns</p>\n",
       "</div>"
      ],
      "text/plain": [
       "              date      county       state     fips  cases  deaths\n",
       "0       2020-01-21   Snohomish  Washington  53061.0      1     0.0\n",
       "1       2020-01-22   Snohomish  Washington  53061.0      1     0.0\n",
       "2       2020-01-23   Snohomish  Washington  53061.0      1     0.0\n",
       "3       2020-01-24        Cook    Illinois  17031.0      1     0.0\n",
       "4       2020-01-24   Snohomish  Washington  53061.0      1     0.0\n",
       "...            ...         ...         ...      ...    ...     ...\n",
       "784208  2020-11-30  Sweetwater     Wyoming  56037.0   1888     6.0\n",
       "784209  2020-11-30       Teton     Wyoming  56039.0   1644     2.0\n",
       "784210  2020-11-30       Uinta     Wyoming  56041.0   1070     4.0\n",
       "784211  2020-11-30    Washakie     Wyoming  56043.0    440     8.0\n",
       "784212  2020-11-30      Weston     Wyoming  56045.0    397     1.0\n",
       "\n",
       "[784213 rows x 6 columns]"
      ]
     },
     "execution_count": 113,
     "metadata": {},
     "output_type": "execute_result"
    }
   ],
   "source": [
    "nytimes_covid_19_df"
   ]
  },
  {
   "cell_type": "code",
   "execution_count": 114,
   "metadata": {
    "scrolled": true
   },
   "outputs": [
    {
     "data": {
      "text/html": [
       "<div>\n",
       "<style scoped>\n",
       "    .dataframe tbody tr th:only-of-type {\n",
       "        vertical-align: middle;\n",
       "    }\n",
       "\n",
       "    .dataframe tbody tr th {\n",
       "        vertical-align: top;\n",
       "    }\n",
       "\n",
       "    .dataframe thead th {\n",
       "        text-align: right;\n",
       "    }\n",
       "</style>\n",
       "<table border=\"1\" class=\"dataframe\">\n",
       "  <thead>\n",
       "    <tr style=\"text-align: right;\">\n",
       "      <th></th>\n",
       "      <th>date</th>\n",
       "      <th>county</th>\n",
       "      <th>state</th>\n",
       "      <th>fips</th>\n",
       "      <th>cases</th>\n",
       "      <th>deaths</th>\n",
       "    </tr>\n",
       "  </thead>\n",
       "  <tbody>\n",
       "    <tr>\n",
       "      <th>0</th>\n",
       "      <td>2020-01-21</td>\n",
       "      <td>Snohomish</td>\n",
       "      <td>Washington</td>\n",
       "      <td>53061.0</td>\n",
       "      <td>1</td>\n",
       "      <td>0.0</td>\n",
       "    </tr>\n",
       "    <tr>\n",
       "      <th>1</th>\n",
       "      <td>2020-01-22</td>\n",
       "      <td>Snohomish</td>\n",
       "      <td>Washington</td>\n",
       "      <td>53061.0</td>\n",
       "      <td>1</td>\n",
       "      <td>0.0</td>\n",
       "    </tr>\n",
       "    <tr>\n",
       "      <th>2</th>\n",
       "      <td>2020-01-23</td>\n",
       "      <td>Snohomish</td>\n",
       "      <td>Washington</td>\n",
       "      <td>53061.0</td>\n",
       "      <td>1</td>\n",
       "      <td>0.0</td>\n",
       "    </tr>\n",
       "    <tr>\n",
       "      <th>3</th>\n",
       "      <td>2020-01-24</td>\n",
       "      <td>Cook</td>\n",
       "      <td>Illinois</td>\n",
       "      <td>17031.0</td>\n",
       "      <td>1</td>\n",
       "      <td>0.0</td>\n",
       "    </tr>\n",
       "    <tr>\n",
       "      <th>4</th>\n",
       "      <td>2020-01-24</td>\n",
       "      <td>Snohomish</td>\n",
       "      <td>Washington</td>\n",
       "      <td>53061.0</td>\n",
       "      <td>1</td>\n",
       "      <td>0.0</td>\n",
       "    </tr>\n",
       "  </tbody>\n",
       "</table>\n",
       "</div>"
      ],
      "text/plain": [
       "         date     county       state     fips  cases  deaths\n",
       "0  2020-01-21  Snohomish  Washington  53061.0      1     0.0\n",
       "1  2020-01-22  Snohomish  Washington  53061.0      1     0.0\n",
       "2  2020-01-23  Snohomish  Washington  53061.0      1     0.0\n",
       "3  2020-01-24       Cook    Illinois  17031.0      1     0.0\n",
       "4  2020-01-24  Snohomish  Washington  53061.0      1     0.0"
      ]
     },
     "execution_count": 114,
     "metadata": {},
     "output_type": "execute_result"
    }
   ],
   "source": [
    "nytimes_covid_19_df.head()"
   ]
  },
  {
   "cell_type": "code",
   "execution_count": 174,
   "metadata": {
    "scrolled": false
   },
   "outputs": [
    {
     "data": {
      "text/plain": [
       "Index(['date', 'county', 'state', 'fips', 'cases', 'deaths'], dtype='object')"
      ]
     },
     "execution_count": 174,
     "metadata": {},
     "output_type": "execute_result"
    }
   ],
   "source": [
    "nytimes_covid_19_df.keys()"
   ]
  },
  {
   "cell_type": "code",
   "execution_count": 183,
   "metadata": {
    "scrolled": true
   },
   "outputs": [
    {
     "data": {
      "text/plain": [
       "Index(['date_covid', 'county', 'state_covid', 'fips', 'cases_covid',\n",
       "       'deaths_covid'],\n",
       "      dtype='object')"
      ]
     },
     "execution_count": 183,
     "metadata": {},
     "output_type": "execute_result"
    }
   ],
   "source": [
    "nytimes_covid_19_df_test = nytimes_covid_19_df.rename(columns = {\"date\": \"date_covid\", \"state\": \"state_covid\", \"cases\": \"cases_covid\", \"deaths\": \"deaths_covid\"})\n",
    "nytimes_covid_19_df_test.keys()\n",
    "# nytimes_covid_19_df_test = nytimes_covid_19_df_test[\"date_covid\", \"state_covid\", \"cases_covid\",\"deaths_covid\"]"
   ]
  },
  {
   "cell_type": "markdown",
   "metadata": {},
   "source": [
    "# ---------------------------------------------------------------------"
   ]
  },
  {
   "cell_type": "markdown",
   "metadata": {},
   "source": [
    "# ******NOT WORKING******"
   ]
  },
  {
   "cell_type": "markdown",
   "metadata": {},
   "source": [
    "# ---------------------------------------------------------------------"
   ]
  },
  {
   "cell_type": "code",
   "execution_count": 200,
   "metadata": {},
   "outputs": [
    {
     "ename": "KeyError",
     "evalue": "\"None of [Index([('date', 'state', 'cases', 'deaths')], dtype='object')] are in the [columns]\"",
     "output_type": "error",
     "traceback": [
      "\u001b[0;31m---------------------------------------------------------------------------\u001b[0m",
      "\u001b[0;31mKeyError\u001b[0m                                  Traceback (most recent call last)",
      "\u001b[0;32m<ipython-input-200-08cadb9eed37>\u001b[0m in \u001b[0;36m<module>\u001b[0;34m\u001b[0m\n\u001b[1;32m      2\u001b[0m \u001b[0;31m# https://stackoverflow.com/questions/27878780/pandas-how-to-save-only-selected-columns-of-a-dataframe-to-hdf5\u001b[0m\u001b[0;34m\u001b[0m\u001b[0;34m\u001b[0m\u001b[0;34m\u001b[0m\u001b[0m\n\u001b[1;32m      3\u001b[0m \u001b[0mcols_to_keep\u001b[0m \u001b[0;34m=\u001b[0m \u001b[0;34m[\u001b[0m\u001b[0;34m[\u001b[0m\u001b[0;34m'date'\u001b[0m\u001b[0;34m,\u001b[0m \u001b[0;34m'state'\u001b[0m\u001b[0;34m,\u001b[0m \u001b[0;34m'cases'\u001b[0m\u001b[0;34m,\u001b[0m \u001b[0;34m'deaths'\u001b[0m\u001b[0;34m]\u001b[0m\u001b[0;34m]\u001b[0m\u001b[0;34m\u001b[0m\u001b[0;34m\u001b[0m\u001b[0m\n\u001b[0;32m----> 4\u001b[0;31m \u001b[0mnytimes_covid_19_df\u001b[0m\u001b[0;34m.\u001b[0m\u001b[0mloc\u001b[0m\u001b[0;34m[\u001b[0m\u001b[0;34m:\u001b[0m\u001b[0;34m,\u001b[0m \u001b[0mcols_to_keep\u001b[0m\u001b[0;34m]\u001b[0m\u001b[0;34m.\u001b[0m\u001b[0mto_hdf\u001b[0m\u001b[0;34m(\u001b[0m\u001b[0;34m...\u001b[0m\u001b[0;34m)\u001b[0m\u001b[0;34m\u001b[0m\u001b[0;34m\u001b[0m\u001b[0m\n\u001b[0m",
      "\u001b[0;32m~/opt/anaconda3/lib/python3.7/site-packages/pandas/core/indexing.py\u001b[0m in \u001b[0;36m__getitem__\u001b[0;34m(self, key)\u001b[0m\n\u001b[1;32m   1759\u001b[0m                 \u001b[0;32mexcept\u001b[0m \u001b[0;34m(\u001b[0m\u001b[0mKeyError\u001b[0m\u001b[0;34m,\u001b[0m \u001b[0mIndexError\u001b[0m\u001b[0;34m,\u001b[0m \u001b[0mAttributeError\u001b[0m\u001b[0;34m)\u001b[0m\u001b[0;34m:\u001b[0m\u001b[0;34m\u001b[0m\u001b[0;34m\u001b[0m\u001b[0m\n\u001b[1;32m   1760\u001b[0m                     \u001b[0;32mpass\u001b[0m\u001b[0;34m\u001b[0m\u001b[0;34m\u001b[0m\u001b[0m\n\u001b[0;32m-> 1761\u001b[0;31m             \u001b[0;32mreturn\u001b[0m \u001b[0mself\u001b[0m\u001b[0;34m.\u001b[0m\u001b[0m_getitem_tuple\u001b[0m\u001b[0;34m(\u001b[0m\u001b[0mkey\u001b[0m\u001b[0;34m)\u001b[0m\u001b[0;34m\u001b[0m\u001b[0;34m\u001b[0m\u001b[0m\n\u001b[0m\u001b[1;32m   1762\u001b[0m         \u001b[0;32melse\u001b[0m\u001b[0;34m:\u001b[0m\u001b[0;34m\u001b[0m\u001b[0;34m\u001b[0m\u001b[0m\n\u001b[1;32m   1763\u001b[0m             \u001b[0;31m# we by definition only have the 0th axis\u001b[0m\u001b[0;34m\u001b[0m\u001b[0;34m\u001b[0m\u001b[0;34m\u001b[0m\u001b[0m\n",
      "\u001b[0;32m~/opt/anaconda3/lib/python3.7/site-packages/pandas/core/indexing.py\u001b[0m in \u001b[0;36m_getitem_tuple\u001b[0;34m(self, tup)\u001b[0m\n\u001b[1;32m   1286\u001b[0m                 \u001b[0;32mcontinue\u001b[0m\u001b[0;34m\u001b[0m\u001b[0;34m\u001b[0m\u001b[0m\n\u001b[1;32m   1287\u001b[0m \u001b[0;34m\u001b[0m\u001b[0m\n\u001b[0;32m-> 1288\u001b[0;31m             \u001b[0mretval\u001b[0m \u001b[0;34m=\u001b[0m \u001b[0mgetattr\u001b[0m\u001b[0;34m(\u001b[0m\u001b[0mretval\u001b[0m\u001b[0;34m,\u001b[0m \u001b[0mself\u001b[0m\u001b[0;34m.\u001b[0m\u001b[0mname\u001b[0m\u001b[0;34m)\u001b[0m\u001b[0;34m.\u001b[0m\u001b[0m_getitem_axis\u001b[0m\u001b[0;34m(\u001b[0m\u001b[0mkey\u001b[0m\u001b[0;34m,\u001b[0m \u001b[0maxis\u001b[0m\u001b[0;34m=\u001b[0m\u001b[0mi\u001b[0m\u001b[0;34m)\u001b[0m\u001b[0;34m\u001b[0m\u001b[0;34m\u001b[0m\u001b[0m\n\u001b[0m\u001b[1;32m   1289\u001b[0m \u001b[0;34m\u001b[0m\u001b[0m\n\u001b[1;32m   1290\u001b[0m         \u001b[0;32mreturn\u001b[0m \u001b[0mretval\u001b[0m\u001b[0;34m\u001b[0m\u001b[0;34m\u001b[0m\u001b[0m\n",
      "\u001b[0;32m~/opt/anaconda3/lib/python3.7/site-packages/pandas/core/indexing.py\u001b[0m in \u001b[0;36m_getitem_axis\u001b[0;34m(self, key, axis)\u001b[0m\n\u001b[1;32m   1951\u001b[0m                     \u001b[0;32mraise\u001b[0m \u001b[0mValueError\u001b[0m\u001b[0;34m(\u001b[0m\u001b[0;34m\"Cannot index with multidimensional key\"\u001b[0m\u001b[0;34m)\u001b[0m\u001b[0;34m\u001b[0m\u001b[0;34m\u001b[0m\u001b[0m\n\u001b[1;32m   1952\u001b[0m \u001b[0;34m\u001b[0m\u001b[0m\n\u001b[0;32m-> 1953\u001b[0;31m                 \u001b[0;32mreturn\u001b[0m \u001b[0mself\u001b[0m\u001b[0;34m.\u001b[0m\u001b[0m_getitem_iterable\u001b[0m\u001b[0;34m(\u001b[0m\u001b[0mkey\u001b[0m\u001b[0;34m,\u001b[0m \u001b[0maxis\u001b[0m\u001b[0;34m=\u001b[0m\u001b[0maxis\u001b[0m\u001b[0;34m)\u001b[0m\u001b[0;34m\u001b[0m\u001b[0;34m\u001b[0m\u001b[0m\n\u001b[0m\u001b[1;32m   1954\u001b[0m \u001b[0;34m\u001b[0m\u001b[0m\n\u001b[1;32m   1955\u001b[0m             \u001b[0;31m# nested tuple slicing\u001b[0m\u001b[0;34m\u001b[0m\u001b[0;34m\u001b[0m\u001b[0;34m\u001b[0m\u001b[0m\n",
      "\u001b[0;32m~/opt/anaconda3/lib/python3.7/site-packages/pandas/core/indexing.py\u001b[0m in \u001b[0;36m_getitem_iterable\u001b[0;34m(self, key, axis)\u001b[0m\n\u001b[1;32m   1592\u001b[0m         \u001b[0;32melse\u001b[0m\u001b[0;34m:\u001b[0m\u001b[0;34m\u001b[0m\u001b[0;34m\u001b[0m\u001b[0m\n\u001b[1;32m   1593\u001b[0m             \u001b[0;31m# A collection of keys\u001b[0m\u001b[0;34m\u001b[0m\u001b[0;34m\u001b[0m\u001b[0;34m\u001b[0m\u001b[0m\n\u001b[0;32m-> 1594\u001b[0;31m             \u001b[0mkeyarr\u001b[0m\u001b[0;34m,\u001b[0m \u001b[0mindexer\u001b[0m \u001b[0;34m=\u001b[0m \u001b[0mself\u001b[0m\u001b[0;34m.\u001b[0m\u001b[0m_get_listlike_indexer\u001b[0m\u001b[0;34m(\u001b[0m\u001b[0mkey\u001b[0m\u001b[0;34m,\u001b[0m \u001b[0maxis\u001b[0m\u001b[0;34m,\u001b[0m \u001b[0mraise_missing\u001b[0m\u001b[0;34m=\u001b[0m\u001b[0;32mFalse\u001b[0m\u001b[0;34m)\u001b[0m\u001b[0;34m\u001b[0m\u001b[0;34m\u001b[0m\u001b[0m\n\u001b[0m\u001b[1;32m   1595\u001b[0m             return self.obj._reindex_with_indexers(\n\u001b[1;32m   1596\u001b[0m                 \u001b[0;34m{\u001b[0m\u001b[0maxis\u001b[0m\u001b[0;34m:\u001b[0m \u001b[0;34m[\u001b[0m\u001b[0mkeyarr\u001b[0m\u001b[0;34m,\u001b[0m \u001b[0mindexer\u001b[0m\u001b[0;34m]\u001b[0m\u001b[0;34m}\u001b[0m\u001b[0;34m,\u001b[0m \u001b[0mcopy\u001b[0m\u001b[0;34m=\u001b[0m\u001b[0;32mTrue\u001b[0m\u001b[0;34m,\u001b[0m \u001b[0mallow_dups\u001b[0m\u001b[0;34m=\u001b[0m\u001b[0;32mTrue\u001b[0m\u001b[0;34m\u001b[0m\u001b[0;34m\u001b[0m\u001b[0m\n",
      "\u001b[0;32m~/opt/anaconda3/lib/python3.7/site-packages/pandas/core/indexing.py\u001b[0m in \u001b[0;36m_get_listlike_indexer\u001b[0;34m(self, key, axis, raise_missing)\u001b[0m\n\u001b[1;32m   1550\u001b[0m \u001b[0;34m\u001b[0m\u001b[0m\n\u001b[1;32m   1551\u001b[0m         self._validate_read_indexer(\n\u001b[0;32m-> 1552\u001b[0;31m             \u001b[0mkeyarr\u001b[0m\u001b[0;34m,\u001b[0m \u001b[0mindexer\u001b[0m\u001b[0;34m,\u001b[0m \u001b[0mo\u001b[0m\u001b[0;34m.\u001b[0m\u001b[0m_get_axis_number\u001b[0m\u001b[0;34m(\u001b[0m\u001b[0maxis\u001b[0m\u001b[0;34m)\u001b[0m\u001b[0;34m,\u001b[0m \u001b[0mraise_missing\u001b[0m\u001b[0;34m=\u001b[0m\u001b[0mraise_missing\u001b[0m\u001b[0;34m\u001b[0m\u001b[0;34m\u001b[0m\u001b[0m\n\u001b[0m\u001b[1;32m   1553\u001b[0m         )\n\u001b[1;32m   1554\u001b[0m         \u001b[0;32mreturn\u001b[0m \u001b[0mkeyarr\u001b[0m\u001b[0;34m,\u001b[0m \u001b[0mindexer\u001b[0m\u001b[0;34m\u001b[0m\u001b[0;34m\u001b[0m\u001b[0m\n",
      "\u001b[0;32m~/opt/anaconda3/lib/python3.7/site-packages/pandas/core/indexing.py\u001b[0m in \u001b[0;36m_validate_read_indexer\u001b[0;34m(self, key, indexer, axis, raise_missing)\u001b[0m\n\u001b[1;32m   1637\u001b[0m             \u001b[0;32mif\u001b[0m \u001b[0mmissing\u001b[0m \u001b[0;34m==\u001b[0m \u001b[0mlen\u001b[0m\u001b[0;34m(\u001b[0m\u001b[0mindexer\u001b[0m\u001b[0;34m)\u001b[0m\u001b[0;34m:\u001b[0m\u001b[0;34m\u001b[0m\u001b[0;34m\u001b[0m\u001b[0m\n\u001b[1;32m   1638\u001b[0m                 \u001b[0maxis_name\u001b[0m \u001b[0;34m=\u001b[0m \u001b[0mself\u001b[0m\u001b[0;34m.\u001b[0m\u001b[0mobj\u001b[0m\u001b[0;34m.\u001b[0m\u001b[0m_get_axis_name\u001b[0m\u001b[0;34m(\u001b[0m\u001b[0maxis\u001b[0m\u001b[0;34m)\u001b[0m\u001b[0;34m\u001b[0m\u001b[0;34m\u001b[0m\u001b[0m\n\u001b[0;32m-> 1639\u001b[0;31m                 \u001b[0;32mraise\u001b[0m \u001b[0mKeyError\u001b[0m\u001b[0;34m(\u001b[0m\u001b[0;34mf\"None of [{key}] are in the [{axis_name}]\"\u001b[0m\u001b[0;34m)\u001b[0m\u001b[0;34m\u001b[0m\u001b[0;34m\u001b[0m\u001b[0m\n\u001b[0m\u001b[1;32m   1640\u001b[0m \u001b[0;34m\u001b[0m\u001b[0m\n\u001b[1;32m   1641\u001b[0m             \u001b[0;31m# We (temporarily) allow for some missing keys with .loc, except in\u001b[0m\u001b[0;34m\u001b[0m\u001b[0;34m\u001b[0m\u001b[0;34m\u001b[0m\u001b[0m\n",
      "\u001b[0;31mKeyError\u001b[0m: \"None of [Index([('date', 'state', 'cases', 'deaths')], dtype='object')] are in the [columns]\""
     ]
    }
   ],
   "source": [
    "# How to save only selected columns of a DataFrame to HDF5\n",
    "# https://stackoverflow.com/questions/27878780/pandas-how-to-save-only-selected-columns-of-a-dataframe-to-hdf5\n",
    "cols_to_keep = [['date', 'state', 'cases', 'deaths']]\n",
    "nytimes_covid_19_df.loc[:, cols_to_keep].to_hdf(...)"
   ]
  },
  {
   "cell_type": "code",
   "execution_count": 209,
   "metadata": {},
   "outputs": [
    {
     "data": {
      "text/html": [
       "<div>\n",
       "<style scoped>\n",
       "    .dataframe tbody tr th:only-of-type {\n",
       "        vertical-align: middle;\n",
       "    }\n",
       "\n",
       "    .dataframe tbody tr th {\n",
       "        vertical-align: top;\n",
       "    }\n",
       "\n",
       "    .dataframe thead th {\n",
       "        text-align: right;\n",
       "    }\n",
       "</style>\n",
       "<table border=\"1\" class=\"dataframe\">\n",
       "  <thead>\n",
       "    <tr style=\"text-align: right;\">\n",
       "      <th></th>\n",
       "      <th>date</th>\n",
       "      <th>state</th>\n",
       "      <th>cases</th>\n",
       "      <th>deaths</th>\n",
       "    </tr>\n",
       "  </thead>\n",
       "  <tbody>\n",
       "    <tr>\n",
       "      <th>0</th>\n",
       "      <td>2020-01-21</td>\n",
       "      <td>Washington</td>\n",
       "      <td>1</td>\n",
       "      <td>0.0</td>\n",
       "    </tr>\n",
       "    <tr>\n",
       "      <th>1</th>\n",
       "      <td>2020-01-22</td>\n",
       "      <td>Washington</td>\n",
       "      <td>1</td>\n",
       "      <td>0.0</td>\n",
       "    </tr>\n",
       "    <tr>\n",
       "      <th>2</th>\n",
       "      <td>2020-01-23</td>\n",
       "      <td>Washington</td>\n",
       "      <td>1</td>\n",
       "      <td>0.0</td>\n",
       "    </tr>\n",
       "    <tr>\n",
       "      <th>3</th>\n",
       "      <td>2020-01-24</td>\n",
       "      <td>Illinois</td>\n",
       "      <td>1</td>\n",
       "      <td>0.0</td>\n",
       "    </tr>\n",
       "    <tr>\n",
       "      <th>4</th>\n",
       "      <td>2020-01-24</td>\n",
       "      <td>Washington</td>\n",
       "      <td>1</td>\n",
       "      <td>0.0</td>\n",
       "    </tr>\n",
       "    <tr>\n",
       "      <th>...</th>\n",
       "      <td>...</td>\n",
       "      <td>...</td>\n",
       "      <td>...</td>\n",
       "      <td>...</td>\n",
       "    </tr>\n",
       "    <tr>\n",
       "      <th>784208</th>\n",
       "      <td>2020-11-30</td>\n",
       "      <td>Wyoming</td>\n",
       "      <td>1888</td>\n",
       "      <td>6.0</td>\n",
       "    </tr>\n",
       "    <tr>\n",
       "      <th>784209</th>\n",
       "      <td>2020-11-30</td>\n",
       "      <td>Wyoming</td>\n",
       "      <td>1644</td>\n",
       "      <td>2.0</td>\n",
       "    </tr>\n",
       "    <tr>\n",
       "      <th>784210</th>\n",
       "      <td>2020-11-30</td>\n",
       "      <td>Wyoming</td>\n",
       "      <td>1070</td>\n",
       "      <td>4.0</td>\n",
       "    </tr>\n",
       "    <tr>\n",
       "      <th>784211</th>\n",
       "      <td>2020-11-30</td>\n",
       "      <td>Wyoming</td>\n",
       "      <td>440</td>\n",
       "      <td>8.0</td>\n",
       "    </tr>\n",
       "    <tr>\n",
       "      <th>784212</th>\n",
       "      <td>2020-11-30</td>\n",
       "      <td>Wyoming</td>\n",
       "      <td>397</td>\n",
       "      <td>1.0</td>\n",
       "    </tr>\n",
       "  </tbody>\n",
       "</table>\n",
       "<p>784213 rows × 4 columns</p>\n",
       "</div>"
      ],
      "text/plain": [
       "              date       state  cases  deaths\n",
       "0       2020-01-21  Washington      1     0.0\n",
       "1       2020-01-22  Washington      1     0.0\n",
       "2       2020-01-23  Washington      1     0.0\n",
       "3       2020-01-24    Illinois      1     0.0\n",
       "4       2020-01-24  Washington      1     0.0\n",
       "...            ...         ...    ...     ...\n",
       "784208  2020-11-30     Wyoming   1888     6.0\n",
       "784209  2020-11-30     Wyoming   1644     2.0\n",
       "784210  2020-11-30     Wyoming   1070     4.0\n",
       "784211  2020-11-30     Wyoming    440     8.0\n",
       "784212  2020-11-30     Wyoming    397     1.0\n",
       "\n",
       "[784213 rows x 4 columns]"
      ]
     },
     "execution_count": 209,
     "metadata": {},
     "output_type": "execute_result"
    }
   ],
   "source": [
    "nytimes_covid_19_df = nytimes_covid_19_df[['date', 'state', 'cases', 'deaths']]\n",
    "# nytimes_covid_19_df = nytimes_covid_19_df[\"date\", \"state\", \"cases\", \"deaths\"]\n",
    "nytimes_covid_19_df"
   ]
  },
  {
   "cell_type": "markdown",
   "metadata": {},
   "source": [
    "# ---------------------------------------------------------------------"
   ]
  },
  {
   "cell_type": "code",
   "execution_count": 115,
   "metadata": {},
   "outputs": [
    {
     "data": {
      "text/plain": [
       "(784213, 6)"
      ]
     },
     "execution_count": 115,
     "metadata": {},
     "output_type": "execute_result"
    }
   ],
   "source": [
    "# Shape of the New York Times COVID-19 Dataframe\n",
    "# len(nytimes_covid_19_df)\n",
    "nytimes_covid_19_df.shape"
   ]
  },
  {
   "cell_type": "code",
   "execution_count": 116,
   "metadata": {},
   "outputs": [
    {
     "name": "stdout",
     "output_type": "stream",
     "text": [
      "date      784213\n",
      "county    784213\n",
      "state     784213\n",
      "fips      776761\n",
      "cases     784213\n",
      "deaths    767870\n",
      "dtype: int64\n"
     ]
    }
   ],
   "source": [
    "# Number of Rows that do Contain Null Values\n",
    "print(nytimes_covid_19_df.count())"
   ]
  },
  {
   "cell_type": "code",
   "execution_count": 117,
   "metadata": {
    "scrolled": true
   },
   "outputs": [
    {
     "data": {
      "text/plain": [
       "date       object\n",
       "county     object\n",
       "state      object\n",
       "fips      float64\n",
       "cases       int64\n",
       "deaths    float64\n",
       "dtype: object"
      ]
     },
     "execution_count": 117,
     "metadata": {},
     "output_type": "execute_result"
    }
   ],
   "source": [
    "# Data Types in the New York Dataframe\n",
    "nytimes_covid_19_df.dtypes"
   ]
  },
  {
   "cell_type": "markdown",
   "metadata": {},
   "source": [
    "# ---------------------------------------------------------------------"
   ]
  },
  {
   "cell_type": "markdown",
   "metadata": {},
   "source": [
    "# Import US State Name and Postal Code Data\n",
    "# From the U.S. Bureau of Labor Statistics (bls.gov)"
   ]
  },
  {
   "cell_type": "markdown",
   "metadata": {},
   "source": [
    "# ---------------------------------------------------------------------"
   ]
  },
  {
   "cell_type": "code",
   "execution_count": 201,
   "metadata": {},
   "outputs": [
    {
     "data": {
      "text/plain": [
       "2"
      ]
     },
     "execution_count": 201,
     "metadata": {},
     "output_type": "execute_result"
    }
   ],
   "source": [
    "bls_gov_st_st_code_df = pd.read_html(\"https://www.infoplease.com/us/postal-information/state-abbreviations-and-state-postal-codes\")\n",
    "len(bls_gov_st_st_code_df)"
   ]
  },
  {
   "cell_type": "code",
   "execution_count": 202,
   "metadata": {
    "scrolled": false
   },
   "outputs": [
    {
     "data": {
      "text/html": [
       "<div>\n",
       "<style scoped>\n",
       "    .dataframe tbody tr th:only-of-type {\n",
       "        vertical-align: middle;\n",
       "    }\n",
       "\n",
       "    .dataframe tbody tr th {\n",
       "        vertical-align: top;\n",
       "    }\n",
       "\n",
       "    .dataframe thead th {\n",
       "        text-align: right;\n",
       "    }\n",
       "</style>\n",
       "<table border=\"1\" class=\"dataframe\">\n",
       "  <thead>\n",
       "    <tr style=\"text-align: right;\">\n",
       "      <th></th>\n",
       "      <th>State/District</th>\n",
       "      <th>Abbreviation</th>\n",
       "      <th>Postal Code</th>\n",
       "    </tr>\n",
       "  </thead>\n",
       "  <tbody>\n",
       "    <tr>\n",
       "      <th>0</th>\n",
       "      <td>Alabama</td>\n",
       "      <td>Ala.</td>\n",
       "      <td>AL</td>\n",
       "    </tr>\n",
       "    <tr>\n",
       "      <th>1</th>\n",
       "      <td>Alaska</td>\n",
       "      <td>Alaska</td>\n",
       "      <td>AK</td>\n",
       "    </tr>\n",
       "    <tr>\n",
       "      <th>2</th>\n",
       "      <td>Arizona</td>\n",
       "      <td>Ariz.</td>\n",
       "      <td>AZ</td>\n",
       "    </tr>\n",
       "    <tr>\n",
       "      <th>3</th>\n",
       "      <td>Arkansas</td>\n",
       "      <td>Ark.</td>\n",
       "      <td>AR</td>\n",
       "    </tr>\n",
       "    <tr>\n",
       "      <th>4</th>\n",
       "      <td>California</td>\n",
       "      <td>Calif.</td>\n",
       "      <td>CA</td>\n",
       "    </tr>\n",
       "    <tr>\n",
       "      <th>5</th>\n",
       "      <td>Colorado</td>\n",
       "      <td>Colo.</td>\n",
       "      <td>CO</td>\n",
       "    </tr>\n",
       "    <tr>\n",
       "      <th>6</th>\n",
       "      <td>Connecticut</td>\n",
       "      <td>Conn.</td>\n",
       "      <td>CT</td>\n",
       "    </tr>\n",
       "    <tr>\n",
       "      <th>7</th>\n",
       "      <td>Delaware</td>\n",
       "      <td>Del.</td>\n",
       "      <td>DE</td>\n",
       "    </tr>\n",
       "    <tr>\n",
       "      <th>8</th>\n",
       "      <td>District of Columbia</td>\n",
       "      <td>D.C.</td>\n",
       "      <td>DC</td>\n",
       "    </tr>\n",
       "    <tr>\n",
       "      <th>9</th>\n",
       "      <td>Florida</td>\n",
       "      <td>Fla.</td>\n",
       "      <td>FL</td>\n",
       "    </tr>\n",
       "    <tr>\n",
       "      <th>10</th>\n",
       "      <td>Georgia</td>\n",
       "      <td>Ga.</td>\n",
       "      <td>GA</td>\n",
       "    </tr>\n",
       "    <tr>\n",
       "      <th>11</th>\n",
       "      <td>Hawaii</td>\n",
       "      <td>Hawaii</td>\n",
       "      <td>HI</td>\n",
       "    </tr>\n",
       "    <tr>\n",
       "      <th>12</th>\n",
       "      <td>Idaho</td>\n",
       "      <td>Idaho</td>\n",
       "      <td>ID</td>\n",
       "    </tr>\n",
       "    <tr>\n",
       "      <th>13</th>\n",
       "      <td>Illinois</td>\n",
       "      <td>Ill.</td>\n",
       "      <td>IL</td>\n",
       "    </tr>\n",
       "    <tr>\n",
       "      <th>14</th>\n",
       "      <td>Indiana</td>\n",
       "      <td>Ind.</td>\n",
       "      <td>IN</td>\n",
       "    </tr>\n",
       "    <tr>\n",
       "      <th>15</th>\n",
       "      <td>Iowa</td>\n",
       "      <td>Iowa</td>\n",
       "      <td>IA</td>\n",
       "    </tr>\n",
       "    <tr>\n",
       "      <th>16</th>\n",
       "      <td>Kansas</td>\n",
       "      <td>Kans.</td>\n",
       "      <td>KS</td>\n",
       "    </tr>\n",
       "    <tr>\n",
       "      <th>17</th>\n",
       "      <td>Kentucky</td>\n",
       "      <td>Ky.</td>\n",
       "      <td>KY</td>\n",
       "    </tr>\n",
       "    <tr>\n",
       "      <th>18</th>\n",
       "      <td>Louisiana</td>\n",
       "      <td>La.</td>\n",
       "      <td>LA</td>\n",
       "    </tr>\n",
       "    <tr>\n",
       "      <th>19</th>\n",
       "      <td>Maine</td>\n",
       "      <td>Maine</td>\n",
       "      <td>ME</td>\n",
       "    </tr>\n",
       "    <tr>\n",
       "      <th>20</th>\n",
       "      <td>Maryland</td>\n",
       "      <td>Md.</td>\n",
       "      <td>MD</td>\n",
       "    </tr>\n",
       "    <tr>\n",
       "      <th>21</th>\n",
       "      <td>Massachusetts</td>\n",
       "      <td>Mass.</td>\n",
       "      <td>MA</td>\n",
       "    </tr>\n",
       "    <tr>\n",
       "      <th>22</th>\n",
       "      <td>Michigan</td>\n",
       "      <td>Mich.</td>\n",
       "      <td>MI</td>\n",
       "    </tr>\n",
       "    <tr>\n",
       "      <th>23</th>\n",
       "      <td>Minnesota</td>\n",
       "      <td>Minn.</td>\n",
       "      <td>MN</td>\n",
       "    </tr>\n",
       "    <tr>\n",
       "      <th>24</th>\n",
       "      <td>Mississippi</td>\n",
       "      <td>Miss.</td>\n",
       "      <td>MS</td>\n",
       "    </tr>\n",
       "    <tr>\n",
       "      <th>25</th>\n",
       "      <td>Missouri</td>\n",
       "      <td>Mo.</td>\n",
       "      <td>MO</td>\n",
       "    </tr>\n",
       "    <tr>\n",
       "      <th>26</th>\n",
       "      <td>Montana</td>\n",
       "      <td>Mont.</td>\n",
       "      <td>MT</td>\n",
       "    </tr>\n",
       "    <tr>\n",
       "      <th>27</th>\n",
       "      <td>Nebraska</td>\n",
       "      <td>Nebr.</td>\n",
       "      <td>NE</td>\n",
       "    </tr>\n",
       "    <tr>\n",
       "      <th>28</th>\n",
       "      <td>Nevada</td>\n",
       "      <td>Nev.</td>\n",
       "      <td>NV</td>\n",
       "    </tr>\n",
       "    <tr>\n",
       "      <th>29</th>\n",
       "      <td>New Hampshire</td>\n",
       "      <td>N.H.</td>\n",
       "      <td>NH</td>\n",
       "    </tr>\n",
       "    <tr>\n",
       "      <th>30</th>\n",
       "      <td>New Jersey</td>\n",
       "      <td>N.J.</td>\n",
       "      <td>NJ</td>\n",
       "    </tr>\n",
       "    <tr>\n",
       "      <th>31</th>\n",
       "      <td>New Mexico</td>\n",
       "      <td>N.M.</td>\n",
       "      <td>NM</td>\n",
       "    </tr>\n",
       "    <tr>\n",
       "      <th>32</th>\n",
       "      <td>New York</td>\n",
       "      <td>N.Y.</td>\n",
       "      <td>NY</td>\n",
       "    </tr>\n",
       "    <tr>\n",
       "      <th>33</th>\n",
       "      <td>North Carolina</td>\n",
       "      <td>N.C.</td>\n",
       "      <td>NC</td>\n",
       "    </tr>\n",
       "    <tr>\n",
       "      <th>34</th>\n",
       "      <td>North Dakota</td>\n",
       "      <td>N.D.</td>\n",
       "      <td>ND</td>\n",
       "    </tr>\n",
       "    <tr>\n",
       "      <th>35</th>\n",
       "      <td>Ohio</td>\n",
       "      <td>Ohio</td>\n",
       "      <td>OH</td>\n",
       "    </tr>\n",
       "    <tr>\n",
       "      <th>36</th>\n",
       "      <td>Oklahoma</td>\n",
       "      <td>Okla.</td>\n",
       "      <td>OK</td>\n",
       "    </tr>\n",
       "    <tr>\n",
       "      <th>37</th>\n",
       "      <td>Oregon</td>\n",
       "      <td>Ore.</td>\n",
       "      <td>OR</td>\n",
       "    </tr>\n",
       "    <tr>\n",
       "      <th>38</th>\n",
       "      <td>Pennsylvania</td>\n",
       "      <td>Pa.</td>\n",
       "      <td>PA</td>\n",
       "    </tr>\n",
       "    <tr>\n",
       "      <th>39</th>\n",
       "      <td>Rhode Island</td>\n",
       "      <td>R.I.</td>\n",
       "      <td>RI</td>\n",
       "    </tr>\n",
       "    <tr>\n",
       "      <th>40</th>\n",
       "      <td>South Carolina</td>\n",
       "      <td>S.C.</td>\n",
       "      <td>SC</td>\n",
       "    </tr>\n",
       "    <tr>\n",
       "      <th>41</th>\n",
       "      <td>South Dakota</td>\n",
       "      <td>S.D.</td>\n",
       "      <td>SD</td>\n",
       "    </tr>\n",
       "    <tr>\n",
       "      <th>42</th>\n",
       "      <td>Tennessee</td>\n",
       "      <td>Tenn.</td>\n",
       "      <td>TN</td>\n",
       "    </tr>\n",
       "    <tr>\n",
       "      <th>43</th>\n",
       "      <td>Texas</td>\n",
       "      <td>Tex.</td>\n",
       "      <td>TX</td>\n",
       "    </tr>\n",
       "    <tr>\n",
       "      <th>44</th>\n",
       "      <td>Utah</td>\n",
       "      <td>Utah</td>\n",
       "      <td>UT</td>\n",
       "    </tr>\n",
       "    <tr>\n",
       "      <th>45</th>\n",
       "      <td>Vermont</td>\n",
       "      <td>Vt.</td>\n",
       "      <td>VT</td>\n",
       "    </tr>\n",
       "    <tr>\n",
       "      <th>46</th>\n",
       "      <td>Virginia</td>\n",
       "      <td>Va.</td>\n",
       "      <td>VA</td>\n",
       "    </tr>\n",
       "    <tr>\n",
       "      <th>47</th>\n",
       "      <td>Washington</td>\n",
       "      <td>Wash.</td>\n",
       "      <td>WA</td>\n",
       "    </tr>\n",
       "    <tr>\n",
       "      <th>48</th>\n",
       "      <td>West Virginia</td>\n",
       "      <td>W.Va.</td>\n",
       "      <td>WV</td>\n",
       "    </tr>\n",
       "    <tr>\n",
       "      <th>49</th>\n",
       "      <td>Wisconsin</td>\n",
       "      <td>Wis.</td>\n",
       "      <td>WI</td>\n",
       "    </tr>\n",
       "    <tr>\n",
       "      <th>50</th>\n",
       "      <td>Wyoming</td>\n",
       "      <td>Wyo.</td>\n",
       "      <td>WY</td>\n",
       "    </tr>\n",
       "  </tbody>\n",
       "</table>\n",
       "</div>"
      ],
      "text/plain": [
       "          State/District Abbreviation Postal Code\n",
       "0                Alabama         Ala.          AL\n",
       "1                 Alaska       Alaska          AK\n",
       "2                Arizona        Ariz.          AZ\n",
       "3               Arkansas         Ark.          AR\n",
       "4             California       Calif.          CA\n",
       "5               Colorado        Colo.          CO\n",
       "6            Connecticut        Conn.          CT\n",
       "7               Delaware         Del.          DE\n",
       "8   District of Columbia         D.C.          DC\n",
       "9                Florida         Fla.          FL\n",
       "10               Georgia          Ga.          GA\n",
       "11                Hawaii       Hawaii          HI\n",
       "12                 Idaho        Idaho          ID\n",
       "13              Illinois         Ill.          IL\n",
       "14               Indiana         Ind.          IN\n",
       "15                  Iowa         Iowa          IA\n",
       "16                Kansas        Kans.          KS\n",
       "17              Kentucky          Ky.          KY\n",
       "18             Louisiana          La.          LA\n",
       "19                 Maine        Maine          ME\n",
       "20              Maryland          Md.          MD\n",
       "21         Massachusetts        Mass.          MA\n",
       "22              Michigan        Mich.          MI\n",
       "23             Minnesota        Minn.          MN\n",
       "24           Mississippi        Miss.          MS\n",
       "25              Missouri          Mo.          MO\n",
       "26               Montana        Mont.          MT\n",
       "27              Nebraska        Nebr.          NE\n",
       "28                Nevada         Nev.          NV\n",
       "29         New Hampshire         N.H.          NH\n",
       "30            New Jersey         N.J.          NJ\n",
       "31            New Mexico         N.M.          NM\n",
       "32              New York         N.Y.          NY\n",
       "33        North Carolina         N.C.          NC\n",
       "34          North Dakota         N.D.          ND\n",
       "35                  Ohio         Ohio          OH\n",
       "36              Oklahoma        Okla.          OK\n",
       "37                Oregon         Ore.          OR\n",
       "38          Pennsylvania          Pa.          PA\n",
       "39          Rhode Island         R.I.          RI\n",
       "40        South Carolina         S.C.          SC\n",
       "41          South Dakota         S.D.          SD\n",
       "42             Tennessee        Tenn.          TN\n",
       "43                 Texas         Tex.          TX\n",
       "44                  Utah         Utah          UT\n",
       "45               Vermont          Vt.          VT\n",
       "46              Virginia          Va.          VA\n",
       "47            Washington        Wash.          WA\n",
       "48         West Virginia        W.Va.          WV\n",
       "49             Wisconsin         Wis.          WI\n",
       "50               Wyoming         Wyo.          WY"
      ]
     },
     "execution_count": 202,
     "metadata": {},
     "output_type": "execute_result"
    }
   ],
   "source": [
    "bls_gov_st_st_code_df = bls_gov_st_st_code_df[0]\n",
    "bls_gov_st_st_code_df"
   ]
  },
  {
   "cell_type": "markdown",
   "metadata": {},
   "source": [
    "# ---------------------------------------------------------------------"
   ]
  },
  {
   "cell_type": "markdown",
   "metadata": {},
   "source": [
    "# Import County Polygons .json File"
   ]
  },
  {
   "cell_type": "markdown",
   "metadata": {},
   "source": [
    "# ---------------------------------------------------------------------"
   ]
  },
  {
   "cell_type": "code",
   "execution_count": 231,
   "metadata": {},
   "outputs": [
    {
     "data": {
      "text/html": [
       "<div>\n",
       "<style scoped>\n",
       "    .dataframe tbody tr th:only-of-type {\n",
       "        vertical-align: middle;\n",
       "    }\n",
       "\n",
       "    .dataframe tbody tr th {\n",
       "        vertical-align: top;\n",
       "    }\n",
       "\n",
       "    .dataframe thead th {\n",
       "        text-align: right;\n",
       "    }\n",
       "</style>\n",
       "<table border=\"1\" class=\"dataframe\">\n",
       "  <thead>\n",
       "    <tr style=\"text-align: right;\">\n",
       "      <th></th>\n",
       "      <th>OBJECTID</th>\n",
       "      <th>GEOID10</th>\n",
       "      <th>COUNTYFP10</th>\n",
       "      <th>TRACTCE10</th>\n",
       "      <th>Cnty_Name</th>\n",
       "      <th>City_Name</th>\n",
       "      <th>ZIP</th>\n",
       "      <th>Acres</th>\n",
       "      <th>SqMi</th>\n",
       "      <th>Pop_16</th>\n",
       "      <th>...</th>\n",
       "      <th>UnEmp_Rate</th>\n",
       "      <th>Emp_15</th>\n",
       "      <th>Emp_Den</th>\n",
       "      <th>Emp_Src</th>\n",
       "      <th>Income_Pct</th>\n",
       "      <th>Income_Rpt</th>\n",
       "      <th>Income_Src</th>\n",
       "      <th>Under19_Pc</th>\n",
       "      <th>MHI2016</th>\n",
       "      <th>geometry</th>\n",
       "    </tr>\n",
       "  </thead>\n",
       "  <tbody>\n",
       "    <tr>\n",
       "      <th>0</th>\n",
       "      <td>11</td>\n",
       "      <td>06025010101</td>\n",
       "      <td>025</td>\n",
       "      <td>010101</td>\n",
       "      <td>Imperial</td>\n",
       "      <td></td>\n",
       "      <td>92233</td>\n",
       "      <td>93903.349290</td>\n",
       "      <td>146.723983</td>\n",
       "      <td>4223</td>\n",
       "      <td>...</td>\n",
       "      <td>0.101266</td>\n",
       "      <td>1454</td>\n",
       "      <td>9.909764</td>\n",
       "      <td>LEHD 2015</td>\n",
       "      <td>0</td>\n",
       "      <td></td>\n",
       "      <td></td>\n",
       "      <td>2.0</td>\n",
       "      <td>NaN</td>\n",
       "      <td>POLYGON ((-115.64096 33.35902, -115.64096 33.3...</td>\n",
       "    </tr>\n",
       "    <tr>\n",
       "      <th>1</th>\n",
       "      <td>213</td>\n",
       "      <td>06059980000</td>\n",
       "      <td>059</td>\n",
       "      <td>980000</td>\n",
       "      <td></td>\n",
       "      <td>Anaheim</td>\n",
       "      <td>92802</td>\n",
       "      <td>683.188267</td>\n",
       "      <td>1.067482</td>\n",
       "      <td>25</td>\n",
       "      <td>...</td>\n",
       "      <td>0.000000</td>\n",
       "      <td>30340</td>\n",
       "      <td>28422.033762</td>\n",
       "      <td>LEHD 2015</td>\n",
       "      <td>0</td>\n",
       "      <td></td>\n",
       "      <td></td>\n",
       "      <td>60.0</td>\n",
       "      <td>NaN</td>\n",
       "      <td>POLYGON ((-117.91511 33.81539, -117.91537 33.8...</td>\n",
       "    </tr>\n",
       "    <tr>\n",
       "      <th>2</th>\n",
       "      <td>229</td>\n",
       "      <td>06059021813</td>\n",
       "      <td>059</td>\n",
       "      <td>021813</td>\n",
       "      <td></td>\n",
       "      <td>Anaheim</td>\n",
       "      <td>92807</td>\n",
       "      <td>1159.678407</td>\n",
       "      <td>1.811998</td>\n",
       "      <td>102</td>\n",
       "      <td>...</td>\n",
       "      <td>0.000000</td>\n",
       "      <td>19437</td>\n",
       "      <td>10726.835928</td>\n",
       "      <td>LEHD 2015</td>\n",
       "      <td>0</td>\n",
       "      <td></td>\n",
       "      <td></td>\n",
       "      <td>30.4</td>\n",
       "      <td>NaN</td>\n",
       "      <td>POLYGON ((-117.83125 33.86212, -117.83125 33.8...</td>\n",
       "    </tr>\n",
       "    <tr>\n",
       "      <th>3</th>\n",
       "      <td>833</td>\n",
       "      <td>06071980100</td>\n",
       "      <td>071</td>\n",
       "      <td>980100</td>\n",
       "      <td></td>\n",
       "      <td>San Bernardino</td>\n",
       "      <td>92408</td>\n",
       "      <td>1982.388981</td>\n",
       "      <td>3.097483</td>\n",
       "      <td>0</td>\n",
       "      <td>...</td>\n",
       "      <td>0.000000</td>\n",
       "      <td>11200</td>\n",
       "      <td>3615.839308</td>\n",
       "      <td>LEHD 2015</td>\n",
       "      <td>0</td>\n",
       "      <td></td>\n",
       "      <td></td>\n",
       "      <td>0.0</td>\n",
       "      <td>NaN</td>\n",
       "      <td>POLYGON ((-117.25971 34.10356, -117.25971 34.1...</td>\n",
       "    </tr>\n",
       "    <tr>\n",
       "      <th>4</th>\n",
       "      <td>878</td>\n",
       "      <td>06071012300</td>\n",
       "      <td>071</td>\n",
       "      <td>012300</td>\n",
       "      <td></td>\n",
       "      <td>San Bernardino</td>\n",
       "      <td>92346</td>\n",
       "      <td>211.696199</td>\n",
       "      <td>0.330775</td>\n",
       "      <td>4400</td>\n",
       "      <td>...</td>\n",
       "      <td>0.269231</td>\n",
       "      <td>2952</td>\n",
       "      <td>8924.487123</td>\n",
       "      <td>LEHD 2015</td>\n",
       "      <td>0</td>\n",
       "      <td></td>\n",
       "      <td></td>\n",
       "      <td>0.0</td>\n",
       "      <td>NaN</td>\n",
       "      <td>POLYGON ((-117.22623 34.13691, -117.22623 34.1...</td>\n",
       "    </tr>\n",
       "    <tr>\n",
       "      <th>...</th>\n",
       "      <td>...</td>\n",
       "      <td>...</td>\n",
       "      <td>...</td>\n",
       "      <td>...</td>\n",
       "      <td>...</td>\n",
       "      <td>...</td>\n",
       "      <td>...</td>\n",
       "      <td>...</td>\n",
       "      <td>...</td>\n",
       "      <td>...</td>\n",
       "      <td>...</td>\n",
       "      <td>...</td>\n",
       "      <td>...</td>\n",
       "      <td>...</td>\n",
       "      <td>...</td>\n",
       "      <td>...</td>\n",
       "      <td>...</td>\n",
       "      <td>...</td>\n",
       "      <td>...</td>\n",
       "      <td>...</td>\n",
       "      <td>...</td>\n",
       "    </tr>\n",
       "    <tr>\n",
       "      <th>3946</th>\n",
       "      <td>3947</td>\n",
       "      <td>06037430302</td>\n",
       "      <td>037</td>\n",
       "      <td>430302</td>\n",
       "      <td>Los Angeles</td>\n",
       "      <td>Monrovia</td>\n",
       "      <td>91016</td>\n",
       "      <td>478.859944</td>\n",
       "      <td>0.748219</td>\n",
       "      <td>5841</td>\n",
       "      <td>...</td>\n",
       "      <td>0.069227</td>\n",
       "      <td>706</td>\n",
       "      <td>943.574433</td>\n",
       "      <td>LEHD 2015</td>\n",
       "      <td>100238</td>\n",
       "      <td>2011-2015</td>\n",
       "      <td>ACS_15_5YR_DP03</td>\n",
       "      <td>20.2</td>\n",
       "      <td>65976.0</td>\n",
       "      <td>POLYGON ((-118.00434 34.15133, -118.00413 34.1...</td>\n",
       "    </tr>\n",
       "    <tr>\n",
       "      <th>3947</th>\n",
       "      <td>3948</td>\n",
       "      <td>06037430723</td>\n",
       "      <td>037</td>\n",
       "      <td>430723</td>\n",
       "      <td>Los Angeles</td>\n",
       "      <td>Arcadia</td>\n",
       "      <td>91007</td>\n",
       "      <td>120.125030</td>\n",
       "      <td>0.187695</td>\n",
       "      <td>4663</td>\n",
       "      <td>...</td>\n",
       "      <td>0.100369</td>\n",
       "      <td>527</td>\n",
       "      <td>2807.741229</td>\n",
       "      <td>LEHD 2015</td>\n",
       "      <td>65625</td>\n",
       "      <td>2011-2015</td>\n",
       "      <td>ACS_15_5YR_DP03</td>\n",
       "      <td>27.2</td>\n",
       "      <td>73068.0</td>\n",
       "      <td>POLYGON ((-118.05228 34.12915, -118.05185 34.1...</td>\n",
       "    </tr>\n",
       "    <tr>\n",
       "      <th>3948</th>\n",
       "      <td>3949</td>\n",
       "      <td>06037431100</td>\n",
       "      <td>037</td>\n",
       "      <td>431100</td>\n",
       "      <td>Los Angeles</td>\n",
       "      <td>Monrovia</td>\n",
       "      <td>91016</td>\n",
       "      <td>744.710275</td>\n",
       "      <td>1.163610</td>\n",
       "      <td>7157</td>\n",
       "      <td>...</td>\n",
       "      <td>0.085203</td>\n",
       "      <td>9186</td>\n",
       "      <td>7894.398928</td>\n",
       "      <td>LEHD 2015</td>\n",
       "      <td>54613</td>\n",
       "      <td>2011-2015</td>\n",
       "      <td>ACS_15_5YR_DP03</td>\n",
       "      <td>27.8</td>\n",
       "      <td>67750.0</td>\n",
       "      <td>POLYGON ((-117.99500 34.13045, -117.99446 34.1...</td>\n",
       "    </tr>\n",
       "    <tr>\n",
       "      <th>3949</th>\n",
       "      <td>3950</td>\n",
       "      <td>06037533603</td>\n",
       "      <td>037</td>\n",
       "      <td>533603</td>\n",
       "      <td>Los Angeles</td>\n",
       "      <td>Bell</td>\n",
       "      <td>90201</td>\n",
       "      <td>199.808992</td>\n",
       "      <td>0.312202</td>\n",
       "      <td>7114</td>\n",
       "      <td>...</td>\n",
       "      <td>0.131519</td>\n",
       "      <td>2807</td>\n",
       "      <td>8990.986769</td>\n",
       "      <td>LEHD 2015</td>\n",
       "      <td>41368</td>\n",
       "      <td>2011-2015</td>\n",
       "      <td>ACS_15_5YR_DP03</td>\n",
       "      <td>33.8</td>\n",
       "      <td>41325.0</td>\n",
       "      <td>POLYGON ((-118.19135 33.96894, -118.19144 33.9...</td>\n",
       "    </tr>\n",
       "    <tr>\n",
       "      <th>3950</th>\n",
       "      <td>3951</td>\n",
       "      <td>06037534101</td>\n",
       "      <td>037</td>\n",
       "      <td>534101</td>\n",
       "      <td>Los Angeles</td>\n",
       "      <td>Bell Gardens</td>\n",
       "      <td>90201</td>\n",
       "      <td>127.148423</td>\n",
       "      <td>0.198669</td>\n",
       "      <td>2318</td>\n",
       "      <td>...</td>\n",
       "      <td>0.150963</td>\n",
       "      <td>2440</td>\n",
       "      <td>12281.709531</td>\n",
       "      <td>LEHD 2015</td>\n",
       "      <td>40938</td>\n",
       "      <td>2011-2015</td>\n",
       "      <td>ACS_15_5YR_DP03</td>\n",
       "      <td>40.8</td>\n",
       "      <td>37961.0</td>\n",
       "      <td>POLYGON ((-118.16911 33.96379, -118.16914 33.9...</td>\n",
       "    </tr>\n",
       "  </tbody>\n",
       "</table>\n",
       "<p>3951 rows × 39 columns</p>\n",
       "</div>"
      ],
      "text/plain": [
       "      OBJECTID      GEOID10 COUNTYFP10 TRACTCE10    Cnty_Name       City_Name  \\\n",
       "0           11  06025010101        025    010101     Imperial                   \n",
       "1          213  06059980000        059    980000                      Anaheim   \n",
       "2          229  06059021813        059    021813                      Anaheim   \n",
       "3          833  06071980100        071    980100               San Bernardino   \n",
       "4          878  06071012300        071    012300               San Bernardino   \n",
       "...        ...          ...        ...       ...          ...             ...   \n",
       "3946      3947  06037430302        037    430302  Los Angeles        Monrovia   \n",
       "3947      3948  06037430723        037    430723  Los Angeles         Arcadia   \n",
       "3948      3949  06037431100        037    431100  Los Angeles        Monrovia   \n",
       "3949      3950  06037533603        037    533603  Los Angeles            Bell   \n",
       "3950      3951  06037534101        037    534101  Los Angeles    Bell Gardens   \n",
       "\n",
       "        ZIP         Acres        SqMi  Pop_16  ...  UnEmp_Rate Emp_15  \\\n",
       "0     92233  93903.349290  146.723983    4223  ...    0.101266   1454   \n",
       "1     92802    683.188267    1.067482      25  ...    0.000000  30340   \n",
       "2     92807   1159.678407    1.811998     102  ...    0.000000  19437   \n",
       "3     92408   1982.388981    3.097483       0  ...    0.000000  11200   \n",
       "4     92346    211.696199    0.330775    4400  ...    0.269231   2952   \n",
       "...     ...           ...         ...     ...  ...         ...    ...   \n",
       "3946  91016    478.859944    0.748219    5841  ...    0.069227    706   \n",
       "3947  91007    120.125030    0.187695    4663  ...    0.100369    527   \n",
       "3948  91016    744.710275    1.163610    7157  ...    0.085203   9186   \n",
       "3949  90201    199.808992    0.312202    7114  ...    0.131519   2807   \n",
       "3950  90201    127.148423    0.198669    2318  ...    0.150963   2440   \n",
       "\n",
       "           Emp_Den    Emp_Src  Income_Pct  Income_Rpt       Income_Src  \\\n",
       "0         9.909764  LEHD 2015           0                                \n",
       "1     28422.033762  LEHD 2015           0                                \n",
       "2     10726.835928  LEHD 2015           0                                \n",
       "3      3615.839308  LEHD 2015           0                                \n",
       "4      8924.487123  LEHD 2015           0                                \n",
       "...            ...        ...         ...         ...              ...   \n",
       "3946    943.574433  LEHD 2015      100238   2011-2015  ACS_15_5YR_DP03   \n",
       "3947   2807.741229  LEHD 2015       65625   2011-2015  ACS_15_5YR_DP03   \n",
       "3948   7894.398928  LEHD 2015       54613   2011-2015  ACS_15_5YR_DP03   \n",
       "3949   8990.986769  LEHD 2015       41368   2011-2015  ACS_15_5YR_DP03   \n",
       "3950  12281.709531  LEHD 2015       40938   2011-2015  ACS_15_5YR_DP03   \n",
       "\n",
       "      Under19_Pc  MHI2016                                           geometry  \n",
       "0            2.0      NaN  POLYGON ((-115.64096 33.35902, -115.64096 33.3...  \n",
       "1           60.0      NaN  POLYGON ((-117.91511 33.81539, -117.91537 33.8...  \n",
       "2           30.4      NaN  POLYGON ((-117.83125 33.86212, -117.83125 33.8...  \n",
       "3            0.0      NaN  POLYGON ((-117.25971 34.10356, -117.25971 34.1...  \n",
       "4            0.0      NaN  POLYGON ((-117.22623 34.13691, -117.22623 34.1...  \n",
       "...          ...      ...                                                ...  \n",
       "3946        20.2  65976.0  POLYGON ((-118.00434 34.15133, -118.00413 34.1...  \n",
       "3947        27.2  73068.0  POLYGON ((-118.05228 34.12915, -118.05185 34.1...  \n",
       "3948        27.8  67750.0  POLYGON ((-117.99500 34.13045, -117.99446 34.1...  \n",
       "3949        33.8  41325.0  POLYGON ((-118.19135 33.96894, -118.19144 33.9...  \n",
       "3950        40.8  37961.0  POLYGON ((-118.16911 33.96379, -118.16914 33.9...  \n",
       "\n",
       "[3951 rows x 39 columns]"
      ]
     },
     "execution_count": 231,
     "metadata": {},
     "output_type": "execute_result"
    }
   ],
   "source": [
    "# File Path for Importing the County Geometry Polygons.json File\n",
    "cnty_geo_file_pth = os.path.join(\"Resources\", \"County_Geometry\", \"county_geometry.json\")\n",
    "\n",
    "# File Path for Importing the Example Househole Income Geometry Polygons.json File\n",
    "household_income_geo_file_pth = os.path.join(\"Resources\", \"County_Geometry\", \"Median_Household_Income_2016.geojson\")\n",
    "\n",
    "# Convert the CSV to a Dataframe\n",
    "household_income_covid_19_df = geopandas.read_file(household_income_geo_file_pth)\n",
    "household_income_covid_19_df"
   ]
  },
  {
   "cell_type": "markdown",
   "metadata": {},
   "source": [
    "# ========================================"
   ]
  },
  {
   "cell_type": "markdown",
   "metadata": {},
   "source": [
    "# Null Values"
   ]
  },
  {
   "cell_type": "markdown",
   "metadata": {},
   "source": [
    "# ========================================"
   ]
  },
  {
   "cell_type": "markdown",
   "metadata": {},
   "source": [
    "# ---------------------------------------------------------------------"
   ]
  },
  {
   "cell_type": "markdown",
   "metadata": {},
   "source": [
    "## bts.gov Trip Data Null Values"
   ]
  },
  {
   "cell_type": "markdown",
   "metadata": {},
   "source": [
    "# ---------------------------------------------------------------------"
   ]
  },
  {
   "cell_type": "code",
   "execution_count": 8,
   "metadata": {
    "scrolled": false
   },
   "outputs": [
    {
     "data": {
      "text/plain": [
       "Level                             False\n",
       "Date                              False\n",
       "State FIPS                         True\n",
       "State Postal Code                  True\n",
       "County FIPS                        True\n",
       "County Name                        True\n",
       "Population Staying at Home         True\n",
       "Population Not Staying at Home     True\n",
       "Number of Trips                    True\n",
       "Number of Trips <1                 True\n",
       "Number of Trips 1-3                True\n",
       "Number of Trips 3-5                True\n",
       "Number of Trips 5-10               True\n",
       "Number of Trips 10-25              True\n",
       "Number of Trips 25-50              True\n",
       "Number of Trips 50-100             True\n",
       "Number of Trips 100-250            True\n",
       "Number of Trips 250-500            True\n",
       "Number of Trips >=500              True\n",
       "dtype: bool"
      ]
     },
     "execution_count": 8,
     "metadata": {},
     "output_type": "execute_result"
    }
   ],
   "source": [
    "# Returns true if the column has null values\n",
    "bts_gov_trps_df.isnull().any()\n",
    "# OR\n",
    "# bts_gov_trps_df.isnull().any(axis=0) #(axis=0 is the defult)"
   ]
  },
  {
   "cell_type": "code",
   "execution_count": 54,
   "metadata": {},
   "outputs": [
    {
     "data": {
      "text/plain": [
       "Level                                 0\n",
       "Date                                  0\n",
       "State FIPS                          691\n",
       "State Postal Code                   691\n",
       "County FIPS                       35932\n",
       "County Name                       35932\n",
       "Population Staying at Home        23111\n",
       "Population Not Staying at Home    23111\n",
       "Number of Trips                   23111\n",
       "Number of Trips <1                23111\n",
       "Number of Trips 1-3               23111\n",
       "Number of Trips 3-5               23111\n",
       "Number of Trips 5-10              23111\n",
       "Number of Trips 10-25             23111\n",
       "Number of Trips 25-50             23111\n",
       "Number of Trips 50-100            23111\n",
       "Number of Trips 100-250           23111\n",
       "Number of Trips 250-500           23111\n",
       "Number of Trips >=500             23111\n",
       "dtype: int64"
      ]
     },
     "execution_count": 54,
     "metadata": {},
     "output_type": "execute_result"
    }
   ],
   "source": [
    "# Rows with Null Values in the Trips Dataframe \n",
    "bts_gov_trps_df.isnull().sum()"
   ]
  },
  {
   "cell_type": "code",
   "execution_count": 9,
   "metadata": {},
   "outputs": [
    {
     "name": "stdout",
     "output_type": "stream",
     "text": [
      "Level                             59043\n",
      "Date                              59043\n",
      "State FIPS                        58352\n",
      "State Postal Code                 58352\n",
      "County FIPS                       23111\n",
      "County Name                       23111\n",
      "Population Staying at Home        35932\n",
      "Population Not Staying at Home    35932\n",
      "Number of Trips                   35932\n",
      "Number of Trips <1                35932\n",
      "Number of Trips 1-3               35932\n",
      "Number of Trips 3-5               35932\n",
      "Number of Trips 5-10              35932\n",
      "Number of Trips 10-25             35932\n",
      "Number of Trips 25-50             35932\n",
      "Number of Trips 50-100            35932\n",
      "Number of Trips 100-250           35932\n",
      "Number of Trips 250-500           35932\n",
      "Number of Trips >=500             35932\n",
      "dtype: int64\n"
     ]
    },
    {
     "data": {
      "text/html": [
       "<div>\n",
       "<style scoped>\n",
       "    .dataframe tbody tr th:only-of-type {\n",
       "        vertical-align: middle;\n",
       "    }\n",
       "\n",
       "    .dataframe tbody tr th {\n",
       "        vertical-align: top;\n",
       "    }\n",
       "\n",
       "    .dataframe thead th {\n",
       "        text-align: right;\n",
       "    }\n",
       "</style>\n",
       "<table border=\"1\" class=\"dataframe\">\n",
       "  <thead>\n",
       "    <tr style=\"text-align: right;\">\n",
       "      <th></th>\n",
       "      <th>Level</th>\n",
       "      <th>Date</th>\n",
       "      <th>State FIPS</th>\n",
       "      <th>State Postal Code</th>\n",
       "      <th>County FIPS</th>\n",
       "      <th>County Name</th>\n",
       "      <th>Population Staying at Home</th>\n",
       "      <th>Population Not Staying at Home</th>\n",
       "      <th>Number of Trips</th>\n",
       "      <th>Number of Trips &lt;1</th>\n",
       "      <th>Number of Trips 1-3</th>\n",
       "      <th>Number of Trips 3-5</th>\n",
       "      <th>Number of Trips 5-10</th>\n",
       "      <th>Number of Trips 10-25</th>\n",
       "      <th>Number of Trips 25-50</th>\n",
       "      <th>Number of Trips 50-100</th>\n",
       "      <th>Number of Trips 100-250</th>\n",
       "      <th>Number of Trips 250-500</th>\n",
       "      <th>Number of Trips &gt;=500</th>\n",
       "    </tr>\n",
       "  </thead>\n",
       "  <tbody>\n",
       "    <tr>\n",
       "      <th>1</th>\n",
       "      <td>County</td>\n",
       "      <td>2019/01/01</td>\n",
       "      <td>2.0</td>\n",
       "      <td>AK</td>\n",
       "      <td>2164.0</td>\n",
       "      <td>Lake and Peninsula Borough</td>\n",
       "      <td>NaN</td>\n",
       "      <td>NaN</td>\n",
       "      <td>NaN</td>\n",
       "      <td>NaN</td>\n",
       "      <td>NaN</td>\n",
       "      <td>NaN</td>\n",
       "      <td>NaN</td>\n",
       "      <td>NaN</td>\n",
       "      <td>NaN</td>\n",
       "      <td>NaN</td>\n",
       "      <td>NaN</td>\n",
       "      <td>NaN</td>\n",
       "      <td>NaN</td>\n",
       "    </tr>\n",
       "    <tr>\n",
       "      <th>42</th>\n",
       "      <td>County</td>\n",
       "      <td>2019/01/01</td>\n",
       "      <td>2.0</td>\n",
       "      <td>AK</td>\n",
       "      <td>2230.0</td>\n",
       "      <td>Skagway Municipality</td>\n",
       "      <td>NaN</td>\n",
       "      <td>NaN</td>\n",
       "      <td>NaN</td>\n",
       "      <td>NaN</td>\n",
       "      <td>NaN</td>\n",
       "      <td>NaN</td>\n",
       "      <td>NaN</td>\n",
       "      <td>NaN</td>\n",
       "      <td>NaN</td>\n",
       "      <td>NaN</td>\n",
       "      <td>NaN</td>\n",
       "      <td>NaN</td>\n",
       "      <td>NaN</td>\n",
       "    </tr>\n",
       "    <tr>\n",
       "      <th>46</th>\n",
       "      <td>County</td>\n",
       "      <td>2019/01/01</td>\n",
       "      <td>2.0</td>\n",
       "      <td>AK</td>\n",
       "      <td>2282.0</td>\n",
       "      <td>Yakutat City and Borough</td>\n",
       "      <td>NaN</td>\n",
       "      <td>NaN</td>\n",
       "      <td>NaN</td>\n",
       "      <td>NaN</td>\n",
       "      <td>NaN</td>\n",
       "      <td>NaN</td>\n",
       "      <td>NaN</td>\n",
       "      <td>NaN</td>\n",
       "      <td>NaN</td>\n",
       "      <td>NaN</td>\n",
       "      <td>NaN</td>\n",
       "      <td>NaN</td>\n",
       "      <td>NaN</td>\n",
       "    </tr>\n",
       "    <tr>\n",
       "      <th>304</th>\n",
       "      <td>County</td>\n",
       "      <td>2019/01/01</td>\n",
       "      <td>15.0</td>\n",
       "      <td>HI</td>\n",
       "      <td>15005.0</td>\n",
       "      <td>Kalawao County</td>\n",
       "      <td>NaN</td>\n",
       "      <td>NaN</td>\n",
       "      <td>NaN</td>\n",
       "      <td>NaN</td>\n",
       "      <td>NaN</td>\n",
       "      <td>NaN</td>\n",
       "      <td>NaN</td>\n",
       "      <td>NaN</td>\n",
       "      <td>NaN</td>\n",
       "      <td>NaN</td>\n",
       "      <td>NaN</td>\n",
       "      <td>NaN</td>\n",
       "      <td>NaN</td>\n",
       "    </tr>\n",
       "    <tr>\n",
       "      <th>824</th>\n",
       "      <td>County</td>\n",
       "      <td>2019/01/01</td>\n",
       "      <td>31.0</td>\n",
       "      <td>NE</td>\n",
       "      <td>31005.0</td>\n",
       "      <td>Arthur County</td>\n",
       "      <td>NaN</td>\n",
       "      <td>NaN</td>\n",
       "      <td>NaN</td>\n",
       "      <td>NaN</td>\n",
       "      <td>NaN</td>\n",
       "      <td>NaN</td>\n",
       "      <td>NaN</td>\n",
       "      <td>NaN</td>\n",
       "      <td>NaN</td>\n",
       "      <td>NaN</td>\n",
       "      <td>NaN</td>\n",
       "      <td>NaN</td>\n",
       "      <td>NaN</td>\n",
       "    </tr>\n",
       "    <tr>\n",
       "      <th>...</th>\n",
       "      <td>...</td>\n",
       "      <td>...</td>\n",
       "      <td>...</td>\n",
       "      <td>...</td>\n",
       "      <td>...</td>\n",
       "      <td>...</td>\n",
       "      <td>...</td>\n",
       "      <td>...</td>\n",
       "      <td>...</td>\n",
       "      <td>...</td>\n",
       "      <td>...</td>\n",
       "      <td>...</td>\n",
       "      <td>...</td>\n",
       "      <td>...</td>\n",
       "      <td>...</td>\n",
       "      <td>...</td>\n",
       "      <td>...</td>\n",
       "      <td>...</td>\n",
       "      <td>...</td>\n",
       "    </tr>\n",
       "    <tr>\n",
       "      <th>2207049</th>\n",
       "      <td>National</td>\n",
       "      <td>2020/11/17</td>\n",
       "      <td>NaN</td>\n",
       "      <td>NaN</td>\n",
       "      <td>NaN</td>\n",
       "      <td>NaN</td>\n",
       "      <td>97,573,501</td>\n",
       "      <td>229,593,933</td>\n",
       "      <td>989,568,973</td>\n",
       "      <td>234,805,101</td>\n",
       "      <td>259,934,985</td>\n",
       "      <td>122,714,018</td>\n",
       "      <td>150,290,148</td>\n",
       "      <td>145,112,889</td>\n",
       "      <td>49,573,515</td>\n",
       "      <td>16,971,134</td>\n",
       "      <td>7,726,729</td>\n",
       "      <td>1,711,083</td>\n",
       "      <td>729,371</td>\n",
       "    </tr>\n",
       "    <tr>\n",
       "      <th>2207050</th>\n",
       "      <td>National</td>\n",
       "      <td>2020/11/18</td>\n",
       "      <td>NaN</td>\n",
       "      <td>NaN</td>\n",
       "      <td>NaN</td>\n",
       "      <td>NaN</td>\n",
       "      <td>95,954,135</td>\n",
       "      <td>231,213,299</td>\n",
       "      <td>1,027,444,626</td>\n",
       "      <td>248,373,480</td>\n",
       "      <td>269,543,706</td>\n",
       "      <td>126,367,337</td>\n",
       "      <td>154,455,563</td>\n",
       "      <td>149,041,180</td>\n",
       "      <td>51,172,462</td>\n",
       "      <td>17,999,411</td>\n",
       "      <td>7,953,887</td>\n",
       "      <td>1,787,348</td>\n",
       "      <td>750,252</td>\n",
       "    </tr>\n",
       "    <tr>\n",
       "      <th>2207051</th>\n",
       "      <td>National</td>\n",
       "      <td>2020/11/19</td>\n",
       "      <td>NaN</td>\n",
       "      <td>NaN</td>\n",
       "      <td>NaN</td>\n",
       "      <td>NaN</td>\n",
       "      <td>93,468,789</td>\n",
       "      <td>233,698,645</td>\n",
       "      <td>1,023,244,380</td>\n",
       "      <td>247,800,254</td>\n",
       "      <td>266,987,840</td>\n",
       "      <td>125,041,236</td>\n",
       "      <td>152,756,826</td>\n",
       "      <td>147,639,120</td>\n",
       "      <td>52,272,385</td>\n",
       "      <td>20,187,095</td>\n",
       "      <td>8,050,777</td>\n",
       "      <td>1,765,481</td>\n",
       "      <td>743,366</td>\n",
       "    </tr>\n",
       "    <tr>\n",
       "      <th>2207052</th>\n",
       "      <td>National</td>\n",
       "      <td>2020/11/20</td>\n",
       "      <td>NaN</td>\n",
       "      <td>NaN</td>\n",
       "      <td>NaN</td>\n",
       "      <td>NaN</td>\n",
       "      <td>92,068,777</td>\n",
       "      <td>235,098,657</td>\n",
       "      <td>956,927,423</td>\n",
       "      <td>223,417,886</td>\n",
       "      <td>244,773,240</td>\n",
       "      <td>117,098,300</td>\n",
       "      <td>143,579,157</td>\n",
       "      <td>139,779,548</td>\n",
       "      <td>53,139,601</td>\n",
       "      <td>23,609,611</td>\n",
       "      <td>8,890,314</td>\n",
       "      <td>1,864,123</td>\n",
       "      <td>775,643</td>\n",
       "    </tr>\n",
       "    <tr>\n",
       "      <th>2207053</th>\n",
       "      <td>National</td>\n",
       "      <td>2020/11/21</td>\n",
       "      <td>NaN</td>\n",
       "      <td>NaN</td>\n",
       "      <td>NaN</td>\n",
       "      <td>NaN</td>\n",
       "      <td>97,329,319</td>\n",
       "      <td>229,838,115</td>\n",
       "      <td>922,868,472</td>\n",
       "      <td>212,777,197</td>\n",
       "      <td>233,965,980</td>\n",
       "      <td>113,197,921</td>\n",
       "      <td>138,925,704</td>\n",
       "      <td>135,239,553</td>\n",
       "      <td>52,838,748</td>\n",
       "      <td>25,181,630</td>\n",
       "      <td>8,163,466</td>\n",
       "      <td>1,786,976</td>\n",
       "      <td>791,297</td>\n",
       "    </tr>\n",
       "  </tbody>\n",
       "</table>\n",
       "<p>59043 rows × 19 columns</p>\n",
       "</div>"
      ],
      "text/plain": [
       "            Level        Date  State FIPS State Postal Code  County FIPS  \\\n",
       "1          County  2019/01/01         2.0                AK       2164.0   \n",
       "42         County  2019/01/01         2.0                AK       2230.0   \n",
       "46         County  2019/01/01         2.0                AK       2282.0   \n",
       "304        County  2019/01/01        15.0                HI      15005.0   \n",
       "824        County  2019/01/01        31.0                NE      31005.0   \n",
       "...           ...         ...         ...               ...          ...   \n",
       "2207049  National  2020/11/17         NaN               NaN          NaN   \n",
       "2207050  National  2020/11/18         NaN               NaN          NaN   \n",
       "2207051  National  2020/11/19         NaN               NaN          NaN   \n",
       "2207052  National  2020/11/20         NaN               NaN          NaN   \n",
       "2207053  National  2020/11/21         NaN               NaN          NaN   \n",
       "\n",
       "                        County Name Population Staying at Home  \\\n",
       "1        Lake and Peninsula Borough                        NaN   \n",
       "42             Skagway Municipality                        NaN   \n",
       "46         Yakutat City and Borough                        NaN   \n",
       "304                  Kalawao County                        NaN   \n",
       "824                   Arthur County                        NaN   \n",
       "...                             ...                        ...   \n",
       "2207049                         NaN                 97,573,501   \n",
       "2207050                         NaN                 95,954,135   \n",
       "2207051                         NaN                 93,468,789   \n",
       "2207052                         NaN                 92,068,777   \n",
       "2207053                         NaN                 97,329,319   \n",
       "\n",
       "        Population Not Staying at Home Number of Trips Number of Trips <1  \\\n",
       "1                                  NaN             NaN                NaN   \n",
       "42                                 NaN             NaN                NaN   \n",
       "46                                 NaN             NaN                NaN   \n",
       "304                                NaN             NaN                NaN   \n",
       "824                                NaN             NaN                NaN   \n",
       "...                                ...             ...                ...   \n",
       "2207049                    229,593,933     989,568,973        234,805,101   \n",
       "2207050                    231,213,299   1,027,444,626        248,373,480   \n",
       "2207051                    233,698,645   1,023,244,380        247,800,254   \n",
       "2207052                    235,098,657     956,927,423        223,417,886   \n",
       "2207053                    229,838,115     922,868,472        212,777,197   \n",
       "\n",
       "        Number of Trips 1-3 Number of Trips 3-5 Number of Trips 5-10  \\\n",
       "1                       NaN                 NaN                  NaN   \n",
       "42                      NaN                 NaN                  NaN   \n",
       "46                      NaN                 NaN                  NaN   \n",
       "304                     NaN                 NaN                  NaN   \n",
       "824                     NaN                 NaN                  NaN   \n",
       "...                     ...                 ...                  ...   \n",
       "2207049         259,934,985         122,714,018          150,290,148   \n",
       "2207050         269,543,706         126,367,337          154,455,563   \n",
       "2207051         266,987,840         125,041,236          152,756,826   \n",
       "2207052         244,773,240         117,098,300          143,579,157   \n",
       "2207053         233,965,980         113,197,921          138,925,704   \n",
       "\n",
       "        Number of Trips 10-25 Number of Trips 25-50 Number of Trips 50-100  \\\n",
       "1                         NaN                   NaN                    NaN   \n",
       "42                        NaN                   NaN                    NaN   \n",
       "46                        NaN                   NaN                    NaN   \n",
       "304                       NaN                   NaN                    NaN   \n",
       "824                       NaN                   NaN                    NaN   \n",
       "...                       ...                   ...                    ...   \n",
       "2207049           145,112,889            49,573,515             16,971,134   \n",
       "2207050           149,041,180            51,172,462             17,999,411   \n",
       "2207051           147,639,120            52,272,385             20,187,095   \n",
       "2207052           139,779,548            53,139,601             23,609,611   \n",
       "2207053           135,239,553            52,838,748             25,181,630   \n",
       "\n",
       "        Number of Trips 100-250 Number of Trips 250-500 Number of Trips >=500  \n",
       "1                           NaN                     NaN                   NaN  \n",
       "42                          NaN                     NaN                   NaN  \n",
       "46                          NaN                     NaN                   NaN  \n",
       "304                         NaN                     NaN                   NaN  \n",
       "824                         NaN                     NaN                   NaN  \n",
       "...                         ...                     ...                   ...  \n",
       "2207049               7,726,729               1,711,083               729,371  \n",
       "2207050               7,953,887               1,787,348               750,252  \n",
       "2207051               8,050,777               1,765,481               743,366  \n",
       "2207052               8,890,314               1,864,123               775,643  \n",
       "2207053               8,163,466               1,786,976               791,297  \n",
       "\n",
       "[59043 rows x 19 columns]"
      ]
     },
     "execution_count": 9,
     "metadata": {},
     "output_type": "execute_result"
    }
   ],
   "source": [
    "# Returns a Dataframe Containing Only the Rows With Null Values\n",
    "bts_gov_trps_df_null_val = bts_gov_trps_df[bts_gov_trps_df.isnull().any(axis=1)]\n",
    "\n",
    "# Returns the Number of Cells Within a Column With Null Values\n",
    "print(bts_gov_trps_df_null_val.count())\n",
    "bts_gov_trps_df_null_val"
   ]
  },
  {
   "cell_type": "markdown",
   "metadata": {},
   "source": [
    "# ---------------------------------------------------------------------"
   ]
  },
  {
   "cell_type": "markdown",
   "metadata": {},
   "source": [
    "### Dateframe with Totals for each State and the Nation Per Day"
   ]
  },
  {
   "cell_type": "markdown",
   "metadata": {},
   "source": [
    "# ---------------------------------------------------------------------"
   ]
  },
  {
   "cell_type": "code",
   "execution_count": 10,
   "metadata": {},
   "outputs": [],
   "source": [
    "# Array of the Columns Where the Null Values will be Converted to 0\n",
    "# These are the Columns that Should Have a Zero Values Instead of a Null Values\n",
    "clmns_to_cnvrt_null_vls_to_0 =[\"Population Staying at Home\", \"Population Not Staying at Home\",\"Number of Trips\",\"Number of Trips <1\", \"Number of Trips 1-3\", \"Number of Trips 1-3\", \"Number of Trips 3-5\", \"Number of Trips 5-10\", \"Number of Trips 10-25\", \"Number of Trips 25-50\", \"Number of Trips 50-100\", \"Number of Trips 100-250\", \"Number of Trips 250-500\", \"Number of Trips >=500\"]"
   ]
  },
  {
   "cell_type": "code",
   "execution_count": 11,
   "metadata": {},
   "outputs": [
    {
     "name": "stdout",
     "output_type": "stream",
     "text": [
      "Level                             35932\n",
      "Date                              35932\n",
      "State FIPS                        35241\n",
      "State Postal Code                 35241\n",
      "County FIPS                           0\n",
      "County Name                           0\n",
      "Population Staying at Home        35932\n",
      "Population Not Staying at Home    35932\n",
      "Number of Trips                   35932\n",
      "Number of Trips <1                35932\n",
      "Number of Trips 1-3               35932\n",
      "Number of Trips 3-5               35932\n",
      "Number of Trips 5-10              35932\n",
      "Number of Trips 10-25             35932\n",
      "Number of Trips 25-50             35932\n",
      "Number of Trips 50-100            35932\n",
      "Number of Trips 100-250           35932\n",
      "Number of Trips 250-500           35932\n",
      "Number of Trips >=500             35932\n",
      "dtype: int64\n"
     ]
    },
    {
     "data": {
      "text/html": [
       "<div>\n",
       "<style scoped>\n",
       "    .dataframe tbody tr th:only-of-type {\n",
       "        vertical-align: middle;\n",
       "    }\n",
       "\n",
       "    .dataframe tbody tr th {\n",
       "        vertical-align: top;\n",
       "    }\n",
       "\n",
       "    .dataframe thead th {\n",
       "        text-align: right;\n",
       "    }\n",
       "</style>\n",
       "<table border=\"1\" class=\"dataframe\">\n",
       "  <thead>\n",
       "    <tr style=\"text-align: right;\">\n",
       "      <th></th>\n",
       "      <th>Level</th>\n",
       "      <th>Date</th>\n",
       "      <th>State FIPS</th>\n",
       "      <th>State Postal Code</th>\n",
       "      <th>County FIPS</th>\n",
       "      <th>County Name</th>\n",
       "      <th>Population Staying at Home</th>\n",
       "      <th>Population Not Staying at Home</th>\n",
       "      <th>Number of Trips</th>\n",
       "      <th>Number of Trips &lt;1</th>\n",
       "      <th>Number of Trips 1-3</th>\n",
       "      <th>Number of Trips 3-5</th>\n",
       "      <th>Number of Trips 5-10</th>\n",
       "      <th>Number of Trips 10-25</th>\n",
       "      <th>Number of Trips 25-50</th>\n",
       "      <th>Number of Trips 50-100</th>\n",
       "      <th>Number of Trips 100-250</th>\n",
       "      <th>Number of Trips 250-500</th>\n",
       "      <th>Number of Trips &gt;=500</th>\n",
       "    </tr>\n",
       "  </thead>\n",
       "  <tbody>\n",
       "    <tr>\n",
       "      <th>15710</th>\n",
       "      <td>State</td>\n",
       "      <td>2019/01/01</td>\n",
       "      <td>25.0</td>\n",
       "      <td>MA</td>\n",
       "      <td>NaN</td>\n",
       "      <td>NaN</td>\n",
       "      <td>1,798,521</td>\n",
       "      <td>5,082,532</td>\n",
       "      <td>22,181,890</td>\n",
       "      <td>6,078,316</td>\n",
       "      <td>5,980,407</td>\n",
       "      <td>2,680,470</td>\n",
       "      <td>3,106,759</td>\n",
       "      <td>2,817,590</td>\n",
       "      <td>1,021,091</td>\n",
       "      <td>316,642</td>\n",
       "      <td>104,691</td>\n",
       "      <td>18,791</td>\n",
       "      <td>57,133</td>\n",
       "    </tr>\n",
       "    <tr>\n",
       "      <th>15711</th>\n",
       "      <td>State</td>\n",
       "      <td>2019/01/01</td>\n",
       "      <td>26.0</td>\n",
       "      <td>MI</td>\n",
       "      <td>NaN</td>\n",
       "      <td>NaN</td>\n",
       "      <td>2,342,813</td>\n",
       "      <td>7,622,550</td>\n",
       "      <td>26,701,254</td>\n",
       "      <td>6,633,681</td>\n",
       "      <td>6,893,858</td>\n",
       "      <td>3,358,485</td>\n",
       "      <td>4,024,493</td>\n",
       "      <td>3,681,856</td>\n",
       "      <td>1,264,454</td>\n",
       "      <td>479,687</td>\n",
       "      <td>242,283</td>\n",
       "      <td>55,384</td>\n",
       "      <td>67,073</td>\n",
       "    </tr>\n",
       "    <tr>\n",
       "      <th>15712</th>\n",
       "      <td>State</td>\n",
       "      <td>2019/01/01</td>\n",
       "      <td>27.0</td>\n",
       "      <td>MN</td>\n",
       "      <td>NaN</td>\n",
       "      <td>NaN</td>\n",
       "      <td>1,266,769</td>\n",
       "      <td>4,327,262</td>\n",
       "      <td>15,278,584</td>\n",
       "      <td>3,589,616</td>\n",
       "      <td>3,806,602</td>\n",
       "      <td>1,772,986</td>\n",
       "      <td>2,246,949</td>\n",
       "      <td>2,419,710</td>\n",
       "      <td>830,948</td>\n",
       "      <td>337,906</td>\n",
       "      <td>187,197</td>\n",
       "      <td>42,524</td>\n",
       "      <td>44,146</td>\n",
       "    </tr>\n",
       "    <tr>\n",
       "      <th>15713</th>\n",
       "      <td>State</td>\n",
       "      <td>2019/01/01</td>\n",
       "      <td>28.0</td>\n",
       "      <td>MS</td>\n",
       "      <td>NaN</td>\n",
       "      <td>NaN</td>\n",
       "      <td>596,999</td>\n",
       "      <td>2,380,405</td>\n",
       "      <td>7,297,125</td>\n",
       "      <td>1,787,312</td>\n",
       "      <td>1,930,713</td>\n",
       "      <td>884,893</td>\n",
       "      <td>1,102,272</td>\n",
       "      <td>934,487</td>\n",
       "      <td>355,845</td>\n",
       "      <td>178,107</td>\n",
       "      <td>92,480</td>\n",
       "      <td>24,396</td>\n",
       "      <td>6,620</td>\n",
       "    </tr>\n",
       "    <tr>\n",
       "      <th>15714</th>\n",
       "      <td>State</td>\n",
       "      <td>2019/01/01</td>\n",
       "      <td>29.0</td>\n",
       "      <td>MO</td>\n",
       "      <td>NaN</td>\n",
       "      <td>NaN</td>\n",
       "      <td>1,530,765</td>\n",
       "      <td>4,576,960</td>\n",
       "      <td>16,618,431</td>\n",
       "      <td>4,033,851</td>\n",
       "      <td>4,385,048</td>\n",
       "      <td>2,036,854</td>\n",
       "      <td>2,526,033</td>\n",
       "      <td>2,313,883</td>\n",
       "      <td>809,030</td>\n",
       "      <td>290,444</td>\n",
       "      <td>154,169</td>\n",
       "      <td>39,949</td>\n",
       "      <td>29,170</td>\n",
       "    </tr>\n",
       "    <tr>\n",
       "      <th>...</th>\n",
       "      <td>...</td>\n",
       "      <td>...</td>\n",
       "      <td>...</td>\n",
       "      <td>...</td>\n",
       "      <td>...</td>\n",
       "      <td>...</td>\n",
       "      <td>...</td>\n",
       "      <td>...</td>\n",
       "      <td>...</td>\n",
       "      <td>...</td>\n",
       "      <td>...</td>\n",
       "      <td>...</td>\n",
       "      <td>...</td>\n",
       "      <td>...</td>\n",
       "      <td>...</td>\n",
       "      <td>...</td>\n",
       "      <td>...</td>\n",
       "      <td>...</td>\n",
       "      <td>...</td>\n",
       "    </tr>\n",
       "    <tr>\n",
       "      <th>2207049</th>\n",
       "      <td>National</td>\n",
       "      <td>2020/11/17</td>\n",
       "      <td>NaN</td>\n",
       "      <td>NaN</td>\n",
       "      <td>NaN</td>\n",
       "      <td>NaN</td>\n",
       "      <td>97,573,501</td>\n",
       "      <td>229,593,933</td>\n",
       "      <td>989,568,973</td>\n",
       "      <td>234,805,101</td>\n",
       "      <td>259,934,985</td>\n",
       "      <td>122,714,018</td>\n",
       "      <td>150,290,148</td>\n",
       "      <td>145,112,889</td>\n",
       "      <td>49,573,515</td>\n",
       "      <td>16,971,134</td>\n",
       "      <td>7,726,729</td>\n",
       "      <td>1,711,083</td>\n",
       "      <td>729,371</td>\n",
       "    </tr>\n",
       "    <tr>\n",
       "      <th>2207050</th>\n",
       "      <td>National</td>\n",
       "      <td>2020/11/18</td>\n",
       "      <td>NaN</td>\n",
       "      <td>NaN</td>\n",
       "      <td>NaN</td>\n",
       "      <td>NaN</td>\n",
       "      <td>95,954,135</td>\n",
       "      <td>231,213,299</td>\n",
       "      <td>1,027,444,626</td>\n",
       "      <td>248,373,480</td>\n",
       "      <td>269,543,706</td>\n",
       "      <td>126,367,337</td>\n",
       "      <td>154,455,563</td>\n",
       "      <td>149,041,180</td>\n",
       "      <td>51,172,462</td>\n",
       "      <td>17,999,411</td>\n",
       "      <td>7,953,887</td>\n",
       "      <td>1,787,348</td>\n",
       "      <td>750,252</td>\n",
       "    </tr>\n",
       "    <tr>\n",
       "      <th>2207051</th>\n",
       "      <td>National</td>\n",
       "      <td>2020/11/19</td>\n",
       "      <td>NaN</td>\n",
       "      <td>NaN</td>\n",
       "      <td>NaN</td>\n",
       "      <td>NaN</td>\n",
       "      <td>93,468,789</td>\n",
       "      <td>233,698,645</td>\n",
       "      <td>1,023,244,380</td>\n",
       "      <td>247,800,254</td>\n",
       "      <td>266,987,840</td>\n",
       "      <td>125,041,236</td>\n",
       "      <td>152,756,826</td>\n",
       "      <td>147,639,120</td>\n",
       "      <td>52,272,385</td>\n",
       "      <td>20,187,095</td>\n",
       "      <td>8,050,777</td>\n",
       "      <td>1,765,481</td>\n",
       "      <td>743,366</td>\n",
       "    </tr>\n",
       "    <tr>\n",
       "      <th>2207052</th>\n",
       "      <td>National</td>\n",
       "      <td>2020/11/20</td>\n",
       "      <td>NaN</td>\n",
       "      <td>NaN</td>\n",
       "      <td>NaN</td>\n",
       "      <td>NaN</td>\n",
       "      <td>92,068,777</td>\n",
       "      <td>235,098,657</td>\n",
       "      <td>956,927,423</td>\n",
       "      <td>223,417,886</td>\n",
       "      <td>244,773,240</td>\n",
       "      <td>117,098,300</td>\n",
       "      <td>143,579,157</td>\n",
       "      <td>139,779,548</td>\n",
       "      <td>53,139,601</td>\n",
       "      <td>23,609,611</td>\n",
       "      <td>8,890,314</td>\n",
       "      <td>1,864,123</td>\n",
       "      <td>775,643</td>\n",
       "    </tr>\n",
       "    <tr>\n",
       "      <th>2207053</th>\n",
       "      <td>National</td>\n",
       "      <td>2020/11/21</td>\n",
       "      <td>NaN</td>\n",
       "      <td>NaN</td>\n",
       "      <td>NaN</td>\n",
       "      <td>NaN</td>\n",
       "      <td>97,329,319</td>\n",
       "      <td>229,838,115</td>\n",
       "      <td>922,868,472</td>\n",
       "      <td>212,777,197</td>\n",
       "      <td>233,965,980</td>\n",
       "      <td>113,197,921</td>\n",
       "      <td>138,925,704</td>\n",
       "      <td>135,239,553</td>\n",
       "      <td>52,838,748</td>\n",
       "      <td>25,181,630</td>\n",
       "      <td>8,163,466</td>\n",
       "      <td>1,786,976</td>\n",
       "      <td>791,297</td>\n",
       "    </tr>\n",
       "  </tbody>\n",
       "</table>\n",
       "<p>35932 rows × 19 columns</p>\n",
       "</div>"
      ],
      "text/plain": [
       "            Level        Date  State FIPS State Postal Code  County FIPS  \\\n",
       "15710       State  2019/01/01        25.0                MA          NaN   \n",
       "15711       State  2019/01/01        26.0                MI          NaN   \n",
       "15712       State  2019/01/01        27.0                MN          NaN   \n",
       "15713       State  2019/01/01        28.0                MS          NaN   \n",
       "15714       State  2019/01/01        29.0                MO          NaN   \n",
       "...           ...         ...         ...               ...          ...   \n",
       "2207049  National  2020/11/17         NaN               NaN          NaN   \n",
       "2207050  National  2020/11/18         NaN               NaN          NaN   \n",
       "2207051  National  2020/11/19         NaN               NaN          NaN   \n",
       "2207052  National  2020/11/20         NaN               NaN          NaN   \n",
       "2207053  National  2020/11/21         NaN               NaN          NaN   \n",
       "\n",
       "        County Name Population Staying at Home Population Not Staying at Home  \\\n",
       "15710           NaN                  1,798,521                      5,082,532   \n",
       "15711           NaN                  2,342,813                      7,622,550   \n",
       "15712           NaN                  1,266,769                      4,327,262   \n",
       "15713           NaN                    596,999                      2,380,405   \n",
       "15714           NaN                  1,530,765                      4,576,960   \n",
       "...             ...                        ...                            ...   \n",
       "2207049         NaN                 97,573,501                    229,593,933   \n",
       "2207050         NaN                 95,954,135                    231,213,299   \n",
       "2207051         NaN                 93,468,789                    233,698,645   \n",
       "2207052         NaN                 92,068,777                    235,098,657   \n",
       "2207053         NaN                 97,329,319                    229,838,115   \n",
       "\n",
       "        Number of Trips Number of Trips <1 Number of Trips 1-3  \\\n",
       "15710        22,181,890          6,078,316           5,980,407   \n",
       "15711        26,701,254          6,633,681           6,893,858   \n",
       "15712        15,278,584          3,589,616           3,806,602   \n",
       "15713         7,297,125          1,787,312           1,930,713   \n",
       "15714        16,618,431          4,033,851           4,385,048   \n",
       "...                 ...                ...                 ...   \n",
       "2207049     989,568,973        234,805,101         259,934,985   \n",
       "2207050   1,027,444,626        248,373,480         269,543,706   \n",
       "2207051   1,023,244,380        247,800,254         266,987,840   \n",
       "2207052     956,927,423        223,417,886         244,773,240   \n",
       "2207053     922,868,472        212,777,197         233,965,980   \n",
       "\n",
       "        Number of Trips 3-5 Number of Trips 5-10 Number of Trips 10-25  \\\n",
       "15710             2,680,470            3,106,759             2,817,590   \n",
       "15711             3,358,485            4,024,493             3,681,856   \n",
       "15712             1,772,986            2,246,949             2,419,710   \n",
       "15713               884,893            1,102,272               934,487   \n",
       "15714             2,036,854            2,526,033             2,313,883   \n",
       "...                     ...                  ...                   ...   \n",
       "2207049         122,714,018          150,290,148           145,112,889   \n",
       "2207050         126,367,337          154,455,563           149,041,180   \n",
       "2207051         125,041,236          152,756,826           147,639,120   \n",
       "2207052         117,098,300          143,579,157           139,779,548   \n",
       "2207053         113,197,921          138,925,704           135,239,553   \n",
       "\n",
       "        Number of Trips 25-50 Number of Trips 50-100 Number of Trips 100-250  \\\n",
       "15710               1,021,091                316,642                 104,691   \n",
       "15711               1,264,454                479,687                 242,283   \n",
       "15712                 830,948                337,906                 187,197   \n",
       "15713                 355,845                178,107                  92,480   \n",
       "15714                 809,030                290,444                 154,169   \n",
       "...                       ...                    ...                     ...   \n",
       "2207049            49,573,515             16,971,134               7,726,729   \n",
       "2207050            51,172,462             17,999,411               7,953,887   \n",
       "2207051            52,272,385             20,187,095               8,050,777   \n",
       "2207052            53,139,601             23,609,611               8,890,314   \n",
       "2207053            52,838,748             25,181,630               8,163,466   \n",
       "\n",
       "        Number of Trips 250-500 Number of Trips >=500  \n",
       "15710                    18,791                57,133  \n",
       "15711                    55,384                67,073  \n",
       "15712                    42,524                44,146  \n",
       "15713                    24,396                 6,620  \n",
       "15714                    39,949                29,170  \n",
       "...                         ...                   ...  \n",
       "2207049               1,711,083               729,371  \n",
       "2207050               1,787,348               750,252  \n",
       "2207051               1,765,481               743,366  \n",
       "2207052               1,864,123               775,643  \n",
       "2207053               1,786,976               791,297  \n",
       "\n",
       "[35932 rows x 19 columns]"
      ]
     },
     "execution_count": 11,
     "metadata": {},
     "output_type": "execute_result"
    }
   ],
   "source": [
    "# Drop the Rows that With Null Values (NaN) in ALL the Columns in the [\"clmns_to_cnvrt_null_vls_to_0\"] array: if All the Values are Null.\n",
    "bts_gov_trps_df_null_val_lvl_st_ntnl = bts_gov_trps_df_null_val.dropna(how=\"all\", subset=clmns_to_cnvrt_null_vls_to_0)\n",
    "print(bts_gov_trps_df_null_val_lvl_st_ntnl.count())\n",
    "bts_gov_trps_df_null_val_lvl_st_ntnl"
   ]
  },
  {
   "cell_type": "markdown",
   "metadata": {},
   "source": [
    "#### The Above Dataframe Looks Like the Totals for Each State and the Nation Per Day."
   ]
  },
  {
   "cell_type": "markdown",
   "metadata": {},
   "source": [
    "# ---------------------------------------------------------------------"
   ]
  },
  {
   "cell_type": "markdown",
   "metadata": {},
   "source": [
    "### Dataframe With Each State's Total Trips Per Day"
   ]
  },
  {
   "cell_type": "markdown",
   "metadata": {},
   "source": [
    "# ---------------------------------------------------------------------"
   ]
  },
  {
   "cell_type": "code",
   "execution_count": 14,
   "metadata": {
    "scrolled": true
   },
   "outputs": [
    {
     "name": "stdout",
     "output_type": "stream",
     "text": [
      "Level                             35241\n",
      "Date                              35241\n",
      "State FIPS                        35241\n",
      "State Postal Code                 35241\n",
      "County FIPS                           0\n",
      "County Name                           0\n",
      "Population Staying at Home        35241\n",
      "Population Not Staying at Home    35241\n",
      "Number of Trips                   35241\n",
      "Number of Trips <1                35241\n",
      "Number of Trips 1-3               35241\n",
      "Number of Trips 3-5               35241\n",
      "Number of Trips 5-10              35241\n",
      "Number of Trips 10-25             35241\n",
      "Number of Trips 25-50             35241\n",
      "Number of Trips 50-100            35241\n",
      "Number of Trips 100-250           35241\n",
      "Number of Trips 250-500           35241\n",
      "Number of Trips >=500             35241\n",
      "dtype: int64\n"
     ]
    },
    {
     "data": {
      "text/html": [
       "<div>\n",
       "<style scoped>\n",
       "    .dataframe tbody tr th:only-of-type {\n",
       "        vertical-align: middle;\n",
       "    }\n",
       "\n",
       "    .dataframe tbody tr th {\n",
       "        vertical-align: top;\n",
       "    }\n",
       "\n",
       "    .dataframe thead th {\n",
       "        text-align: right;\n",
       "    }\n",
       "</style>\n",
       "<table border=\"1\" class=\"dataframe\">\n",
       "  <thead>\n",
       "    <tr style=\"text-align: right;\">\n",
       "      <th></th>\n",
       "      <th>Level</th>\n",
       "      <th>Date</th>\n",
       "      <th>State FIPS</th>\n",
       "      <th>State Postal Code</th>\n",
       "      <th>County FIPS</th>\n",
       "      <th>County Name</th>\n",
       "      <th>Population Staying at Home</th>\n",
       "      <th>Population Not Staying at Home</th>\n",
       "      <th>Number of Trips</th>\n",
       "      <th>Number of Trips &lt;1</th>\n",
       "      <th>Number of Trips 1-3</th>\n",
       "      <th>Number of Trips 3-5</th>\n",
       "      <th>Number of Trips 5-10</th>\n",
       "      <th>Number of Trips 10-25</th>\n",
       "      <th>Number of Trips 25-50</th>\n",
       "      <th>Number of Trips 50-100</th>\n",
       "      <th>Number of Trips 100-250</th>\n",
       "      <th>Number of Trips 250-500</th>\n",
       "      <th>Number of Trips &gt;=500</th>\n",
       "    </tr>\n",
       "  </thead>\n",
       "  <tbody>\n",
       "    <tr>\n",
       "      <th>15710</th>\n",
       "      <td>State</td>\n",
       "      <td>2019/01/01</td>\n",
       "      <td>25.0</td>\n",
       "      <td>MA</td>\n",
       "      <td>NaN</td>\n",
       "      <td>NaN</td>\n",
       "      <td>1,798,521</td>\n",
       "      <td>5,082,532</td>\n",
       "      <td>22,181,890</td>\n",
       "      <td>6,078,316</td>\n",
       "      <td>5,980,407</td>\n",
       "      <td>2,680,470</td>\n",
       "      <td>3,106,759</td>\n",
       "      <td>2,817,590</td>\n",
       "      <td>1,021,091</td>\n",
       "      <td>316,642</td>\n",
       "      <td>104,691</td>\n",
       "      <td>18,791</td>\n",
       "      <td>57,133</td>\n",
       "    </tr>\n",
       "    <tr>\n",
       "      <th>15711</th>\n",
       "      <td>State</td>\n",
       "      <td>2019/01/01</td>\n",
       "      <td>26.0</td>\n",
       "      <td>MI</td>\n",
       "      <td>NaN</td>\n",
       "      <td>NaN</td>\n",
       "      <td>2,342,813</td>\n",
       "      <td>7,622,550</td>\n",
       "      <td>26,701,254</td>\n",
       "      <td>6,633,681</td>\n",
       "      <td>6,893,858</td>\n",
       "      <td>3,358,485</td>\n",
       "      <td>4,024,493</td>\n",
       "      <td>3,681,856</td>\n",
       "      <td>1,264,454</td>\n",
       "      <td>479,687</td>\n",
       "      <td>242,283</td>\n",
       "      <td>55,384</td>\n",
       "      <td>67,073</td>\n",
       "    </tr>\n",
       "    <tr>\n",
       "      <th>15712</th>\n",
       "      <td>State</td>\n",
       "      <td>2019/01/01</td>\n",
       "      <td>27.0</td>\n",
       "      <td>MN</td>\n",
       "      <td>NaN</td>\n",
       "      <td>NaN</td>\n",
       "      <td>1,266,769</td>\n",
       "      <td>4,327,262</td>\n",
       "      <td>15,278,584</td>\n",
       "      <td>3,589,616</td>\n",
       "      <td>3,806,602</td>\n",
       "      <td>1,772,986</td>\n",
       "      <td>2,246,949</td>\n",
       "      <td>2,419,710</td>\n",
       "      <td>830,948</td>\n",
       "      <td>337,906</td>\n",
       "      <td>187,197</td>\n",
       "      <td>42,524</td>\n",
       "      <td>44,146</td>\n",
       "    </tr>\n",
       "    <tr>\n",
       "      <th>15713</th>\n",
       "      <td>State</td>\n",
       "      <td>2019/01/01</td>\n",
       "      <td>28.0</td>\n",
       "      <td>MS</td>\n",
       "      <td>NaN</td>\n",
       "      <td>NaN</td>\n",
       "      <td>596,999</td>\n",
       "      <td>2,380,405</td>\n",
       "      <td>7,297,125</td>\n",
       "      <td>1,787,312</td>\n",
       "      <td>1,930,713</td>\n",
       "      <td>884,893</td>\n",
       "      <td>1,102,272</td>\n",
       "      <td>934,487</td>\n",
       "      <td>355,845</td>\n",
       "      <td>178,107</td>\n",
       "      <td>92,480</td>\n",
       "      <td>24,396</td>\n",
       "      <td>6,620</td>\n",
       "    </tr>\n",
       "    <tr>\n",
       "      <th>15714</th>\n",
       "      <td>State</td>\n",
       "      <td>2019/01/01</td>\n",
       "      <td>29.0</td>\n",
       "      <td>MO</td>\n",
       "      <td>NaN</td>\n",
       "      <td>NaN</td>\n",
       "      <td>1,530,765</td>\n",
       "      <td>4,576,960</td>\n",
       "      <td>16,618,431</td>\n",
       "      <td>4,033,851</td>\n",
       "      <td>4,385,048</td>\n",
       "      <td>2,036,854</td>\n",
       "      <td>2,526,033</td>\n",
       "      <td>2,313,883</td>\n",
       "      <td>809,030</td>\n",
       "      <td>290,444</td>\n",
       "      <td>154,169</td>\n",
       "      <td>39,949</td>\n",
       "      <td>29,170</td>\n",
       "    </tr>\n",
       "    <tr>\n",
       "      <th>...</th>\n",
       "      <td>...</td>\n",
       "      <td>...</td>\n",
       "      <td>...</td>\n",
       "      <td>...</td>\n",
       "      <td>...</td>\n",
       "      <td>...</td>\n",
       "      <td>...</td>\n",
       "      <td>...</td>\n",
       "      <td>...</td>\n",
       "      <td>...</td>\n",
       "      <td>...</td>\n",
       "      <td>...</td>\n",
       "      <td>...</td>\n",
       "      <td>...</td>\n",
       "      <td>...</td>\n",
       "      <td>...</td>\n",
       "      <td>...</td>\n",
       "      <td>...</td>\n",
       "      <td>...</td>\n",
       "    </tr>\n",
       "    <tr>\n",
       "      <th>2207042</th>\n",
       "      <td>State</td>\n",
       "      <td>2020/11/21</td>\n",
       "      <td>10.0</td>\n",
       "      <td>DE</td>\n",
       "      <td>NaN</td>\n",
       "      <td>NaN</td>\n",
       "      <td>277,495</td>\n",
       "      <td>689,676</td>\n",
       "      <td>2,832,707</td>\n",
       "      <td>604,972</td>\n",
       "      <td>713,195</td>\n",
       "      <td>369,273</td>\n",
       "      <td>454,354</td>\n",
       "      <td>401,164</td>\n",
       "      <td>180,043</td>\n",
       "      <td>91,437</td>\n",
       "      <td>16,663</td>\n",
       "      <td>915</td>\n",
       "      <td>691</td>\n",
       "    </tr>\n",
       "    <tr>\n",
       "      <th>2207043</th>\n",
       "      <td>State</td>\n",
       "      <td>2020/11/21</td>\n",
       "      <td>23.0</td>\n",
       "      <td>ME</td>\n",
       "      <td>NaN</td>\n",
       "      <td>NaN</td>\n",
       "      <td>405,767</td>\n",
       "      <td>932,637</td>\n",
       "      <td>3,482,073</td>\n",
       "      <td>636,056</td>\n",
       "      <td>851,371</td>\n",
       "      <td>440,434</td>\n",
       "      <td>555,144</td>\n",
       "      <td>603,887</td>\n",
       "      <td>243,648</td>\n",
       "      <td>110,970</td>\n",
       "      <td>33,916</td>\n",
       "      <td>4,585</td>\n",
       "      <td>2,062</td>\n",
       "    </tr>\n",
       "    <tr>\n",
       "      <th>2207044</th>\n",
       "      <td>State</td>\n",
       "      <td>2020/11/21</td>\n",
       "      <td>40.0</td>\n",
       "      <td>OK</td>\n",
       "      <td>NaN</td>\n",
       "      <td>NaN</td>\n",
       "      <td>1,121,125</td>\n",
       "      <td>2,821,954</td>\n",
       "      <td>10,725,736</td>\n",
       "      <td>2,421,533</td>\n",
       "      <td>2,736,594</td>\n",
       "      <td>1,229,055</td>\n",
       "      <td>1,588,849</td>\n",
       "      <td>1,638,856</td>\n",
       "      <td>616,443</td>\n",
       "      <td>346,034</td>\n",
       "      <td>122,738</td>\n",
       "      <td>20,359</td>\n",
       "      <td>5,275</td>\n",
       "    </tr>\n",
       "    <tr>\n",
       "      <th>2207045</th>\n",
       "      <td>State</td>\n",
       "      <td>2020/11/21</td>\n",
       "      <td>55.0</td>\n",
       "      <td>WI</td>\n",
       "      <td>NaN</td>\n",
       "      <td>NaN</td>\n",
       "      <td>1,708,357</td>\n",
       "      <td>4,105,211</td>\n",
       "      <td>15,988,642</td>\n",
       "      <td>3,415,712</td>\n",
       "      <td>3,963,118</td>\n",
       "      <td>1,993,093</td>\n",
       "      <td>2,440,392</td>\n",
       "      <td>2,442,194</td>\n",
       "      <td>990,260</td>\n",
       "      <td>508,393</td>\n",
       "      <td>184,244</td>\n",
       "      <td>41,181</td>\n",
       "      <td>10,055</td>\n",
       "    </tr>\n",
       "    <tr>\n",
       "      <th>2207046</th>\n",
       "      <td>State</td>\n",
       "      <td>2020/11/21</td>\n",
       "      <td>54.0</td>\n",
       "      <td>WV</td>\n",
       "      <td>NaN</td>\n",
       "      <td>NaN</td>\n",
       "      <td>542,360</td>\n",
       "      <td>1,263,472</td>\n",
       "      <td>4,716,158</td>\n",
       "      <td>914,230</td>\n",
       "      <td>1,149,336</td>\n",
       "      <td>575,879</td>\n",
       "      <td>724,394</td>\n",
       "      <td>735,706</td>\n",
       "      <td>347,771</td>\n",
       "      <td>213,289</td>\n",
       "      <td>46,164</td>\n",
       "      <td>7,524</td>\n",
       "      <td>1,865</td>\n",
       "    </tr>\n",
       "  </tbody>\n",
       "</table>\n",
       "<p>35241 rows × 19 columns</p>\n",
       "</div>"
      ],
      "text/plain": [
       "         Level        Date  State FIPS State Postal Code  County FIPS  \\\n",
       "15710    State  2019/01/01        25.0                MA          NaN   \n",
       "15711    State  2019/01/01        26.0                MI          NaN   \n",
       "15712    State  2019/01/01        27.0                MN          NaN   \n",
       "15713    State  2019/01/01        28.0                MS          NaN   \n",
       "15714    State  2019/01/01        29.0                MO          NaN   \n",
       "...        ...         ...         ...               ...          ...   \n",
       "2207042  State  2020/11/21        10.0                DE          NaN   \n",
       "2207043  State  2020/11/21        23.0                ME          NaN   \n",
       "2207044  State  2020/11/21        40.0                OK          NaN   \n",
       "2207045  State  2020/11/21        55.0                WI          NaN   \n",
       "2207046  State  2020/11/21        54.0                WV          NaN   \n",
       "\n",
       "        County Name Population Staying at Home Population Not Staying at Home  \\\n",
       "15710           NaN                  1,798,521                      5,082,532   \n",
       "15711           NaN                  2,342,813                      7,622,550   \n",
       "15712           NaN                  1,266,769                      4,327,262   \n",
       "15713           NaN                    596,999                      2,380,405   \n",
       "15714           NaN                  1,530,765                      4,576,960   \n",
       "...             ...                        ...                            ...   \n",
       "2207042         NaN                    277,495                        689,676   \n",
       "2207043         NaN                    405,767                        932,637   \n",
       "2207044         NaN                  1,121,125                      2,821,954   \n",
       "2207045         NaN                  1,708,357                      4,105,211   \n",
       "2207046         NaN                    542,360                      1,263,472   \n",
       "\n",
       "        Number of Trips Number of Trips <1 Number of Trips 1-3  \\\n",
       "15710        22,181,890          6,078,316           5,980,407   \n",
       "15711        26,701,254          6,633,681           6,893,858   \n",
       "15712        15,278,584          3,589,616           3,806,602   \n",
       "15713         7,297,125          1,787,312           1,930,713   \n",
       "15714        16,618,431          4,033,851           4,385,048   \n",
       "...                 ...                ...                 ...   \n",
       "2207042       2,832,707            604,972             713,195   \n",
       "2207043       3,482,073            636,056             851,371   \n",
       "2207044      10,725,736          2,421,533           2,736,594   \n",
       "2207045      15,988,642          3,415,712           3,963,118   \n",
       "2207046       4,716,158            914,230           1,149,336   \n",
       "\n",
       "        Number of Trips 3-5 Number of Trips 5-10 Number of Trips 10-25  \\\n",
       "15710             2,680,470            3,106,759             2,817,590   \n",
       "15711             3,358,485            4,024,493             3,681,856   \n",
       "15712             1,772,986            2,246,949             2,419,710   \n",
       "15713               884,893            1,102,272               934,487   \n",
       "15714             2,036,854            2,526,033             2,313,883   \n",
       "...                     ...                  ...                   ...   \n",
       "2207042             369,273              454,354               401,164   \n",
       "2207043             440,434              555,144               603,887   \n",
       "2207044           1,229,055            1,588,849             1,638,856   \n",
       "2207045           1,993,093            2,440,392             2,442,194   \n",
       "2207046             575,879              724,394               735,706   \n",
       "\n",
       "        Number of Trips 25-50 Number of Trips 50-100 Number of Trips 100-250  \\\n",
       "15710               1,021,091                316,642                 104,691   \n",
       "15711               1,264,454                479,687                 242,283   \n",
       "15712                 830,948                337,906                 187,197   \n",
       "15713                 355,845                178,107                  92,480   \n",
       "15714                 809,030                290,444                 154,169   \n",
       "...                       ...                    ...                     ...   \n",
       "2207042               180,043                 91,437                  16,663   \n",
       "2207043               243,648                110,970                  33,916   \n",
       "2207044               616,443                346,034                 122,738   \n",
       "2207045               990,260                508,393                 184,244   \n",
       "2207046               347,771                213,289                  46,164   \n",
       "\n",
       "        Number of Trips 250-500 Number of Trips >=500  \n",
       "15710                    18,791                57,133  \n",
       "15711                    55,384                67,073  \n",
       "15712                    42,524                44,146  \n",
       "15713                    24,396                 6,620  \n",
       "15714                    39,949                29,170  \n",
       "...                         ...                   ...  \n",
       "2207042                     915                   691  \n",
       "2207043                   4,585                 2,062  \n",
       "2207044                  20,359                 5,275  \n",
       "2207045                  41,181                10,055  \n",
       "2207046                   7,524                 1,865  \n",
       "\n",
       "[35241 rows x 19 columns]"
      ]
     },
     "execution_count": 14,
     "metadata": {},
     "output_type": "execute_result"
    }
   ],
   "source": [
    "# Dataframe With the Total State Trips Per Day\n",
    "bts_gov_trps_df_cnty_clmn_null_lvl_st = bts_gov_trps_df_null_val_lvl_st_ntnl.dropna(how=\"all\", subset=[\"State Postal Code\"])\n",
    "print(bts_gov_trps_df_cnty_clmn_null_lvl_st.count())\n",
    "bts_gov_trps_df_cnty_clmn_null_lvl_st"
   ]
  },
  {
   "cell_type": "code",
   "execution_count": 15,
   "metadata": {
    "scrolled": true
   },
   "outputs": [
    {
     "data": {
      "text/plain": [
       "Level                             False\n",
       "Date                              False\n",
       "State FIPS                        False\n",
       "State Postal Code                 False\n",
       "County FIPS                        True\n",
       "County Name                        True\n",
       "Population Staying at Home        False\n",
       "Population Not Staying at Home    False\n",
       "Number of Trips                   False\n",
       "Number of Trips <1                False\n",
       "Number of Trips 1-3               False\n",
       "Number of Trips 3-5               False\n",
       "Number of Trips 5-10              False\n",
       "Number of Trips 10-25             False\n",
       "Number of Trips 25-50             False\n",
       "Number of Trips 50-100            False\n",
       "Number of Trips 100-250           False\n",
       "Number of Trips 250-500           False\n",
       "Number of Trips >=500             False\n",
       "dtype: bool"
      ]
     },
     "execution_count": 15,
     "metadata": {},
     "output_type": "execute_result"
    }
   ],
   "source": [
    "# Which Columns Have Null Values in the State Level Dataframe\n",
    "bts_gov_trps_df_cnty_clmn_null_lvl_st.isnull().any()"
   ]
  },
  {
   "cell_type": "markdown",
   "metadata": {},
   "source": [
    "#### Correct, Only the County Columns have Null Values. Since This is a Daily State Totals Dataframe. "
   ]
  },
  {
   "cell_type": "markdown",
   "metadata": {},
   "source": [
    "# ---------------------------------------------------------------------"
   ]
  },
  {
   "cell_type": "markdown",
   "metadata": {},
   "source": [
    "### Dataframe With Total National Trips Per Day"
   ]
  },
  {
   "cell_type": "markdown",
   "metadata": {},
   "source": [
    "# ---------------------------------------------------------------------"
   ]
  },
  {
   "cell_type": "code",
   "execution_count": null,
   "metadata": {
    "scrolled": false
   },
   "outputs": [],
   "source": [
    "# Dataframe the Total National Trips Per Day\n",
    "bts_gov_trps_df_NULL_VALUES_lvl_ntnl = bts_gov_trps_df_NULL_VALUES_lvl_st_ntnl[bts_gov_trps_df_NULL_VALUES_lvl_st_ntnl[\"Level\"] == \"National\"]\n",
    "print(bts_gov_trps_df_NULL_VALUES_lvl_ntnl.count())\n",
    "bts_gov_trps_df_NULL_VALUES_lvl_ntnl"
   ]
  },
  {
   "cell_type": "code",
   "execution_count": null,
   "metadata": {
    "scrolled": true
   },
   "outputs": [],
   "source": [
    "# Which Columns Have Null Values in the National Level Dataframe\n",
    "bts_gov_trps_df_NULL_VALUES_lvl_ntnl.isnull().any()"
   ]
  },
  {
   "cell_type": "markdown",
   "metadata": {},
   "source": [
    "#### Correct, the State and County Columns have Null Values. Since This is a Daily National Totals Dataframe. "
   ]
  },
  {
   "cell_type": "code",
   "execution_count": null,
   "metadata": {},
   "outputs": [],
   "source": [
    "bts_gov_trps_df_NULL_VALUES_lvl_ntnl = bts_gov_trps_df_NULL_VALUES_lvl_ntnl"
   ]
  },
  {
   "cell_type": "markdown",
   "metadata": {},
   "source": [
    "# ---------------------------------------------------------------------"
   ]
  },
  {
   "cell_type": "markdown",
   "metadata": {},
   "source": [
    "### Dataframe With Total County Trips Per Day"
   ]
  },
  {
   "cell_type": "markdown",
   "metadata": {},
   "source": [
    "# ---------------------------------------------------------------------"
   ]
  },
  {
   "cell_type": "code",
   "execution_count": null,
   "metadata": {
    "scrolled": true
   },
   "outputs": [],
   "source": [
    "# Dataframe the Total County Trips Per Day\n",
    "bts_gov_trps_df_lvl_cnty = bts_gov_trps_df[bts_gov_trps_df[\"Level\"] == \"County\"]\n",
    "print(bts_gov_trps_df_lvl_cnty.count())\n",
    "bts_gov_trps_df_lvl_cnty"
   ]
  },
  {
   "cell_type": "code",
   "execution_count": null,
   "metadata": {
    "scrolled": false
   },
   "outputs": [],
   "source": [
    "# Which Columns Have Null Values in the County Level Dataframe\n",
    "bts_gov_trps_df_lvl_cnty.isnull().any()"
   ]
  },
  {
   "cell_type": "markdown",
   "metadata": {},
   "source": [
    "#### #### I am Not Sure Why the Population and Trips Columns Have Null Values. I am Assuming They are Null Because No Trips Were Taken?"
   ]
  },
  {
   "cell_type": "code",
   "execution_count": null,
   "metadata": {},
   "outputs": [],
   "source": [
    "bts_gov_trps_df_NULL_VALUES_null_dltd[\"Level\"].unique()"
   ]
  },
  {
   "cell_type": "markdown",
   "metadata": {},
   "source": [
    "# ---------------------------------------------------------------------"
   ]
  },
  {
   "cell_type": "markdown",
   "metadata": {},
   "source": [
    "#### Convert All the Null Values in the \"clmns_to_cnvrt_null_vls_to_0\" Array to Zero"
   ]
  },
  {
   "cell_type": "markdown",
   "metadata": {},
   "source": [
    "# ---------------------------------------------------------------------"
   ]
  },
  {
   "cell_type": "code",
   "execution_count": null,
   "metadata": {
    "scrolled": true
   },
   "outputs": [],
   "source": [
    "bts_gov_trps_df_lvl_cnty[clmns_to_cnvrt_null_vls_to_0] = bts_gov_trps_df_lvl_cnty[clmns_to_cnvrt_null_vls_to_0].replace(np.nan, 0)\n",
    "bts_gov_trps_df_lvl_cnty"
   ]
  },
  {
   "cell_type": "code",
   "execution_count": null,
   "metadata": {
    "scrolled": true
   },
   "outputs": [],
   "source": [
    "# Which Columns Have Null Values in the County Level Dataframe\n",
    "bts_gov_trps_df_lvl_cnty.isnull().any()"
   ]
  },
  {
   "cell_type": "markdown",
   "metadata": {},
   "source": [
    "#### Correct, Now all the Columns Have a Value."
   ]
  },
  {
   "cell_type": "markdown",
   "metadata": {},
   "source": [
    "# ---------------------------------------------------------------------"
   ]
  },
  {
   "cell_type": "markdown",
   "metadata": {},
   "source": [
    "## New York Times COVID-19 Data Null Values"
   ]
  },
  {
   "cell_type": "markdown",
   "metadata": {},
   "source": [
    "# ---------------------------------------------------------------------"
   ]
  },
  {
   "cell_type": "code",
   "execution_count": 118,
   "metadata": {},
   "outputs": [
    {
     "data": {
      "text/plain": [
       "date      False\n",
       "county    False\n",
       "state     False\n",
       "fips       True\n",
       "cases     False\n",
       "deaths     True\n",
       "dtype: bool"
      ]
     },
     "execution_count": 118,
     "metadata": {},
     "output_type": "execute_result"
    }
   ],
   "source": [
    "# Columns with Null Values in the New York Times Dataframe \n",
    "nytimes_covid_19_df.isnull().any()"
   ]
  },
  {
   "cell_type": "code",
   "execution_count": 119,
   "metadata": {},
   "outputs": [
    {
     "data": {
      "text/plain": [
       "date          0\n",
       "county        0\n",
       "state         0\n",
       "fips       7452\n",
       "cases         0\n",
       "deaths    16343\n",
       "dtype: int64"
      ]
     },
     "execution_count": 119,
     "metadata": {},
     "output_type": "execute_result"
    }
   ],
   "source": [
    "# Rows with Null Values in the New York Times Dataframe \n",
    "nytimes_covid_19_df.isnull().sum()"
   ]
  },
  {
   "cell_type": "code",
   "execution_count": 120,
   "metadata": {
    "scrolled": true
   },
   "outputs": [
    {
     "name": "stdout",
     "output_type": "stream",
     "text": [
      "date      23795\n",
      "county    23795\n",
      "state     23795\n",
      "fips      16343\n",
      "cases     23795\n",
      "deaths     7452\n",
      "dtype: int64\n"
     ]
    },
    {
     "data": {
      "text/html": [
       "<div>\n",
       "<style scoped>\n",
       "    .dataframe tbody tr th:only-of-type {\n",
       "        vertical-align: middle;\n",
       "    }\n",
       "\n",
       "    .dataframe tbody tr th {\n",
       "        vertical-align: top;\n",
       "    }\n",
       "\n",
       "    .dataframe thead th {\n",
       "        text-align: right;\n",
       "    }\n",
       "</style>\n",
       "<table border=\"1\" class=\"dataframe\">\n",
       "  <thead>\n",
       "    <tr style=\"text-align: right;\">\n",
       "      <th></th>\n",
       "      <th>date</th>\n",
       "      <th>county</th>\n",
       "      <th>state</th>\n",
       "      <th>fips</th>\n",
       "      <th>cases</th>\n",
       "      <th>deaths</th>\n",
       "    </tr>\n",
       "  </thead>\n",
       "  <tbody>\n",
       "    <tr>\n",
       "      <th>416</th>\n",
       "      <td>2020-03-01</td>\n",
       "      <td>New York City</td>\n",
       "      <td>New York</td>\n",
       "      <td>NaN</td>\n",
       "      <td>1</td>\n",
       "      <td>0.0</td>\n",
       "    </tr>\n",
       "    <tr>\n",
       "      <th>418</th>\n",
       "      <td>2020-03-01</td>\n",
       "      <td>Unknown</td>\n",
       "      <td>Rhode Island</td>\n",
       "      <td>NaN</td>\n",
       "      <td>2</td>\n",
       "      <td>0.0</td>\n",
       "    </tr>\n",
       "    <tr>\n",
       "      <th>448</th>\n",
       "      <td>2020-03-02</td>\n",
       "      <td>New York City</td>\n",
       "      <td>New York</td>\n",
       "      <td>NaN</td>\n",
       "      <td>1</td>\n",
       "      <td>0.0</td>\n",
       "    </tr>\n",
       "    <tr>\n",
       "      <th>450</th>\n",
       "      <td>2020-03-02</td>\n",
       "      <td>Unknown</td>\n",
       "      <td>Rhode Island</td>\n",
       "      <td>NaN</td>\n",
       "      <td>2</td>\n",
       "      <td>0.0</td>\n",
       "    </tr>\n",
       "    <tr>\n",
       "      <th>482</th>\n",
       "      <td>2020-03-03</td>\n",
       "      <td>New York City</td>\n",
       "      <td>New York</td>\n",
       "      <td>NaN</td>\n",
       "      <td>2</td>\n",
       "      <td>0.0</td>\n",
       "    </tr>\n",
       "    <tr>\n",
       "      <th>...</th>\n",
       "      <td>...</td>\n",
       "      <td>...</td>\n",
       "      <td>...</td>\n",
       "      <td>...</td>\n",
       "      <td>...</td>\n",
       "      <td>...</td>\n",
       "    </tr>\n",
       "    <tr>\n",
       "      <th>783378</th>\n",
       "      <td>2020-11-30</td>\n",
       "      <td>Unknown</td>\n",
       "      <td>Rhode Island</td>\n",
       "      <td>NaN</td>\n",
       "      <td>10879</td>\n",
       "      <td>83.0</td>\n",
       "    </tr>\n",
       "    <tr>\n",
       "      <th>783579</th>\n",
       "      <td>2020-11-30</td>\n",
       "      <td>Unknown</td>\n",
       "      <td>Tennessee</td>\n",
       "      <td>NaN</td>\n",
       "      <td>1108</td>\n",
       "      <td>3.0</td>\n",
       "    </tr>\n",
       "    <tr>\n",
       "      <th>783866</th>\n",
       "      <td>2020-11-30</td>\n",
       "      <td>Unknown</td>\n",
       "      <td>Utah</td>\n",
       "      <td>NaN</td>\n",
       "      <td>185</td>\n",
       "      <td>2.0</td>\n",
       "    </tr>\n",
       "    <tr>\n",
       "      <th>783883</th>\n",
       "      <td>2020-11-30</td>\n",
       "      <td>Unknown</td>\n",
       "      <td>Vermont</td>\n",
       "      <td>NaN</td>\n",
       "      <td>8</td>\n",
       "      <td>0.0</td>\n",
       "    </tr>\n",
       "    <tr>\n",
       "      <th>784057</th>\n",
       "      <td>2020-11-30</td>\n",
       "      <td>Unknown</td>\n",
       "      <td>Washington</td>\n",
       "      <td>NaN</td>\n",
       "      <td>2</td>\n",
       "      <td>2.0</td>\n",
       "    </tr>\n",
       "  </tbody>\n",
       "</table>\n",
       "<p>23795 rows × 6 columns</p>\n",
       "</div>"
      ],
      "text/plain": [
       "              date         county         state  fips  cases  deaths\n",
       "416     2020-03-01  New York City      New York   NaN      1     0.0\n",
       "418     2020-03-01        Unknown  Rhode Island   NaN      2     0.0\n",
       "448     2020-03-02  New York City      New York   NaN      1     0.0\n",
       "450     2020-03-02        Unknown  Rhode Island   NaN      2     0.0\n",
       "482     2020-03-03  New York City      New York   NaN      2     0.0\n",
       "...            ...            ...           ...   ...    ...     ...\n",
       "783378  2020-11-30        Unknown  Rhode Island   NaN  10879    83.0\n",
       "783579  2020-11-30        Unknown     Tennessee   NaN   1108     3.0\n",
       "783866  2020-11-30        Unknown          Utah   NaN    185     2.0\n",
       "783883  2020-11-30        Unknown       Vermont   NaN      8     0.0\n",
       "784057  2020-11-30        Unknown    Washington   NaN      2     2.0\n",
       "\n",
       "[23795 rows x 6 columns]"
      ]
     },
     "execution_count": 120,
     "metadata": {},
     "output_type": "execute_result"
    }
   ],
   "source": [
    "# Returns a Dataframe Containing Only the Rows With Null Values\n",
    "nytimes_covid_19_df_null_val = nytimes_covid_19_df[nytimes_covid_19_df.isnull().any(axis=1)]\n",
    "\n",
    "# Returns the Number of Cells Within a Column With Null Values\n",
    "print(nytimes_covid_19_df_null_val.count())\n",
    "nytimes_covid_19_df_null_val"
   ]
  },
  {
   "cell_type": "markdown",
   "metadata": {},
   "source": [
    "#### Since the [\"fips\"] Column has a Lot of Null Values, Lets Isolate the [\"deaths\"] Column to See How many Null Values are  in the [\"deaths\"] Column."
   ]
  },
  {
   "cell_type": "code",
   "execution_count": 121,
   "metadata": {},
   "outputs": [
    {
     "name": "stdout",
     "output_type": "stream",
     "text": [
      "16343\n",
      "Puerto Rico    16343\n",
      "Name: state, dtype: int64\n"
     ]
    },
    {
     "data": {
      "text/html": [
       "<div>\n",
       "<style scoped>\n",
       "    .dataframe tbody tr th:only-of-type {\n",
       "        vertical-align: middle;\n",
       "    }\n",
       "\n",
       "    .dataframe tbody tr th {\n",
       "        vertical-align: top;\n",
       "    }\n",
       "\n",
       "    .dataframe thead th {\n",
       "        text-align: right;\n",
       "    }\n",
       "</style>\n",
       "<table border=\"1\" class=\"dataframe\">\n",
       "  <thead>\n",
       "    <tr style=\"text-align: right;\">\n",
       "      <th></th>\n",
       "      <th>date</th>\n",
       "      <th>county</th>\n",
       "      <th>state</th>\n",
       "      <th>fips</th>\n",
       "      <th>cases</th>\n",
       "      <th>deaths</th>\n",
       "    </tr>\n",
       "  </thead>\n",
       "  <tbody>\n",
       "    <tr>\n",
       "      <th>117486</th>\n",
       "      <td>2020-05-05</td>\n",
       "      <td>Adjuntas</td>\n",
       "      <td>Puerto Rico</td>\n",
       "      <td>72001.0</td>\n",
       "      <td>3</td>\n",
       "      <td>NaN</td>\n",
       "    </tr>\n",
       "    <tr>\n",
       "      <th>117487</th>\n",
       "      <td>2020-05-05</td>\n",
       "      <td>Aguada</td>\n",
       "      <td>Puerto Rico</td>\n",
       "      <td>72003.0</td>\n",
       "      <td>7</td>\n",
       "      <td>NaN</td>\n",
       "    </tr>\n",
       "    <tr>\n",
       "      <th>117488</th>\n",
       "      <td>2020-05-05</td>\n",
       "      <td>Aguadilla</td>\n",
       "      <td>Puerto Rico</td>\n",
       "      <td>72005.0</td>\n",
       "      <td>11</td>\n",
       "      <td>NaN</td>\n",
       "    </tr>\n",
       "    <tr>\n",
       "      <th>117489</th>\n",
       "      <td>2020-05-05</td>\n",
       "      <td>Aguas Buenas</td>\n",
       "      <td>Puerto Rico</td>\n",
       "      <td>72007.0</td>\n",
       "      <td>22</td>\n",
       "      <td>NaN</td>\n",
       "    </tr>\n",
       "    <tr>\n",
       "      <th>117490</th>\n",
       "      <td>2020-05-05</td>\n",
       "      <td>Aibonito</td>\n",
       "      <td>Puerto Rico</td>\n",
       "      <td>72009.0</td>\n",
       "      <td>13</td>\n",
       "      <td>NaN</td>\n",
       "    </tr>\n",
       "    <tr>\n",
       "      <th>...</th>\n",
       "      <td>...</td>\n",
       "      <td>...</td>\n",
       "      <td>...</td>\n",
       "      <td>...</td>\n",
       "      <td>...</td>\n",
       "      <td>...</td>\n",
       "    </tr>\n",
       "    <tr>\n",
       "      <th>783369</th>\n",
       "      <td>2020-11-30</td>\n",
       "      <td>Vega Baja</td>\n",
       "      <td>Puerto Rico</td>\n",
       "      <td>72145.0</td>\n",
       "      <td>1702</td>\n",
       "      <td>NaN</td>\n",
       "    </tr>\n",
       "    <tr>\n",
       "      <th>783370</th>\n",
       "      <td>2020-11-30</td>\n",
       "      <td>Vieques</td>\n",
       "      <td>Puerto Rico</td>\n",
       "      <td>72147.0</td>\n",
       "      <td>110</td>\n",
       "      <td>NaN</td>\n",
       "    </tr>\n",
       "    <tr>\n",
       "      <th>783371</th>\n",
       "      <td>2020-11-30</td>\n",
       "      <td>Villalba</td>\n",
       "      <td>Puerto Rico</td>\n",
       "      <td>72149.0</td>\n",
       "      <td>483</td>\n",
       "      <td>NaN</td>\n",
       "    </tr>\n",
       "    <tr>\n",
       "      <th>783372</th>\n",
       "      <td>2020-11-30</td>\n",
       "      <td>Yabucoa</td>\n",
       "      <td>Puerto Rico</td>\n",
       "      <td>72151.0</td>\n",
       "      <td>585</td>\n",
       "      <td>NaN</td>\n",
       "    </tr>\n",
       "    <tr>\n",
       "      <th>783373</th>\n",
       "      <td>2020-11-30</td>\n",
       "      <td>Yauco</td>\n",
       "      <td>Puerto Rico</td>\n",
       "      <td>72153.0</td>\n",
       "      <td>736</td>\n",
       "      <td>NaN</td>\n",
       "    </tr>\n",
       "  </tbody>\n",
       "</table>\n",
       "<p>16343 rows × 6 columns</p>\n",
       "</div>"
      ],
      "text/plain": [
       "              date        county        state     fips  cases  deaths\n",
       "117486  2020-05-05      Adjuntas  Puerto Rico  72001.0      3     NaN\n",
       "117487  2020-05-05        Aguada  Puerto Rico  72003.0      7     NaN\n",
       "117488  2020-05-05     Aguadilla  Puerto Rico  72005.0     11     NaN\n",
       "117489  2020-05-05  Aguas Buenas  Puerto Rico  72007.0     22     NaN\n",
       "117490  2020-05-05      Aibonito  Puerto Rico  72009.0     13     NaN\n",
       "...            ...           ...          ...      ...    ...     ...\n",
       "783369  2020-11-30     Vega Baja  Puerto Rico  72145.0   1702     NaN\n",
       "783370  2020-11-30       Vieques  Puerto Rico  72147.0    110     NaN\n",
       "783371  2020-11-30      Villalba  Puerto Rico  72149.0    483     NaN\n",
       "783372  2020-11-30       Yabucoa  Puerto Rico  72151.0    585     NaN\n",
       "783373  2020-11-30         Yauco  Puerto Rico  72153.0    736     NaN\n",
       "\n",
       "[16343 rows x 6 columns]"
      ]
     },
     "execution_count": 121,
     "metadata": {},
     "output_type": "execute_result"
    }
   ],
   "source": [
    "# Isolated the Null Values in the [\"deaths\"] Column.\n",
    "nytimes_covid_19_df_dth_clmn_null_val = nytimes_covid_19_df[nytimes_covid_19_df[\"deaths\"].isnull()]\n",
    "print(len(nytimes_covid_19_df_dth_clmn_null_val))\n",
    "print(nytimes_covid_19_df_dth_clmn_null_val[\"state\"].value_counts())\n",
    "nytimes_covid_19_df_dth_clmn_null_val"
   ]
  },
  {
   "cell_type": "markdown",
   "metadata": {},
   "source": [
    "# *******Puerto Rico has no reported deaths?*******"
   ]
  },
  {
   "cell_type": "markdown",
   "metadata": {},
   "source": [
    "# ---------------------------------------------------------------------"
   ]
  },
  {
   "cell_type": "markdown",
   "metadata": {},
   "source": [
    "#### Convert All the Null Values in the [\"deaths\"] Column to Zero"
   ]
  },
  {
   "cell_type": "markdown",
   "metadata": {},
   "source": [
    "# ---------------------------------------------------------------------"
   ]
  },
  {
   "cell_type": "code",
   "execution_count": 122,
   "metadata": {
    "scrolled": true
   },
   "outputs": [
    {
     "data": {
      "text/html": [
       "<div>\n",
       "<style scoped>\n",
       "    .dataframe tbody tr th:only-of-type {\n",
       "        vertical-align: middle;\n",
       "    }\n",
       "\n",
       "    .dataframe tbody tr th {\n",
       "        vertical-align: top;\n",
       "    }\n",
       "\n",
       "    .dataframe thead th {\n",
       "        text-align: right;\n",
       "    }\n",
       "</style>\n",
       "<table border=\"1\" class=\"dataframe\">\n",
       "  <thead>\n",
       "    <tr style=\"text-align: right;\">\n",
       "      <th></th>\n",
       "      <th>date</th>\n",
       "      <th>county</th>\n",
       "      <th>state</th>\n",
       "      <th>fips</th>\n",
       "      <th>cases</th>\n",
       "      <th>deaths</th>\n",
       "    </tr>\n",
       "  </thead>\n",
       "  <tbody>\n",
       "    <tr>\n",
       "      <th>0</th>\n",
       "      <td>2020-01-21</td>\n",
       "      <td>Snohomish</td>\n",
       "      <td>Washington</td>\n",
       "      <td>53061.0</td>\n",
       "      <td>1</td>\n",
       "      <td>0.0</td>\n",
       "    </tr>\n",
       "    <tr>\n",
       "      <th>1</th>\n",
       "      <td>2020-01-22</td>\n",
       "      <td>Snohomish</td>\n",
       "      <td>Washington</td>\n",
       "      <td>53061.0</td>\n",
       "      <td>1</td>\n",
       "      <td>0.0</td>\n",
       "    </tr>\n",
       "    <tr>\n",
       "      <th>2</th>\n",
       "      <td>2020-01-23</td>\n",
       "      <td>Snohomish</td>\n",
       "      <td>Washington</td>\n",
       "      <td>53061.0</td>\n",
       "      <td>1</td>\n",
       "      <td>0.0</td>\n",
       "    </tr>\n",
       "    <tr>\n",
       "      <th>3</th>\n",
       "      <td>2020-01-24</td>\n",
       "      <td>Cook</td>\n",
       "      <td>Illinois</td>\n",
       "      <td>17031.0</td>\n",
       "      <td>1</td>\n",
       "      <td>0.0</td>\n",
       "    </tr>\n",
       "    <tr>\n",
       "      <th>4</th>\n",
       "      <td>2020-01-24</td>\n",
       "      <td>Snohomish</td>\n",
       "      <td>Washington</td>\n",
       "      <td>53061.0</td>\n",
       "      <td>1</td>\n",
       "      <td>0.0</td>\n",
       "    </tr>\n",
       "    <tr>\n",
       "      <th>...</th>\n",
       "      <td>...</td>\n",
       "      <td>...</td>\n",
       "      <td>...</td>\n",
       "      <td>...</td>\n",
       "      <td>...</td>\n",
       "      <td>...</td>\n",
       "    </tr>\n",
       "    <tr>\n",
       "      <th>784208</th>\n",
       "      <td>2020-11-30</td>\n",
       "      <td>Sweetwater</td>\n",
       "      <td>Wyoming</td>\n",
       "      <td>56037.0</td>\n",
       "      <td>1888</td>\n",
       "      <td>6.0</td>\n",
       "    </tr>\n",
       "    <tr>\n",
       "      <th>784209</th>\n",
       "      <td>2020-11-30</td>\n",
       "      <td>Teton</td>\n",
       "      <td>Wyoming</td>\n",
       "      <td>56039.0</td>\n",
       "      <td>1644</td>\n",
       "      <td>2.0</td>\n",
       "    </tr>\n",
       "    <tr>\n",
       "      <th>784210</th>\n",
       "      <td>2020-11-30</td>\n",
       "      <td>Uinta</td>\n",
       "      <td>Wyoming</td>\n",
       "      <td>56041.0</td>\n",
       "      <td>1070</td>\n",
       "      <td>4.0</td>\n",
       "    </tr>\n",
       "    <tr>\n",
       "      <th>784211</th>\n",
       "      <td>2020-11-30</td>\n",
       "      <td>Washakie</td>\n",
       "      <td>Wyoming</td>\n",
       "      <td>56043.0</td>\n",
       "      <td>440</td>\n",
       "      <td>8.0</td>\n",
       "    </tr>\n",
       "    <tr>\n",
       "      <th>784212</th>\n",
       "      <td>2020-11-30</td>\n",
       "      <td>Weston</td>\n",
       "      <td>Wyoming</td>\n",
       "      <td>56045.0</td>\n",
       "      <td>397</td>\n",
       "      <td>1.0</td>\n",
       "    </tr>\n",
       "  </tbody>\n",
       "</table>\n",
       "<p>784213 rows × 6 columns</p>\n",
       "</div>"
      ],
      "text/plain": [
       "              date      county       state     fips  cases  deaths\n",
       "0       2020-01-21   Snohomish  Washington  53061.0      1     0.0\n",
       "1       2020-01-22   Snohomish  Washington  53061.0      1     0.0\n",
       "2       2020-01-23   Snohomish  Washington  53061.0      1     0.0\n",
       "3       2020-01-24        Cook    Illinois  17031.0      1     0.0\n",
       "4       2020-01-24   Snohomish  Washington  53061.0      1     0.0\n",
       "...            ...         ...         ...      ...    ...     ...\n",
       "784208  2020-11-30  Sweetwater     Wyoming  56037.0   1888     6.0\n",
       "784209  2020-11-30       Teton     Wyoming  56039.0   1644     2.0\n",
       "784210  2020-11-30       Uinta     Wyoming  56041.0   1070     4.0\n",
       "784211  2020-11-30    Washakie     Wyoming  56043.0    440     8.0\n",
       "784212  2020-11-30      Weston     Wyoming  56045.0    397     1.0\n",
       "\n",
       "[784213 rows x 6 columns]"
      ]
     },
     "execution_count": 122,
     "metadata": {},
     "output_type": "execute_result"
    }
   ],
   "source": [
    "# Replace the Null Values With 0\n",
    "nytimes_covid_19_df_no_null_val_dths = nytimes_covid_19_df\n",
    "nytimes_covid_19_df_no_null_val_dths[\"deaths\"] = nytimes_covid_19_df_no_null_val_dths[\"deaths\"].replace(np.nan, 0)\n",
    "nytimes_covid_19_df_no_null_val_dths"
   ]
  },
  {
   "cell_type": "code",
   "execution_count": 123,
   "metadata": {},
   "outputs": [
    {
     "data": {
      "text/html": [
       "<div>\n",
       "<style scoped>\n",
       "    .dataframe tbody tr th:only-of-type {\n",
       "        vertical-align: middle;\n",
       "    }\n",
       "\n",
       "    .dataframe tbody tr th {\n",
       "        vertical-align: top;\n",
       "    }\n",
       "\n",
       "    .dataframe thead th {\n",
       "        text-align: right;\n",
       "    }\n",
       "</style>\n",
       "<table border=\"1\" class=\"dataframe\">\n",
       "  <thead>\n",
       "    <tr style=\"text-align: right;\">\n",
       "      <th></th>\n",
       "      <th>date</th>\n",
       "      <th>county</th>\n",
       "      <th>state</th>\n",
       "      <th>fips</th>\n",
       "      <th>cases</th>\n",
       "      <th>deaths</th>\n",
       "    </tr>\n",
       "  </thead>\n",
       "  <tbody>\n",
       "  </tbody>\n",
       "</table>\n",
       "</div>"
      ],
      "text/plain": [
       "Empty DataFrame\n",
       "Columns: [date, county, state, fips, cases, deaths]\n",
       "Index: []"
      ]
     },
     "execution_count": 123,
     "metadata": {},
     "output_type": "execute_result"
    }
   ],
   "source": [
    "# Rows with Null Values\n",
    "nytimes_covid_19_df_no_null_val_dths[nytimes_covid_19_df_no_null_val_dths[\"deaths\"].isnull()]"
   ]
  },
  {
   "cell_type": "markdown",
   "metadata": {},
   "source": [
    "# ========================================"
   ]
  },
  {
   "cell_type": "markdown",
   "metadata": {},
   "source": [
    "# Convert the Date Column to a datetime Date Type & Convert the Other Columns with Numbers into an int64 Data Type"
   ]
  },
  {
   "cell_type": "markdown",
   "metadata": {},
   "source": [
    "# ========================================"
   ]
  },
  {
   "cell_type": "markdown",
   "metadata": {},
   "source": [
    "# ---------------------------------------------------------------------"
   ]
  },
  {
   "cell_type": "markdown",
   "metadata": {},
   "source": [
    "## bts.gov Trip Data"
   ]
  },
  {
   "cell_type": "markdown",
   "metadata": {},
   "source": [
    "# ---------------------------------------------------------------------"
   ]
  },
  {
   "cell_type": "markdown",
   "metadata": {},
   "source": [
    "# ---------------------------------------------------------------------"
   ]
  },
  {
   "cell_type": "markdown",
   "metadata": {},
   "source": [
    "### The State Level Dataframe"
   ]
  },
  {
   "cell_type": "markdown",
   "metadata": {},
   "source": [
    "# ---------------------------------------------------------------------"
   ]
  },
  {
   "cell_type": "markdown",
   "metadata": {},
   "source": [
    "# ---------------------------------------------------------------------"
   ]
  },
  {
   "cell_type": "markdown",
   "metadata": {},
   "source": [
    "#### Remove the Commas in the [clmns_to_cnvrt_null_vls_to_0] Columns Array in the State Level Dataframe"
   ]
  },
  {
   "cell_type": "markdown",
   "metadata": {},
   "source": [
    "# ---------------------------------------------------------------------"
   ]
  },
  {
   "cell_type": "code",
   "execution_count": 16,
   "metadata": {
    "scrolled": true
   },
   "outputs": [
    {
     "name": "stderr",
     "output_type": "stream",
     "text": [
      "/Users/vincentadams/opt/anaconda3/lib/python3.7/site-packages/pandas/core/frame.py:2963: SettingWithCopyWarning: \n",
      "A value is trying to be set on a copy of a slice from a DataFrame.\n",
      "Try using .loc[row_indexer,col_indexer] = value instead\n",
      "\n",
      "See the caveats in the documentation: https://pandas.pydata.org/pandas-docs/stable/user_guide/indexing.html#returning-a-view-versus-a-copy\n",
      "  self[k1] = value[k2]\n"
     ]
    },
    {
     "data": {
      "text/html": [
       "<div>\n",
       "<style scoped>\n",
       "    .dataframe tbody tr th:only-of-type {\n",
       "        vertical-align: middle;\n",
       "    }\n",
       "\n",
       "    .dataframe tbody tr th {\n",
       "        vertical-align: top;\n",
       "    }\n",
       "\n",
       "    .dataframe thead th {\n",
       "        text-align: right;\n",
       "    }\n",
       "</style>\n",
       "<table border=\"1\" class=\"dataframe\">\n",
       "  <thead>\n",
       "    <tr style=\"text-align: right;\">\n",
       "      <th></th>\n",
       "      <th>Level</th>\n",
       "      <th>Date</th>\n",
       "      <th>State FIPS</th>\n",
       "      <th>State Postal Code</th>\n",
       "      <th>County FIPS</th>\n",
       "      <th>County Name</th>\n",
       "      <th>Population Staying at Home</th>\n",
       "      <th>Population Not Staying at Home</th>\n",
       "      <th>Number of Trips</th>\n",
       "      <th>Number of Trips &lt;1</th>\n",
       "      <th>Number of Trips 1-3</th>\n",
       "      <th>Number of Trips 3-5</th>\n",
       "      <th>Number of Trips 5-10</th>\n",
       "      <th>Number of Trips 10-25</th>\n",
       "      <th>Number of Trips 25-50</th>\n",
       "      <th>Number of Trips 50-100</th>\n",
       "      <th>Number of Trips 100-250</th>\n",
       "      <th>Number of Trips 250-500</th>\n",
       "      <th>Number of Trips &gt;=500</th>\n",
       "    </tr>\n",
       "  </thead>\n",
       "  <tbody>\n",
       "    <tr>\n",
       "      <th>15710</th>\n",
       "      <td>State</td>\n",
       "      <td>2019/01/01</td>\n",
       "      <td>25.0</td>\n",
       "      <td>MA</td>\n",
       "      <td>NaN</td>\n",
       "      <td>NaN</td>\n",
       "      <td>1798521</td>\n",
       "      <td>5082532</td>\n",
       "      <td>22181890</td>\n",
       "      <td>6078316</td>\n",
       "      <td>5980407</td>\n",
       "      <td>2680470</td>\n",
       "      <td>3106759</td>\n",
       "      <td>2817590</td>\n",
       "      <td>1021091</td>\n",
       "      <td>316642</td>\n",
       "      <td>104691</td>\n",
       "      <td>18791</td>\n",
       "      <td>57133</td>\n",
       "    </tr>\n",
       "    <tr>\n",
       "      <th>15711</th>\n",
       "      <td>State</td>\n",
       "      <td>2019/01/01</td>\n",
       "      <td>26.0</td>\n",
       "      <td>MI</td>\n",
       "      <td>NaN</td>\n",
       "      <td>NaN</td>\n",
       "      <td>2342813</td>\n",
       "      <td>7622550</td>\n",
       "      <td>26701254</td>\n",
       "      <td>6633681</td>\n",
       "      <td>6893858</td>\n",
       "      <td>3358485</td>\n",
       "      <td>4024493</td>\n",
       "      <td>3681856</td>\n",
       "      <td>1264454</td>\n",
       "      <td>479687</td>\n",
       "      <td>242283</td>\n",
       "      <td>55384</td>\n",
       "      <td>67073</td>\n",
       "    </tr>\n",
       "    <tr>\n",
       "      <th>15712</th>\n",
       "      <td>State</td>\n",
       "      <td>2019/01/01</td>\n",
       "      <td>27.0</td>\n",
       "      <td>MN</td>\n",
       "      <td>NaN</td>\n",
       "      <td>NaN</td>\n",
       "      <td>1266769</td>\n",
       "      <td>4327262</td>\n",
       "      <td>15278584</td>\n",
       "      <td>3589616</td>\n",
       "      <td>3806602</td>\n",
       "      <td>1772986</td>\n",
       "      <td>2246949</td>\n",
       "      <td>2419710</td>\n",
       "      <td>830948</td>\n",
       "      <td>337906</td>\n",
       "      <td>187197</td>\n",
       "      <td>42524</td>\n",
       "      <td>44146</td>\n",
       "    </tr>\n",
       "    <tr>\n",
       "      <th>15713</th>\n",
       "      <td>State</td>\n",
       "      <td>2019/01/01</td>\n",
       "      <td>28.0</td>\n",
       "      <td>MS</td>\n",
       "      <td>NaN</td>\n",
       "      <td>NaN</td>\n",
       "      <td>596999</td>\n",
       "      <td>2380405</td>\n",
       "      <td>7297125</td>\n",
       "      <td>1787312</td>\n",
       "      <td>1930713</td>\n",
       "      <td>884893</td>\n",
       "      <td>1102272</td>\n",
       "      <td>934487</td>\n",
       "      <td>355845</td>\n",
       "      <td>178107</td>\n",
       "      <td>92480</td>\n",
       "      <td>24396</td>\n",
       "      <td>6620</td>\n",
       "    </tr>\n",
       "    <tr>\n",
       "      <th>15714</th>\n",
       "      <td>State</td>\n",
       "      <td>2019/01/01</td>\n",
       "      <td>29.0</td>\n",
       "      <td>MO</td>\n",
       "      <td>NaN</td>\n",
       "      <td>NaN</td>\n",
       "      <td>1530765</td>\n",
       "      <td>4576960</td>\n",
       "      <td>16618431</td>\n",
       "      <td>4033851</td>\n",
       "      <td>4385048</td>\n",
       "      <td>2036854</td>\n",
       "      <td>2526033</td>\n",
       "      <td>2313883</td>\n",
       "      <td>809030</td>\n",
       "      <td>290444</td>\n",
       "      <td>154169</td>\n",
       "      <td>39949</td>\n",
       "      <td>29170</td>\n",
       "    </tr>\n",
       "    <tr>\n",
       "      <th>...</th>\n",
       "      <td>...</td>\n",
       "      <td>...</td>\n",
       "      <td>...</td>\n",
       "      <td>...</td>\n",
       "      <td>...</td>\n",
       "      <td>...</td>\n",
       "      <td>...</td>\n",
       "      <td>...</td>\n",
       "      <td>...</td>\n",
       "      <td>...</td>\n",
       "      <td>...</td>\n",
       "      <td>...</td>\n",
       "      <td>...</td>\n",
       "      <td>...</td>\n",
       "      <td>...</td>\n",
       "      <td>...</td>\n",
       "      <td>...</td>\n",
       "      <td>...</td>\n",
       "      <td>...</td>\n",
       "    </tr>\n",
       "    <tr>\n",
       "      <th>2207042</th>\n",
       "      <td>State</td>\n",
       "      <td>2020/11/21</td>\n",
       "      <td>10.0</td>\n",
       "      <td>DE</td>\n",
       "      <td>NaN</td>\n",
       "      <td>NaN</td>\n",
       "      <td>277495</td>\n",
       "      <td>689676</td>\n",
       "      <td>2832707</td>\n",
       "      <td>604972</td>\n",
       "      <td>713195</td>\n",
       "      <td>369273</td>\n",
       "      <td>454354</td>\n",
       "      <td>401164</td>\n",
       "      <td>180043</td>\n",
       "      <td>91437</td>\n",
       "      <td>16663</td>\n",
       "      <td>915</td>\n",
       "      <td>691</td>\n",
       "    </tr>\n",
       "    <tr>\n",
       "      <th>2207043</th>\n",
       "      <td>State</td>\n",
       "      <td>2020/11/21</td>\n",
       "      <td>23.0</td>\n",
       "      <td>ME</td>\n",
       "      <td>NaN</td>\n",
       "      <td>NaN</td>\n",
       "      <td>405767</td>\n",
       "      <td>932637</td>\n",
       "      <td>3482073</td>\n",
       "      <td>636056</td>\n",
       "      <td>851371</td>\n",
       "      <td>440434</td>\n",
       "      <td>555144</td>\n",
       "      <td>603887</td>\n",
       "      <td>243648</td>\n",
       "      <td>110970</td>\n",
       "      <td>33916</td>\n",
       "      <td>4585</td>\n",
       "      <td>2062</td>\n",
       "    </tr>\n",
       "    <tr>\n",
       "      <th>2207044</th>\n",
       "      <td>State</td>\n",
       "      <td>2020/11/21</td>\n",
       "      <td>40.0</td>\n",
       "      <td>OK</td>\n",
       "      <td>NaN</td>\n",
       "      <td>NaN</td>\n",
       "      <td>1121125</td>\n",
       "      <td>2821954</td>\n",
       "      <td>10725736</td>\n",
       "      <td>2421533</td>\n",
       "      <td>2736594</td>\n",
       "      <td>1229055</td>\n",
       "      <td>1588849</td>\n",
       "      <td>1638856</td>\n",
       "      <td>616443</td>\n",
       "      <td>346034</td>\n",
       "      <td>122738</td>\n",
       "      <td>20359</td>\n",
       "      <td>5275</td>\n",
       "    </tr>\n",
       "    <tr>\n",
       "      <th>2207045</th>\n",
       "      <td>State</td>\n",
       "      <td>2020/11/21</td>\n",
       "      <td>55.0</td>\n",
       "      <td>WI</td>\n",
       "      <td>NaN</td>\n",
       "      <td>NaN</td>\n",
       "      <td>1708357</td>\n",
       "      <td>4105211</td>\n",
       "      <td>15988642</td>\n",
       "      <td>3415712</td>\n",
       "      <td>3963118</td>\n",
       "      <td>1993093</td>\n",
       "      <td>2440392</td>\n",
       "      <td>2442194</td>\n",
       "      <td>990260</td>\n",
       "      <td>508393</td>\n",
       "      <td>184244</td>\n",
       "      <td>41181</td>\n",
       "      <td>10055</td>\n",
       "    </tr>\n",
       "    <tr>\n",
       "      <th>2207046</th>\n",
       "      <td>State</td>\n",
       "      <td>2020/11/21</td>\n",
       "      <td>54.0</td>\n",
       "      <td>WV</td>\n",
       "      <td>NaN</td>\n",
       "      <td>NaN</td>\n",
       "      <td>542360</td>\n",
       "      <td>1263472</td>\n",
       "      <td>4716158</td>\n",
       "      <td>914230</td>\n",
       "      <td>1149336</td>\n",
       "      <td>575879</td>\n",
       "      <td>724394</td>\n",
       "      <td>735706</td>\n",
       "      <td>347771</td>\n",
       "      <td>213289</td>\n",
       "      <td>46164</td>\n",
       "      <td>7524</td>\n",
       "      <td>1865</td>\n",
       "    </tr>\n",
       "  </tbody>\n",
       "</table>\n",
       "<p>35241 rows × 19 columns</p>\n",
       "</div>"
      ],
      "text/plain": [
       "         Level        Date  State FIPS State Postal Code  County FIPS  \\\n",
       "15710    State  2019/01/01        25.0                MA          NaN   \n",
       "15711    State  2019/01/01        26.0                MI          NaN   \n",
       "15712    State  2019/01/01        27.0                MN          NaN   \n",
       "15713    State  2019/01/01        28.0                MS          NaN   \n",
       "15714    State  2019/01/01        29.0                MO          NaN   \n",
       "...        ...         ...         ...               ...          ...   \n",
       "2207042  State  2020/11/21        10.0                DE          NaN   \n",
       "2207043  State  2020/11/21        23.0                ME          NaN   \n",
       "2207044  State  2020/11/21        40.0                OK          NaN   \n",
       "2207045  State  2020/11/21        55.0                WI          NaN   \n",
       "2207046  State  2020/11/21        54.0                WV          NaN   \n",
       "\n",
       "        County Name Population Staying at Home Population Not Staying at Home  \\\n",
       "15710           NaN                    1798521                        5082532   \n",
       "15711           NaN                    2342813                        7622550   \n",
       "15712           NaN                    1266769                        4327262   \n",
       "15713           NaN                     596999                        2380405   \n",
       "15714           NaN                    1530765                        4576960   \n",
       "...             ...                        ...                            ...   \n",
       "2207042         NaN                     277495                         689676   \n",
       "2207043         NaN                     405767                         932637   \n",
       "2207044         NaN                    1121125                        2821954   \n",
       "2207045         NaN                    1708357                        4105211   \n",
       "2207046         NaN                     542360                        1263472   \n",
       "\n",
       "        Number of Trips Number of Trips <1 Number of Trips 1-3  \\\n",
       "15710          22181890            6078316             5980407   \n",
       "15711          26701254            6633681             6893858   \n",
       "15712          15278584            3589616             3806602   \n",
       "15713           7297125            1787312             1930713   \n",
       "15714          16618431            4033851             4385048   \n",
       "...                 ...                ...                 ...   \n",
       "2207042         2832707             604972              713195   \n",
       "2207043         3482073             636056              851371   \n",
       "2207044        10725736            2421533             2736594   \n",
       "2207045        15988642            3415712             3963118   \n",
       "2207046         4716158             914230             1149336   \n",
       "\n",
       "        Number of Trips 3-5 Number of Trips 5-10 Number of Trips 10-25  \\\n",
       "15710               2680470              3106759               2817590   \n",
       "15711               3358485              4024493               3681856   \n",
       "15712               1772986              2246949               2419710   \n",
       "15713                884893              1102272                934487   \n",
       "15714               2036854              2526033               2313883   \n",
       "...                     ...                  ...                   ...   \n",
       "2207042              369273               454354                401164   \n",
       "2207043              440434               555144                603887   \n",
       "2207044             1229055              1588849               1638856   \n",
       "2207045             1993093              2440392               2442194   \n",
       "2207046              575879               724394                735706   \n",
       "\n",
       "        Number of Trips 25-50 Number of Trips 50-100 Number of Trips 100-250  \\\n",
       "15710                 1021091                 316642                  104691   \n",
       "15711                 1264454                 479687                  242283   \n",
       "15712                  830948                 337906                  187197   \n",
       "15713                  355845                 178107                   92480   \n",
       "15714                  809030                 290444                  154169   \n",
       "...                       ...                    ...                     ...   \n",
       "2207042                180043                  91437                   16663   \n",
       "2207043                243648                 110970                   33916   \n",
       "2207044                616443                 346034                  122738   \n",
       "2207045                990260                 508393                  184244   \n",
       "2207046                347771                 213289                   46164   \n",
       "\n",
       "        Number of Trips 250-500 Number of Trips >=500  \n",
       "15710                     18791                 57133  \n",
       "15711                     55384                 67073  \n",
       "15712                     42524                 44146  \n",
       "15713                     24396                  6620  \n",
       "15714                     39949                 29170  \n",
       "...                         ...                   ...  \n",
       "2207042                     915                   691  \n",
       "2207043                    4585                  2062  \n",
       "2207044                   20359                  5275  \n",
       "2207045                   41181                 10055  \n",
       "2207046                    7524                  1865  \n",
       "\n",
       "[35241 rows x 19 columns]"
      ]
     },
     "execution_count": 16,
     "metadata": {},
     "output_type": "execute_result"
    }
   ],
   "source": [
    "# Remove the Commas from the [clmns_to_cnvrt_null_vls_to_0] Array.\n",
    "bts_gov_trps_df_cnty_clmn_null_lvl_st_no_cmms = bts_gov_trps_df_cnty_clmn_null_lvl_st\n",
    "bts_gov_trps_df_cnty_clmn_null_lvl_st_no_cmms[clmns_to_cnvrt_null_vls_to_0] = bts_gov_trps_df_cnty_clmn_null_lvl_st_no_cmms[clmns_to_cnvrt_null_vls_to_0].replace(',','', regex=True)\n",
    "bts_gov_trps_df_cnty_clmn_null_lvl_st_no_cmms"
   ]
  },
  {
   "cell_type": "code",
   "execution_count": 18,
   "metadata": {},
   "outputs": [
    {
     "data": {
      "text/plain": [
       "Level                              object\n",
       "Date                               object\n",
       "State FIPS                        float64\n",
       "State Postal Code                  object\n",
       "County FIPS                       float64\n",
       "County Name                        object\n",
       "Population Staying at Home         object\n",
       "Population Not Staying at Home     object\n",
       "Number of Trips                    object\n",
       "Number of Trips <1                 object\n",
       "Number of Trips 1-3                object\n",
       "Number of Trips 3-5                object\n",
       "Number of Trips 5-10               object\n",
       "Number of Trips 10-25              object\n",
       "Number of Trips 25-50              object\n",
       "Number of Trips 50-100             object\n",
       "Number of Trips 100-250            object\n",
       "Number of Trips 250-500            object\n",
       "Number of Trips >=500              object\n",
       "dtype: object"
      ]
     },
     "execution_count": 18,
     "metadata": {},
     "output_type": "execute_result"
    }
   ],
   "source": [
    "# View Data Types\n",
    "bts_gov_trps_df_cnty_clmn_null_lvl_st_no_cmms.dtypes"
   ]
  },
  {
   "cell_type": "code",
   "execution_count": 19,
   "metadata": {},
   "outputs": [
    {
     "name": "stderr",
     "output_type": "stream",
     "text": [
      "/Users/vincentadams/opt/anaconda3/lib/python3.7/site-packages/pandas/core/frame.py:2963: SettingWithCopyWarning: \n",
      "A value is trying to be set on a copy of a slice from a DataFrame.\n",
      "Try using .loc[row_indexer,col_indexer] = value instead\n",
      "\n",
      "See the caveats in the documentation: https://pandas.pydata.org/pandas-docs/stable/user_guide/indexing.html#returning-a-view-versus-a-copy\n",
      "  self[k1] = value[k2]\n"
     ]
    }
   ],
   "source": [
    "# Change the Data Type of the Columns in the [clmns_to_cnvrt_null_vls_to_0] Array from a String to a int64\n",
    "bts_gov_trps_df_cnty_clmn_null_lvl_st_no_cmms_int64 = bts_gov_trps_df_cnty_clmn_null_lvl_st_no_cmms\n",
    "bts_gov_trps_df_cnty_clmn_null_lvl_st_no_cmms_int64[clmns_to_cnvrt_null_vls_to_0] = bts_gov_trps_df_cnty_clmn_null_lvl_st_no_cmms_int64[clmns_to_cnvrt_null_vls_to_0].astype(\"int64\")"
   ]
  },
  {
   "cell_type": "markdown",
   "metadata": {},
   "source": [
    "# ---------------------------------------------------------------------"
   ]
  },
  {
   "cell_type": "markdown",
   "metadata": {},
   "source": [
    "#### Convert the [\"Date\"] Column to a datetime64[ns] Data Type in the State Level Dataframe"
   ]
  },
  {
   "cell_type": "markdown",
   "metadata": {},
   "source": [
    "# ---------------------------------------------------------------------"
   ]
  },
  {
   "cell_type": "code",
   "execution_count": 27,
   "metadata": {
    "scrolled": true
   },
   "outputs": [
    {
     "name": "stdout",
     "output_type": "stream",
     "text": [
      "datetime64[ns]\n",
      "-------------------------\n",
      "15710     2019-01-01\n",
      "15711     2019-01-01\n",
      "15712     2019-01-01\n",
      "15713     2019-01-01\n",
      "15714     2019-01-01\n",
      "             ...    \n",
      "2207042   2020-11-21\n",
      "2207043   2020-11-21\n",
      "2207044   2020-11-21\n",
      "2207045   2020-11-21\n",
      "2207046   2020-11-21\n",
      "Name: Date, Length: 35241, dtype: datetime64[ns]\n"
     ]
    },
    {
     "name": "stderr",
     "output_type": "stream",
     "text": [
      "/Users/vincentadams/opt/anaconda3/lib/python3.7/site-packages/ipykernel_launcher.py:3: SettingWithCopyWarning: \n",
      "A value is trying to be set on a copy of a slice from a DataFrame.\n",
      "Try using .loc[row_indexer,col_indexer] = value instead\n",
      "\n",
      "See the caveats in the documentation: https://pandas.pydata.org/pandas-docs/stable/user_guide/indexing.html#returning-a-view-versus-a-copy\n",
      "  This is separate from the ipykernel package so we can avoid doing imports until\n"
     ]
    }
   ],
   "source": [
    "# Convert the [\"Date\"] Column from a String Data Type to a datetime64[ns] Data Type\n",
    "bts_gov_trps_df_cnty_clmn_null_lvl_st_no_cmms_int64_dttm = bts_gov_trps_df_cnty_clmn_null_lvl_st_no_cmms_int64\n",
    "bts_gov_trps_df_cnty_clmn_null_lvl_st_no_cmms_int64_dttm[\"Date\"]  = pd.to_datetime(bts_gov_trps_df_cnty_clmn_null_lvl_st_no_cmms_int64_dttm[\"Date\"])\n",
    "\n",
    "print(bts_gov_trps_df_cnty_clmn_null_lvl_st_no_cmms_int64_dttm[\"Date\"].dtypes)\n",
    "print(\"-------------------------\")\n",
    "print(bts_gov_trps_df_cnty_clmn_null_lvl_st_no_cmms_int64_dttm[\"Date\"])"
   ]
  },
  {
   "cell_type": "code",
   "execution_count": 28,
   "metadata": {
    "scrolled": false
   },
   "outputs": [
    {
     "data": {
      "text/plain": [
       "Level                                     object\n",
       "Date                              datetime64[ns]\n",
       "State FIPS                               float64\n",
       "State Postal Code                         object\n",
       "County FIPS                              float64\n",
       "County Name                               object\n",
       "Population Staying at Home                 int64\n",
       "Population Not Staying at Home             int64\n",
       "Number of Trips                            int64\n",
       "Number of Trips <1                         int64\n",
       "Number of Trips 1-3                        int64\n",
       "Number of Trips 3-5                        int64\n",
       "Number of Trips 5-10                       int64\n",
       "Number of Trips 10-25                      int64\n",
       "Number of Trips 25-50                      int64\n",
       "Number of Trips 50-100                     int64\n",
       "Number of Trips 100-250                    int64\n",
       "Number of Trips 250-500                    int64\n",
       "Number of Trips >=500                      int64\n",
       "dtype: object"
      ]
     },
     "execution_count": 28,
     "metadata": {},
     "output_type": "execute_result"
    }
   ],
   "source": [
    "bts_gov_trps_df_cnty_clmn_null_lvl_st_no_cmms_int64_dttm.dtypes"
   ]
  },
  {
   "cell_type": "markdown",
   "metadata": {},
   "source": [
    "# ---------------------------------------------------------------------"
   ]
  },
  {
   "cell_type": "markdown",
   "metadata": {},
   "source": [
    "## New York Times COVID-19 Data"
   ]
  },
  {
   "cell_type": "markdown",
   "metadata": {},
   "source": [
    "# ---------------------------------------------------------------------"
   ]
  },
  {
   "cell_type": "markdown",
   "metadata": {},
   "source": [
    "# ---------------------------------------------------------------------"
   ]
  },
  {
   "cell_type": "markdown",
   "metadata": {},
   "source": [
    "### Change Deaths From a float to an int Data Type in the COVID-19 Dataframe"
   ]
  },
  {
   "cell_type": "markdown",
   "metadata": {},
   "source": [
    "# ---------------------------------------------------------------------"
   ]
  },
  {
   "cell_type": "markdown",
   "metadata": {},
   "source": [
    "# ---------------------------------------------------------------------"
   ]
  },
  {
   "cell_type": "markdown",
   "metadata": {},
   "source": [
    "#### Check the Values After the Decimal to Determine if They are Greater Than 0."
   ]
  },
  {
   "cell_type": "markdown",
   "metadata": {},
   "source": [
    "# ---------------------------------------------------------------------"
   ]
  },
  {
   "cell_type": "code",
   "execution_count": 128,
   "metadata": {},
   "outputs": [
    {
     "data": {
      "text/html": [
       "<div>\n",
       "<style scoped>\n",
       "    .dataframe tbody tr th:only-of-type {\n",
       "        vertical-align: middle;\n",
       "    }\n",
       "\n",
       "    .dataframe tbody tr th {\n",
       "        vertical-align: top;\n",
       "    }\n",
       "\n",
       "    .dataframe thead th {\n",
       "        text-align: right;\n",
       "    }\n",
       "</style>\n",
       "<table border=\"1\" class=\"dataframe\">\n",
       "  <thead>\n",
       "    <tr style=\"text-align: right;\">\n",
       "      <th></th>\n",
       "      <th>date</th>\n",
       "      <th>county</th>\n",
       "      <th>state</th>\n",
       "      <th>fips</th>\n",
       "      <th>cases</th>\n",
       "      <th>deaths</th>\n",
       "      <th>check_point</th>\n",
       "    </tr>\n",
       "  </thead>\n",
       "  <tbody>\n",
       "  </tbody>\n",
       "</table>\n",
       "</div>"
      ],
      "text/plain": [
       "Empty DataFrame\n",
       "Columns: [date, county, state, fips, cases, deaths, check_point]\n",
       "Index: []"
      ]
     },
     "execution_count": 128,
     "metadata": {},
     "output_type": "execute_result"
    }
   ],
   "source": [
    "# Check the Numbers After a Decimal Point\n",
    "# https://stackoverflow.com/questions/57900886/how-to-check-numbers-after-decimal-point\n",
    "\n",
    "nytimes_covid_19_df_no_null_val_dths_no_dcml_dths = nytimes_covid_19_df_no_null_val_dths\n",
    "nytimes_covid_19_df_no_null_val_dths_no_dcml_dths['check_point'] = np.modf(nytimes_covid_19_df_no_null_val_dths_no_dcml_dths['deaths'])[0].ne(0).astype(int)\n",
    "# nytimes_covid_19_df_no_null_val_dths_dcml_chck = nytimes_covid_19_df_no_null_val_dths_dcml_chck['check_point']\n",
    "nytimes_covid_19_df_no_null_val_dths_dcml_chck_dcml_not_zero = nytimes_covid_19_df_no_null_val_dths_no_dcml_dths[nytimes_covid_19_df_no_null_val_dths_no_dcml_dths[\"check_point\"]!=0]\n",
    "nytimes_covid_19_df_no_null_val_dths_dcml_chck_dcml_not_zero\n",
    "# nytimes_covid_19_df_no_null_val_dths_dcml_chck[\"state\"].value_counts()"
   ]
  },
  {
   "cell_type": "markdown",
   "metadata": {},
   "source": [
    "# Before Rounding, Need to Convert the [\"deaths] Column Datatype From a String to a int"
   ]
  },
  {
   "cell_type": "code",
   "execution_count": 136,
   "metadata": {
    "scrolled": true
   },
   "outputs": [
    {
     "data": {
      "text/plain": [
       "date            object\n",
       "county          object\n",
       "state           object\n",
       "fips           float64\n",
       "cases            int64\n",
       "deaths         float64\n",
       "check_point      int64\n",
       "dtype: object"
      ]
     },
     "execution_count": 136,
     "metadata": {},
     "output_type": "execute_result"
    }
   ],
   "source": [
    "nytimes_covid_19_df_no_null_val_dths_no_dcml_dths.dtypes"
   ]
  },
  {
   "cell_type": "code",
   "execution_count": 138,
   "metadata": {},
   "outputs": [
    {
     "data": {
      "text/plain": [
       "date            object\n",
       "county          object\n",
       "state           object\n",
       "fips           float64\n",
       "cases            int64\n",
       "deaths           int64\n",
       "check_point      int64\n",
       "dtype: object"
      ]
     },
     "execution_count": 138,
     "metadata": {},
     "output_type": "execute_result"
    }
   ],
   "source": [
    "# Convert to [\"deaths\"] Column to an int Data Type\n",
    "nytimes_covid_19_df_no_null_val_dths_no_dcml_dths_int_dths = nytimes_covid_19_df_no_null_val_dths_no_dcml_dths\n",
    "nytimes_covid_19_df_no_null_val_dths_no_dcml_dths_int_dths[\"deaths\"] = nytimes_covid_19_df_no_null_val_dths_no_dcml_dths_int_dths[\"deaths\"].astype(\"int64\")\n",
    "nytimes_covid_19_df_no_null_val_dths_no_dcml_dths_int_dths.dtypes"
   ]
  },
  {
   "cell_type": "code",
   "execution_count": 144,
   "metadata": {
    "scrolled": true
   },
   "outputs": [
    {
     "data": {
      "text/html": [
       "<div>\n",
       "<style scoped>\n",
       "    .dataframe tbody tr th:only-of-type {\n",
       "        vertical-align: middle;\n",
       "    }\n",
       "\n",
       "    .dataframe tbody tr th {\n",
       "        vertical-align: top;\n",
       "    }\n",
       "\n",
       "    .dataframe thead th {\n",
       "        text-align: right;\n",
       "    }\n",
       "</style>\n",
       "<table border=\"1\" class=\"dataframe\">\n",
       "  <thead>\n",
       "    <tr style=\"text-align: right;\">\n",
       "      <th></th>\n",
       "      <th>date</th>\n",
       "      <th>county</th>\n",
       "      <th>state</th>\n",
       "      <th>fips</th>\n",
       "      <th>cases</th>\n",
       "      <th>deaths</th>\n",
       "      <th>check_point</th>\n",
       "    </tr>\n",
       "  </thead>\n",
       "  <tbody>\n",
       "    <tr>\n",
       "      <th>0</th>\n",
       "      <td>2020-01-21</td>\n",
       "      <td>Snohomish</td>\n",
       "      <td>Washington</td>\n",
       "      <td>53061.0</td>\n",
       "      <td>1</td>\n",
       "      <td>0</td>\n",
       "      <td>0</td>\n",
       "    </tr>\n",
       "    <tr>\n",
       "      <th>1</th>\n",
       "      <td>2020-01-22</td>\n",
       "      <td>Snohomish</td>\n",
       "      <td>Washington</td>\n",
       "      <td>53061.0</td>\n",
       "      <td>1</td>\n",
       "      <td>0</td>\n",
       "      <td>0</td>\n",
       "    </tr>\n",
       "    <tr>\n",
       "      <th>2</th>\n",
       "      <td>2020-01-23</td>\n",
       "      <td>Snohomish</td>\n",
       "      <td>Washington</td>\n",
       "      <td>53061.0</td>\n",
       "      <td>1</td>\n",
       "      <td>0</td>\n",
       "      <td>0</td>\n",
       "    </tr>\n",
       "    <tr>\n",
       "      <th>3</th>\n",
       "      <td>2020-01-24</td>\n",
       "      <td>Cook</td>\n",
       "      <td>Illinois</td>\n",
       "      <td>17031.0</td>\n",
       "      <td>1</td>\n",
       "      <td>0</td>\n",
       "      <td>0</td>\n",
       "    </tr>\n",
       "    <tr>\n",
       "      <th>4</th>\n",
       "      <td>2020-01-24</td>\n",
       "      <td>Snohomish</td>\n",
       "      <td>Washington</td>\n",
       "      <td>53061.0</td>\n",
       "      <td>1</td>\n",
       "      <td>0</td>\n",
       "      <td>0</td>\n",
       "    </tr>\n",
       "    <tr>\n",
       "      <th>...</th>\n",
       "      <td>...</td>\n",
       "      <td>...</td>\n",
       "      <td>...</td>\n",
       "      <td>...</td>\n",
       "      <td>...</td>\n",
       "      <td>...</td>\n",
       "      <td>...</td>\n",
       "    </tr>\n",
       "    <tr>\n",
       "      <th>784208</th>\n",
       "      <td>2020-11-30</td>\n",
       "      <td>Sweetwater</td>\n",
       "      <td>Wyoming</td>\n",
       "      <td>56037.0</td>\n",
       "      <td>1888</td>\n",
       "      <td>6</td>\n",
       "      <td>0</td>\n",
       "    </tr>\n",
       "    <tr>\n",
       "      <th>784209</th>\n",
       "      <td>2020-11-30</td>\n",
       "      <td>Teton</td>\n",
       "      <td>Wyoming</td>\n",
       "      <td>56039.0</td>\n",
       "      <td>1644</td>\n",
       "      <td>2</td>\n",
       "      <td>0</td>\n",
       "    </tr>\n",
       "    <tr>\n",
       "      <th>784210</th>\n",
       "      <td>2020-11-30</td>\n",
       "      <td>Uinta</td>\n",
       "      <td>Wyoming</td>\n",
       "      <td>56041.0</td>\n",
       "      <td>1070</td>\n",
       "      <td>4</td>\n",
       "      <td>0</td>\n",
       "    </tr>\n",
       "    <tr>\n",
       "      <th>784211</th>\n",
       "      <td>2020-11-30</td>\n",
       "      <td>Washakie</td>\n",
       "      <td>Wyoming</td>\n",
       "      <td>56043.0</td>\n",
       "      <td>440</td>\n",
       "      <td>8</td>\n",
       "      <td>0</td>\n",
       "    </tr>\n",
       "    <tr>\n",
       "      <th>784212</th>\n",
       "      <td>2020-11-30</td>\n",
       "      <td>Weston</td>\n",
       "      <td>Wyoming</td>\n",
       "      <td>56045.0</td>\n",
       "      <td>397</td>\n",
       "      <td>1</td>\n",
       "      <td>0</td>\n",
       "    </tr>\n",
       "  </tbody>\n",
       "</table>\n",
       "<p>784213 rows × 7 columns</p>\n",
       "</div>"
      ],
      "text/plain": [
       "              date      county       state     fips  cases  deaths  \\\n",
       "0       2020-01-21   Snohomish  Washington  53061.0      1       0   \n",
       "1       2020-01-22   Snohomish  Washington  53061.0      1       0   \n",
       "2       2020-01-23   Snohomish  Washington  53061.0      1       0   \n",
       "3       2020-01-24        Cook    Illinois  17031.0      1       0   \n",
       "4       2020-01-24   Snohomish  Washington  53061.0      1       0   \n",
       "...            ...         ...         ...      ...    ...     ...   \n",
       "784208  2020-11-30  Sweetwater     Wyoming  56037.0   1888       6   \n",
       "784209  2020-11-30       Teton     Wyoming  56039.0   1644       2   \n",
       "784210  2020-11-30       Uinta     Wyoming  56041.0   1070       4   \n",
       "784211  2020-11-30    Washakie     Wyoming  56043.0    440       8   \n",
       "784212  2020-11-30      Weston     Wyoming  56045.0    397       1   \n",
       "\n",
       "        check_point  \n",
       "0                 0  \n",
       "1                 0  \n",
       "2                 0  \n",
       "3                 0  \n",
       "4                 0  \n",
       "...             ...  \n",
       "784208            0  \n",
       "784209            0  \n",
       "784210            0  \n",
       "784211            0  \n",
       "784212            0  \n",
       "\n",
       "[784213 rows x 7 columns]"
      ]
     },
     "execution_count": 144,
     "metadata": {},
     "output_type": "execute_result"
    }
   ],
   "source": [
    "# Round the Death Rate Up to a Whole Number.\n",
    "nytimes_covid_19_df_no_null_val_dths_no_dcml_dths_int_dths_rnd_dths = nytimes_covid_19_df_no_null_val_dths_no_dcml_dths_int_dths\n",
    "# nytimes_covid_19_df_no_null_val_dths_no_dcml_dths_rnd_ceil[\"deaths\"] = nytimes_covid_19_df_no_null_val_dths_no_dcml_dths_rnd_ceil[\"deaths\"].apply(np.ceil)\n",
    "\n",
    "nytimes_covid_19_df_no_null_val_dths_no_dcml_dths_int_dths_rnd_dths = nytimes_covid_19_df_no_null_val_dths_no_dcml_dths_int_dths_rnd_dths.round({\"deaths\": 0})\n",
    "nytimes_covid_19_df_no_null_val_dths_no_dcml_dths_int_dths_rnd_dths"
   ]
  },
  {
   "cell_type": "markdown",
   "metadata": {},
   "source": [
    "# ---------------------------------------------------------------------"
   ]
  },
  {
   "cell_type": "markdown",
   "metadata": {},
   "source": [
    "### Convert the [\"Date\"] Column to a datetime64[ns] Data Type in the State Level Dataframe"
   ]
  },
  {
   "cell_type": "markdown",
   "metadata": {},
   "source": [
    "# ---------------------------------------------------------------------"
   ]
  },
  {
   "cell_type": "code",
   "execution_count": 146,
   "metadata": {
    "scrolled": true
   },
   "outputs": [
    {
     "name": "stdout",
     "output_type": "stream",
     "text": [
      "datetime64[ns]\n",
      "-------------------------\n",
      "0        2020-01-21\n",
      "1        2020-01-22\n",
      "2        2020-01-23\n",
      "3        2020-01-24\n",
      "4        2020-01-24\n",
      "            ...    \n",
      "784208   2020-11-30\n",
      "784209   2020-11-30\n",
      "784210   2020-11-30\n",
      "784211   2020-11-30\n",
      "784212   2020-11-30\n",
      "Name: date, Length: 784213, dtype: datetime64[ns]\n"
     ]
    }
   ],
   "source": [
    "# Convert the [\"Date\"] Column from a String Data Type to a datetime64[ns] Data Type\n",
    "nytimes_covid_19_df_no_null_val_dths_no_dcml_dths_int_dths_rnd_dths_dttm_date = nytimes_covid_19_df_no_null_val_dths_no_dcml_dths_int_dths_rnd_dths\n",
    "nytimes_covid_19_df_no_null_val_dths_no_dcml_dths_int_dths_rnd_dths_dttm_date[\"date\"]  = pd.to_datetime(nytimes_covid_19_df_no_null_val_dths_no_dcml_dths_int_dths_rnd_dths_dttm_date[\"date\"])\n",
    "\n",
    "print(nytimes_covid_19_df_no_null_val_dths_no_dcml_dths_int_dths_rnd_dths_dttm_date[\"date\"].dtypes)\n",
    "print(\"-------------------------\")\n",
    "print(nytimes_covid_19_df_no_null_val_dths_no_dcml_dths_int_dths_rnd_dths_dttm_date[\"date\"])"
   ]
  },
  {
   "cell_type": "code",
   "execution_count": 147,
   "metadata": {
    "scrolled": false
   },
   "outputs": [
    {
     "data": {
      "text/plain": [
       "date           datetime64[ns]\n",
       "county                 object\n",
       "state                  object\n",
       "fips                  float64\n",
       "cases                   int64\n",
       "deaths                  int64\n",
       "check_point             int64\n",
       "dtype: object"
      ]
     },
     "execution_count": 147,
     "metadata": {},
     "output_type": "execute_result"
    }
   ],
   "source": [
    "nytimes_covid_19_df_no_null_val_dths_no_dcml_dths_int_dths_rnd_dths_dttm_date.dtypes"
   ]
  },
  {
   "cell_type": "code",
   "execution_count": 151,
   "metadata": {},
   "outputs": [
    {
     "data": {
      "text/html": [
       "<div>\n",
       "<style scoped>\n",
       "    .dataframe tbody tr th:only-of-type {\n",
       "        vertical-align: middle;\n",
       "    }\n",
       "\n",
       "    .dataframe tbody tr th {\n",
       "        vertical-align: top;\n",
       "    }\n",
       "\n",
       "    .dataframe thead th {\n",
       "        text-align: right;\n",
       "    }\n",
       "</style>\n",
       "<table border=\"1\" class=\"dataframe\">\n",
       "  <thead>\n",
       "    <tr style=\"text-align: right;\">\n",
       "      <th></th>\n",
       "      <th>date</th>\n",
       "      <th>county</th>\n",
       "      <th>state</th>\n",
       "      <th>fips</th>\n",
       "      <th>cases</th>\n",
       "      <th>deaths</th>\n",
       "      <th>check_point</th>\n",
       "    </tr>\n",
       "  </thead>\n",
       "  <tbody>\n",
       "    <tr>\n",
       "      <th>0</th>\n",
       "      <td>2020-01-21</td>\n",
       "      <td>Snohomish</td>\n",
       "      <td>Washington</td>\n",
       "      <td>53061.0</td>\n",
       "      <td>1</td>\n",
       "      <td>0</td>\n",
       "      <td>0</td>\n",
       "    </tr>\n",
       "    <tr>\n",
       "      <th>1</th>\n",
       "      <td>2020-01-22</td>\n",
       "      <td>Snohomish</td>\n",
       "      <td>Washington</td>\n",
       "      <td>53061.0</td>\n",
       "      <td>1</td>\n",
       "      <td>0</td>\n",
       "      <td>0</td>\n",
       "    </tr>\n",
       "    <tr>\n",
       "      <th>2</th>\n",
       "      <td>2020-01-23</td>\n",
       "      <td>Snohomish</td>\n",
       "      <td>Washington</td>\n",
       "      <td>53061.0</td>\n",
       "      <td>1</td>\n",
       "      <td>0</td>\n",
       "      <td>0</td>\n",
       "    </tr>\n",
       "    <tr>\n",
       "      <th>3</th>\n",
       "      <td>2020-01-24</td>\n",
       "      <td>Cook</td>\n",
       "      <td>Illinois</td>\n",
       "      <td>17031.0</td>\n",
       "      <td>1</td>\n",
       "      <td>0</td>\n",
       "      <td>0</td>\n",
       "    </tr>\n",
       "    <tr>\n",
       "      <th>4</th>\n",
       "      <td>2020-01-24</td>\n",
       "      <td>Snohomish</td>\n",
       "      <td>Washington</td>\n",
       "      <td>53061.0</td>\n",
       "      <td>1</td>\n",
       "      <td>0</td>\n",
       "      <td>0</td>\n",
       "    </tr>\n",
       "    <tr>\n",
       "      <th>...</th>\n",
       "      <td>...</td>\n",
       "      <td>...</td>\n",
       "      <td>...</td>\n",
       "      <td>...</td>\n",
       "      <td>...</td>\n",
       "      <td>...</td>\n",
       "      <td>...</td>\n",
       "    </tr>\n",
       "    <tr>\n",
       "      <th>784208</th>\n",
       "      <td>2020-11-30</td>\n",
       "      <td>Sweetwater</td>\n",
       "      <td>Wyoming</td>\n",
       "      <td>56037.0</td>\n",
       "      <td>1888</td>\n",
       "      <td>6</td>\n",
       "      <td>0</td>\n",
       "    </tr>\n",
       "    <tr>\n",
       "      <th>784209</th>\n",
       "      <td>2020-11-30</td>\n",
       "      <td>Teton</td>\n",
       "      <td>Wyoming</td>\n",
       "      <td>56039.0</td>\n",
       "      <td>1644</td>\n",
       "      <td>2</td>\n",
       "      <td>0</td>\n",
       "    </tr>\n",
       "    <tr>\n",
       "      <th>784210</th>\n",
       "      <td>2020-11-30</td>\n",
       "      <td>Uinta</td>\n",
       "      <td>Wyoming</td>\n",
       "      <td>56041.0</td>\n",
       "      <td>1070</td>\n",
       "      <td>4</td>\n",
       "      <td>0</td>\n",
       "    </tr>\n",
       "    <tr>\n",
       "      <th>784211</th>\n",
       "      <td>2020-11-30</td>\n",
       "      <td>Washakie</td>\n",
       "      <td>Wyoming</td>\n",
       "      <td>56043.0</td>\n",
       "      <td>440</td>\n",
       "      <td>8</td>\n",
       "      <td>0</td>\n",
       "    </tr>\n",
       "    <tr>\n",
       "      <th>784212</th>\n",
       "      <td>2020-11-30</td>\n",
       "      <td>Weston</td>\n",
       "      <td>Wyoming</td>\n",
       "      <td>56045.0</td>\n",
       "      <td>397</td>\n",
       "      <td>1</td>\n",
       "      <td>0</td>\n",
       "    </tr>\n",
       "  </tbody>\n",
       "</table>\n",
       "<p>784213 rows × 7 columns</p>\n",
       "</div>"
      ],
      "text/plain": [
       "             date      county       state     fips  cases  deaths  check_point\n",
       "0      2020-01-21   Snohomish  Washington  53061.0      1       0            0\n",
       "1      2020-01-22   Snohomish  Washington  53061.0      1       0            0\n",
       "2      2020-01-23   Snohomish  Washington  53061.0      1       0            0\n",
       "3      2020-01-24        Cook    Illinois  17031.0      1       0            0\n",
       "4      2020-01-24   Snohomish  Washington  53061.0      1       0            0\n",
       "...           ...         ...         ...      ...    ...     ...          ...\n",
       "784208 2020-11-30  Sweetwater     Wyoming  56037.0   1888       6            0\n",
       "784209 2020-11-30       Teton     Wyoming  56039.0   1644       2            0\n",
       "784210 2020-11-30       Uinta     Wyoming  56041.0   1070       4            0\n",
       "784211 2020-11-30    Washakie     Wyoming  56043.0    440       8            0\n",
       "784212 2020-11-30      Weston     Wyoming  56045.0    397       1            0\n",
       "\n",
       "[784213 rows x 7 columns]"
      ]
     },
     "execution_count": 151,
     "metadata": {},
     "output_type": "execute_result"
    }
   ],
   "source": [
    "nytimes_covid_19_df_no_null_val_dths_no_dcml_dths_int_dths_rnd_dths_dttm_date"
   ]
  },
  {
   "cell_type": "markdown",
   "metadata": {},
   "source": [
    "# ========================================"
   ]
  },
  {
   "cell_type": "markdown",
   "metadata": {},
   "source": [
    "# Dataframes with Limited Columns"
   ]
  },
  {
   "cell_type": "markdown",
   "metadata": {},
   "source": [
    "# ========================================"
   ]
  },
  {
   "cell_type": "markdown",
   "metadata": {},
   "source": [
    "# ---------------------------------------------------------------------"
   ]
  },
  {
   "cell_type": "markdown",
   "metadata": {},
   "source": [
    "## State Dataframe with Limited Columns"
   ]
  },
  {
   "cell_type": "markdown",
   "metadata": {},
   "source": [
    "# ---------------------------------------------------------------------"
   ]
  },
  {
   "cell_type": "code",
   "execution_count": 33,
   "metadata": {
    "scrolled": true
   },
   "outputs": [
    {
     "data": {
      "text/html": [
       "<div>\n",
       "<style scoped>\n",
       "    .dataframe tbody tr th:only-of-type {\n",
       "        vertical-align: middle;\n",
       "    }\n",
       "\n",
       "    .dataframe tbody tr th {\n",
       "        vertical-align: top;\n",
       "    }\n",
       "\n",
       "    .dataframe thead th {\n",
       "        text-align: right;\n",
       "    }\n",
       "</style>\n",
       "<table border=\"1\" class=\"dataframe\">\n",
       "  <thead>\n",
       "    <tr style=\"text-align: right;\">\n",
       "      <th></th>\n",
       "      <th>Date</th>\n",
       "      <th>State Postal Code</th>\n",
       "      <th>Population Staying at Home</th>\n",
       "      <th>Population Not Staying at Home</th>\n",
       "      <th>Number of Trips</th>\n",
       "    </tr>\n",
       "  </thead>\n",
       "  <tbody>\n",
       "    <tr>\n",
       "      <th>15710</th>\n",
       "      <td>2019-01-01</td>\n",
       "      <td>MA</td>\n",
       "      <td>1798521</td>\n",
       "      <td>5082532</td>\n",
       "      <td>22181890</td>\n",
       "    </tr>\n",
       "    <tr>\n",
       "      <th>15711</th>\n",
       "      <td>2019-01-01</td>\n",
       "      <td>MI</td>\n",
       "      <td>2342813</td>\n",
       "      <td>7622550</td>\n",
       "      <td>26701254</td>\n",
       "    </tr>\n",
       "    <tr>\n",
       "      <th>15712</th>\n",
       "      <td>2019-01-01</td>\n",
       "      <td>MN</td>\n",
       "      <td>1266769</td>\n",
       "      <td>4327262</td>\n",
       "      <td>15278584</td>\n",
       "    </tr>\n",
       "    <tr>\n",
       "      <th>15713</th>\n",
       "      <td>2019-01-01</td>\n",
       "      <td>MS</td>\n",
       "      <td>596999</td>\n",
       "      <td>2380405</td>\n",
       "      <td>7297125</td>\n",
       "    </tr>\n",
       "    <tr>\n",
       "      <th>15714</th>\n",
       "      <td>2019-01-01</td>\n",
       "      <td>MO</td>\n",
       "      <td>1530765</td>\n",
       "      <td>4576960</td>\n",
       "      <td>16618431</td>\n",
       "    </tr>\n",
       "    <tr>\n",
       "      <th>...</th>\n",
       "      <td>...</td>\n",
       "      <td>...</td>\n",
       "      <td>...</td>\n",
       "      <td>...</td>\n",
       "      <td>...</td>\n",
       "    </tr>\n",
       "    <tr>\n",
       "      <th>2207042</th>\n",
       "      <td>2020-11-21</td>\n",
       "      <td>DE</td>\n",
       "      <td>277495</td>\n",
       "      <td>689676</td>\n",
       "      <td>2832707</td>\n",
       "    </tr>\n",
       "    <tr>\n",
       "      <th>2207043</th>\n",
       "      <td>2020-11-21</td>\n",
       "      <td>ME</td>\n",
       "      <td>405767</td>\n",
       "      <td>932637</td>\n",
       "      <td>3482073</td>\n",
       "    </tr>\n",
       "    <tr>\n",
       "      <th>2207044</th>\n",
       "      <td>2020-11-21</td>\n",
       "      <td>OK</td>\n",
       "      <td>1121125</td>\n",
       "      <td>2821954</td>\n",
       "      <td>10725736</td>\n",
       "    </tr>\n",
       "    <tr>\n",
       "      <th>2207045</th>\n",
       "      <td>2020-11-21</td>\n",
       "      <td>WI</td>\n",
       "      <td>1708357</td>\n",
       "      <td>4105211</td>\n",
       "      <td>15988642</td>\n",
       "    </tr>\n",
       "    <tr>\n",
       "      <th>2207046</th>\n",
       "      <td>2020-11-21</td>\n",
       "      <td>WV</td>\n",
       "      <td>542360</td>\n",
       "      <td>1263472</td>\n",
       "      <td>4716158</td>\n",
       "    </tr>\n",
       "  </tbody>\n",
       "</table>\n",
       "<p>35241 rows × 5 columns</p>\n",
       "</div>"
      ],
      "text/plain": [
       "              Date State Postal Code  Population Staying at Home  \\\n",
       "15710   2019-01-01                MA                     1798521   \n",
       "15711   2019-01-01                MI                     2342813   \n",
       "15712   2019-01-01                MN                     1266769   \n",
       "15713   2019-01-01                MS                      596999   \n",
       "15714   2019-01-01                MO                     1530765   \n",
       "...            ...               ...                         ...   \n",
       "2207042 2020-11-21                DE                      277495   \n",
       "2207043 2020-11-21                ME                      405767   \n",
       "2207044 2020-11-21                OK                     1121125   \n",
       "2207045 2020-11-21                WI                     1708357   \n",
       "2207046 2020-11-21                WV                      542360   \n",
       "\n",
       "         Population Not Staying at Home  Number of Trips  \n",
       "15710                           5082532         22181890  \n",
       "15711                           7622550         26701254  \n",
       "15712                           4327262         15278584  \n",
       "15713                           2380405          7297125  \n",
       "15714                           4576960         16618431  \n",
       "...                                 ...              ...  \n",
       "2207042                          689676          2832707  \n",
       "2207043                          932637          3482073  \n",
       "2207044                         2821954         10725736  \n",
       "2207045                         4105211         15988642  \n",
       "2207046                         1263472          4716158  \n",
       "\n",
       "[35241 rows x 5 columns]"
      ]
     },
     "execution_count": 33,
     "metadata": {},
     "output_type": "execute_result"
    }
   ],
   "source": [
    "# New State Dataframe With the Following Columns: [\"Date\", \"State Postal Code\", \"Population Staying at Home\", \"Population Not Staying at Home\",\"Number of Trips\"] \n",
    "bts_gov_trps_df_cnty_clmn_null_lvl_st_no_cmms_int64_dttm_lmtd_clmn = bts_gov_trps_df_cnty_clmn_null_lvl_st_no_cmms_int64_dttm\n",
    "bts_gov_trps_df_cnty_clmn_null_lvl_st_no_cmms_int64_dttm_lmtd_clmn = bts_gov_trps_df_cnty_clmn_null_lvl_st_no_cmms_int64_dttm_lmtd_clmn[[\"Date\", \"State Postal Code\", \"Population Staying at Home\", \"Population Not Staying at Home\",\"Number of Trips\"]]\n",
    "bts_gov_trps_df_cnty_clmn_null_lvl_st_no_cmms_int64_dttm_lmtd_clmn"
   ]
  },
  {
   "cell_type": "code",
   "execution_count": 34,
   "metadata": {},
   "outputs": [
    {
     "data": {
      "text/plain": [
       "Date                              datetime64[ns]\n",
       "State Postal Code                         object\n",
       "Population Staying at Home                 int64\n",
       "Population Not Staying at Home             int64\n",
       "Number of Trips                            int64\n",
       "dtype: object"
      ]
     },
     "execution_count": 34,
     "metadata": {},
     "output_type": "execute_result"
    }
   ],
   "source": [
    "# Check the Data Types of the Dataframe\n",
    "bts_gov_trps_df_cnty_clmn_null_lvl_st_no_cmms_int64_dttm_lmtd_clmn.dtypes"
   ]
  },
  {
   "cell_type": "code",
   "execution_count": 35,
   "metadata": {},
   "outputs": [
    {
     "data": {
      "text/plain": [
       "Date                              False\n",
       "State Postal Code                 False\n",
       "Population Staying at Home        False\n",
       "Population Not Staying at Home    False\n",
       "Number of Trips                   False\n",
       "dtype: bool"
      ]
     },
     "execution_count": 35,
     "metadata": {},
     "output_type": "execute_result"
    }
   ],
   "source": [
    "# Check the Dataframe for Null Values\n",
    "bts_gov_trps_df_cnty_clmn_null_lvl_st_no_cmms_int64_dttm_lmtd_clmn.isnull().any()"
   ]
  },
  {
   "cell_type": "code",
   "execution_count": 41,
   "metadata": {},
   "outputs": [
    {
     "data": {
      "text/plain": [
       "2020-10-28    51\n",
       "2020-09-08    51\n",
       "2019-06-10    51\n",
       "2020-01-11    51\n",
       "2019-06-23    51\n",
       "              ..\n",
       "2020-04-23    51\n",
       "2019-12-05    51\n",
       "2020-08-23    51\n",
       "2020-07-07    51\n",
       "2019-02-04    51\n",
       "Name: Date, Length: 691, dtype: int64"
      ]
     },
     "execution_count": 41,
     "metadata": {},
     "output_type": "execute_result"
    }
   ],
   "source": [
    "# Number of Unique Values in the Date Column of the State Dataframe\n",
    "bts_gov_trps_df_cnty_clmn_null_lvl_st_no_cmms_int64_dttm_lmtd_clmn[\"Date\"].value_counts()"
   ]
  },
  {
   "cell_type": "code",
   "execution_count": 43,
   "metadata": {},
   "outputs": [
    {
     "data": {
      "text/plain": [
       "Date                              35241\n",
       "State Postal Code                 35241\n",
       "Population Staying at Home        35241\n",
       "Population Not Staying at Home    35241\n",
       "Number of Trips                   35241\n",
       "dtype: int64"
      ]
     },
     "execution_count": 43,
     "metadata": {},
     "output_type": "execute_result"
    }
   ],
   "source": [
    "# Number of Non-NA cells for each column in the Date Column of the State Dataframe\n",
    "bts_gov_trps_df_cnty_clmn_null_lvl_st_no_cmms_int64_dttm_lmtd_clmn.count()"
   ]
  },
  {
   "cell_type": "code",
   "execution_count": 44,
   "metadata": {},
   "outputs": [
    {
     "data": {
      "text/plain": [
       "35241"
      ]
     },
     "execution_count": 44,
     "metadata": {},
     "output_type": "execute_result"
    }
   ],
   "source": [
    "# Total Number of Rows in the Dataframe\n",
    "len(bts_gov_trps_df_cnty_clmn_null_lvl_st_no_cmms_int64_dttm_lmtd_clmn)"
   ]
  },
  {
   "cell_type": "code",
   "execution_count": 45,
   "metadata": {
    "scrolled": true
   },
   "outputs": [
    {
     "data": {
      "text/plain": [
       "(35241, 5)"
      ]
     },
     "execution_count": 45,
     "metadata": {},
     "output_type": "execute_result"
    }
   ],
   "source": [
    "# The Shape of the Dataframe\n",
    "bts_gov_trps_df_cnty_clmn_null_lvl_st_no_cmms_int64_dttm_lmtd_clmn.shape"
   ]
  },
  {
   "cell_type": "markdown",
   "metadata": {},
   "source": [
    "# ---------------------------------------------------------------------"
   ]
  },
  {
   "cell_type": "markdown",
   "metadata": {},
   "source": [
    "## COVID-19 Dataframe with Limited Columns"
   ]
  },
  {
   "cell_type": "markdown",
   "metadata": {},
   "source": [
    "# ********NOT WORKING********"
   ]
  },
  {
   "cell_type": "markdown",
   "metadata": {},
   "source": [
    "# ---------------------------------------------------------------------"
   ]
  },
  {
   "cell_type": "code",
   "execution_count": null,
   "metadata": {},
   "outputs": [],
   "source": [
    "nytimes_covid_19_df_no_null_val_dths_no_dcml_dths_int_dths_rnd_dths_dttm_date."
   ]
  },
  {
   "cell_type": "code",
   "execution_count": 161,
   "metadata": {
    "scrolled": false
   },
   "outputs": [
    {
     "ename": "KeyError",
     "evalue": "('date', 'cases')",
     "output_type": "error",
     "traceback": [
      "\u001b[0;31m---------------------------------------------------------------------------\u001b[0m",
      "\u001b[0;31mKeyError\u001b[0m                                  Traceback (most recent call last)",
      "\u001b[0;32m~/opt/anaconda3/lib/python3.7/site-packages/pandas/core/indexes/base.py\u001b[0m in \u001b[0;36mget_loc\u001b[0;34m(self, key, method, tolerance)\u001b[0m\n\u001b[1;32m   2645\u001b[0m             \u001b[0;32mtry\u001b[0m\u001b[0;34m:\u001b[0m\u001b[0;34m\u001b[0m\u001b[0;34m\u001b[0m\u001b[0m\n\u001b[0;32m-> 2646\u001b[0;31m                 \u001b[0;32mreturn\u001b[0m \u001b[0mself\u001b[0m\u001b[0;34m.\u001b[0m\u001b[0m_engine\u001b[0m\u001b[0;34m.\u001b[0m\u001b[0mget_loc\u001b[0m\u001b[0;34m(\u001b[0m\u001b[0mkey\u001b[0m\u001b[0;34m)\u001b[0m\u001b[0;34m\u001b[0m\u001b[0;34m\u001b[0m\u001b[0m\n\u001b[0m\u001b[1;32m   2647\u001b[0m             \u001b[0;32mexcept\u001b[0m \u001b[0mKeyError\u001b[0m\u001b[0;34m:\u001b[0m\u001b[0;34m\u001b[0m\u001b[0;34m\u001b[0m\u001b[0m\n",
      "\u001b[0;32mpandas/_libs/index.pyx\u001b[0m in \u001b[0;36mpandas._libs.index.IndexEngine.get_loc\u001b[0;34m()\u001b[0m\n",
      "\u001b[0;32mpandas/_libs/index.pyx\u001b[0m in \u001b[0;36mpandas._libs.index.IndexEngine.get_loc\u001b[0;34m()\u001b[0m\n",
      "\u001b[0;32mpandas/_libs/hashtable_class_helper.pxi\u001b[0m in \u001b[0;36mpandas._libs.hashtable.PyObjectHashTable.get_item\u001b[0;34m()\u001b[0m\n",
      "\u001b[0;32mpandas/_libs/hashtable_class_helper.pxi\u001b[0m in \u001b[0;36mpandas._libs.hashtable.PyObjectHashTable.get_item\u001b[0;34m()\u001b[0m\n",
      "\u001b[0;31mKeyError\u001b[0m: ('date', 'cases')",
      "\nDuring handling of the above exception, another exception occurred:\n",
      "\u001b[0;31mKeyError\u001b[0m                                  Traceback (most recent call last)",
      "\u001b[0;32m<ipython-input-161-089a419170e2>\u001b[0m in \u001b[0;36m<module>\u001b[0;34m\u001b[0m\n\u001b[0;32m----> 1\u001b[0;31m \u001b[0mnytimes_covid_19_df_no_null_val_dths_no_dcml_dths_int_dths_rnd_dths_dttm_date_lmtd_clmn\u001b[0m \u001b[0;34m=\u001b[0m \u001b[0mnytimes_covid_19_df_no_null_val_dths_no_dcml_dths_int_dths_rnd_dths_dttm_date\u001b[0m\u001b[0;34m[\u001b[0m\u001b[0;34m\"date\"\u001b[0m\u001b[0;34m,\u001b[0m \u001b[0;34m\"cases\"\u001b[0m\u001b[0;34m]\u001b[0m\u001b[0;34m\u001b[0m\u001b[0;34m\u001b[0m\u001b[0m\n\u001b[0m\u001b[1;32m      2\u001b[0m \u001b[0mnytimes_covid_19_df_no_null_val_dths_no_dcml_dths_int_dths_rnd_dths_dttm_date_lmtd_clmn\u001b[0m\u001b[0;34m\u001b[0m\u001b[0;34m\u001b[0m\u001b[0m\n",
      "\u001b[0;32m~/opt/anaconda3/lib/python3.7/site-packages/pandas/core/frame.py\u001b[0m in \u001b[0;36m__getitem__\u001b[0;34m(self, key)\u001b[0m\n\u001b[1;32m   2798\u001b[0m             \u001b[0;32mif\u001b[0m \u001b[0mself\u001b[0m\u001b[0;34m.\u001b[0m\u001b[0mcolumns\u001b[0m\u001b[0;34m.\u001b[0m\u001b[0mnlevels\u001b[0m \u001b[0;34m>\u001b[0m \u001b[0;36m1\u001b[0m\u001b[0;34m:\u001b[0m\u001b[0;34m\u001b[0m\u001b[0;34m\u001b[0m\u001b[0m\n\u001b[1;32m   2799\u001b[0m                 \u001b[0;32mreturn\u001b[0m \u001b[0mself\u001b[0m\u001b[0;34m.\u001b[0m\u001b[0m_getitem_multilevel\u001b[0m\u001b[0;34m(\u001b[0m\u001b[0mkey\u001b[0m\u001b[0;34m)\u001b[0m\u001b[0;34m\u001b[0m\u001b[0;34m\u001b[0m\u001b[0m\n\u001b[0;32m-> 2800\u001b[0;31m             \u001b[0mindexer\u001b[0m \u001b[0;34m=\u001b[0m \u001b[0mself\u001b[0m\u001b[0;34m.\u001b[0m\u001b[0mcolumns\u001b[0m\u001b[0;34m.\u001b[0m\u001b[0mget_loc\u001b[0m\u001b[0;34m(\u001b[0m\u001b[0mkey\u001b[0m\u001b[0;34m)\u001b[0m\u001b[0;34m\u001b[0m\u001b[0;34m\u001b[0m\u001b[0m\n\u001b[0m\u001b[1;32m   2801\u001b[0m             \u001b[0;32mif\u001b[0m \u001b[0mis_integer\u001b[0m\u001b[0;34m(\u001b[0m\u001b[0mindexer\u001b[0m\u001b[0;34m)\u001b[0m\u001b[0;34m:\u001b[0m\u001b[0;34m\u001b[0m\u001b[0;34m\u001b[0m\u001b[0m\n\u001b[1;32m   2802\u001b[0m                 \u001b[0mindexer\u001b[0m \u001b[0;34m=\u001b[0m \u001b[0;34m[\u001b[0m\u001b[0mindexer\u001b[0m\u001b[0;34m]\u001b[0m\u001b[0;34m\u001b[0m\u001b[0;34m\u001b[0m\u001b[0m\n",
      "\u001b[0;32m~/opt/anaconda3/lib/python3.7/site-packages/pandas/core/indexes/base.py\u001b[0m in \u001b[0;36mget_loc\u001b[0;34m(self, key, method, tolerance)\u001b[0m\n\u001b[1;32m   2646\u001b[0m                 \u001b[0;32mreturn\u001b[0m \u001b[0mself\u001b[0m\u001b[0;34m.\u001b[0m\u001b[0m_engine\u001b[0m\u001b[0;34m.\u001b[0m\u001b[0mget_loc\u001b[0m\u001b[0;34m(\u001b[0m\u001b[0mkey\u001b[0m\u001b[0;34m)\u001b[0m\u001b[0;34m\u001b[0m\u001b[0;34m\u001b[0m\u001b[0m\n\u001b[1;32m   2647\u001b[0m             \u001b[0;32mexcept\u001b[0m \u001b[0mKeyError\u001b[0m\u001b[0;34m:\u001b[0m\u001b[0;34m\u001b[0m\u001b[0;34m\u001b[0m\u001b[0m\n\u001b[0;32m-> 2648\u001b[0;31m                 \u001b[0;32mreturn\u001b[0m \u001b[0mself\u001b[0m\u001b[0;34m.\u001b[0m\u001b[0m_engine\u001b[0m\u001b[0;34m.\u001b[0m\u001b[0mget_loc\u001b[0m\u001b[0;34m(\u001b[0m\u001b[0mself\u001b[0m\u001b[0;34m.\u001b[0m\u001b[0m_maybe_cast_indexer\u001b[0m\u001b[0;34m(\u001b[0m\u001b[0mkey\u001b[0m\u001b[0;34m)\u001b[0m\u001b[0;34m)\u001b[0m\u001b[0;34m\u001b[0m\u001b[0;34m\u001b[0m\u001b[0m\n\u001b[0m\u001b[1;32m   2649\u001b[0m         \u001b[0mindexer\u001b[0m \u001b[0;34m=\u001b[0m \u001b[0mself\u001b[0m\u001b[0;34m.\u001b[0m\u001b[0mget_indexer\u001b[0m\u001b[0;34m(\u001b[0m\u001b[0;34m[\u001b[0m\u001b[0mkey\u001b[0m\u001b[0;34m]\u001b[0m\u001b[0;34m,\u001b[0m \u001b[0mmethod\u001b[0m\u001b[0;34m=\u001b[0m\u001b[0mmethod\u001b[0m\u001b[0;34m,\u001b[0m \u001b[0mtolerance\u001b[0m\u001b[0;34m=\u001b[0m\u001b[0mtolerance\u001b[0m\u001b[0;34m)\u001b[0m\u001b[0;34m\u001b[0m\u001b[0;34m\u001b[0m\u001b[0m\n\u001b[1;32m   2650\u001b[0m         \u001b[0;32mif\u001b[0m \u001b[0mindexer\u001b[0m\u001b[0;34m.\u001b[0m\u001b[0mndim\u001b[0m \u001b[0;34m>\u001b[0m \u001b[0;36m1\u001b[0m \u001b[0;32mor\u001b[0m \u001b[0mindexer\u001b[0m\u001b[0;34m.\u001b[0m\u001b[0msize\u001b[0m \u001b[0;34m>\u001b[0m \u001b[0;36m1\u001b[0m\u001b[0;34m:\u001b[0m\u001b[0;34m\u001b[0m\u001b[0;34m\u001b[0m\u001b[0m\n",
      "\u001b[0;32mpandas/_libs/index.pyx\u001b[0m in \u001b[0;36mpandas._libs.index.IndexEngine.get_loc\u001b[0;34m()\u001b[0m\n",
      "\u001b[0;32mpandas/_libs/index.pyx\u001b[0m in \u001b[0;36mpandas._libs.index.IndexEngine.get_loc\u001b[0;34m()\u001b[0m\n",
      "\u001b[0;32mpandas/_libs/hashtable_class_helper.pxi\u001b[0m in \u001b[0;36mpandas._libs.hashtable.PyObjectHashTable.get_item\u001b[0;34m()\u001b[0m\n",
      "\u001b[0;32mpandas/_libs/hashtable_class_helper.pxi\u001b[0m in \u001b[0;36mpandas._libs.hashtable.PyObjectHashTable.get_item\u001b[0;34m()\u001b[0m\n",
      "\u001b[0;31mKeyError\u001b[0m: ('date', 'cases')"
     ]
    }
   ],
   "source": [
    "nytimes_covid_19_df_no_null_val_dths_no_dcml_dths_int_dths_rnd_dths_dttm_date_lmtd_clmn = nytimes_covid_19_df_no_null_val_dths_no_dcml_dths_int_dths_rnd_dths_dttm_date[\"date\", \"cases\"]\n",
    "nytimes_covid_19_df_no_null_val_dths_no_dcml_dths_int_dths_rnd_dths_dttm_date_lmtd_clmn"
   ]
  },
  {
   "cell_type": "markdown",
   "metadata": {},
   "source": [
    "# ========================================"
   ]
  },
  {
   "cell_type": "markdown",
   "metadata": {},
   "source": [
    "# Change the Name of the Columns"
   ]
  },
  {
   "cell_type": "markdown",
   "metadata": {},
   "source": [
    "# ========================================"
   ]
  },
  {
   "cell_type": "markdown",
   "metadata": {},
   "source": [
    "# ---------------------------------------------------------------------"
   ]
  },
  {
   "cell_type": "markdown",
   "metadata": {},
   "source": [
    "## Change the Column Names in the State Trips Dataframe"
   ]
  },
  {
   "cell_type": "markdown",
   "metadata": {},
   "source": [
    "# ---------------------------------------------------------------------"
   ]
  },
  {
   "cell_type": "code",
   "execution_count": 214,
   "metadata": {},
   "outputs": [],
   "source": [
    "# New Column Names\n",
    "new_date_clmn_nm = \"date\"\n",
    "new_st_clmn_nm = \"state\"\n",
    "new_st_pstl_code_clmn_nm = \"state_postal_code\"\n",
    "new_pop_at_hm_clmn_nm = \"pop_at_home\"\n",
    "new_pop_not_at_hm_clmn_nm = \"pop_not_at_home\"\n",
    "new_nmbr_trps_clmn_nm = \"number_trips\"\n",
    "new_cases_clmn_nm = \"covid_cases\"\n",
    "new_dths_clmn_nm = \"covid_deaths\""
   ]
  },
  {
   "cell_type": "code",
   "execution_count": 212,
   "metadata": {},
   "outputs": [
    {
     "data": {
      "text/plain": [
       "Index(['Date', 'State Postal Code', 'Population Staying at Home',\n",
       "       'Population Not Staying at Home', 'Number of Trips'],\n",
       "      dtype='object')"
      ]
     },
     "execution_count": 212,
     "metadata": {},
     "output_type": "execute_result"
    }
   ],
   "source": [
    "bts_gov_trps_df_cnty_clmn_null_lvl_st_no_cmms_int64_dttm_lmtd_clmn.keys()"
   ]
  },
  {
   "cell_type": "code",
   "execution_count": 227,
   "metadata": {},
   "outputs": [
    {
     "ename": "TypeError",
     "evalue": "'DataFrame' object is not callable",
     "output_type": "error",
     "traceback": [
      "\u001b[0;31m---------------------------------------------------------------------------\u001b[0m",
      "\u001b[0;31mTypeError\u001b[0m                                 Traceback (most recent call last)",
      "\u001b[0;32m<ipython-input-227-403b10b9fc3e>\u001b[0m in \u001b[0;36m<module>\u001b[0;34m\u001b[0m\n\u001b[1;32m      1\u001b[0m \u001b[0;31m# Changed the Names of the Column Headers\u001b[0m\u001b[0;34m\u001b[0m\u001b[0;34m\u001b[0m\u001b[0;34m\u001b[0m\u001b[0m\n\u001b[1;32m      2\u001b[0m \u001b[0mbts_gov_trps_df_cnty_clmn_null_lvl_st_no_cmms_int64_dttm_lmtd_clmn_clmn_nm_chng\u001b[0m \u001b[0;34m=\u001b[0m \u001b[0mbts_gov_trps_df_cnty_clmn_null_lvl_st_no_cmms_int64_dttm_lmtd_clmn\u001b[0m\u001b[0;34m\u001b[0m\u001b[0;34m\u001b[0m\u001b[0m\n\u001b[0;32m----> 3\u001b[0;31m \u001b[0mbts_gov_trps_df_cnty_clmn_null_lvl_st_no_cmms_int64_dttm_lmtd_clmn_clmn_nm_chng\u001b[0m \u001b[0;34m=\u001b[0m \u001b[0mbts_gov_trps_df_cnty_clmn_null_lvl_st_no_cmms_int64_dttm_lmtd_clmn_clmn_nm_chng\u001b[0m \u001b[0;34m(\u001b[0m\u001b[0;34m{\u001b[0m\u001b[0;34m\"Date\"\u001b[0m\u001b[0;34m:\u001b[0m \u001b[0mnew_date_clmn_nm\u001b[0m\u001b[0;34m}\u001b[0m\u001b[0;34m,\u001b[0m \u001b[0maxis\u001b[0m \u001b[0;34m=\u001b[0m \u001b[0;36m1\u001b[0m\u001b[0;34m)\u001b[0m\u001b[0;34m\u001b[0m\u001b[0;34m\u001b[0m\u001b[0m\n\u001b[0m\u001b[1;32m      4\u001b[0m \u001b[0;31m# bts_gov_trps_df_cnty_clmn_null_lvl_st_no_cmms_int64_dttm_lmtd_clmn_clmn_nm_chng#.head()\u001b[0m\u001b[0;34m\u001b[0m\u001b[0;34m\u001b[0m\u001b[0;34m\u001b[0m\u001b[0m\n",
      "\u001b[0;31mTypeError\u001b[0m: 'DataFrame' object is not callable"
     ]
    }
   ],
   "source": [
    "# Changed the Names of the Column Headers\n",
    "bts_gov_trps_df_cnty_clmn_null_lvl_st_no_cmms_int64_dttm_lmtd_clmn_clmn_nm_chng = bts_gov_trps_df_cnty_clmn_null_lvl_st_no_cmms_int64_dttm_lmtd_clmn\n",
    "bts_gov_trps_df_cnty_clmn_null_lvl_st_no_cmms_int64_dttm_lmtd_clmn_clmn_nm_chng = bts_gov_trps_df_cnty_clmn_null_lvl_st_no_cmms_int64_dttm_lmtd_clmn_clmn_nm_chng ({\"Date\": new_date_clmn_nm, \"State Postal Code\": new_st_pstl_code_clmn_nm, \"Population Staying at Home\": new_pop_at_hm_clmn_nm, \"Population Not Staying at Home\": new_pop_not_at_hm_clmn_nm, \"Number of Trips\": new_nmbr_trps_clmn_nm}, axis = 1)\n",
    "# bts_gov_trps_df_cnty_clmn_null_lvl_st_no_cmms_int64_dttm_lmtd_clmn_clmn_nm_chng#.head()"
   ]
  },
  {
   "cell_type": "markdown",
   "metadata": {},
   "source": [
    "# ========================================"
   ]
  },
  {
   "cell_type": "markdown",
   "metadata": {},
   "source": [
    "# Add the State Name & State Postal Code"
   ]
  },
  {
   "cell_type": "markdown",
   "metadata": {},
   "source": [
    "# ========================================"
   ]
  },
  {
   "cell_type": "markdown",
   "metadata": {},
   "source": [
    "# ---------------------------------------------------------------------"
   ]
  },
  {
   "cell_type": "markdown",
   "metadata": {},
   "source": [
    "## Add the State Postal Code in the Trips Dataframe"
   ]
  },
  {
   "cell_type": "markdown",
   "metadata": {},
   "source": [
    "# ---------------------------------------------------------------------"
   ]
  },
  {
   "cell_type": "code",
   "execution_count": 204,
   "metadata": {},
   "outputs": [
    {
     "data": {
      "text/plain": [
       "Index(['State/District', 'Abbreviation', 'Postal Code'], dtype='object')"
      ]
     },
     "execution_count": 204,
     "metadata": {},
     "output_type": "execute_result"
    }
   ],
   "source": [
    "\n",
    "bls_gov_st_st_code_df.keys()"
   ]
  },
  {
   "cell_type": "code",
   "execution_count": 205,
   "metadata": {},
   "outputs": [
    {
     "data": {
      "text/plain": [
       "Index(['Date', 'State Postal Code', 'Population Staying at Home',\n",
       "       'Population Not Staying at Home', 'Number of Trips'],\n",
       "      dtype='object')"
      ]
     },
     "execution_count": 205,
     "metadata": {},
     "output_type": "execute_result"
    }
   ],
   "source": [
    "bts_gov_trps_df_cnty_clmn_null_lvl_st_no_cmms_int64_dttm_lmtd_clmn.keys()"
   ]
  },
  {
   "cell_type": "code",
   "execution_count": null,
   "metadata": {},
   "outputs": [],
   "source": [
    "# Replace all the Abbreviations with the Full State Name \n",
    "for t in range(len(State_Abbreviations_Code_Table_df)):\n",
    "\n",
    "    for i in range(len(avg_auto_insnc_concat_df_clnd)):\n",
    "\n",
    "        if State_Abbreviations_Code_Table_df.iloc[t][\"Code\"] == avg_auto_insnc_concat_df_clnd.iloc[i][\"State\"]:\n",
    "            avg_auto_insnc_concat_df_clnd.iloc[i][\"State\"] = State_Abbreviations_Code_Table_df.iloc[t][\"Description\"]"
   ]
  },
  {
   "cell_type": "code",
   "execution_count": null,
   "metadata": {},
   "outputs": [],
   "source": [
    "# ********NOT WORKING********"
   ]
  },
  {
   "cell_type": "markdown",
   "metadata": {},
   "source": [
    "# ========================================"
   ]
  },
  {
   "cell_type": "markdown",
   "metadata": {},
   "source": [
    "# Change the Name of the Dataframes"
   ]
  },
  {
   "cell_type": "markdown",
   "metadata": {},
   "source": [
    "# ========================================"
   ]
  },
  {
   "cell_type": "markdown",
   "metadata": {},
   "source": [
    "# ---------------------------------------------------------------------"
   ]
  },
  {
   "cell_type": "markdown",
   "metadata": {},
   "source": [
    "## Change the State Trips Dataframe"
   ]
  },
  {
   "cell_type": "markdown",
   "metadata": {},
   "source": [
    "# ---------------------------------------------------------------------"
   ]
  },
  {
   "cell_type": "code",
   "execution_count": 211,
   "metadata": {
    "scrolled": true
   },
   "outputs": [
    {
     "data": {
      "text/html": [
       "<div>\n",
       "<style scoped>\n",
       "    .dataframe tbody tr th:only-of-type {\n",
       "        vertical-align: middle;\n",
       "    }\n",
       "\n",
       "    .dataframe tbody tr th {\n",
       "        vertical-align: top;\n",
       "    }\n",
       "\n",
       "    .dataframe thead th {\n",
       "        text-align: right;\n",
       "    }\n",
       "</style>\n",
       "<table border=\"1\" class=\"dataframe\">\n",
       "  <thead>\n",
       "    <tr style=\"text-align: right;\">\n",
       "      <th></th>\n",
       "      <th>Date</th>\n",
       "      <th>State Postal Code</th>\n",
       "      <th>Population Staying at Home</th>\n",
       "      <th>Population Not Staying at Home</th>\n",
       "      <th>Number of Trips</th>\n",
       "    </tr>\n",
       "  </thead>\n",
       "  <tbody>\n",
       "    <tr>\n",
       "      <th>15710</th>\n",
       "      <td>2019-01-01</td>\n",
       "      <td>MA</td>\n",
       "      <td>1798521</td>\n",
       "      <td>5082532</td>\n",
       "      <td>22181890</td>\n",
       "    </tr>\n",
       "    <tr>\n",
       "      <th>15711</th>\n",
       "      <td>2019-01-01</td>\n",
       "      <td>MI</td>\n",
       "      <td>2342813</td>\n",
       "      <td>7622550</td>\n",
       "      <td>26701254</td>\n",
       "    </tr>\n",
       "    <tr>\n",
       "      <th>15712</th>\n",
       "      <td>2019-01-01</td>\n",
       "      <td>MN</td>\n",
       "      <td>1266769</td>\n",
       "      <td>4327262</td>\n",
       "      <td>15278584</td>\n",
       "    </tr>\n",
       "    <tr>\n",
       "      <th>15713</th>\n",
       "      <td>2019-01-01</td>\n",
       "      <td>MS</td>\n",
       "      <td>596999</td>\n",
       "      <td>2380405</td>\n",
       "      <td>7297125</td>\n",
       "    </tr>\n",
       "    <tr>\n",
       "      <th>15714</th>\n",
       "      <td>2019-01-01</td>\n",
       "      <td>MO</td>\n",
       "      <td>1530765</td>\n",
       "      <td>4576960</td>\n",
       "      <td>16618431</td>\n",
       "    </tr>\n",
       "    <tr>\n",
       "      <th>...</th>\n",
       "      <td>...</td>\n",
       "      <td>...</td>\n",
       "      <td>...</td>\n",
       "      <td>...</td>\n",
       "      <td>...</td>\n",
       "    </tr>\n",
       "    <tr>\n",
       "      <th>2207042</th>\n",
       "      <td>2020-11-21</td>\n",
       "      <td>DE</td>\n",
       "      <td>277495</td>\n",
       "      <td>689676</td>\n",
       "      <td>2832707</td>\n",
       "    </tr>\n",
       "    <tr>\n",
       "      <th>2207043</th>\n",
       "      <td>2020-11-21</td>\n",
       "      <td>ME</td>\n",
       "      <td>405767</td>\n",
       "      <td>932637</td>\n",
       "      <td>3482073</td>\n",
       "    </tr>\n",
       "    <tr>\n",
       "      <th>2207044</th>\n",
       "      <td>2020-11-21</td>\n",
       "      <td>OK</td>\n",
       "      <td>1121125</td>\n",
       "      <td>2821954</td>\n",
       "      <td>10725736</td>\n",
       "    </tr>\n",
       "    <tr>\n",
       "      <th>2207045</th>\n",
       "      <td>2020-11-21</td>\n",
       "      <td>WI</td>\n",
       "      <td>1708357</td>\n",
       "      <td>4105211</td>\n",
       "      <td>15988642</td>\n",
       "    </tr>\n",
       "    <tr>\n",
       "      <th>2207046</th>\n",
       "      <td>2020-11-21</td>\n",
       "      <td>WV</td>\n",
       "      <td>542360</td>\n",
       "      <td>1263472</td>\n",
       "      <td>4716158</td>\n",
       "    </tr>\n",
       "  </tbody>\n",
       "</table>\n",
       "<p>35241 rows × 5 columns</p>\n",
       "</div>"
      ],
      "text/plain": [
       "              Date State Postal Code  Population Staying at Home  \\\n",
       "15710   2019-01-01                MA                     1798521   \n",
       "15711   2019-01-01                MI                     2342813   \n",
       "15712   2019-01-01                MN                     1266769   \n",
       "15713   2019-01-01                MS                      596999   \n",
       "15714   2019-01-01                MO                     1530765   \n",
       "...            ...               ...                         ...   \n",
       "2207042 2020-11-21                DE                      277495   \n",
       "2207043 2020-11-21                ME                      405767   \n",
       "2207044 2020-11-21                OK                     1121125   \n",
       "2207045 2020-11-21                WI                     1708357   \n",
       "2207046 2020-11-21                WV                      542360   \n",
       "\n",
       "         Population Not Staying at Home  Number of Trips  \n",
       "15710                           5082532         22181890  \n",
       "15711                           7622550         26701254  \n",
       "15712                           4327262         15278584  \n",
       "15713                           2380405          7297125  \n",
       "15714                           4576960         16618431  \n",
       "...                                 ...              ...  \n",
       "2207042                          689676          2832707  \n",
       "2207043                          932637          3482073  \n",
       "2207044                         2821954         10725736  \n",
       "2207045                         4105211         15988642  \n",
       "2207046                         1263472          4716158  \n",
       "\n",
       "[35241 rows x 5 columns]"
      ]
     },
     "execution_count": 211,
     "metadata": {},
     "output_type": "execute_result"
    }
   ],
   "source": [
    "bts_gov_trps_df_FINAL = bts_gov_trps_df_cnty_clmn_null_lvl_st_no_cmms_int64_dttm_lmtd_clmn\n",
    "bts_gov_trps_df_FINAL"
   ]
  },
  {
   "cell_type": "markdown",
   "metadata": {},
   "source": [
    "# ========================================"
   ]
  },
  {
   "cell_type": "code",
   "execution_count": 10,
   "metadata": {},
   "outputs": [],
   "source": [
    "# Array of the Columns Where the Null Values will be Converted to 0\n",
    "# These are the Columns that Should Have a Zero Values Instead of a Null Values\n",
    "clmns_to_cnvrt_null_vls_to_0 =[\"Population Staying at Home\", \"Population Not Staying at Home\",\"Number of Trips\",\"Number of Trips <1\", \"Number of Trips 1-3\", \"Number of Trips 1-3\", \"Number of Trips 3-5\", \"Number of Trips 5-10\", \"Number of Trips 10-25\", \"Number of Trips 25-50\", \"Number of Trips 50-100\", \"Number of Trips 100-250\", \"Number of Trips 250-500\", \"Number of Trips >=500\"]"
   ]
  },
  {
   "cell_type": "code",
   "execution_count": null,
   "metadata": {},
   "outputs": [],
   "source": [
    "# Count the Null Columns\n",
    "null_columns = bts_gov_trps_df.columns[bts_gov_trps_df.isnull().any()]\n",
    "bts_gov_trps_df[null_columns].isnull().sum()"
   ]
  },
  {
   "cell_type": "code",
   "execution_count": null,
   "metadata": {},
   "outputs": [],
   "source": [
    "# Array of the Columns Where the Null Values will be Converted to 0\n",
    "clmns_to_dlt_st_ntnl_totls =[\"County FIPS\", \"County Name\"]"
   ]
  },
  {
   "cell_type": "code",
   "execution_count": null,
   "metadata": {},
   "outputs": [],
   "source": [
    "# Drop the Rows that Contains Null (NaN) Values in the [\"County FIPS\"] and [\"County Name\"] Columns.\n",
    "bts_gov_trps_df_clnd = bts_gov_trps_df.dropna(how=\"all\", subset=clmns_to_dlt_st_ntnl_totls)\n",
    "print(bts_gov_trps_df_clnd.count())\n",
    "bts_gov_trps_df_clnd"
   ]
  },
  {
   "cell_type": "code",
   "execution_count": null,
   "metadata": {},
   "outputs": [],
   "source": [
    "bts_gov_trps_df_clnd.dtypes"
   ]
  },
  {
   "cell_type": "code",
   "execution_count": null,
   "metadata": {},
   "outputs": [],
   "source": [
    "bts_gov_trps_df_clnd_test.dtypes"
   ]
  },
  {
   "cell_type": "code",
   "execution_count": null,
   "metadata": {},
   "outputs": [],
   "source": [
    "bts_gov_trps_df_clnd_test_grpby = bts_gov_trps_df_clnd_test.groupby([\"State Postal Code\", \"County Name\"])\n",
    "bts_gov_trps_df_clnd_test_grpby"
   ]
  },
  {
   "cell_type": "code",
   "execution_count": null,
   "metadata": {},
   "outputs": [],
   "source": [
    "# Create Some Plots to Look at the Data\n",
    "\n",
    "date_fltr = (bts_gov_trps_df_clnd_test['Date'] <'2020-01-01') | (bts_gov_trps_df_clnd_test['Date']>'2020-11-21')\n",
    "    \n",
    "#     plt.scatter(x = group[date_filter_not]['air_pressure(mBar)'],\n",
    "#                 y = group[date_filter_not][\"wind_speed\"],\n",
    "\n",
    "for title, group in bts_gov_trps_df_clnd_test.groupby([\"County FIPS\"]):\n",
    "    plt.plot(group[date_fltr]['Date'], \n",
    "             group[date_fltr]['Number of Trips']) \n",
    "#              subplots=True, \n",
    "#              title=title)\n",
    "    fig = plt.gcf()\n",
    "    \n",
    "    plt.figure(figsize=(200,100))\n",
    "#     fig.savefig(f\"../images/{title}_wind_speed.png\")"
   ]
  },
  {
   "cell_type": "code",
   "execution_count": null,
   "metadata": {},
   "outputs": [],
   "source": [
    "# Filter Data on [\"State Postal Code\"] Column for \"AK\"\n",
    "ak_df = bts_gov_trps_df_clnd_test[bts_gov_trps_df_clnd_test[\"County Name\"] == \"Adair County\"]\n",
    "ak_df"
   ]
  },
  {
   "cell_type": "code",
   "execution_count": null,
   "metadata": {},
   "outputs": [],
   "source": [
    "st_cnt = bts_gov_trps_df[\"Population Staying at Home\"].unique()\n",
    "print(st_cnt)"
   ]
  },
  {
   "cell_type": "code",
   "execution_count": null,
   "metadata": {},
   "outputs": [],
   "source": [
    "bts_gov_trps_df[\"Population Staying at Home\"].value_counts()"
   ]
  },
  {
   "cell_type": "code",
   "execution_count": null,
   "metadata": {},
   "outputs": [],
   "source": []
  },
  {
   "cell_type": "code",
   "execution_count": null,
   "metadata": {},
   "outputs": [],
   "source": []
  },
  {
   "cell_type": "code",
   "execution_count": null,
   "metadata": {},
   "outputs": [],
   "source": []
  },
  {
   "cell_type": "code",
   "execution_count": null,
   "metadata": {},
   "outputs": [],
   "source": [
    "bts_gov_trps_df[\"VA Trip Totals\"] = bts_gov_trps_df[\"Number of Trips <1\"] + bts_gov_trps_df[\"Number of Trips 1-3\"] + bts_gov_trps_df[\"Number of Trips 3-5\"] +  bts_gov_trps_df[\"Number of Trips 5-10\"] + bts_gov_trps_df[\"Number of Trips 10-25\"] + bts_gov_trps_df[\"Number of Trips 25-50\"] + bts_gov_trps_df[\"Number of Trips 50-100\"] +bts_gov_trps_df[\"Number of Trips 100-250\"] +bts_gov_trps_df[\"Number of Trips 250-500\"] +bts_gov_trps_df[\"Number of Trips >=500\"]\n",
    "\n",
    "bts_gov_trps_df.head()"
   ]
  },
  {
   "cell_type": "code",
   "execution_count": null,
   "metadata": {},
   "outputs": [],
   "source": [
    "# List of all the Columns in the Trips Dataframe\n",
    "bts_gov_trps_df.columns"
   ]
  },
  {
   "cell_type": "code",
   "execution_count": null,
   "metadata": {},
   "outputs": [],
   "source": [
    "bts_gov_trps_df.describe()"
   ]
  },
  {
   "cell_type": "code",
   "execution_count": null,
   "metadata": {},
   "outputs": [],
   "source": [
    "bts_gov_trps_df[\"Number of Trips\"].describe()"
   ]
  },
  {
   "cell_type": "code",
   "execution_count": null,
   "metadata": {},
   "outputs": [],
   "source": [
    "# File Path for Importing the January 21, 2020 thru November 30, 2020 COVID-19 Data .csv File\n",
    "NY_Tmes_COVID_20200121_to_20201130_file_pth = os.path.join(\"Resources\", \"github.com_nytimes_covid_19_data\", \"us-counties20200121_to_20201130.csv\")\n",
    "\n",
    "# Convert the CSV to a Dataframe\n",
    "NY_Tmes_COVID_20200121_to_20201130_df = pd.read_csv(NY_Tmes_COVID_20200121_to_20201130_file_pth)"
   ]
  },
  {
   "cell_type": "code",
   "execution_count": null,
   "metadata": {},
   "outputs": [],
   "source": [
    "NY_Tmes_COVID_20200121_to_20201130_df.head()"
   ]
  },
  {
   "cell_type": "code",
   "execution_count": null,
   "metadata": {},
   "outputs": [],
   "source": [
    "NY_Tmes_COVID_20200121_to_20201130_df.tail()"
   ]
  },
  {
   "cell_type": "code",
   "execution_count": null,
   "metadata": {},
   "outputs": [],
   "source": [
    "# # File Path for Importing the January 21, 2020 thru November 30, 2020 COVID-19 Data .csv File\n",
    "# NY_Tmes_COVID_20201201_file_pth = os.path.join(\"Resources\", \"github.com_nytimes_covid_19_data\", \"us-counties20201201.csv\")\n",
    "\n",
    "# # Convert the CSV to a Dataframe\n",
    "# NY_Tmes_COVID_20201201__df = pd.read_csv(NY_Tmes_COVID_20201201_file_pth)"
   ]
  },
  {
   "cell_type": "code",
   "execution_count": null,
   "metadata": {},
   "outputs": [],
   "source": [
    "NY_Tmes_COVID_20200121_to_20201130_df.head()"
   ]
  },
  {
   "cell_type": "code",
   "execution_count": null,
   "metadata": {},
   "outputs": [],
   "source": [
    "# # API Keys for the Zip-Codes API\n",
    "# key = \"?key=\"\n",
    "# user_API_key = \"QSTIRXQR7CN0Q8T9UGRT\"\n",
    "# url = \"https://api.zip-codes.com/ZipCodesAPI.svc/1.0/QuickGetZipCodeDetails/\"\n",
    "\n",
    "# print(url + key + user_API_key)"
   ]
  },
  {
   "cell_type": "code",
   "execution_count": null,
   "metadata": {},
   "outputs": [],
   "source": [
    "# New Column Header Names\n",
    "zip_clmn_hdr_nm = \"Zip_Code\"\n",
    "avg_auto_insrnc_rate_clmn_hdr_nm = \"Average_Auto_Insurance_Rate\""
   ]
  },
  {
   "cell_type": "code",
   "execution_count": null,
   "metadata": {},
   "outputs": [],
   "source": [
    "# The Number of Tables on Each Website\n",
    "print(len(ASN_Table_2020))\n",
    "# print(len(AutoInsurance_Tables))\n",
    "# print(len(State_Abbreviations_Code_Table))"
   ]
  },
  {
   "cell_type": "markdown",
   "metadata": {},
   "source": [
    "# Tables from Car Insurance (www.carinsurance.com)"
   ]
  },
  {
   "cell_type": "markdown",
   "metadata": {},
   "source": [
    "## The Most and Lease Expensive Auto Insurance"
   ]
  },
  {
   "cell_type": "code",
   "execution_count": null,
   "metadata": {},
   "outputs": [],
   "source": [
    "# Table of The Most and Lease Expensive Auto Insurance, Table #5, from CarInsurance (www.carinsurance.com)\n",
    "mst_and_lst_expnsv_by_state_CarInsurance_df = CarInsurance_Tables[5]\n",
    "mst_and_lst_expnsv_by_state_CarInsurance_df.head()\n",
    "\n",
    "# Resaved the DataFrame With Only the Columns Needed \n",
    "mst_and_lst_expnsv_by_state_CarInsurance_df = mst_and_lst_expnsv_by_state_CarInsurance_df[[\"State\", \"ZIP Code\", \"City\", \"Average Annual Rate\"]]\n",
    "mst_and_lst_expnsv_by_state_CarInsurance_df.head()\n",
    "\n",
    "# Changed the Names of the Column Headers\n",
    "mst_and_lst_expnsv_by_state_CarInsurance_df = mst_and_lst_expnsv_by_state_CarInsurance_df.rename ({\"ZIP Code\" : zip_clmn_hdr_nm, \"Average Annual Rate\" : avg_auto_insrnc_rate_clmn_hdr_nm}, axis = 1)\n",
    "mst_and_lst_expnsv_by_state_CarInsurance_df.head()"
   ]
  },
  {
   "cell_type": "markdown",
   "metadata": {},
   "source": [
    "## The Most Expensive Auto Insurance"
   ]
  },
  {
   "cell_type": "code",
   "execution_count": null,
   "metadata": {},
   "outputs": [],
   "source": [
    "# Table of The Most Expensive Auto Insurance, Table #6, from CarInsurance (www.carinsurance.com)\n",
    "mst_expnsv_by_state_CarInsurance_df = CarInsurance_Tables[6]\n",
    "mst_expnsv_by_state_CarInsurance_df.head()\n",
    "\n",
    "# Resaved the DataFrame With Only the Columns Needed \n",
    "mst_expnsv_by_state_CarInsurance_df = mst_expnsv_by_state_CarInsurance_df[[\"State\", \"ZIP Code\", \"City\", \"Average Annual Rate\"]]\n",
    "mst_expnsv_by_state_CarInsurance_df.head()\n",
    "\n",
    "# Changed the Names of the Column Headers\n",
    "mst_expnsv_by_state_CarInsurance_df = mst_expnsv_by_state_CarInsurance_df.rename ({\"ZIP Code\" : zip_clmn_hdr_nm, \"Average Annual Rate\" : avg_auto_insrnc_rate_clmn_hdr_nm}, axis = 1)\n",
    "mst_expnsv_by_state_CarInsurance_df.head()"
   ]
  },
  {
   "cell_type": "markdown",
   "metadata": {},
   "source": [
    "# Tables from Auto Insurance (www.autoinsurance.org)"
   ]
  },
  {
   "cell_type": "markdown",
   "metadata": {},
   "source": [
    "## The 25 Most Expensive Auto Insurance"
   ]
  },
  {
   "cell_type": "code",
   "execution_count": null,
   "metadata": {},
   "outputs": [],
   "source": [
    "# Table of The 25 Most Expensive Auto Insurance, Table #3, from AutoInsurance (www.autoinsurance.org)\n",
    "_25_mst_expnsv_auto_insrnc_rts_by_zip_cde_df = AutoInsurance_Tables[3]\n",
    "_25_mst_expnsv_auto_insrnc_rts_by_zip_cde_df.head()\n",
    "\n",
    "# Changed the Names of the Column Headers\n",
    "_25_mst_expnsv_auto_insrnc_rts_by_zip_cde_df = _25_mst_expnsv_auto_insrnc_rts_by_zip_cde_df.rename ({\"ZIP Code\" : zip_clmn_hdr_nm, \"Average Annual Auto Insurance Rates\" : avg_auto_insrnc_rate_clmn_hdr_nm}, axis = 1)\n",
    "_25_mst_expnsv_auto_insrnc_rts_by_zip_cde_df.head()\n",
    "\n",
    "# Add a New Column Called State, the Column is Empty\n",
    "_25_mst_expnsv_auto_insrnc_rts_by_zip_cde_df[\"State\"] = \"\"\n",
    "_25_mst_expnsv_auto_insrnc_rts_by_zip_cde_df.head()\n",
    "\n",
    "# Reorder the Columns\n",
    "_25_mst_expnsv_auto_insrnc_rts_by_zip_cde_df = _25_mst_expnsv_auto_insrnc_rts_by_zip_cde_df[[\"State\", zip_clmn_hdr_nm, \"City\", avg_auto_insrnc_rate_clmn_hdr_nm]]\n",
    "_25_mst_expnsv_auto_insrnc_rts_by_zip_cde_df.head()"
   ]
  },
  {
   "cell_type": "markdown",
   "metadata": {},
   "source": [
    "## The 25 Lease Expensive Auto Insurance"
   ]
  },
  {
   "cell_type": "code",
   "execution_count": null,
   "metadata": {},
   "outputs": [],
   "source": [
    "# Table of The 25 Lowest Expensive Auto Insurance, Table #4, from AutoInsurance (www.autoinsurance.org)\n",
    "_25_lst_expnsv_auto_insrnc_rts_by_zip_cde_df = AutoInsurance_Tables[4]\n",
    "_25_lst_expnsv_auto_insrnc_rts_by_zip_cde_df.head()\n",
    "\n",
    "# Changed the Names of the Column Headers\n",
    "_25_lst_expnsv_auto_insrnc_rts_by_zip_cde_df = _25_lst_expnsv_auto_insrnc_rts_by_zip_cde_df.rename ({\"ZIP Code\" : zip_clmn_hdr_nm, \"Average Annual Auto Insurance Rates\" : avg_auto_insrnc_rate_clmn_hdr_nm}, axis = 1)\n",
    "_25_lst_expnsv_auto_insrnc_rts_by_zip_cde_df.head()\n",
    "\n",
    "# Add a New Column Called State, the Column is Empty\n",
    "_25_lst_expnsv_auto_insrnc_rts_by_zip_cde_df[\"State\"] = \"\"\n",
    "_25_lst_expnsv_auto_insrnc_rts_by_zip_cde_df.head()\n",
    "\n",
    "# Reorder the Columns\n",
    "_25_lst_expnsv_auto_insrnc_rts_by_zip_cde_df = _25_lst_expnsv_auto_insrnc_rts_by_zip_cde_df[[\"State\", zip_clmn_hdr_nm, \"City\", avg_auto_insrnc_rate_clmn_hdr_nm]]\n",
    "_25_lst_expnsv_auto_insrnc_rts_by_zip_cde_df.head()"
   ]
  },
  {
   "cell_type": "markdown",
   "metadata": {},
   "source": [
    "## The Highest and Lowest Auto Insurance Rates"
   ]
  },
  {
   "cell_type": "code",
   "execution_count": null,
   "metadata": {},
   "outputs": [],
   "source": [
    "# Table of The Highest and Lowest Auto Insurance Rate, Table #5, from AutoInsurance (www.autoinsurance.org)\n",
    "hghst_and_lwst_avg_annl_auto_insrnc_rates_per_state_df = AutoInsurance_Tables[5]\n",
    "hghst_and_lwst_avg_annl_auto_insrnc_rates_per_state_df.head()"
   ]
  },
  {
   "cell_type": "markdown",
   "metadata": {},
   "source": [
    "### Create a DataFrame for the Least Expensive Auto Insurance Rates from hghst_and_lwst_avg_annl_auto_insrnc_rates_per_state_df (Above)"
   ]
  },
  {
   "cell_type": "code",
   "execution_count": null,
   "metadata": {},
   "outputs": [],
   "source": [
    "# Splitting Up The Table of The Highest and Lowest Auto Insurance Rate\n",
    "lwst_avg_annl_auto_insrnc_rates_per_state_df = hghst_and_lwst_avg_annl_auto_insrnc_rates_per_state_df[[\"State\", \"Least Expensive Zip Code\", \"City\", \"Lowest Average Annual Auto Insurance Rates\"]]\n",
    "lwst_avg_annl_auto_insrnc_rates_per_state_df.head()\n",
    "\n",
    "# Reorganize Column Headers and Rename Some of the Column Headers\n",
    "lwst_avg_annl_auto_insrnc_rates_per_state_df = lwst_avg_annl_auto_insrnc_rates_per_state_df.rename ({\"Least Expensive Zip Code\" : zip_clmn_hdr_nm, \"Lowest Average Annual Auto Insurance Rates\" : avg_auto_insrnc_rate_clmn_hdr_nm}, axis = 1)\n",
    "lwst_avg_annl_auto_insrnc_rates_per_state_df.head()"
   ]
  },
  {
   "cell_type": "markdown",
   "metadata": {},
   "source": [
    "### Create a DataFrame for the Most Expensive Auto Insurance Rates from hghst_and_lwst_avg_annl_auto_insrnc_rates_per_state_df (Two Cells Above)"
   ]
  },
  {
   "cell_type": "code",
   "execution_count": null,
   "metadata": {},
   "outputs": [],
   "source": [
    "# Splitting Up The Table of The Highest and Lowest Auto Insurance Rate\n",
    "hghst_avg_annl_auto_insrnc_rates_per_state_df = hghst_and_lwst_avg_annl_auto_insrnc_rates_per_state_df[[\"State\", \"Most Expensive Zip Code\", \"City.1\", \"Highest Average Annual Auto Insurance Rates\"]]\n",
    "hghst_avg_annl_auto_insrnc_rates_per_state_df.head()\n",
    "\n",
    "# Reorganize Column Headers and Rename Some of the Column Headers\n",
    "hghst_avg_annl_auto_insrnc_rates_per_state_df = hghst_avg_annl_auto_insrnc_rates_per_state_df.rename ({\"Most Expensive Zip Code\" : zip_clmn_hdr_nm, \"City.1\" : \"City\", \"Highest Average Annual Auto Insurance Rates\" : avg_auto_insrnc_rate_clmn_hdr_nm}, axis = 1)\n",
    "hghst_avg_annl_auto_insrnc_rates_per_state_df.head()"
   ]
  },
  {
   "cell_type": "markdown",
   "metadata": {},
   "source": [
    "# Combine All of the DataFrames into One DataFrame"
   ]
  },
  {
   "cell_type": "code",
   "execution_count": null,
   "metadata": {},
   "outputs": [],
   "source": [
    "# Create a Variable with All of the Average Auto Insurace Tables (DataFrames)\n",
    "lst_of_tbls = [mst_expnsv_by_state_CarInsurance_df, _25_mst_expnsv_auto_insrnc_rts_by_zip_cde_df, _25_lst_expnsv_auto_insrnc_rts_by_zip_cde_df, _25_lst_expnsv_auto_insrnc_rts_by_zip_cde_df, lwst_avg_annl_auto_insrnc_rates_per_state_df, hghst_avg_annl_auto_insrnc_rates_per_state_df]\n",
    "\n",
    "# Concatenate All of the Average Auto Insurace Tables Together\n",
    "avg_auto_insnc_concat_df = pd.concat(lst_of_tbls)\n",
    "avg_auto_insnc_concat_df\n",
    "\n",
    "\n",
    "## This Will Allow You to Reset the Index After Concatenating the DataFrames Together\n",
    "# avg_auto_insnc_concat_df = pd.concat(lst_of_tbls, ignore_index = 'True')"
   ]
  },
  {
   "cell_type": "markdown",
   "metadata": {},
   "source": [
    "# Data Clean UP"
   ]
  },
  {
   "cell_type": "markdown",
   "metadata": {},
   "source": [
    "## Delete Dulpicate Data"
   ]
  },
  {
   "cell_type": "markdown",
   "metadata": {},
   "source": [
    "### Deleted Rows with \"Get Your Rates Quote Now\" in Them"
   ]
  },
  {
   "cell_type": "code",
   "execution_count": null,
   "metadata": {},
   "outputs": [],
   "source": [
    "# Evaluate Duplicate Data by Displaying the Number of Unique Values in the DataFrame\n",
    "avg_auto_insnc_concat_df[zip_clmn_hdr_nm].value_counts()"
   ]
  },
  {
   "cell_type": "code",
   "execution_count": null,
   "metadata": {},
   "outputs": [],
   "source": [
    "# Display Rows with \"Get Your Rates Quote Now\" in Them\n",
    "avg_auto_insnc_concat_df[(avg_auto_insnc_concat_df[zip_clmn_hdr_nm] == \"Get Your Rates Quote Now\")]"
   ]
  },
  {
   "cell_type": "code",
   "execution_count": null,
   "metadata": {},
   "outputs": [],
   "source": [
    "# Filtered the DataFrame then Created an Index List of all the Rows with \"Get Your Rates Quote Now\" in the City Column\n",
    "drp_gt_your_rts_qute_nw_index = avg_auto_insnc_concat_df[(avg_auto_insnc_concat_df[\"City\"] == \"Get Your Rates Quote Now\")].index\n",
    "drp_gt_your_rts_qute_nw_index"
   ]
  },
  {
   "cell_type": "code",
   "execution_count": null,
   "metadata": {},
   "outputs": [],
   "source": [
    "# Used the above Index List to drop all the rows with \"Get Your Rates Quote Now\"\n",
    "avg_auto_insnc_concat_df = avg_auto_insnc_concat_df.drop(drp_gt_your_rts_qute_nw_index)\n",
    "avg_auto_insnc_concat_df"
   ]
  },
  {
   "cell_type": "code",
   "execution_count": null,
   "metadata": {},
   "outputs": [],
   "source": [
    "# Make Sure the Data was Deleted by Displaying the Number of Unique Values in the DataFrameNumber of Unique Values in the DataFrame\n",
    "avg_auto_insnc_concat_df[zip_clmn_hdr_nm].value_counts()"
   ]
  },
  {
   "cell_type": "markdown",
   "metadata": {},
   "source": [
    "### Delete the Duplicate Zip Codes from the DataFrame"
   ]
  },
  {
   "cell_type": "markdown",
   "metadata": {},
   "source": [
    "#### Evaluate Duplicate Data"
   ]
  },
  {
   "cell_type": "code",
   "execution_count": null,
   "metadata": {},
   "outputs": [],
   "source": [
    "# Evaluate Duplicate Data by Displaying the Number of Unique Values in the DataFrame Number\n",
    "avg_auto_insnc_concat_df[zip_clmn_hdr_nm].value_counts()"
   ]
  },
  {
   "cell_type": "markdown",
   "metadata": {},
   "source": [
    "#### Delete the Duplicate Rows in The DataFrame"
   ]
  },
  {
   "cell_type": "code",
   "execution_count": null,
   "metadata": {},
   "outputs": [],
   "source": [
    "# Delete Rows with the Same Data\n",
    "avg_auto_insnc_concat_df_drp_dplcts = avg_auto_insnc_concat_df.drop_duplicates()\n",
    "avg_auto_insnc_concat_df_drp_dplcts"
   ]
  },
  {
   "cell_type": "code",
   "execution_count": null,
   "metadata": {},
   "outputs": [],
   "source": [
    "# Make Sure the Data was Deleted by Displaying the Number of Unique Values in the DataFrameNumber of Unique Values in the DataFrame\n",
    "avg_auto_insnc_concat_df_drp_dplcts[zip_clmn_hdr_nm].value_counts()"
   ]
  },
  {
   "cell_type": "markdown",
   "metadata": {},
   "source": [
    "#### Reindex the DataFrame"
   ]
  },
  {
   "cell_type": "code",
   "execution_count": null,
   "metadata": {},
   "outputs": [],
   "source": [
    "# Make an List of Values Incrementing by One\n",
    "avg_auto_insnc_concat_index_list = []\n",
    "\n",
    "for a in range(len(avg_auto_insnc_concat_df_drp_dplcts)):\n",
    "#     print(a)\n",
    "    avg_auto_insnc_concat_index_list.append(a)\n",
    "avg_auto_insnc_concat_index_list\n",
    "\n",
    "# Add a New Column Called Index and Append/Populate the Index Column with the Values from the avg_auto_insnc_concat_index_list List.\n",
    "avg_auto_insnc_concat_df_drp_dplcts[\"Index\"] = avg_auto_insnc_concat_index_list\n",
    "avg_auto_insnc_concat_df_drp_dplcts\n",
    "\n",
    "# Make the Index Column the Index for the DataFrame\n",
    "avg_auto_insnc_concat_df_drp_dplcts = avg_auto_insnc_concat_df_drp_dplcts.set_index(\"Index\")\n",
    "avg_auto_insnc_concat_df_drp_dplcts"
   ]
  },
  {
   "cell_type": "markdown",
   "metadata": {},
   "source": [
    "#### Create the .value_counts Series and Convert the Series into a DataFrame"
   ]
  },
  {
   "cell_type": "code",
   "execution_count": null,
   "metadata": {},
   "outputs": [],
   "source": [
    "# Run .value_counts() on the avg_auto_insnc_concat_df DataFrame and Save the .value_count Series \n",
    "avg_auto_insnc_concat_df_drp_dplcts_val_cnts_srs = avg_auto_insnc_concat_df_drp_dplcts[zip_clmn_hdr_nm].value_counts()\n",
    "print(type(avg_auto_insnc_concat_df_drp_dplcts_val_cnts_srs))\n",
    "print()\n",
    "\n",
    "# Convert the .value_counts Series into a DataFrame and Save the DataFrame\n",
    "avg_auto_insnc_concat_df_drp_dplcts_val_cnts_df = pd.DataFrame(avg_auto_insnc_concat_df_drp_dplcts_val_cnts_srs)\n",
    "print(type(avg_auto_insnc_concat_df_drp_dplcts_val_cnts_df))\n",
    "print()\n",
    "avg_auto_insnc_concat_df_drp_dplcts_val_cnts_df"
   ]
  },
  {
   "cell_type": "markdown",
   "metadata": {},
   "source": [
    "#### Create a DataFrame of the Zip Codes with a Value Count Greater than One"
   ]
  },
  {
   "cell_type": "code",
   "execution_count": null,
   "metadata": {},
   "outputs": [],
   "source": [
    "# Change the Zip Code Column Header to Value Count\n",
    "avg_auto_insnc_concat_df_drp_dplcts_val_cnts_df = avg_auto_insnc_concat_df_drp_dplcts_val_cnts_df.rename ({zip_clmn_hdr_nm : \"Value Count\"}, axis = 1)\n",
    "avg_auto_insnc_concat_df_drp_dplcts_val_cnts_df"
   ]
  },
  {
   "cell_type": "code",
   "execution_count": null,
   "metadata": {},
   "outputs": [],
   "source": [
    "# Create a New DataFrame that was Filtered the Value Counts Column for Values Greater than 1 \n",
    "avg_auto_insnc_concat_df_drp_dplcts_val_cnts_grtr_thn_1 = avg_auto_insnc_concat_df_drp_dplcts_val_cnts_df[(avg_auto_insnc_concat_df_drp_dplcts_val_cnts_df[\"Value Count\"] > 1)]\n",
    "avg_auto_insnc_concat_df_drp_dplcts_val_cnts_grtr_thn_1"
   ]
  },
  {
   "cell_type": "code",
   "execution_count": null,
   "metadata": {},
   "outputs": [],
   "source": [
    "# Add a Column Header to the Index Column\n",
    "avg_auto_insnc_concat_df_drp_dplcts_val_cnts_grtr_thn_1.index.names = [zip_clmn_hdr_nm]\n",
    "avg_auto_insnc_concat_df_drp_dplcts_val_cnts_grtr_thn_1\n",
    "\n",
    "# Make a List of Values Incrementing by One\n",
    "dplcts_val_cnts_index_list = []\n",
    "\n",
    "for a in range(len(avg_auto_insnc_concat_df_drp_dplcts_val_cnts_grtr_thn_1)):\n",
    "#     print(a)\n",
    "    dplcts_val_cnts_index_list.append(a)\n",
    "dplcts_val_cnts_index_list\n",
    "\n",
    "# Add a New Column Called Index and Append/Populate the Index Column with the Values from the index_list List.\n",
    "avg_auto_insnc_concat_df_drp_dplcts_val_cnts_grtr_thn_1[\"Index\"] = dplcts_val_cnts_index_list\n",
    "avg_auto_insnc_concat_df_drp_dplcts_val_cnts_grtr_thn_1\n",
    "\n",
    "# Make the Index Column the Index for the DataFrame\n",
    "avg_auto_insnc_concat_df_drp_dplcts_val_cnts_grtr_thn_1 = avg_auto_insnc_concat_df_drp_dplcts_val_cnts_grtr_thn_1.reset_index().set_index(\"Index\")\n",
    "avg_auto_insnc_concat_df_drp_dplcts_val_cnts_grtr_thn_1"
   ]
  },
  {
   "cell_type": "markdown",
   "metadata": {},
   "source": [
    "#### Delete the Remaining Duplicate Zip Codes"
   ]
  },
  {
   "cell_type": "code",
   "execution_count": null,
   "metadata": {},
   "outputs": [],
   "source": [
    "# Print the length of the Average Auto Insurance DataFrame and Average Auto Insurance Value Counts DataFrame\n",
    "print(f\"This is the length of the Average Auto Insurance DataFrame: {len(avg_auto_insnc_concat_df_drp_dplcts)}\")\n",
    "print()\n",
    "print(f\"This is the length of the Average Auto Insurance Value Counts DataFrame: {len(avg_auto_insnc_concat_df_drp_dplcts_val_cnts_grtr_thn_1)}\")\n",
    "print()\n",
    "\n",
    "# Find And Print the Entire Row for the Remaining Duplicate Zip Codes\n",
    "for y in range(len(avg_auto_insnc_concat_df_drp_dplcts)):\n",
    "    \n",
    "    for h in range(len(avg_auto_insnc_concat_df_drp_dplcts_val_cnts_grtr_thn_1)):\n",
    "        \n",
    "        if avg_auto_insnc_concat_df_drp_dplcts.iloc[y][zip_clmn_hdr_nm] == avg_auto_insnc_concat_df_drp_dplcts_val_cnts_grtr_thn_1.iloc[h][zip_clmn_hdr_nm]: \n",
    "            print(f\"State: {avg_auto_insnc_concat_df_drp_dplcts.iloc[y]['State']}; \\tCity: {avg_auto_insnc_concat_df_drp_dplcts.iloc[y]['City']}; \\tZip Code: {avg_auto_insnc_concat_df_drp_dplcts.iloc[y][zip_clmn_hdr_nm]}; \\tAverage Auto Insurance Rate: {avg_auto_insnc_concat_df_drp_dplcts.iloc[y][avg_auto_insrnc_rate_clmn_hdr_nm]}\")"
   ]
  },
  {
   "cell_type": "code",
   "execution_count": null,
   "metadata": {},
   "outputs": [],
   "source": [
    "# Data Types for the Columns in the avg_auto_insnc_concat_df_drp_dplcts DataFrame\n",
    "avg_auto_insnc_concat_df_drp_dplcts.dtypes"
   ]
  },
  {
   "cell_type": "code",
   "execution_count": null,
   "metadata": {},
   "outputs": [],
   "source": [
    "# Get the Index Number for the Data Filtered on: 48201, Detroit, Blank State, $30,350.09 from the avg_auto_insnc_concat_df_drp_dplcts DataFrame\n",
    "drp_dplct_48201_zip_cd_index = avg_auto_insnc_concat_df_drp_dplcts[(avg_auto_insnc_concat_df_drp_dplcts[zip_clmn_hdr_nm] == \"48201\") & \\\n",
    "                                                                   (avg_auto_insnc_concat_df_drp_dplcts[\"City\"] == \"Detroit\") & \\\n",
    "                                                                   (avg_auto_insnc_concat_df_drp_dplcts[\"State\"] == \"\") & \\\n",
    "                                                                   (avg_auto_insnc_concat_df_drp_dplcts[avg_auto_insrnc_rate_clmn_hdr_nm] == \"$30,350.09\")].index\n",
    "test = drp_dplct_48201_zip_cd_index[0]\n",
    "test"
   ]
  },
  {
   "cell_type": "code",
   "execution_count": null,
   "metadata": {},
   "outputs": [],
   "source": [
    "# Get the Index Number for the Data Filtered on: 24450, Lexington, Blank State, $2,018.13 from the avg_auto_insnc_concat_df_drp_dplcts DataFrame\n",
    "drp_dplct_24450_zip_cd_index = avg_auto_insnc_concat_df_drp_dplcts[(avg_auto_insnc_concat_df_drp_dplcts[zip_clmn_hdr_nm] == \"24450\") & \\\n",
    "                                                                   (avg_auto_insnc_concat_df_drp_dplcts[\"City\"] == \"Lexington\") & \\\n",
    "                                                                   (avg_auto_insnc_concat_df_drp_dplcts[\"State\"] == \"\") & \\\n",
    "                                                                   (avg_auto_insnc_concat_df_drp_dplcts[avg_auto_insrnc_rate_clmn_hdr_nm] == \"$2,018.13\")].index\n",
    "drp_dplct_24450_zip_cd_index[0]"
   ]
  },
  {
   "cell_type": "code",
   "execution_count": null,
   "metadata": {},
   "outputs": [],
   "source": [
    "# Get the Index Number for the Data Filtered on: 06340, Groton, Delaware, $3,896.10 from the avg_auto_insnc_concat_df_drp_dplcts DataFrame\n",
    "drp_dplct_06340_zip_cd_index = avg_auto_insnc_concat_df_drp_dplcts[(avg_auto_insnc_concat_df_drp_dplcts[zip_clmn_hdr_nm] == \"06340\") & \\\n",
    "                                                                   (avg_auto_insnc_concat_df_drp_dplcts[\"City\"] == \"Groton\") & \\\n",
    "                                                                   (avg_auto_insnc_concat_df_drp_dplcts[\"State\"] == \"Delaware\") & \\\n",
    "                                                                   (avg_auto_insnc_concat_df_drp_dplcts[avg_auto_insrnc_rate_clmn_hdr_nm] == \"$3,896.10\")].index\n",
    "drp_dplct_06340_zip_cd_index[0]"
   ]
  },
  {
   "cell_type": "markdown",
   "metadata": {},
   "source": [
    "##### Drop the Remaining Duplicate Data"
   ]
  },
  {
   "cell_type": "code",
   "execution_count": null,
   "metadata": {},
   "outputs": [],
   "source": [
    "# Print the Number of Unique Items in avg_auto_insnc_concat_df_drp_dplcts\n",
    "print(\"Values Before Dropping the Remain Duplicates\")\n",
    "print(avg_auto_insnc_concat_df_drp_dplcts[zip_clmn_hdr_nm].value_counts())\n",
    "print()\n",
    "print()\n",
    "\n",
    "# Drop the Zip Codes from the Cell Above (Which includes: drp_dplct_48201_zip_cd_index[0], drp_dplct_24450_zip_cd_index[0], drp_dplct_06340_zip_cd_index[0])   \n",
    "# avg_auto_insnc_concat_df_clnd = avg_auto_insnc_concat_df_drp_dplcts.drop([drp_dplct_48201_zip_cd_index, drp_dplct_24450_zip_cd_index, drp_dplct_06340_zip_cd_index])\n",
    "avg_auto_insnc_concat_df_clnd = avg_auto_insnc_concat_df_drp_dplcts.drop([drp_dplct_48201_zip_cd_index[0], drp_dplct_24450_zip_cd_index[0], drp_dplct_06340_zip_cd_index[0]])\n",
    "\n",
    "# Print the Number of Unique Items in avg_auto_insnc_concat_df_clnd, Do this to Make sure the Duplicate Data was Dropped\n",
    "print(\"Values After Dropping the Remain Duplicates\")\n",
    "avg_auto_insnc_concat_df_clnd[zip_clmn_hdr_nm].value_counts()"
   ]
  },
  {
   "cell_type": "markdown",
   "metadata": {},
   "source": [
    "# Add a State to a Blank Row in the State Column"
   ]
  },
  {
   "cell_type": "code",
   "execution_count": null,
   "metadata": {},
   "outputs": [],
   "source": [
    "avg_auto_insnc_concat_df_clnd[\"City\"]"
   ]
  },
  {
   "cell_type": "code",
   "execution_count": null,
   "metadata": {},
   "outputs": [],
   "source": [
    "# Show all the Rows with no Data in the State Column\n",
    "rows_wth_out_state = avg_auto_insnc_concat_df_clnd[(avg_auto_insnc_concat_df_clnd[\"State\"] == \"\")]\n",
    "rows_wth_out_state"
   ]
  },
  {
   "cell_type": "markdown",
   "metadata": {},
   "source": [
    "## Put the State of Michigan into the Rows with Detroit as the City"
   ]
  },
  {
   "cell_type": "code",
   "execution_count": null,
   "metadata": {},
   "outputs": [],
   "source": [
    "# Show all the Rows with Detroit\n",
    "avg_auto_insnc_concat_df_clnd[(avg_auto_insnc_concat_df_clnd[\"City\"] == \"Detroit\")]"
   ]
  },
  {
   "cell_type": "code",
   "execution_count": null,
   "metadata": {},
   "outputs": [],
   "source": [
    "# Put the State of Michigan into the Rows with Detroit as the City\n",
    "for x in range(len(avg_auto_insnc_concat_df_clnd)):\n",
    "\n",
    "    if avg_auto_insnc_concat_df_clnd.iloc[x][\"City\"] == \"Detroit\" and avg_auto_insnc_concat_df_clnd.iloc[x][\"State\"] == \"\":\n",
    "        \n",
    "        avg_auto_insnc_concat_df_clnd.iloc[x]['State'] = \"Michigan\"\n",
    "        \n",
    "avg_auto_insnc_concat_df_clnd[(avg_auto_insnc_concat_df_clnd[\"City\"] == \"Detroit\")]"
   ]
  },
  {
   "cell_type": "markdown",
   "metadata": {},
   "source": [
    "## Replace the Blank State Row with the State Abbreviations"
   ]
  },
  {
   "cell_type": "code",
   "execution_count": null,
   "metadata": {},
   "outputs": [],
   "source": [
    "# Show all the Rows with no Data in the State Column\n",
    "rows_wth_out_state_df = avg_auto_insnc_concat_df_clnd[(avg_auto_insnc_concat_df_clnd[\"State\"] == \"\")]\n",
    "rows_wth_out_state_df"
   ]
  },
  {
   "cell_type": "code",
   "execution_count": null,
   "metadata": {},
   "outputs": [],
   "source": [
    "# Use the Zip Code to Pull the State Abbreviation from the Zip-Codes.com API\n",
    "for n in range(len(avg_auto_insnc_concat_df_clnd)):\n",
    "    \n",
    "    if avg_auto_insnc_concat_df_clnd.iloc[n][\"State\"] == \"\":\n",
    "\n",
    "        zip_code = avg_auto_insnc_concat_df_clnd.iloc[n][zip_clmn_hdr_nm]\n",
    "\n",
    "#         Make a Request to the Zip-Codes.com API for Each Row without a State\n",
    "        zip_code_response = requests.get(url + zip_code + key + user_API_key).json()\n",
    "        print(f\"{url}{zip_code}{key}{user_API_key}\")\n",
    "        \n",
    "#         Input the State Abbreviation into the DataFrame\n",
    "        avg_auto_insnc_concat_df_clnd.iloc[n][\"State\"] = zip_code_response[\"State\"]"
   ]
  },
  {
   "cell_type": "code",
   "execution_count": null,
   "metadata": {},
   "outputs": [],
   "source": [
    "# Check to Make Sure All the Rows Have a State\n",
    "avg_auto_insnc_concat_df_clnd[(avg_auto_insnc_concat_df_clnd[\"State\"] == \"\")]"
   ]
  },
  {
   "cell_type": "code",
   "execution_count": null,
   "metadata": {},
   "outputs": [],
   "source": [
    "type(zip_code_response)"
   ]
  },
  {
   "cell_type": "code",
   "execution_count": null,
   "metadata": {},
   "outputs": [],
   "source": [
    "zip_code_response.keys()"
   ]
  },
  {
   "cell_type": "code",
   "execution_count": null,
   "metadata": {},
   "outputs": [],
   "source": [
    "print(json.dumps(zip_code_response, indent =4, sort_keys = True))"
   ]
  },
  {
   "cell_type": "markdown",
   "metadata": {},
   "source": [
    "## Replace the State Abbrevitions with the Full State Name"
   ]
  },
  {
   "cell_type": "markdown",
   "metadata": {},
   "source": [
    "### View The State Abbreviations Code Table"
   ]
  },
  {
   "cell_type": "code",
   "execution_count": null,
   "metadata": {},
   "outputs": [],
   "source": [
    "# Table of The State Abbreviations Code Table, Table #0, from app02.clerk.org\n",
    "State_Abbreviations_Code_Table_df = State_Abbreviations_Code_Table[0]\n",
    "print(type(State_Abbreviations_Code_Table_df))\n",
    "print(len(State_Abbreviations_Code_Table_df))\n",
    "print()\n",
    "State_Abbreviations_Code_Table_df.head()"
   ]
  },
  {
   "cell_type": "code",
   "execution_count": null,
   "metadata": {},
   "outputs": [],
   "source": [
    "State_Abbreviations_Code_Table_df.keys()"
   ]
  },
  {
   "cell_type": "code",
   "execution_count": null,
   "metadata": {},
   "outputs": [],
   "source": [
    "# Replace all the Abbreviations with the Full State Name \n",
    "for t in range(len(State_Abbreviations_Code_Table_df)):\n",
    "\n",
    "    for i in range(len(avg_auto_insnc_concat_df_clnd)):\n",
    "\n",
    "        if State_Abbreviations_Code_Table_df.iloc[t][\"Code\"] == avg_auto_insnc_concat_df_clnd.iloc[i][\"State\"]:\n",
    "            avg_auto_insnc_concat_df_clnd.iloc[i][\"State\"] = State_Abbreviations_Code_Table_df.iloc[t][\"Description\"]"
   ]
  },
  {
   "cell_type": "code",
   "execution_count": null,
   "metadata": {},
   "outputs": [],
   "source": [
    "# Check to Make Sure All the Abbreviations are gone\n",
    "avg_auto_insnc_concat_df_clnd[\"State\"].value_counts()"
   ]
  },
  {
   "cell_type": "code",
   "execution_count": null,
   "metadata": {},
   "outputs": [],
   "source": [
    "avg_auto_insnc_concat_df_clnd"
   ]
  },
  {
   "cell_type": "code",
   "execution_count": null,
   "metadata": {},
   "outputs": [],
   "source": [
    "# Check to Make Sure All the Rows Have a State\n",
    "avg_auto_insnc_concat_df_clnd[(avg_auto_insnc_concat_df_clnd[\"State\"] == \"\")]"
   ]
  },
  {
   "cell_type": "markdown",
   "metadata": {},
   "source": [
    "## Replace the $ and Commas"
   ]
  },
  {
   "cell_type": "code",
   "execution_count": null,
   "metadata": {},
   "outputs": [],
   "source": [
    "# Remove the $ sign and commoas from each row in the Average_Auto_Insurance_Rate column\n",
    "avg_auto_insnc_concat_df_clnd[avg_auto_insrnc_rate_clmn_hdr_nm] = avg_auto_insnc_concat_df_clnd[avg_auto_insrnc_rate_clmn_hdr_nm].str.replace(\"$\", \"\")\n",
    "avg_auto_insnc_concat_df_clnd[avg_auto_insrnc_rate_clmn_hdr_nm] = avg_auto_insnc_concat_df_clnd[avg_auto_insrnc_rate_clmn_hdr_nm].str.replace(\",\", \"\")\n",
    "avg_auto_insnc_concat_df_clnd.dtypes"
   ]
  },
  {
   "cell_type": "code",
   "execution_count": null,
   "metadata": {},
   "outputs": [],
   "source": [
    "# Check to make sure the $ and commas were removed\n",
    "avg_auto_insnc_concat_df_clnd"
   ]
  },
  {
   "cell_type": "markdown",
   "metadata": {},
   "source": [
    "# Export the Average Auto Insurnace DataFrame to a csv File"
   ]
  },
  {
   "cell_type": "code",
   "execution_count": null,
   "metadata": {},
   "outputs": [],
   "source": [
    "avg_auto_insnc_concat_df_clnd.to_csv(exprt_pth, index=True, header=True)"
   ]
  }
 ],
 "metadata": {
  "kernelspec": {
   "display_name": "Python 3",
   "language": "python",
   "name": "python3"
  },
  "language_info": {
   "codemirror_mode": {
    "name": "ipython",
    "version": 3
   },
   "file_extension": ".py",
   "mimetype": "text/x-python",
   "name": "python",
   "nbconvert_exporter": "python",
   "pygments_lexer": "ipython3",
   "version": "3.7.6"
  }
 },
 "nbformat": 4,
 "nbformat_minor": 4
}
